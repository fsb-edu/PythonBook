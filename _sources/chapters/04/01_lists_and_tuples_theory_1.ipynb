{
 "cells": [
  {
   "cell_type": "markdown",
   "metadata": {},
   "source": [
    "# Readings: lists"
   ]
  },
  {
   "cell_type": "markdown",
   "metadata": {},
   "source": [
    "In {ref}`Chapter 3 <ch3-nested-loops-label>`, we first faced the need of encapsulating many values in the same variable when introducing the `fermented_food` and `fermented_drinks` variables that had a *collection* of values. Both variables were examples of **lists**."
   ]
  },
  {
   "cell_type": "markdown",
   "metadata": {},
   "source": [
    "## Lists"
   ]
  },
  {
   "cell_type": "markdown",
   "metadata": {},
   "source": [
    "The syntax for declaring a list is:\n",
    "\n",
    "```python\n",
    "list_name = [item1, item2, item3,....]\n",
    "```\n",
    "Anything enclosed in square brackets `[]` and separated by `,` will be a list. With the above piece of code you create a list and assign it to the `list_name` variable. Some examples of lists would be:"
   ]
  },
  {
   "cell_type": "code",
   "execution_count": 4,
   "metadata": {
    "execution": {
     "iopub.execute_input": "2023-05-30T14:39:03.172275Z",
     "iopub.status.busy": "2023-05-30T14:39:03.171687Z",
     "iopub.status.idle": "2023-05-30T14:39:03.235810Z",
     "shell.execute_reply": "2023-05-30T14:39:03.211581Z",
     "shell.execute_reply.started": "2023-05-30T14:39:03.172225Z"
    }
   },
   "outputs": [],
   "source": [
    "natural_numbers = [1, 2, 3, 4, 5]\n",
    "rational_numbers = [1.1, 2.5, 3.4]\n",
    "letters = ['p', 'y', 't', 'h', 'o', 'n']\n",
    "booleans = [True, False, False, False, True]"
   ]
  },
  {
   "cell_type": "markdown",
   "metadata": {},
   "source": [
    "The lists in the examples above contain the same data types, which means that they are *homogenous*. However, in Python it is possible/allowed for a list to contain different data types. These lists are called *heterogenous*. For example:"
   ]
  },
  {
   "cell_type": "code",
   "execution_count": 1,
   "metadata": {
    "execution": {
     "iopub.execute_input": "2023-05-30T14:36:42.100057Z",
     "iopub.status.busy": "2023-05-30T14:36:42.099386Z",
     "iopub.status.idle": "2023-05-30T14:36:42.142022Z",
     "shell.execute_reply": "2023-05-30T14:36:42.125263Z",
     "shell.execute_reply.started": "2023-05-30T14:36:42.100002Z"
    }
   },
   "outputs": [],
   "source": [
    "mixed_list = [1, 'p', 1.1, True]"
   ]
  },
  {
   "cell_type": "markdown",
   "metadata": {},
   "source": [
    "Just like in previous chapters, we can use the `print()` function to print the contents of a list:"
   ]
  },
  {
   "cell_type": "code",
   "execution_count": 3,
   "metadata": {},
   "outputs": [
    {
     "name": "stdout",
     "output_type": "stream",
     "text": [
      "[1, 2, 3, 4, 5]\n"
     ]
    }
   ],
   "source": [
    "print(natural_numbers)"
   ]
  },
  {
   "cell_type": "markdown",
   "metadata": {},
   "source": [
    "### Number of elements in a list"
   ]
  },
  {
   "cell_type": "markdown",
   "metadata": {},
   "source": [
    "In most cases we do not know how many elements there are in a  list. It is possible that during the execution of the program the number of elements in a list will change, e.g we add/remove elements to/from a list, list created from user inputs, etc. In these situations, if we would like to iterate over the elements of a list, it would be impossible to hard-code the number of iterations like we did so far in the previous chapters. That's why the `len()` function is very useful. It gets a list as an argument and outputs the length of that list, in other words: the number of elements that the list has. For example:"
   ]
  },
  {
   "cell_type": "code",
   "execution_count": 2,
   "metadata": {
    "execution": {
     "iopub.execute_input": "2023-05-30T14:38:12.540262Z",
     "iopub.status.busy": "2023-05-30T14:38:12.539316Z",
     "iopub.status.idle": "2023-05-30T14:38:12.575581Z",
     "shell.execute_reply": "2023-05-30T14:38:12.567264Z",
     "shell.execute_reply.started": "2023-05-30T14:38:12.540214Z"
    }
   },
   "outputs": [
    {
     "data": {
      "text/plain": [
       "4"
      ]
     },
     "execution_count": 2,
     "metadata": {},
     "output_type": "execute_result"
    }
   ],
   "source": [
    "len(mixed_list)"
   ]
  },
  {
   "cell_type": "markdown",
   "metadata": {},
   "source": [
    "(ch4-access-lists-label)=\n",
    "### Accessing elements of the list"
   ]
  },
  {
   "cell_type": "markdown",
   "metadata": {},
   "source": [
    "Lists in Python are 0-based index. This means that the first element is at position 0, the second element at position 1 and so on. {numref}`indexing` illustrates this idea.\n",
    "\n",
    "```{figure} ../../images/4_lists_and_tuples/indexing.jpg\n",
    ":alt: indexing_illustration\n",
    ":name: indexing\n",
    ":class: ch5\n",
    ":align: center\n",
    "\n",
    "Indexing in Python\n",
    "```"
   ]
  },
  {
   "cell_type": "markdown",
   "metadata": {},
   "source": [
    "```{hint}\n",
    "Since Python is 0-based index this means that in a list with `n` elements, the last element will be in position `n-1`.\n",
    "```"
   ]
  },
  {
   "cell_type": "markdown",
   "metadata": {},
   "source": [
    "````{margin}\n",
    "```{important}\n",
    "The indices of list elements have to be **integers** or **expressions that evaluate to integers**.\n",
    "```\n",
    "````\n",
    "In order to access element `t` in the `letters` list, in the example above we would write:"
   ]
  },
  {
   "cell_type": "code",
   "execution_count": 5,
   "metadata": {
    "execution": {
     "iopub.execute_input": "2023-05-30T14:39:07.387358Z",
     "iopub.status.busy": "2023-05-30T14:39:07.386802Z",
     "iopub.status.idle": "2023-05-30T14:39:07.398621Z",
     "shell.execute_reply": "2023-05-30T14:39:07.397241Z",
     "shell.execute_reply.started": "2023-05-30T14:39:07.387310Z"
    },
    "tags": []
   },
   "outputs": [
    {
     "data": {
      "text/plain": [
       "'t'"
      ]
     },
     "execution_count": 5,
     "metadata": {},
     "output_type": "execute_result"
    }
   ],
   "source": [
    "letters[2]"
   ]
  },
  {
   "cell_type": "markdown",
   "metadata": {},
   "source": [
    "Although character `t` is the third element in the list, in order to access it we should use index `2` since lists are 0-index based."
   ]
  },
  {
   "cell_type": "markdown",
   "metadata": {},
   "source": [
    "In Python we can also access elements of a list using negative indices. In this setting, the last element of the list is at position -1, the second from the last is at position -2 and so on. {numref}`indexing-neg` illustrates the idea:\n",
    "\n",
    "```{figure} ../../images/4_lists_and_tuples/negative_indexing.jpg\n",
    ":alt: neg_indexing_illustration\n",
    ":name: indexing-neg\n",
    ":class: ch5\n",
    ":align: center\n",
    "\n",
    "Negative Indexing in Python\n",
    "```"
   ]
  },
  {
   "cell_type": "code",
   "execution_count": 6,
   "metadata": {
    "execution": {
     "iopub.execute_input": "2023-05-30T14:39:45.286199Z",
     "iopub.status.busy": "2023-05-30T14:39:45.282510Z",
     "iopub.status.idle": "2023-05-30T14:39:45.309731Z",
     "shell.execute_reply": "2023-05-30T14:39:45.308925Z",
     "shell.execute_reply.started": "2023-05-30T14:39:45.286147Z"
    }
   },
   "outputs": [
    {
     "data": {
      "text/plain": [
       "'t'"
      ]
     },
     "execution_count": 6,
     "metadata": {},
     "output_type": "execute_result"
    }
   ],
   "source": [
    "letters[-4] #accessing element 't'"
   ]
  },
  {
   "cell_type": "markdown",
   "metadata": {},
   "source": [
    "```{caution}\n",
    "If we try to access an element at a position that does not exist then we will get an `IndexError`. E.g: in the `letters` list above if we try to access elements at position 9 or -8 then we will get an `IndexError` since the `letters` list does not contain 10 or 8 elements respectively.\n",
    "```"
   ]
  },
  {
   "cell_type": "code",
   "execution_count": 7,
   "metadata": {
    "execution": {
     "iopub.execute_input": "2023-05-30T14:40:02.175183Z",
     "iopub.status.busy": "2023-05-30T14:40:02.170919Z",
     "iopub.status.idle": "2023-05-30T14:40:02.210551Z",
     "shell.execute_reply": "2023-05-30T14:40:02.205281Z",
     "shell.execute_reply.started": "2023-05-30T14:40:02.175061Z"
    }
   },
   "outputs": [
    {
     "ename": "IndexError",
     "evalue": "list index out of range",
     "output_type": "error",
     "traceback": [
      "\u001b[0;31m---------------------------------------------------------------------------\u001b[0m",
      "\u001b[0;31mIndexError\u001b[0m                                Traceback (most recent call last)",
      "\u001b[0;32m/var/folders/7f/7nw_x13n5q965rss_qz6061m0000gq/T/ipykernel_46911/2791037319.py\u001b[0m in \u001b[0;36m<module>\u001b[0;34m\u001b[0m\n\u001b[0;32m----> 1\u001b[0;31m \u001b[0mletters\u001b[0m\u001b[0;34m[\u001b[0m\u001b[0;36m9\u001b[0m\u001b[0;34m]\u001b[0m\u001b[0;34m\u001b[0m\u001b[0;34m\u001b[0m\u001b[0m\n\u001b[0m",
      "\u001b[0;31mIndexError\u001b[0m: list index out of range"
     ]
    }
   ],
   "source": [
    "letters[9]"
   ]
  },
  {
   "cell_type": "markdown",
   "metadata": {},
   "source": [
    "We can use indices in a loop to access elements of a list as well, just as we did in {ref}`Nested Loops in Chapter 3 <ch3-nested-loops-label>`. For example, to print each element of the `letters` list using a `for` loop we would do:"
   ]
  },
  {
   "cell_type": "code",
   "execution_count": 8,
   "metadata": {
    "execution": {
     "iopub.execute_input": "2023-05-30T14:40:35.707222Z",
     "iopub.status.busy": "2023-05-30T14:40:35.704741Z",
     "iopub.status.idle": "2023-05-30T14:40:35.730082Z",
     "shell.execute_reply": "2023-05-30T14:40:35.724442Z",
     "shell.execute_reply.started": "2023-05-30T14:40:35.706854Z"
    }
   },
   "outputs": [
    {
     "name": "stdout",
     "output_type": "stream",
     "text": [
      "p y t h o n "
     ]
    }
   ],
   "source": [
    "for i in range(0, len(letters)):\n",
    "    print(letters[i], end=' ')"
   ]
  },
  {
   "cell_type": "markdown",
   "metadata": {},
   "source": [
    "Similarly, using a `while` loop we could write:"
   ]
  },
  {
   "cell_type": "code",
   "execution_count": 9,
   "metadata": {
    "execution": {
     "iopub.execute_input": "2023-05-30T14:40:40.002666Z",
     "iopub.status.busy": "2023-05-30T14:40:40.002117Z",
     "iopub.status.idle": "2023-05-30T14:40:40.018634Z",
     "shell.execute_reply": "2023-05-30T14:40:40.017070Z",
     "shell.execute_reply.started": "2023-05-30T14:40:40.002622Z"
    }
   },
   "outputs": [
    {
     "name": "stdout",
     "output_type": "stream",
     "text": [
      "p y t h o n "
     ]
    }
   ],
   "source": [
    "j = 0\n",
    "while j < len(letters):\n",
    "    print(letters[j], end=' ')\n",
    "    j+=1"
   ]
  },
  {
   "cell_type": "markdown",
   "metadata": {},
   "source": [
    "```{important}\n",
    "Here we used function `len(letters)` to determine the number of elements of the `letters` list inside the `range()` function. So the `range()` function will produce the sequence of numbers `{0, 1, 2,..., len(letters)-1}` that corresponds to the indices needed to access the elements of the list. Thus we do not need to hardcode the number of elements that a list will have since we can access it via the `len()` function, as explained in the previous section as well.\n",
    "```"
   ]
  },
  {
   "cell_type": "markdown",
   "metadata": {},
   "source": [
    "While, if we want to select a range of values in a list, in the square brackets we would put a range:\n",
    "```python\n",
    "list_name[start_pos:end_pos]\n",
    "```\n",
    "where `end_pos` is non-inclusive. This is called **slicing**."
   ]
  },
  {
   "cell_type": "code",
   "execution_count": 10,
   "metadata": {
    "execution": {
     "iopub.execute_input": "2023-05-30T14:41:27.082550Z",
     "iopub.status.busy": "2023-05-30T14:41:27.081809Z",
     "iopub.status.idle": "2023-05-30T14:41:27.131364Z",
     "shell.execute_reply": "2023-05-30T14:41:27.128942Z",
     "shell.execute_reply.started": "2023-05-30T14:41:27.082504Z"
    }
   },
   "outputs": [
    {
     "data": {
      "text/plain": [
       "['y', 't', 'h']"
      ]
     },
     "execution_count": 10,
     "metadata": {},
     "output_type": "execute_result"
    }
   ],
   "source": [
    "letters[1:4] # print letters of positions 1,2,3"
   ]
  },
  {
   "cell_type": "markdown",
   "metadata": {},
   "source": [
    "There are also variations of range selection in lists. For example, if we write:\n",
    " - `list_name[start_pos: ]` - this will select all elements from `start_pos` until the end of the list.\n",
    " - `list_name[ :end_pos]` - this will select all elements from the beginning until the `end_pos` non-inclusive.\n",
    " - `list_name[ : ]` - this will select all elements of the list."
   ]
  },
  {
   "cell_type": "markdown",
   "metadata": {},
   "source": [
    "### Adding/removing elements to/from a list"
   ]
  },
  {
   "cell_type": "markdown",
   "metadata": {},
   "source": [
    "Lists are **mutable** data-types. This means that we can modify a list and its objects by adding, deleting or modifying certain list elements.\n",
    "In order to modify a list element we access it using its index and then we set it to the new value. For example, suppose we want to change the second element of the `natural_numbers` list from `2` to `10`. Then we would write:"
   ]
  },
  {
   "cell_type": "markdown",
   "metadata": {},
   "source": [
    "#### Modifying elements of a list"
   ]
  },
  {
   "cell_type": "code",
   "execution_count": 11,
   "metadata": {
    "execution": {
     "iopub.execute_input": "2023-05-30T14:42:21.255695Z",
     "iopub.status.busy": "2023-05-30T14:42:21.248051Z",
     "iopub.status.idle": "2023-05-30T14:42:21.275045Z",
     "shell.execute_reply": "2023-05-30T14:42:21.273705Z",
     "shell.execute_reply.started": "2023-05-30T14:42:21.255636Z"
    }
   },
   "outputs": [
    {
     "name": "stdout",
     "output_type": "stream",
     "text": [
      "List of natural numbers before changes: [1, 2, 3, 4, 5]\n",
      "List of natural numbers after changes: [1, 10, 3, 4, 5]\n"
     ]
    }
   ],
   "source": [
    "print('List of natural numbers before changes:', natural_numbers)\n",
    "natural_numbers[1] = 10\n",
    "print('List of natural numbers after changes:', natural_numbers)"
   ]
  },
  {
   "cell_type": "markdown",
   "metadata": {},
   "source": [
    "#### Adding elements to a list"
   ]
  },
  {
   "cell_type": "markdown",
   "metadata": {},
   "source": [
    "````{margin}\n",
    "```{admonition} Ways to add elements to a list\n",
    "We can use the `+=` operator or the methods: `append()`, `insert(position, element)`, `extend()`.\n",
    "```\n",
    "````"
   ]
  },
  {
   "cell_type": "markdown",
   "metadata": {},
   "source": [
    "In order to add elements to a list we can use the `+=` operator. We can add a single value or many values in the form of iterable (list, tuple, etc).\n",
    "````{margin}\n",
    "```{note}\n",
    "The `+=` operator is equivalent to writing `natural_numbers = natural_numbers + [20]`. It is a shorthand notation for addition. It is equivalent to writing: `natural_numbers.extend([20])` or `natural_numbers.append(20)`.\n",
    "```\n",
    "````"
   ]
  },
  {
   "cell_type": "code",
   "execution_count": 12,
   "metadata": {
    "execution": {
     "iopub.execute_input": "2023-05-30T14:42:58.115756Z",
     "iopub.status.busy": "2023-05-30T14:42:58.115229Z",
     "iopub.status.idle": "2023-05-30T14:42:58.125242Z",
     "shell.execute_reply": "2023-05-30T14:42:58.122563Z",
     "shell.execute_reply.started": "2023-05-30T14:42:58.115705Z"
    }
   },
   "outputs": [
    {
     "name": "stdout",
     "output_type": "stream",
     "text": [
      "[1, 10, 3, 4, 5, 20]\n",
      "[1, 10, 3, 4, 5, 20, 30, 40]\n"
     ]
    }
   ],
   "source": [
    "natural_numbers += [20]\n",
    "print(natural_numbers)\n",
    "natural_numbers += [30, 40]\n",
    "print(natural_numbers)"
   ]
  },
  {
   "cell_type": "markdown",
   "metadata": {},
   "source": [
    "```{caution}\n",
    "Be careful if you try to add a single value to a list using the `+=` operator. It will raise a `TypeError` since a single value is not an **iterable** (collection of values).\n",
    "```"
   ]
  },
  {
   "cell_type": "code",
   "execution_count": 13,
   "metadata": {
    "execution": {
     "iopub.execute_input": "2023-05-30T14:43:13.040816Z",
     "iopub.status.busy": "2023-05-30T14:43:13.040314Z",
     "iopub.status.idle": "2023-05-30T14:43:13.073537Z",
     "shell.execute_reply": "2023-05-30T14:43:13.069418Z",
     "shell.execute_reply.started": "2023-05-30T14:43:13.040773Z"
    }
   },
   "outputs": [
    {
     "ename": "TypeError",
     "evalue": "'int' object is not iterable",
     "output_type": "error",
     "traceback": [
      "\u001b[0;31m---------------------------------------------------------------------------\u001b[0m",
      "\u001b[0;31mTypeError\u001b[0m                                 Traceback (most recent call last)",
      "\u001b[0;32m/var/folders/7f/7nw_x13n5q965rss_qz6061m0000gq/T/ipykernel_46911/2418135379.py\u001b[0m in \u001b[0;36m<module>\u001b[0;34m\u001b[0m\n\u001b[0;32m----> 1\u001b[0;31m \u001b[0mnatural_numbers\u001b[0m \u001b[0;34m+=\u001b[0m \u001b[0;36m20\u001b[0m\u001b[0;34m\u001b[0m\u001b[0;34m\u001b[0m\u001b[0m\n\u001b[0m",
      "\u001b[0;31mTypeError\u001b[0m: 'int' object is not iterable"
     ]
    }
   ],
   "source": [
    "natural_numbers += 20"
   ]
  },
  {
   "cell_type": "markdown",
   "metadata": {},
   "source": [
    "There are other ways to add elements to a list, using different built-in methods."
   ]
  },
  {
   "cell_type": "markdown",
   "metadata": {},
   "source": [
    "We can use the `append()` method to add a single element to a list.\n",
    "````{margin}\n",
    "```{note}\n",
    "We introduced methods in the {ref}`optional section of methods in Chapter 4 <ch4-methods-label>`. All functions that we use in this part are *methods* because we call them using an object which is a list. E.g `rational_number.append(4.7)`.\n",
    "```\n",
    "````"
   ]
  },
  {
   "cell_type": "code",
   "execution_count": 14,
   "metadata": {
    "execution": {
     "iopub.execute_input": "2023-05-30T14:43:35.442207Z",
     "iopub.status.busy": "2023-05-30T14:43:35.441646Z",
     "iopub.status.idle": "2023-05-30T14:43:35.474729Z",
     "shell.execute_reply": "2023-05-30T14:43:35.471784Z",
     "shell.execute_reply.started": "2023-05-30T14:43:35.442169Z"
    }
   },
   "outputs": [
    {
     "name": "stdout",
     "output_type": "stream",
     "text": [
      "[1.1, 2.5, 3.4, 4.7]\n"
     ]
    }
   ],
   "source": [
    "rational_numbers.append(4.7)\n",
    "print(rational_numbers)"
   ]
  },
  {
   "cell_type": "markdown",
   "metadata": {},
   "source": [
    "We can use the `insert()` method to add an element to a list at a specific position. Its syntax is: \n",
    "```python\n",
    "list_name.insert(position, element)\n",
    "```"
   ]
  },
  {
   "cell_type": "markdown",
   "metadata": {},
   "source": [
    "````{margin}\n",
    "```{important}\n",
    "The `natural_numbers` modified list will be appended to the `rational_numbers`.\n",
    "```\n",
    "````\n",
    "````{margin}\n",
    "```{important}\n",
    "As you can see, in Python, lists can contain different data types.\n",
    "```\n",
    "````"
   ]
  },
  {
   "cell_type": "code",
   "execution_count": 15,
   "metadata": {
    "execution": {
     "iopub.execute_input": "2023-05-30T14:44:11.967572Z",
     "iopub.status.busy": "2023-05-30T14:44:11.966656Z",
     "iopub.status.idle": "2023-05-30T14:44:11.976906Z",
     "shell.execute_reply": "2023-05-30T14:44:11.975791Z",
     "shell.execute_reply.started": "2023-05-30T14:44:11.967518Z"
    }
   },
   "outputs": [
    {
     "name": "stdout",
     "output_type": "stream",
     "text": [
      "natural_numbers before adding 50: [1, 10, 3, 4, 5, 20, 30, 40]\n",
      "natural_numbers after adding 50: [1, 10, 3, 50, 4, 5, 20, 30, 40]\n"
     ]
    }
   ],
   "source": [
    "print('natural_numbers before adding 50:', natural_numbers)\n",
    "natural_numbers.insert(3, 50)\n",
    "print('natural_numbers after adding 50:', natural_numbers)"
   ]
  },
  {
   "cell_type": "markdown",
   "metadata": {},
   "source": [
    "In order to add elements of any type of collection (tuples, sets and dictionaries) to a list we can use the `extend()` method as well. The syntax is:\n",
    "```python\n",
    "list_name.extend(collection_to_be_added)\n",
    "```"
   ]
  },
  {
   "cell_type": "code",
   "execution_count": 16,
   "metadata": {
    "execution": {
     "iopub.execute_input": "2023-05-30T14:44:21.744758Z",
     "iopub.status.busy": "2023-05-30T14:44:21.744293Z",
     "iopub.status.idle": "2023-05-30T14:44:21.778701Z",
     "shell.execute_reply": "2023-05-30T14:44:21.774600Z",
     "shell.execute_reply.started": "2023-05-30T14:44:21.744711Z"
    }
   },
   "outputs": [
    {
     "name": "stdout",
     "output_type": "stream",
     "text": [
      "rational_numbers before extending to natural_numbers: [1.1, 2.5, 3.4, 4.7]\n",
      "rational_numbers after extending to natural_numbers: [1.1, 2.5, 3.4, 4.7, 1, 10, 3, 50, 4, 5, 20, 30, 40]\n"
     ]
    }
   ],
   "source": [
    "print('rational_numbers before extending to natural_numbers:', rational_numbers)\n",
    "rational_numbers.extend(natural_numbers)\n",
    "print('rational_numbers after extending to natural_numbers:', rational_numbers)"
   ]
  },
  {
   "cell_type": "markdown",
   "metadata": {},
   "source": [
    "````{margin}\n",
    "```{admonition} Ways to remove elements from a list\n",
    "We can use the methods: `remove(element)`, `pop(position)`, `pop()`.\n",
    "```\n",
    "````"
   ]
  },
  {
   "cell_type": "markdown",
   "metadata": {},
   "source": [
    "(ch4-remove-elements-from-list-label)=\n",
    "#### Removing elements from a list"
   ]
  },
  {
   "cell_type": "markdown",
   "metadata": {},
   "source": [
    "There are two methods to remove elements from a list: `remove()` and `pop()`. The `remove()` method allows us to specify an element from the list to remove."
   ]
  },
  {
   "cell_type": "markdown",
   "metadata": {},
   "source": [
    "````{margin}\n",
    "```{caution}\n",
    "When using the `remove()` method, in case the element is not in the list, a `ValueError` would be raised.\n",
    "```\n",
    "````"
   ]
  },
  {
   "cell_type": "code",
   "execution_count": 17,
   "metadata": {
    "execution": {
     "iopub.execute_input": "2023-05-30T14:44:41.818864Z",
     "iopub.status.busy": "2023-05-30T14:44:41.817903Z",
     "iopub.status.idle": "2023-05-30T14:44:41.840727Z",
     "shell.execute_reply": "2023-05-30T14:44:41.836114Z",
     "shell.execute_reply.started": "2023-05-30T14:44:41.818810Z"
    }
   },
   "outputs": [
    {
     "name": "stdout",
     "output_type": "stream",
     "text": [
      "natural_numbers before removing 50: [1, 10, 3, 50, 4, 5, 20, 30, 40]\n",
      "natural_numbers after removing 50: [1, 10, 3, 4, 5, 20, 30, 40]\n"
     ]
    }
   ],
   "source": [
    "print('natural_numbers before removing 50:', natural_numbers)\n",
    "natural_numbers.remove(50)\n",
    "print('natural_numbers after removing 50:', natural_numbers)"
   ]
  },
  {
   "cell_type": "markdown",
   "metadata": {},
   "source": [
    "The `pop()` method has two versions: one without any arguments and one with one argument. If we call `pop()` without any arguments then it will remove the last element from the list. If we call `pop(index)` it will remove the item at position `index`."
   ]
  },
  {
   "cell_type": "code",
   "execution_count": 18,
   "metadata": {
    "execution": {
     "iopub.execute_input": "2023-05-30T14:45:08.489025Z",
     "iopub.status.busy": "2023-05-30T14:45:08.488484Z",
     "iopub.status.idle": "2023-05-30T14:45:08.496808Z",
     "shell.execute_reply": "2023-05-30T14:45:08.495512Z",
     "shell.execute_reply.started": "2023-05-30T14:45:08.488977Z"
    }
   },
   "outputs": [
    {
     "name": "stdout",
     "output_type": "stream",
     "text": [
      "natural_numbers before removing last element: [1, 10, 3, 4, 5, 20, 30, 40]\n",
      "natural_numbers after removing last element: [1, 10, 3, 4, 5, 20, 30]\n"
     ]
    }
   ],
   "source": [
    "print('natural_numbers before removing last element:', natural_numbers)\n",
    "natural_numbers.pop()\n",
    "print('natural_numbers after removing last element:', natural_numbers)"
   ]
  },
  {
   "cell_type": "code",
   "execution_count": 19,
   "metadata": {
    "execution": {
     "iopub.execute_input": "2023-05-30T14:45:08.964150Z",
     "iopub.status.busy": "2023-05-30T14:45:08.963238Z",
     "iopub.status.idle": "2023-05-30T14:45:08.994875Z",
     "shell.execute_reply": "2023-05-30T14:45:08.976709Z",
     "shell.execute_reply.started": "2023-05-30T14:45:08.964071Z"
    }
   },
   "outputs": [
    {
     "name": "stdout",
     "output_type": "stream",
     "text": [
      "natural_numbers before removing element at position 4: [1, 10, 3, 4, 5, 20, 30]\n",
      "natural_numbers after removing element at position 4: [1, 10, 3, 4, 20, 30]\n"
     ]
    }
   ],
   "source": [
    "print('natural_numbers before removing element at position 4:', natural_numbers)\n",
    "natural_numbers.pop(4)\n",
    "print('natural_numbers after removing element at position 4:', natural_numbers)"
   ]
  },
  {
   "cell_type": "markdown",
   "metadata": {},
   "source": [
    "### List comprehensions"
   ]
  },
  {
   "cell_type": "markdown",
   "metadata": {},
   "source": [
    "Another way to iterate over a list is through *list comprehensions*. The syntax for *list comprehensions* is:\n",
    "\n",
    "```python\n",
    "new_list = [do something on item x for x in iterable_name (if condition==True)]\n",
    "```\n",
    "The condition is not mandatory to be included. Below we will see examples that include a *condition* part and examples that do not include a *condition* part. Also, the `iterable_name` can be any iterable (list, tuple, set, dictionary). `x` is the variable used to iterate the list, that will represent one element of the iterable per iteration, which will be modified by the `do something on item x` part and will be appended to the `new_list`.\n",
    "\n",
    "As you can  see, they provide a shorthand syntax for creating a list by modifying or filtering elements of the current list, in only one line of code."
   ]
  },
  {
   "cell_type": "markdown",
   "metadata": {},
   "source": [
    "For example, to iterate over the elements of the `letters` list we  would write:"
   ]
  },
  {
   "cell_type": "code",
   "execution_count": 20,
   "metadata": {
    "execution": {
     "iopub.execute_input": "2023-05-30T14:46:49.879566Z",
     "iopub.status.busy": "2023-05-30T14:46:49.879045Z",
     "iopub.status.idle": "2023-05-30T14:46:49.901370Z",
     "shell.execute_reply": "2023-05-30T14:46:49.900116Z",
     "shell.execute_reply.started": "2023-05-30T14:46:49.879522Z"
    }
   },
   "outputs": [
    {
     "name": "stdout",
     "output_type": "stream",
     "text": [
      "p y t h o n "
     ]
    }
   ],
   "source": [
    "[print(letter, end=' ') for letter in letters];"
   ]
  },
  {
   "cell_type": "markdown",
   "metadata": {},
   "source": [
    "Another example that illustrates the usefulness of list comprehension in avoiding using loops is the following:"
   ]
  },
  {
   "cell_type": "code",
   "execution_count": 21,
   "metadata": {
    "execution": {
     "iopub.execute_input": "2023-05-30T14:46:50.523513Z",
     "iopub.status.busy": "2023-05-30T14:46:50.522811Z",
     "iopub.status.idle": "2023-05-30T14:46:50.534665Z",
     "shell.execute_reply": "2023-05-30T14:46:50.532057Z",
     "shell.execute_reply.started": "2023-05-30T14:46:50.523466Z"
    }
   },
   "outputs": [
    {
     "data": {
      "text/plain": [
       "[0, 4, 16]"
      ]
     },
     "execution_count": 21,
     "metadata": {},
     "output_type": "execute_result"
    }
   ],
   "source": [
    "list_of_numbers = []\n",
    "for i in range(0, 5, 2):\n",
    "    list_of_numbers.append(i**2)\n",
    "list_of_numbers"
   ]
  },
  {
   "cell_type": "markdown",
   "metadata": {},
   "source": [
    "The above loop creates a list of integers from the squares of the given range. We can do the same in one line of code using list comprehension:"
   ]
  },
  {
   "cell_type": "code",
   "execution_count": 22,
   "metadata": {
    "execution": {
     "iopub.execute_input": "2023-05-30T14:46:53.508037Z",
     "iopub.status.busy": "2023-05-30T14:46:53.507485Z",
     "iopub.status.idle": "2023-05-30T14:46:53.516425Z",
     "shell.execute_reply": "2023-05-30T14:46:53.515237Z",
     "shell.execute_reply.started": "2023-05-30T14:46:53.507988Z"
    }
   },
   "outputs": [
    {
     "data": {
      "text/plain": [
       "[0, 4, 16]"
      ]
     },
     "execution_count": 22,
     "metadata": {},
     "output_type": "execute_result"
    }
   ],
   "source": [
    "[x**2 for x in range(0, 5, 2)]"
   ]
  },
  {
   "cell_type": "markdown",
   "metadata": {},
   "source": [
    "Now suppose that we want to split the elements of the `letters` list into vowels and consonants. The vowels in the English language are: `a, e, i, o, u, y`, so we will have them in the `vowels` list. We will have all the vowels from the `letters` list in one list and all the consonants on another. For this we can use a list comprehension."
   ]
  },
  {
   "cell_type": "markdown",
   "metadata": {},
   "source": [
    "````{margin}\n",
    "```{hint}\n",
    "The `in` operator is used to check if an item is part of a sequence like a list or a tuple or not. Similarly if we want to check if an item is not in a sequence we just add the negation operator `not` in front of `in`. {ref}`More to follow <ch4-search-list>`. \n",
    "```\n",
    "````"
   ]
  },
  {
   "cell_type": "code",
   "execution_count": 23,
   "metadata": {
    "execution": {
     "iopub.execute_input": "2023-05-30T14:47:54.475217Z",
     "iopub.status.busy": "2023-05-30T14:47:54.474049Z",
     "iopub.status.idle": "2023-05-30T14:47:54.513793Z",
     "shell.execute_reply": "2023-05-30T14:47:54.505835Z",
     "shell.execute_reply.started": "2023-05-30T14:47:54.475165Z"
    }
   },
   "outputs": [
    {
     "name": "stdout",
     "output_type": "stream",
     "text": [
      "Vowels in letters: ['y', 'o']\n",
      "Consonants in letters: ['p', 't', 'h', 'n']\n"
     ]
    }
   ],
   "source": [
    "vowels = ['a', 'e', 'i', 'o', 'u', 'y']\n",
    "\n",
    "vowels_in_letters = [letter for letter in letters if letter in vowels]\n",
    "consonants_in_letters = [letter for letter in letters if letter not in vowels]\n",
    "\n",
    "print('Vowels in letters:', vowels_in_letters)\n",
    "print('Consonants in letters:', consonants_in_letters)"
   ]
  },
  {
   "cell_type": "markdown",
   "metadata": {},
   "source": [
    "There is a possibility to include more than one condition. In this case the syntax of the list comprehension changes a bit because the condition would come before the for-loop. The syntax would be:\n",
    "```python\n",
    "new_list = [a if condition=True else a=b  for a in iterable_name]\n",
    "```"
   ]
  },
  {
   "cell_type": "markdown",
   "metadata": {},
   "source": [
    "For example, the example above of separating the vowels from consonants would be written as:"
   ]
  },
  {
   "cell_type": "code",
   "execution_count": 24,
   "metadata": {
    "execution": {
     "iopub.execute_input": "2023-05-30T14:48:30.224526Z",
     "iopub.status.busy": "2023-05-30T14:48:30.222987Z",
     "iopub.status.idle": "2023-05-30T14:48:30.240072Z",
     "shell.execute_reply": "2023-05-30T14:48:30.238022Z",
     "shell.execute_reply.started": "2023-05-30T14:48:30.224469Z"
    }
   },
   "outputs": [
    {
     "name": "stdout",
     "output_type": "stream",
     "text": [
      "Vowels in letters: ['y', 'o']\n",
      "Consonants in letters: ['p', 't', 'h', 'n']\n"
     ]
    }
   ],
   "source": [
    "vowels_list = []\n",
    "consonants_list = []\n",
    "\n",
    "[vowels_list.append(x) if x in vowels else consonants_list.append(x) for x in letters]\n",
    "\n",
    "print('Vowels in letters:', vowels_in_letters)\n",
    "print('Consonants in letters:', consonants_in_letters)"
   ]
  },
  {
   "cell_type": "markdown",
   "metadata": {},
   "source": [
    "`[vowels_list.append(x) if x in vowels else consonants_list.append(x) for x in letters]` this is the statement equivalent to the two *list-comprehensions* in the previous example. In other words, this statement sole-handedly does the job. Let us explain what it does. We are iterating over the `letters` list using the variable `x`. For each `x`, we check if it is in the `vowels` list defined in the previous code cell. If this condition is `True`, then we append the letter `x` to the `vowels_list`, otherwise we append `x` to the `consonants_list`. So the first statement `vowels_list.append(x)` is executed only if the condition in the `if` part is `True`, otherwise the statement in the `else` part is executed. {numref}`list-comprehension` illustrates this case too. "
   ]
  },
  {
   "cell_type": "markdown",
   "metadata": {},
   "source": [
    "```{figure} ../../images/4_lists_and_tuples/list_comp_with_mult_cond.jpg\n",
    ":alt: list_comp_illustration\n",
    ":name: list-comprehension\n",
    ":class: ch5\n",
    ":align: center\n",
    "\n",
    "List comprehension with two conditions\n",
    "```"
   ]
  },
  {
   "cell_type": "markdown",
   "metadata": {},
   "source": [
    "### Sorting lists"
   ]
  },
  {
   "cell_type": "markdown",
   "metadata": {},
   "source": [
    "When programming, quite often we face the need to sort inputs (inside sequences) according to some criteria. In Python there is a built-in *function* `sorted()`, that can receive a list as an argument and sort it. Also there is the built-in *method* `list_name.sort()` that is called on a list object and by default sorts a list in ascending order.\n",
    "\n",
    "```{important}\n",
    "The built-in function `sorted()`, returns a new list and the passed list remains **unchanged**. The built-in `list_name.sort()` method does the sorting **in-place**. This means that **the original list will be modified**.\n",
    "```"
   ]
  },
  {
   "cell_type": "markdown",
   "metadata": {},
   "source": [
    "For example:\n",
    "````{margin}\n",
    "```{hint}\n",
    "By passing the argument `reverse=True` to the `sort()` method we can sort a list in reverse (descending) order.\n",
    "```\n",
    "````"
   ]
  },
  {
   "cell_type": "code",
   "execution_count": 25,
   "metadata": {
    "execution": {
     "iopub.execute_input": "2023-05-30T14:50:12.014908Z",
     "iopub.status.busy": "2023-05-30T14:50:12.014313Z",
     "iopub.status.idle": "2023-05-30T14:50:12.042964Z",
     "shell.execute_reply": "2023-05-30T14:50:12.028872Z",
     "shell.execute_reply.started": "2023-05-30T14:50:12.014857Z"
    }
   },
   "outputs": [
    {
     "name": "stdout",
     "output_type": "stream",
     "text": [
      "letters in ascending order: ['h', 'n', 'o', 'p', 't', 'y']\n",
      "letters in descending order: ['y', 't', 'p', 'o', 'n', 'h']\n"
     ]
    }
   ],
   "source": [
    "letters.sort()\n",
    "print('letters in ascending order:', letters)\n",
    "\n",
    "letters.sort(reverse=True)\n",
    "print('letters in descending order:', letters)"
   ]
  },
  {
   "cell_type": "markdown",
   "metadata": {},
   "source": [
    "Changes happen to the original list, `letters`."
   ]
  },
  {
   "cell_type": "markdown",
   "metadata": {},
   "source": [
    "Sorting using the `sorted()` built-in function:"
   ]
  },
  {
   "cell_type": "code",
   "execution_count": 26,
   "metadata": {
    "execution": {
     "iopub.execute_input": "2023-05-30T14:50:17.363670Z",
     "iopub.status.busy": "2023-05-30T14:50:17.363033Z",
     "iopub.status.idle": "2023-05-30T14:50:17.376321Z",
     "shell.execute_reply": "2023-05-30T14:50:17.374277Z",
     "shell.execute_reply.started": "2023-05-30T14:50:17.363574Z"
    }
   },
   "outputs": [
    {
     "name": "stdout",
     "output_type": "stream",
     "text": [
      "natural_numbers [1, 10, 3, 4, 20, 30]\n",
      "sorted_numbers [1, 3, 4, 10, 20, 30]\n"
     ]
    }
   ],
   "source": [
    "sorted_numbers = sorted(natural_numbers)\n",
    "print('natural_numbers', natural_numbers)\n",
    "print('sorted_numbers', sorted_numbers)"
   ]
  },
  {
   "cell_type": "markdown",
   "metadata": {},
   "source": [
    "As you can see, the original list passed as argument, `natural_numbers` is unchanged."
   ]
  },
  {
   "cell_type": "markdown",
   "metadata": {},
   "source": [
    "```{caution}\n",
    "If you try to use the built-in function `sorted()` or the built-in method `sort()` with a list that contains mixed data-types you will get a `TypeError` because there will be no way how to compare values of different data-types.\n",
    "```"
   ]
  },
  {
   "cell_type": "code",
   "execution_count": 27,
   "metadata": {
    "execution": {
     "iopub.execute_input": "2023-05-30T14:50:31.095321Z",
     "iopub.status.busy": "2023-05-30T14:50:31.094829Z",
     "iopub.status.idle": "2023-05-30T14:50:31.154354Z",
     "shell.execute_reply": "2023-05-30T14:50:31.152013Z",
     "shell.execute_reply.started": "2023-05-30T14:50:31.095280Z"
    }
   },
   "outputs": [
    {
     "ename": "TypeError",
     "evalue": "'<' not supported between instances of 'str' and 'int'",
     "output_type": "error",
     "traceback": [
      "\u001b[0;31m---------------------------------------------------------------------------\u001b[0m",
      "\u001b[0;31mTypeError\u001b[0m                                 Traceback (most recent call last)",
      "\u001b[0;32m/var/folders/7f/7nw_x13n5q965rss_qz6061m0000gq/T/ipykernel_46911/4181370301.py\u001b[0m in \u001b[0;36m<module>\u001b[0;34m\u001b[0m\n\u001b[0;32m----> 1\u001b[0;31m \u001b[0mprint\u001b[0m\u001b[0;34m(\u001b[0m\u001b[0msorted\u001b[0m\u001b[0;34m(\u001b[0m\u001b[0mmixed_list\u001b[0m\u001b[0;34m)\u001b[0m\u001b[0;34m)\u001b[0m\u001b[0;34m\u001b[0m\u001b[0;34m\u001b[0m\u001b[0m\n\u001b[0m",
      "\u001b[0;31mTypeError\u001b[0m: '<' not supported between instances of 'str' and 'int'"
     ]
    }
   ],
   "source": [
    "print(sorted(mixed_list))"
   ]
  },
  {
   "cell_type": "markdown",
   "metadata": {},
   "source": [
    "(ch4-search-list)=\n",
    "### Searching lists"
   ]
  },
  {
   "cell_type": "markdown",
   "metadata": {},
   "source": [
    "The main purpose of searching is to find out whether a list contains the value we are searching for or not. The value that we are searching for is called a **key**. So in other words, we want to find out whether a list contains a key or not. In Python there is a built-in method that helps us do this: \n",
    "```python\n",
    "list_name.index(key_name)\n",
    "```\n",
    "As we have seen many times so  far, since `index()` is  a built-in method, we are calling it on a *list object*, that is the list we are searching the key in. ***Key_name*** is the value that we are interested in finding out if it is in the *list_name* or not. This method will return the first index where the item is found in the list."
   ]
  },
  {
   "cell_type": "markdown",
   "metadata": {},
   "source": [
    "Let us look at an example."
   ]
  },
  {
   "cell_type": "code",
   "execution_count": 41,
   "metadata": {},
   "outputs": [
    {
     "name": "stdout",
     "output_type": "stream",
     "text": [
      "2\n"
     ]
    }
   ],
   "source": [
    "fermented_food = ['milk', 'yoghurt', 'beer', 'cider', 'tempeh', 'sauerkraut', 'kefir']\n",
    "print(fermented_food.index('beer'))"
   ]
  },
  {
   "cell_type": "markdown",
   "metadata": {},
   "source": [
    "```{caution}\n",
    "If the *key* that you are searching for in the list does not exist then you  will get a `ValueError`.\n",
    "```"
   ]
  },
  {
   "cell_type": "code",
   "execution_count": 42,
   "metadata": {},
   "outputs": [
    {
     "ename": "ValueError",
     "evalue": "'wine' is not in list",
     "output_type": "error",
     "traceback": [
      "\u001b[1;31m---------------------------------------------------------------------------\u001b[0m",
      "\u001b[1;31mValueError\u001b[0m                                Traceback (most recent call last)",
      "\u001b[1;32m~\\AppData\\Local\\Temp\\ipykernel_19188\\831525127.py\u001b[0m in \u001b[0;36m<module>\u001b[1;34m\u001b[0m\n\u001b[1;32m----> 1\u001b[1;33m \u001b[0mprint\u001b[0m\u001b[1;33m(\u001b[0m\u001b[0mfermented_food\u001b[0m\u001b[1;33m.\u001b[0m\u001b[0mindex\u001b[0m\u001b[1;33m(\u001b[0m\u001b[1;34m'wine'\u001b[0m\u001b[1;33m)\u001b[0m\u001b[1;33m)\u001b[0m\u001b[1;33m\u001b[0m\u001b[1;33m\u001b[0m\u001b[0m\n\u001b[0m",
      "\u001b[1;31mValueError\u001b[0m: 'wine' is not in list"
     ]
    }
   ],
   "source": [
    "print(fermented_food.index('wine'))"
   ]
  },
  {
   "cell_type": "markdown",
   "metadata": {},
   "source": [
    "```{hint}\n",
    "To escape this kind of errors Python provides two operators: **in** and **not in**. **in** checks whether an element is part of a list and returns `True` if so, otherwise `False`. **not in** does the opposite, it checks whether an element is not in a list and if it is not, returns `True`, otherwise it returns `False`.\n",
    "```"
   ]
  },
  {
   "cell_type": "code",
   "execution_count": 43,
   "metadata": {},
   "outputs": [
    {
     "name": "stdout",
     "output_type": "stream",
     "text": [
      "False\n",
      "True\n"
     ]
    }
   ],
   "source": [
    "print('wine' in fermented_food)\n",
    "print('wine' not in fermented_food)"
   ]
  },
  {
   "cell_type": "markdown",
   "metadata": {},
   "source": [
    "````{margin}\n",
    "```{note}\n",
    "For the sake of completeness:\n",
    "Python also provides two additional functions to deal with lists: `any(list_name)` and `all(list_name)`. `any()` returns `True` if there is at least a `True` element in the list and `all()` returns `True` if all elements in the list all `True`. All data types as long as they are not 0, are considered to be `True` and all sequences are considered as `True` values, unless they are empty. E.g: For the following sequence [True, False, True] `all()` would return `False` and `any()` would return `True`. \n",
    "```\n",
    "````\n",
    "There are also variants of the `index()` method that allow us to specify the start and end indices, or only one of them in the list that we want to search for. The syntax looks like this:\n",
    "```python\n",
    "list_name.index(value, start_index, end_index)\n",
    "```\n",
    "Note that the **end_index** is non-inclusive."
   ]
  },
  {
   "cell_type": "code",
   "execution_count": 44,
   "metadata": {},
   "outputs": [
    {
     "name": "stdout",
     "output_type": "stream",
     "text": [
      "2\n",
      "3\n"
     ]
    }
   ],
   "source": [
    "print(fermented_food.index('beer', 1))\n",
    "print(fermented_food.index('cider', 2, 5))"
   ]
  },
  {
   "cell_type": "markdown",
   "metadata": {},
   "source": [
    "```{caution}\n",
    "`index()` does not allow any *keyword arguments* so it is not possible to specify only the *end_index*. Also the search goes only forward even if you specify negative indices.\n",
    "```"
   ]
  },
  {
   "cell_type": "markdown",
   "metadata": {},
   "source": [
    "Next on, we will see another collection data type: tuples."
   ]
  }
 ],
 "metadata": {
  "kernelspec": {
   "display_name": "Python 3 (ipykernel)",
   "language": "python",
   "name": "python3"
  },
  "language_info": {
   "codemirror_mode": {
    "name": "ipython",
    "version": 3
   },
   "file_extension": ".py",
   "mimetype": "text/x-python",
   "name": "python",
   "nbconvert_exporter": "python",
   "pygments_lexer": "ipython3",
   "version": "3.7.12"
  },
  "vscode": {
   "interpreter": {
    "hash": "0c2f5c4fba51b93f19e499abfcc9ef4d6fee5bb503e49077d95162365c0a0cb3"
   }
  }
 },
 "nbformat": 4,
 "nbformat_minor": 4
}
