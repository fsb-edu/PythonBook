{
 "cells": [
  {
   "cell_type": "markdown",
   "metadata": {},
   "source": [
    "# Readings: dictionaries"
   ]
  },
  {
   "cell_type": "markdown",
   "metadata": {},
   "source": [
    "## Dictionaries"
   ]
  },
  {
   "cell_type": "markdown",
   "metadata": {},
   "source": [
    "Dictionaries hold collections of values in *key-value* pairs. In a dictionary each key **must** be *unique*, but values can be repeated. An example of a dictionary might be a *map* between a chemical element letter and the chemical element's name. The corresponding data-type in Python is `dict`.\n",
    "````{margin}\n",
    "```{note}\n",
    "Dictionaries are also ordered from Python version 3.6.x and onwards. This means that the order in which items are stored in memory depends on the order in which the items are added.\n",
    "```\n",
    "````"
   ]
  },
  {
   "cell_type": "markdown",
   "metadata": {},
   "source": [
    "### Create a dictionary"
   ]
  },
  {
   "cell_type": "markdown",
   "metadata": {},
   "source": [
    "````{margin}\n",
    "```{important}\n",
    "Keys must be unique and immutable.\n",
    "```\n",
    "````\n",
    "````{margin}\n",
    "```{important}\n",
    "String keys are case sensitive: `abc` is different from `aBc`.\n",
    "```\n",
    "````\n",
    "\n",
    "\n",
    "The syntax for creating a dictionary is as follows:\n",
    "```python\n",
    "dictionary_name = {key1:value1, key2:value2....}\n",
    "```\n",
    "As stated previously, keys have to be unique and immutable. This means that we can use data types such as strings, integers, floats, tuples, etc as keys. Values can be of any type and can repeat as well. \n",
    "For example:"
   ]
  },
  {
   "cell_type": "code",
   "execution_count": 2,
   "metadata": {
    "execution": {
     "iopub.execute_input": "2023-05-31T09:50:33.195111Z",
     "iopub.status.busy": "2023-05-31T09:50:33.194469Z",
     "iopub.status.idle": "2023-05-31T09:50:33.225711Z",
     "shell.execute_reply": "2023-05-31T09:50:33.223286Z",
     "shell.execute_reply.started": "2023-05-31T09:50:33.195041Z"
    }
   },
   "outputs": [
    {
     "data": {
      "text/plain": [
       "{'O': 'Oxygen', 'C': 'Carbon', 'Na': 'Sodium', 'H': 'Hydrogen'}"
      ]
     },
     "execution_count": 2,
     "metadata": {},
     "output_type": "execute_result"
    }
   ],
   "source": [
    "chemical_elements = {\n",
    "    'O': 'Oxygen', \n",
    "    'C': 'Carbon', \n",
    "    'Na': 'Sodium', \n",
    "    'H':'Hydrogen'\n",
    "}\n",
    "chemical_elements"
   ]
  },
  {
   "cell_type": "markdown",
   "metadata": {},
   "source": [
    "````{margin}\n",
    "```{note}\n",
    "As always, we can use the `len()` function to find the number of elements in a dictionary.\n",
    "```\n",
    "````\n",
    "\n",
    "As you can see, `chemical_elements` is an example of a dictionary that *maps* the chemical symbol to the name of the element. The keys are strings and are *immutable*. In this case the values happen to be strings and as a result they are *immutable*, but this is not necessarily always the case.\n",
    "Consider a parabola. As you might now, it is symmetric with respect to the y-axis. So for the same value of the function, there will be two values of x. The keys of our dictionary will be the x-values and the values will be the y-values. Here is an example:"
   ]
  },
  {
   "cell_type": "code",
   "execution_count": 2,
   "metadata": {
    "execution": {
     "iopub.execute_input": "2023-05-31T09:51:52.928876Z",
     "iopub.status.busy": "2023-05-31T09:51:52.928238Z",
     "iopub.status.idle": "2023-05-31T09:51:52.944653Z",
     "shell.execute_reply": "2023-05-31T09:51:52.940403Z",
     "shell.execute_reply.started": "2023-05-31T09:51:52.928829Z"
    }
   },
   "outputs": [
    {
     "data": {
      "text/plain": [
       "{0: 0, 1: 1, -1: 1, 2: 4, -2: 4}"
      ]
     },
     "execution_count": 2,
     "metadata": {},
     "output_type": "execute_result"
    }
   ],
   "source": [
    "parabola = {0:0, 1:1, -1:1, 2:4, -2:4}\n",
    "parabola"
   ]
  },
  {
   "cell_type": "markdown",
   "metadata": {},
   "source": [
    "To access a single element we need to use the key. The syntax is as follows:\n",
    "```python\n",
    "dictionary_name[key]\n",
    "```\n",
    "For example:"
   ]
  },
  {
   "cell_type": "code",
   "execution_count": 3,
   "metadata": {
    "execution": {
     "iopub.execute_input": "2023-05-31T09:51:58.672349Z",
     "iopub.status.busy": "2023-05-31T09:51:58.671688Z",
     "iopub.status.idle": "2023-05-31T09:51:58.680102Z",
     "shell.execute_reply": "2023-05-31T09:51:58.678110Z",
     "shell.execute_reply.started": "2023-05-31T09:51:58.672282Z"
    }
   },
   "outputs": [
    {
     "name": "stdout",
     "output_type": "stream",
     "text": [
      "Oxygen\n",
      "1\n"
     ]
    }
   ],
   "source": [
    "print(chemical_elements['O'])\n",
    "print(parabola[1])"
   ]
  },
  {
   "cell_type": "markdown",
   "metadata": {},
   "source": [
    "```{note}\n",
    "If we try to access the value of a key that does not exist, we will get a `KeyError`.\n",
    "```"
   ]
  },
  {
   "cell_type": "code",
   "execution_count": 4,
   "metadata": {
    "execution": {
     "iopub.execute_input": "2023-05-31T09:52:02.663275Z",
     "iopub.status.busy": "2023-05-31T09:52:02.662628Z",
     "iopub.status.idle": "2023-05-31T09:52:03.023763Z",
     "shell.execute_reply": "2023-05-31T09:52:03.022666Z",
     "shell.execute_reply.started": "2023-05-31T09:52:02.663225Z"
    }
   },
   "outputs": [
    {
     "ename": "KeyError",
     "evalue": "'Ca'",
     "output_type": "error",
     "traceback": [
      "\u001b[0;31m---------------------------------------------------------------------------\u001b[0m",
      "\u001b[0;31mKeyError\u001b[0m                                  Traceback (most recent call last)",
      "\u001b[0;32m/var/folders/7f/7nw_x13n5q965rss_qz6061m0000gq/T/ipykernel_60210/525199925.py\u001b[0m in \u001b[0;36m<module>\u001b[0;34m\u001b[0m\n\u001b[0;32m----> 1\u001b[0;31m \u001b[0mchemical_elements\u001b[0m\u001b[0;34m[\u001b[0m\u001b[0;34m'Ca'\u001b[0m\u001b[0;34m]\u001b[0m\u001b[0;34m\u001b[0m\u001b[0;34m\u001b[0m\u001b[0m\n\u001b[0m",
      "\u001b[0;31mKeyError\u001b[0m: 'Ca'"
     ]
    }
   ],
   "source": [
    "chemical_elements['Ca']"
   ]
  },
  {
   "cell_type": "markdown",
   "metadata": {},
   "source": [
    "To prevent such errors, it is desirable to use the `get()` method of dictionaries. If the key exists, it returns the value associated with that key, otherwise it returns `None`. To return another message we can pass the message as a second argument to the `get()` method:"
   ]
  },
  {
   "cell_type": "code",
   "execution_count": 5,
   "metadata": {
    "execution": {
     "iopub.execute_input": "2023-05-31T09:52:19.316282Z",
     "iopub.status.busy": "2023-05-31T09:52:19.315717Z",
     "iopub.status.idle": "2023-05-31T09:52:19.324752Z",
     "shell.execute_reply": "2023-05-31T09:52:19.322956Z",
     "shell.execute_reply.started": "2023-05-31T09:52:19.316234Z"
    }
   },
   "outputs": [
    {
     "data": {
      "text/plain": [
       "'Not present'"
      ]
     },
     "execution_count": 5,
     "metadata": {},
     "output_type": "execute_result"
    }
   ],
   "source": [
    "chemical_elements.get('Ca', 'Not present')"
   ]
  },
  {
   "cell_type": "markdown",
   "metadata": {},
   "source": [
    "### Adding key-value pairs"
   ]
  },
  {
   "cell_type": "markdown",
   "metadata": {},
   "source": [
    "We can add a key-value pair for a key that does not already exist in a dictionary as follows:\n",
    "```python\n",
    "dictionary_name[new_key] = value\n",
    "```\n",
    "For example, if we want to add `Potassium` to the `chemical_elements` dictionary then we would write:"
   ]
  },
  {
   "cell_type": "code",
   "execution_count": 6,
   "metadata": {
    "execution": {
     "iopub.execute_input": "2023-05-31T09:52:35.183290Z",
     "iopub.status.busy": "2023-05-31T09:52:35.182926Z",
     "iopub.status.idle": "2023-05-31T09:52:35.189978Z",
     "shell.execute_reply": "2023-05-31T09:52:35.189226Z",
     "shell.execute_reply.started": "2023-05-31T09:52:35.183259Z"
    }
   },
   "outputs": [
    {
     "data": {
      "text/plain": [
       "{'O': 'Oxygen',\n",
       " 'C': 'Carbon',\n",
       " 'Na': 'Sodium',\n",
       " 'H': 'Hydrogen',\n",
       " 'K': 'Potassium'}"
      ]
     },
     "execution_count": 6,
     "metadata": {},
     "output_type": "execute_result"
    }
   ],
   "source": [
    "chemical_elements['K'] = 'Potassium'\n",
    "chemical_elements"
   ]
  },
  {
   "cell_type": "markdown",
   "metadata": {},
   "source": [
    "### Removing key-value pairs"
   ]
  },
  {
   "cell_type": "markdown",
   "metadata": {},
   "source": [
    "In order to remove a key-value pair from a dictionary we need to use the **del** operator:\n",
    "```python\n",
    "del dictionary_name[key]\n",
    "```"
   ]
  },
  {
   "cell_type": "code",
   "execution_count": 8,
   "metadata": {
    "execution": {
     "iopub.execute_input": "2023-05-31T09:52:56.005167Z",
     "iopub.status.busy": "2023-05-31T09:52:56.004268Z",
     "iopub.status.idle": "2023-05-31T09:52:56.017952Z",
     "shell.execute_reply": "2023-05-31T09:52:56.016544Z",
     "shell.execute_reply.started": "2023-05-31T09:52:56.005112Z"
    }
   },
   "outputs": [
    {
     "data": {
      "text/plain": [
       "{'O': 'Oxygen', 'C': 'Carbon', 'Na': 'Sodium', 'H': 'Hydrogen'}"
      ]
     },
     "execution_count": 8,
     "metadata": {},
     "output_type": "execute_result"
    }
   ],
   "source": [
    "del chemical_elements['K']\n",
    "chemical_elements"
   ]
  },
  {
   "cell_type": "markdown",
   "metadata": {},
   "source": [
    "Another way to remove key-value pairs is by using the `pop(key_name)` or `popitem()` methods. The first one removes key-value pair that corresponds to the passed `key_name` argument, while the second one removes the last inserted key-value pair. "
   ]
  },
  {
   "cell_type": "code",
   "execution_count": 3,
   "metadata": {
    "execution": {
     "iopub.execute_input": "2023-05-31T09:53:06.757678Z",
     "iopub.status.busy": "2023-05-31T09:53:06.757179Z",
     "iopub.status.idle": "2023-05-31T09:53:06.765222Z",
     "shell.execute_reply": "2023-05-31T09:53:06.764224Z",
     "shell.execute_reply.started": "2023-05-31T09:53:06.757644Z"
    }
   },
   "outputs": [
    {
     "data": {
      "text/plain": [
       "{'O': 'Oxygen',\n",
       " 'C': 'Carbon',\n",
       " 'Na': 'Sodium',\n",
       " 'H': 'Hydrogen',\n",
       " 'Ca': 'Calcium',\n",
       " 'K': 'Potassium'}"
      ]
     },
     "execution_count": 3,
     "metadata": {},
     "output_type": "execute_result"
    }
   ],
   "source": [
    "chemical_elements['Ca'] = 'Calcium'\n",
    "chemical_elements['K'] = 'Potassium'\n",
    "chemical_elements"
   ]
  },
  {
   "cell_type": "code",
   "execution_count": 4,
   "metadata": {
    "execution": {
     "iopub.execute_input": "2023-05-31T09:53:10.959836Z",
     "iopub.status.busy": "2023-05-31T09:53:10.959243Z",
     "iopub.status.idle": "2023-05-31T09:53:10.968355Z",
     "shell.execute_reply": "2023-05-31T09:53:10.967026Z",
     "shell.execute_reply.started": "2023-05-31T09:53:10.959783Z"
    }
   },
   "outputs": [
    {
     "data": {
      "text/plain": [
       "{'O': 'Oxygen',\n",
       " 'C': 'Carbon',\n",
       " 'Na': 'Sodium',\n",
       " 'H': 'Hydrogen',\n",
       " 'K': 'Potassium'}"
      ]
     },
     "execution_count": 4,
     "metadata": {},
     "output_type": "execute_result"
    }
   ],
   "source": [
    "chemical_elements.pop('Ca')\n",
    "chemical_elements"
   ]
  },
  {
   "cell_type": "code",
   "execution_count": 5,
   "metadata": {
    "execution": {
     "iopub.execute_input": "2023-05-31T09:53:13.599109Z",
     "iopub.status.busy": "2023-05-31T09:53:13.597855Z",
     "iopub.status.idle": "2023-05-31T09:53:13.606651Z",
     "shell.execute_reply": "2023-05-31T09:53:13.605043Z",
     "shell.execute_reply.started": "2023-05-31T09:53:13.599053Z"
    }
   },
   "outputs": [
    {
     "data": {
      "text/plain": [
       "{'O': 'Oxygen', 'C': 'Carbon', 'Na': 'Sodium', 'H': 'Hydrogen'}"
      ]
     },
     "execution_count": 5,
     "metadata": {},
     "output_type": "execute_result"
    }
   ],
   "source": [
    "chemical_elements.popitem()\n",
    "chemical_elements"
   ]
  },
  {
   "cell_type": "markdown",
   "metadata": {},
   "source": [
    "If we want to empty the dictionary we can use the `clear()` method. Mind that this will not delete the dictionary, but it will delete all key-value pairs."
   ]
  },
  {
   "cell_type": "code",
   "execution_count": 13,
   "metadata": {
    "execution": {
     "iopub.execute_input": "2023-05-31T09:53:39.388708Z",
     "iopub.status.busy": "2023-05-31T09:53:39.387943Z",
     "iopub.status.idle": "2023-05-31T09:53:39.397172Z",
     "shell.execute_reply": "2023-05-31T09:53:39.394348Z",
     "shell.execute_reply.started": "2023-05-31T09:53:39.388623Z"
    },
    "tags": []
   },
   "outputs": [
    {
     "name": "stdout",
     "output_type": "stream",
     "text": [
      "Before clearing: {0: 0, 1: 1, -1: 1, 2: 4, -2: 4}\n",
      "After clearing: {}\n"
     ]
    }
   ],
   "source": [
    "print('Before clearing:', parabola)\n",
    "parabola.clear()\n",
    "print('After clearing:', parabola)"
   ]
  },
  {
   "cell_type": "markdown",
   "metadata": {},
   "source": [
    "### Updating key-value pairs"
   ]
  },
  {
   "cell_type": "markdown",
   "metadata": {},
   "source": [
    "In order to update a value related to a key we just access the value corresponding to that key and assign a new value. The syntax is as follows:\n",
    "```python\n",
    "dictionary_names[key] = new_value\n",
    "```\n",
    "For example, we can add again 'Potasium' to the list, misspelled, and then change it to the correct version:"
   ]
  },
  {
   "cell_type": "code",
   "execution_count": 6,
   "metadata": {
    "execution": {
     "iopub.execute_input": "2023-05-31T09:53:53.970207Z",
     "iopub.status.busy": "2023-05-31T09:53:53.969681Z",
     "iopub.status.idle": "2023-05-31T09:53:53.979164Z",
     "shell.execute_reply": "2023-05-31T09:53:53.978077Z",
     "shell.execute_reply.started": "2023-05-31T09:53:53.970160Z"
    }
   },
   "outputs": [
    {
     "data": {
      "text/plain": [
       "{'O': 'Oxygen',\n",
       " 'C': 'Carbon',\n",
       " 'Na': 'Sodium',\n",
       " 'H': 'Hydrogen',\n",
       " 'K': 'Potasium'}"
      ]
     },
     "execution_count": 6,
     "metadata": {},
     "output_type": "execute_result"
    }
   ],
   "source": [
    "chemical_elements['K'] = 'Potasium' # add Potassium again\n",
    "chemical_elements"
   ]
  },
  {
   "cell_type": "code",
   "execution_count": 7,
   "metadata": {
    "execution": {
     "iopub.execute_input": "2023-05-31T09:54:22.926854Z",
     "iopub.status.busy": "2023-05-31T09:54:22.926234Z",
     "iopub.status.idle": "2023-05-31T09:54:22.937594Z",
     "shell.execute_reply": "2023-05-31T09:54:22.935458Z",
     "shell.execute_reply.started": "2023-05-31T09:54:22.926796Z"
    }
   },
   "outputs": [
    {
     "data": {
      "text/plain": [
       "{'O': 'Oxygen',\n",
       " 'C': 'Carbon',\n",
       " 'Na': 'Sodium',\n",
       " 'H': 'Hydrogen',\n",
       " 'K': 'Potassium'}"
      ]
     },
     "execution_count": 7,
     "metadata": {},
     "output_type": "execute_result"
    }
   ],
   "source": [
    "chemical_elements['K'] = 'Potassium' # correct spelling\n",
    "chemical_elements"
   ]
  },
  {
   "cell_type": "markdown",
   "metadata": {},
   "source": [
    "### Accessing keys, values and key-value pairs"
   ]
  },
  {
   "cell_type": "markdown",
   "metadata": {},
   "source": [
    "In order to get keys, values and key-value pairs of a dictionary we need to use the respective methods: `keys()`, `values()` and  `items()`. All these methods return *views* of the items retrieved. This means that each time we invoke them, the values from the dictionary will be returned and the return is not saved anywhere. To better understand this, look at this example:"
   ]
  },
  {
   "cell_type": "markdown",
   "metadata": {},
   "source": [
    "#### Accessing keys"
   ]
  },
  {
   "cell_type": "code",
   "execution_count": 8,
   "metadata": {
    "execution": {
     "iopub.execute_input": "2023-05-31T09:54:43.569033Z",
     "iopub.status.busy": "2023-05-31T09:54:43.568576Z",
     "iopub.status.idle": "2023-05-31T09:54:43.579797Z",
     "shell.execute_reply": "2023-05-31T09:54:43.578705Z",
     "shell.execute_reply.started": "2023-05-31T09:54:43.568998Z"
    }
   },
   "outputs": [
    {
     "data": {
      "text/plain": [
       "dict_keys(['O', 'C', 'Na', 'H', 'K'])"
      ]
     },
     "execution_count": 8,
     "metadata": {},
     "output_type": "execute_result"
    }
   ],
   "source": [
    "chemical_keys = chemical_elements.keys()\n",
    "chemical_keys"
   ]
  },
  {
   "cell_type": "code",
   "execution_count": 9,
   "metadata": {
    "execution": {
     "iopub.execute_input": "2023-05-31T09:54:45.567412Z",
     "iopub.status.busy": "2023-05-31T09:54:45.566880Z",
     "iopub.status.idle": "2023-05-31T09:54:45.575739Z",
     "shell.execute_reply": "2023-05-31T09:54:45.574377Z",
     "shell.execute_reply.started": "2023-05-31T09:54:45.567365Z"
    }
   },
   "outputs": [
    {
     "data": {
      "text/plain": [
       "dict_keys(['O', 'C', 'Na', 'H', 'K', 'Ca'])"
      ]
     },
     "execution_count": 9,
     "metadata": {},
     "output_type": "execute_result"
    }
   ],
   "source": [
    "chemical_elements['Ca'] = 'Calcium'\n",
    "chemical_keys"
   ]
  },
  {
   "cell_type": "markdown",
   "metadata": {},
   "source": [
    "````{margin}\n",
    "```{note}\n",
    "In order to sort the keys, we can use the `sorted()` method.\n",
    "```\n",
    "````\n",
    "First of all, as you can see the return type is `dict_keys`. The second thing to note is that, despite that we do not update the values of the variable `chemical_keys`, it implicitly is updated and contains the new value. This is the role of a view, it gives a view of the keys and it **does not keep a deep copy** of the keys."
   ]
  },
  {
   "cell_type": "markdown",
   "metadata": {},
   "source": [
    "#### Accessing values"
   ]
  },
  {
   "cell_type": "markdown",
   "metadata": {},
   "source": [
    "Similarly, to  access the values we can use the `values()` method. Again it will return a view of the dictionary values:"
   ]
  },
  {
   "cell_type": "code",
   "execution_count": 18,
   "metadata": {
    "execution": {
     "iopub.execute_input": "2023-05-31T09:55:11.090235Z",
     "iopub.status.busy": "2023-05-31T09:55:11.089637Z",
     "iopub.status.idle": "2023-05-31T09:55:11.098625Z",
     "shell.execute_reply": "2023-05-31T09:55:11.097388Z",
     "shell.execute_reply.started": "2023-05-31T09:55:11.090186Z"
    }
   },
   "outputs": [
    {
     "data": {
      "text/plain": [
       "dict_values(['Oxygen', 'Carbon', 'Sodium', 'Hydrogen', 'Potassium', 'Calcium'])"
      ]
     },
     "execution_count": 18,
     "metadata": {},
     "output_type": "execute_result"
    }
   ],
   "source": [
    "chemical_values = chemical_elements.values()\n",
    "chemical_values"
   ]
  },
  {
   "cell_type": "markdown",
   "metadata": {},
   "source": [
    "Again, it returns a `dict_values` type.\n",
    "\n",
    "To ensure that there is no copy of data saved in `chemical_values`, we will delete `Calcium`:"
   ]
  },
  {
   "cell_type": "code",
   "execution_count": 19,
   "metadata": {
    "execution": {
     "iopub.execute_input": "2023-05-31T09:55:16.576847Z",
     "iopub.status.busy": "2023-05-31T09:55:16.576276Z",
     "iopub.status.idle": "2023-05-31T09:55:16.585766Z",
     "shell.execute_reply": "2023-05-31T09:55:16.584489Z",
     "shell.execute_reply.started": "2023-05-31T09:55:16.576800Z"
    }
   },
   "outputs": [
    {
     "data": {
      "text/plain": [
       "dict_values(['Oxygen', 'Carbon', 'Sodium', 'Hydrogen', 'Potassium'])"
      ]
     },
     "execution_count": 19,
     "metadata": {},
     "output_type": "execute_result"
    }
   ],
   "source": [
    "del chemical_elements['Ca']\n",
    "chemical_values"
   ]
  },
  {
   "cell_type": "markdown",
   "metadata": {},
   "source": [
    "As you can see, there is no `Calcium` anymore in the values of the dictionary."
   ]
  },
  {
   "cell_type": "markdown",
   "metadata": {},
   "source": [
    "#### Accessing key-value pairs"
   ]
  },
  {
   "cell_type": "markdown",
   "metadata": {},
   "source": [
    "To access `key-value` pairs we can use the `items()` method. Again it will return a view."
   ]
  },
  {
   "cell_type": "code",
   "execution_count": 20,
   "metadata": {
    "execution": {
     "iopub.execute_input": "2023-05-31T09:55:26.463146Z",
     "iopub.status.busy": "2023-05-31T09:55:26.462731Z",
     "iopub.status.idle": "2023-05-31T09:55:26.469731Z",
     "shell.execute_reply": "2023-05-31T09:55:26.468909Z",
     "shell.execute_reply.started": "2023-05-31T09:55:26.463113Z"
    }
   },
   "outputs": [
    {
     "data": {
      "text/plain": [
       "dict_items([('O', 'Oxygen'), ('C', 'Carbon'), ('Na', 'Sodium'), ('H', 'Hydrogen'), ('K', 'Potassium')])"
      ]
     },
     "execution_count": 20,
     "metadata": {},
     "output_type": "execute_result"
    }
   ],
   "source": [
    "chemical_pairs = chemical_elements.items()\n",
    "chemical_pairs"
   ]
  },
  {
   "cell_type": "markdown",
   "metadata": {},
   "source": [
    "### Searching dictionaries for specific keys"
   ]
  },
  {
   "cell_type": "markdown",
   "metadata": {},
   "source": [
    "In order to check whether a certain key is in the dictionary we can use the `in` or `not in` operators:"
   ]
  },
  {
   "cell_type": "code",
   "execution_count": 21,
   "metadata": {
    "execution": {
     "iopub.execute_input": "2023-05-31T09:55:34.157866Z",
     "iopub.status.busy": "2023-05-31T09:55:34.157246Z",
     "iopub.status.idle": "2023-05-31T09:55:34.168231Z",
     "shell.execute_reply": "2023-05-31T09:55:34.166864Z",
     "shell.execute_reply.started": "2023-05-31T09:55:34.157815Z"
    }
   },
   "outputs": [
    {
     "data": {
      "text/plain": [
       "False"
      ]
     },
     "execution_count": 21,
     "metadata": {},
     "output_type": "execute_result"
    }
   ],
   "source": [
    "'Ca' in chemical_elements"
   ]
  },
  {
   "cell_type": "code",
   "execution_count": 22,
   "metadata": {
    "execution": {
     "iopub.execute_input": "2023-05-31T09:55:34.669326Z",
     "iopub.status.busy": "2023-05-31T09:55:34.668588Z",
     "iopub.status.idle": "2023-05-31T09:55:34.679376Z",
     "shell.execute_reply": "2023-05-31T09:55:34.677767Z",
     "shell.execute_reply.started": "2023-05-31T09:55:34.669275Z"
    }
   },
   "outputs": [
    {
     "data": {
      "text/plain": [
       "True"
      ]
     },
     "execution_count": 22,
     "metadata": {},
     "output_type": "execute_result"
    }
   ],
   "source": [
    "'Ca' not in chemical_elements"
   ]
  },
  {
   "cell_type": "markdown",
   "metadata": {},
   "source": [
    "As you can see, since there is no entry in the dictionary whose key is `Ca`, the output is `False`. If the key is present then it would output `True`."
   ]
  },
  {
   "cell_type": "code",
   "execution_count": 23,
   "metadata": {
    "execution": {
     "iopub.execute_input": "2023-05-31T09:55:41.752872Z",
     "iopub.status.busy": "2023-05-31T09:55:41.752260Z",
     "iopub.status.idle": "2023-05-31T09:55:41.761432Z",
     "shell.execute_reply": "2023-05-31T09:55:41.759716Z",
     "shell.execute_reply.started": "2023-05-31T09:55:41.752823Z"
    }
   },
   "outputs": [
    {
     "data": {
      "text/plain": [
       "True"
      ]
     },
     "execution_count": 23,
     "metadata": {},
     "output_type": "execute_result"
    }
   ],
   "source": [
    "'Na' in chemical_elements"
   ]
  },
  {
   "cell_type": "code",
   "execution_count": 24,
   "metadata": {
    "execution": {
     "iopub.execute_input": "2023-05-31T09:55:42.380052Z",
     "iopub.status.busy": "2023-05-31T09:55:42.379388Z",
     "iopub.status.idle": "2023-05-31T09:55:42.389248Z",
     "shell.execute_reply": "2023-05-31T09:55:42.387849Z",
     "shell.execute_reply.started": "2023-05-31T09:55:42.379995Z"
    }
   },
   "outputs": [
    {
     "data": {
      "text/plain": [
       "False"
      ]
     },
     "execution_count": 24,
     "metadata": {},
     "output_type": "execute_result"
    }
   ],
   "source": [
    "'Na' not in chemical_elements"
   ]
  },
  {
   "cell_type": "markdown",
   "metadata": {},
   "source": [
    "### **update()** method"
   ]
  },
  {
   "cell_type": "markdown",
   "metadata": {},
   "source": [
    "To add or update a key-value pair in a dictionary the `update()` method of dictionaries can be used as well. The syntax is:\n",
    "```python\n",
    "dictionary_names.update({key:value})\n",
    "```\n",
    "As previously, if the key does not exist in the dictionary, then the key-value pair is added, otherwise the value is simply updated."
   ]
  },
  {
   "cell_type": "code",
   "execution_count": 25,
   "metadata": {
    "execution": {
     "iopub.execute_input": "2023-05-31T09:56:04.291428Z",
     "iopub.status.busy": "2023-05-31T09:56:04.291010Z",
     "iopub.status.idle": "2023-05-31T09:56:04.298800Z",
     "shell.execute_reply": "2023-05-31T09:56:04.297800Z",
     "shell.execute_reply.started": "2023-05-31T09:56:04.291395Z"
    }
   },
   "outputs": [
    {
     "data": {
      "text/plain": [
       "{'O': 'Oxygen',\n",
       " 'C': 'Carbon',\n",
       " 'Na': 'Sodium',\n",
       " 'H': 'Hydrogen',\n",
       " 'K': 'Potassium',\n",
       " 'N': 'Nitrog.'}"
      ]
     },
     "execution_count": 25,
     "metadata": {},
     "output_type": "execute_result"
    }
   ],
   "source": [
    "chemical_elements.update({'N':'Nitrog.'})\n",
    "chemical_elements"
   ]
  },
  {
   "cell_type": "markdown",
   "metadata": {},
   "source": [
    "As you can see from above, method `update()` added `Nitrog.` to the dictionary. Now if the key existed, it will update the value:"
   ]
  },
  {
   "cell_type": "code",
   "execution_count": 26,
   "metadata": {
    "execution": {
     "iopub.execute_input": "2023-05-31T09:56:05.729755Z",
     "iopub.status.busy": "2023-05-31T09:56:05.729108Z",
     "iopub.status.idle": "2023-05-31T09:56:05.739387Z",
     "shell.execute_reply": "2023-05-31T09:56:05.738179Z",
     "shell.execute_reply.started": "2023-05-31T09:56:05.729701Z"
    }
   },
   "outputs": [
    {
     "data": {
      "text/plain": [
       "{'O': 'Oxygen',\n",
       " 'C': 'Carbon',\n",
       " 'Na': 'Sodium',\n",
       " 'H': 'Hydrogen',\n",
       " 'K': 'Potassium',\n",
       " 'N': 'Nitrogen'}"
      ]
     },
     "execution_count": 26,
     "metadata": {},
     "output_type": "execute_result"
    }
   ],
   "source": [
    "chemical_elements.update({'N':'Nitrogen'})\n",
    "chemical_elements"
   ]
  },
  {
   "cell_type": "markdown",
   "metadata": {},
   "source": [
    "This method is particularly useful when you want to update values of multiple keys at the same time. While doing that, you can also add new values:"
   ]
  },
  {
   "cell_type": "code",
   "execution_count": 27,
   "metadata": {
    "execution": {
     "iopub.execute_input": "2023-05-31T09:58:11.897006Z",
     "iopub.status.busy": "2023-05-31T09:58:11.894040Z",
     "iopub.status.idle": "2023-05-31T09:58:11.912615Z",
     "shell.execute_reply": "2023-05-31T09:58:11.910800Z",
     "shell.execute_reply.started": "2023-05-31T09:58:11.896852Z"
    }
   },
   "outputs": [
    {
     "data": {
      "text/plain": [
       "{'O': 'Oxygen',\n",
       " 'C': 'Carbon',\n",
       " 'Na': 'Sodium',\n",
       " 'H': 'Hydrogen',\n",
       " 'K': 'Potasium',\n",
       " 'N': 'Nitrogen',\n",
       " 'P': 'Phosphorus'}"
      ]
     },
     "execution_count": 27,
     "metadata": {},
     "output_type": "execute_result"
    }
   ],
   "source": [
    "chemical_elements.update({\n",
    "    'K': 'Potasium',\n",
    "    'P': 'Phosphorus'\n",
    "})\n",
    "chemical_elements"
   ]
  },
  {
   "cell_type": "markdown",
   "metadata": {},
   "source": [
    "### Dictionary comprehension"
   ]
  },
  {
   "cell_type": "markdown",
   "metadata": {},
   "source": [
    "Dictionary comprehensions, just like list comprehensions, are a quick way to create a dictionary. The syntax is:\n",
    "\n",
    "```python\n",
    "new_dictionary = {key: value for key, value in old_dictionary.items()}\n",
    "```\n",
    "Notice that the syntax above will create a dictionary that is the same as the one we are using (`old_dictionary`). You can use lists, or any other iterable to create the dictionary using the comprehension.\n",
    "\n",
    "One use case of dictionary comprehension is when we want to reverse a dictionary (i.e., swap the values and keys) given that the values are also *unique*:"
   ]
  },
  {
   "cell_type": "code",
   "execution_count": 28,
   "metadata": {
    "execution": {
     "iopub.execute_input": "2023-05-31T09:59:47.043098Z",
     "iopub.status.busy": "2023-05-31T09:59:47.042421Z",
     "iopub.status.idle": "2023-05-31T09:59:47.059508Z",
     "shell.execute_reply": "2023-05-31T09:59:47.057870Z",
     "shell.execute_reply.started": "2023-05-31T09:59:47.043045Z"
    }
   },
   "outputs": [
    {
     "data": {
      "text/plain": [
       "{'Oxygen': 'O',\n",
       " 'Carbon': 'C',\n",
       " 'Sodium': 'Na',\n",
       " 'Hydrogen': 'H',\n",
       " 'Potasium': 'K',\n",
       " 'Nitrogen': 'N',\n",
       " 'Phosphorus': 'P'}"
      ]
     },
     "execution_count": 28,
     "metadata": {},
     "output_type": "execute_result"
    }
   ],
   "source": [
    "chemical_elements_reverse = {\n",
    "    name: symbol for symbol, name in chemical_elements.items()\n",
    "}\n",
    "chemical_elements_reverse"
   ]
  },
  {
   "cell_type": "markdown",
   "metadata": {},
   "source": [
    "As you can see, we used dictionary comprehension to reverse the dictionary by making keys values and values keys.\n",
    "```{note}\n",
    "Note that if values are not unique, then the dictionary will simply update the value of the duplicate key.\n",
    "```"
   ]
  },
  {
   "cell_type": "markdown",
   "metadata": {},
   "source": [
    "Let us look at another example. We are going to use a list of tuples to create a dictionary:"
   ]
  },
  {
   "cell_type": "code",
   "execution_count": 29,
   "metadata": {
    "execution": {
     "iopub.execute_input": "2023-05-31T10:00:17.596235Z",
     "iopub.status.busy": "2023-05-31T10:00:17.595715Z",
     "iopub.status.idle": "2023-05-31T10:00:17.608788Z",
     "shell.execute_reply": "2023-05-31T10:00:17.606883Z",
     "shell.execute_reply.started": "2023-05-31T10:00:17.596197Z"
    }
   },
   "outputs": [
    {
     "data": {
      "text/plain": [
       "{'January': 31, 'February': 28, 'March': 31, 'April': 30, 'May': 31}"
      ]
     },
     "execution_count": 29,
     "metadata": {},
     "output_type": "execute_result"
    }
   ],
   "source": [
    "months = [\n",
    "    ('January', 31), ('February', 28), \n",
    "    ('March',31), ('April', 30), ('May', 31)\n",
    "]\n",
    "months_dict =  {month: days for month, days in months}\n",
    "months_dict"
   ]
  },
  {
   "cell_type": "markdown",
   "metadata": {},
   "source": [
    "As you can see, the dictionary was created by unpacking each of the tuples in the `months`. Note that the keys and values can be modified as well."
   ]
  },
  {
   "cell_type": "markdown",
   "metadata": {},
   "source": [
    "### Comparing dictionaries"
   ]
  },
  {
   "cell_type": "markdown",
   "metadata": {},
   "source": [
    "Unlike lists, two dictionaries are equal if they have the same elements, no matter their order. For example:"
   ]
  },
  {
   "cell_type": "code",
   "execution_count": 30,
   "metadata": {
    "execution": {
     "iopub.execute_input": "2023-05-31T10:00:52.451523Z",
     "iopub.status.busy": "2023-05-31T10:00:52.451052Z",
     "iopub.status.idle": "2023-05-31T10:00:52.461967Z",
     "shell.execute_reply": "2023-05-31T10:00:52.460480Z",
     "shell.execute_reply.started": "2023-05-31T10:00:52.451486Z"
    }
   },
   "outputs": [
    {
     "data": {
      "text/plain": [
       "True"
      ]
     },
     "execution_count": 30,
     "metadata": {},
     "output_type": "execute_result"
    }
   ],
   "source": [
    "chemical_elements_1 = {\n",
    "    'O': 'Oxygen', 'C': 'Carbon', \n",
    "    'Na': 'Sodium', 'H': 'Hydrogen', \n",
    "    'N': 'Nitrogen'\n",
    "}\n",
    "chemical_elements_2 = {\n",
    "    'O': 'Oxygen', 'C': 'Carbon', \n",
    "    'N': 'Nitrogen', 'Na': 'Sodium', \n",
    "    'H': 'Hydrogen'\n",
    "}\n",
    "chemical_elements_1 == chemical_elements_2"
   ]
  },
  {
   "cell_type": "markdown",
   "metadata": {},
   "source": [
    "### Copying dictionaries"
   ]
  },
  {
   "cell_type": "markdown",
   "metadata": {},
   "source": [
    "The idea of {ref}`shallow- and deep-copy from Chapter 5 <ch04-copying-label>` appears here again. If we do: `dict1 = dict2`, then we are creating a shallow copy because we are simply adding a second pointer to the memory space of the first dictionary. If we make any changes to `dict1` or `dict2`, then they will appear in the other one as well."
   ]
  },
  {
   "cell_type": "code",
   "execution_count": 31,
   "metadata": {
    "execution": {
     "iopub.execute_input": "2023-05-31T10:01:25.602204Z",
     "iopub.status.busy": "2023-05-31T10:01:25.601800Z",
     "iopub.status.idle": "2023-05-31T10:01:25.610685Z",
     "shell.execute_reply": "2023-05-31T10:01:25.609039Z",
     "shell.execute_reply.started": "2023-05-31T10:01:25.602168Z"
    }
   },
   "outputs": [
    {
     "name": "stdout",
     "output_type": "stream",
     "text": [
      "chemical_elements_1 {'O': 'Oxygen', 'C': 'Carbon', 'Na': 'Sodium', 'H': 'Hydrogen', 'N': 'Nitrogen'}\n",
      "chemical_elements_2 {'O': 'Oxygen', 'C': 'Carbon', 'Na': 'Sodium', 'H': 'Hydrogen', 'N': 'Nitrogen'}\n"
     ]
    }
   ],
   "source": [
    "chemical_elements_1 = {\n",
    "    'O': 'Oxygen', 'C': 'Carbon', \n",
    "    'Na': 'Sodium', 'H': 'Hydrogen', \n",
    "    'N': 'Nitrogen'\n",
    "}\n",
    "chemical_elements_2 = chemical_elements_1\n",
    "print('chemical_elements_1', chemical_elements_1)\n",
    "print('chemical_elements_2', chemical_elements_2)"
   ]
  },
  {
   "cell_type": "markdown",
   "metadata": {},
   "source": [
    "Now let us change one of the elements in `chemical_elements_1` and `chemical_elements_2` and see what happens:"
   ]
  },
  {
   "cell_type": "code",
   "execution_count": 32,
   "metadata": {
    "execution": {
     "iopub.execute_input": "2023-05-31T10:02:55.157340Z",
     "iopub.status.busy": "2023-05-31T10:02:55.156771Z",
     "iopub.status.idle": "2023-05-31T10:02:55.167480Z",
     "shell.execute_reply": "2023-05-31T10:02:55.166532Z",
     "shell.execute_reply.started": "2023-05-31T10:02:55.157284Z"
    }
   },
   "outputs": [
    {
     "name": "stdout",
     "output_type": "stream",
     "text": [
      "chemical_elements_1 {'O': 'Oxygen', 'C': 'Carbon', 'Na': 'Sodium', 'H': 'Hydrogen', 'N': 'Nitrogen', 'Ag': 'Silver', 'Au': 'Gold'}\n",
      "chemical_elements_2 {'O': 'Oxygen', 'C': 'Carbon', 'Na': 'Sodium', 'H': 'Hydrogen', 'N': 'Nitrogen', 'Ag': 'Silver', 'Au': 'Gold'}\n"
     ]
    }
   ],
   "source": [
    "chemical_elements_1['Ag'] = 'Silver'\n",
    "chemical_elements_2['Au'] = 'Gold'\n",
    "print('chemical_elements_1', chemical_elements_1)\n",
    "print('chemical_elements_2', chemical_elements_2)"
   ]
  },
  {
   "cell_type": "markdown",
   "metadata": {},
   "source": [
    "As you can see, both elements are added in both dictionaries, although each addition was added to only one of them."
   ]
  },
  {
   "cell_type": "markdown",
   "metadata": {},
   "source": [
    "````{margin}\n",
    "```{important}\n",
    "`list()` and `tuple()` are also constructors for lists and tuples, respectively.\n",
    "```\n",
    "````\n",
    "To circumvent this, we can use the `dictionary1.copy()` method or the the `dict(dictionary1)` function. The first method will copy the original dictionary's data into another memory location and will add the pointer to that location. The second method will create a new dictionary from scratch by using the values of the original dictionary. In other words, `dict()` is called a constructor for dictionaries. It is a function that can build/construct dictionaries. "
   ]
  },
  {
   "cell_type": "code",
   "execution_count": 33,
   "metadata": {
    "execution": {
     "iopub.execute_input": "2023-05-31T10:04:00.883556Z",
     "iopub.status.busy": "2023-05-31T10:04:00.883092Z",
     "iopub.status.idle": "2023-05-31T10:04:00.893948Z",
     "shell.execute_reply": "2023-05-31T10:04:00.892864Z",
     "shell.execute_reply.started": "2023-05-31T10:04:00.883520Z"
    }
   },
   "outputs": [
    {
     "name": "stdout",
     "output_type": "stream",
     "text": [
      "chemical_elements_1 {'O': 'Oxygen', 'C': 'Carbon', 'Na': 'Sodium', 'H': 'Hydrogen', 'N': 'Nitrogen', 'Ag': 'Silver', 'Au': 'Gold'}\n",
      "chemical_elements_2 {'O': 'Oxygen', 'C': 'Carbon', 'Na': 'Sodium', 'H': 'Hydrogen', 'N': 'Nitrogen', 'Ag': 'Silver'}\n"
     ]
    }
   ],
   "source": [
    "chemical_elements_2 = chemical_elements_1.copy()\n",
    "chemical_elements_2.popitem() # remove last element\n",
    "print('chemical_elements_1', chemical_elements_1)\n",
    "print('chemical_elements_2', chemical_elements_2)"
   ]
  },
  {
   "cell_type": "markdown",
   "metadata": {},
   "source": [
    "As you can see, the `Au: Gold` key-value pair is removed only from the second dictionary. The original one is not affected."
   ]
  },
  {
   "cell_type": "code",
   "execution_count": 34,
   "metadata": {
    "execution": {
     "iopub.execute_input": "2023-05-31T10:04:12.097844Z",
     "iopub.status.busy": "2023-05-31T10:04:12.096843Z",
     "iopub.status.idle": "2023-05-31T10:04:12.104852Z",
     "shell.execute_reply": "2023-05-31T10:04:12.103542Z",
     "shell.execute_reply.started": "2023-05-31T10:04:12.097793Z"
    }
   },
   "outputs": [
    {
     "name": "stdout",
     "output_type": "stream",
     "text": [
      "chemical_elements_1 {'O': 'Oxygen', 'C': 'Carbon', 'Na': 'Sodium', 'H': 'Hydrogen', 'N': 'Nitrogen', 'Ag': 'Silver', 'Au': 'Gold'}\n",
      "chemical_elements_2 {'O': 'Oxygen', 'C': 'Carbon', 'Na': 'Sodium', 'H': 'Hydrogen', 'N': 'Nitrogen', 'Ag': 'Silver'}\n"
     ]
    }
   ],
   "source": [
    "chemical_elements_2 = dict(chemical_elements_1)\n",
    "chemical_elements_2.popitem() # remove last element\n",
    "print('chemical_elements_1', chemical_elements_1)\n",
    "print('chemical_elements_2', chemical_elements_2)"
   ]
  },
  {
   "cell_type": "markdown",
   "metadata": {},
   "source": [
    "The same happens above, but this time using `dict()`."
   ]
  }
 ],
 "metadata": {
  "kernelspec": {
   "display_name": "Python 3 (ipykernel)",
   "language": "python",
   "name": "python3"
  },
  "language_info": {
   "codemirror_mode": {
    "name": "ipython",
    "version": 3
   },
   "file_extension": ".py",
   "mimetype": "text/x-python",
   "name": "python",
   "nbconvert_exporter": "python",
   "pygments_lexer": "ipython3",
   "version": "3.8.16"
  },
  "vscode": {
   "interpreter": {
    "hash": "0c2f5c4fba51b93f19e499abfcc9ef4d6fee5bb503e49077d95162365c0a0cb3"
   }
  }
 },
 "nbformat": 4,
 "nbformat_minor": 4
}
