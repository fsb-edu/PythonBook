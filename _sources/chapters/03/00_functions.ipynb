{
 "cells": [
  {
   "cell_type": "markdown",
   "metadata": {},
   "source": [
    "# Functions"
   ]
  },
  {
   "cell_type": "markdown",
   "metadata": {},
   "source": [
    "In {ref}`Chapter 2 <chapter1-label>`, we printed a lot of variables and their types. For each of these 'jobs' we had to write the print statement explicitly. Likewise, in {ref}`Chapter 3 <chapter2-label>`, there were many repeating code blocks. The result: we wrote many copy-pasted statements that look almost the same. Copy-pasting redundant code is not a good practice, as creates more work for you and will lead to programs that grow to be really large. That is when **functions** come to help. Functions are code blocks that only run when they are called. They help avoid code repetition by defining functions that can be called separately (and multiple times when needed)."
   ]
  },
  {
   "cell_type": "markdown",
   "metadata": {},
   "source": [
    "```{admonition} Chapter Summary\n",
    "- What are functions?\n",
    "- Functions with default values\n",
    "- Functions with an arbitrary number of arguments\n",
    "- Scope of a variable\n",
    "- Importing modules\n",
    "- Methods (Optional)\n",
    "```"
   ]
  },
  {
   "cell_type": "code",
   "execution_count": null,
   "metadata": {},
   "outputs": [],
   "source": []
  }
 ],
 "metadata": {
  "kernelspec": {
   "display_name": "Python 3 (ipykernel)",
   "language": "python",
   "name": "python3"
  },
  "language_info": {
   "codemirror_mode": {
    "name": "ipython",
    "version": 3
   },
   "file_extension": ".py",
   "mimetype": "text/x-python",
   "name": "python",
   "nbconvert_exporter": "python",
   "pygments_lexer": "ipython3",
   "version": "3.8.16"
  },
  "vscode": {
   "interpreter": {
    "hash": "0c2f5c4fba51b93f19e499abfcc9ef4d6fee5bb503e49077d95162365c0a0cb3"
   }
  }
 },
 "nbformat": 4,
 "nbformat_minor": 4
}
