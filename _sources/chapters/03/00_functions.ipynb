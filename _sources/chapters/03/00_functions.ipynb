{
 "cells": [
  {
   "cell_type": "markdown",
   "metadata": {},
   "source": [
    "# Functions"
   ]
  },
  {
   "cell_type": "markdown",
   "metadata": {},
   "source": [
    "In {ref}`Chapter 2 <chapter1-label>`, we printed a lot variables and their types. For each of these 'jobs' we had to write the print statement explicitly. Likewise, in {ref}`Chapter 3 <chapter2-label>`, there were many repeating code blocks. The result: we ended up with many copy-pasted statements that look almost the same. If you think of this, given that programs may grow to be really large, copy-pasted code is not a good idea at all. That is when **functions** come to help. They are code blocks that help avoid code repetition."
   ]
  },
  {
   "cell_type": "markdown",
   "metadata": {},
   "source": [
    "```{admonition} Chapter Summary\n",
    "- What are functions?\n",
    "- Functions with default values\n",
    "- Functions with arbitrary many arguments\n",
    "- Scope of a variable\n",
    "- Importing modules\n",
    "- Methods (Optional)\n",
    "```"
   ]
  }
 ],
 "metadata": {
  "kernelspec": {
   "display_name": "Python 3 (ipykernel)",
   "language": "python",
   "name": "python3"
  },
  "language_info": {
   "codemirror_mode": {
    "name": "ipython",
    "version": 3
   },
   "file_extension": ".py",
   "mimetype": "text/x-python",
   "name": "python",
   "nbconvert_exporter": "python",
   "pygments_lexer": "ipython3",
   "version": "3.7.12"
  },
  "vscode": {
   "interpreter": {
    "hash": "0c2f5c4fba51b93f19e499abfcc9ef4d6fee5bb503e49077d95162365c0a0cb3"
   }
  }
 },
 "nbformat": 4,
 "nbformat_minor": 4
}
