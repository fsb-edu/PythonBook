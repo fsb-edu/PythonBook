{
 "cells": [
  {
   "attachments": {},
   "cell_type": "markdown",
   "metadata": {},
   "source": [
    "# Solutions to Chapter 2 Exercises"
   ]
  },
  {
   "attachments": {},
   "cell_type": "markdown",
   "metadata": {},
   "source": [
    "## Exercise 1"
   ]
  },
  {
   "attachments": {},
   "cell_type": "markdown",
   "metadata": {},
   "source": [
    "Write a program that will find the value of this arithmetic expression:\n",
    "```{math}\n",
    "2\\times(5+3)+4\\times \\dfrac{128}{ (\\dfrac{16}{8})}-3^2\\times (5\\%2)\n",
    "```"
   ]
  },
  {
   "cell_type": "code",
   "execution_count": 38,
   "metadata": {},
   "outputs": [
    {
     "data": {
      "text/plain": [
       "263.0"
      ]
     },
     "execution_count": 38,
     "metadata": {},
     "output_type": "execute_result"
    }
   ],
   "source": [
    "# Answer\n",
    "2*(5+3)+4*(128/(16/8))-3*3*(5%2)"
   ]
  },
  {
   "attachments": {},
   "cell_type": "markdown",
   "metadata": {},
   "source": [
    "## Exercise 2"
   ]
  },
  {
   "attachments": {},
   "cell_type": "markdown",
   "metadata": {},
   "source": [
    "Write a program that given the following values of `x = True`, `y = False` and `z = False` will find out the value of the following logical expression:\n",
    "\n",
    "```{math}\n",
    "x \\; AND \\; (y \\; OR \\; z \\; OR \\; (x \\; AND \\; z))\n",
    "```"
   ]
  },
  {
   "cell_type": "code",
   "execution_count": 11,
   "metadata": {},
   "outputs": [
    {
     "data": {
      "text/plain": [
       "False"
      ]
     },
     "execution_count": 11,
     "metadata": {},
     "output_type": "execute_result"
    }
   ],
   "source": [
    "# Write your code here\n",
    "x = True\n",
    "y = False\n",
    "z = False\n",
    "x and (y or z or (x and z))"
   ]
  },
  {
   "attachments": {},
   "cell_type": "markdown",
   "metadata": {},
   "source": [
    "## Exercise 3"
   ]
  },
  {
   "attachments": {},
   "cell_type": "markdown",
   "metadata": {},
   "source": [
    "Now we will modify the code from the {ref}`Readings section 3.1.2.3 <if-elseif-else-label>`. The user will input a grade and based on the ETH grading table you have to output the corresponding description. Find the details [here](https://ethz.ch/content/dam/ethz/main/education/rechtliches-abschluesse/grading.pdf). If the user inputs a number outside of the specified range then print this statement `Incorrect grade!`.\n",
    "\n",
    "Since this depends on a user input, we will assume that the user has entered 6. Except of the `grade` assignment statement everything else is the same."
   ]
  },
  {
   "cell_type": "code",
   "execution_count": 24,
   "metadata": {},
   "outputs": [
    {
     "name": "stdout",
     "output_type": "stream",
     "text": [
      "Excellent\n"
     ]
    }
   ],
   "source": [
    "grade = 6\n",
    "\n",
    "# Answer\n",
    "if grade>6 or grade<1:\n",
    "    print('Incorrect grade!')\n",
    "elif grade>=5.75 and grade<=6.0:\n",
    "    print('Excellent')\n",
    "elif grade>=5.25 and grade<=5.5:\n",
    "    print('Very Good')\n",
    "elif grade>=4.75 and grade<=5.0:\n",
    "    print('Good')\n",
    "elif grade>=4.25 and grade<=4.5:\n",
    "    print('Satisfactory')\n",
    "elif grade==4.0:\n",
    "    print('Sufficient')\n",
    "else:\n",
    "    print('Insufficient')"
   ]
  },
  {
   "attachments": {},
   "cell_type": "markdown",
   "metadata": {},
   "source": [
    "## Exercise 4"
   ]
  },
  {
   "attachments": {},
   "cell_type": "markdown",
   "metadata": {},
   "source": [
    "We have a list of fermented food, but we do not like everything that is there. More precisely the list contains the following items: milk, yoghurt, beer, cider, tempeh, sauerkraut and kefir. We do not like: milk, cider and kefir. So we need to print everything except of these 3 foods. Write a program to accomplish this using a **while** loop."
   ]
  },
  {
   "cell_type": "code",
   "execution_count": 30,
   "metadata": {},
   "outputs": [],
   "source": [
    "fermented_foods = ['milk', 'yoghurt', 'beer', 'cider', 'tempeh', 'sauerkraut', 'kefir']"
   ]
  },
  {
   "cell_type": "code",
   "execution_count": 31,
   "metadata": {},
   "outputs": [
    {
     "name": "stdout",
     "output_type": "stream",
     "text": [
      "yoghurt beer tempeh sauerkraut "
     ]
    }
   ],
   "source": [
    "# Answer\n",
    "i = 0\n",
    "# because there are 7 elements we need to iterate 7 times\n",
    "# since indexes start from 0, i will take values from\n",
    "# 0 to 6.\n",
    "while(i<7):\n",
    "    i = i + 1\n",
    "    if fermented_foods[i-1]=='milk':\n",
    "        continue\n",
    "    if fermented_foods[i-1]=='cider':\n",
    "        continue\n",
    "    if fermented_foods[i-1]=='kefir':\n",
    "        continue\n",
    "    print(fermented_foods[i-1], end=' ')\n",
    "\n"
   ]
  },
  {
   "attachments": {},
   "cell_type": "markdown",
   "metadata": {},
   "source": [
    "## Exercise 5"
   ]
  },
  {
   "attachments": {},
   "cell_type": "markdown",
   "metadata": {},
   "source": [
    "Repeat exercise 4 using a **for** loop this time but when we encounter `sauerkraut` we do not want to continue looping anymore."
   ]
  },
  {
   "cell_type": "code",
   "execution_count": 37,
   "metadata": {},
   "outputs": [
    {
     "name": "stdout",
     "output_type": "stream",
     "text": [
      "yoghurt beer tempeh "
     ]
    }
   ],
   "source": [
    "# Answer\n",
    "for food in fermented_foods:\n",
    "    if food=='milk':\n",
    "        continue\n",
    "    if food=='cider':\n",
    "        continue\n",
    "    if food=='kefir':\n",
    "        continue\n",
    "    if food=='sauerkraut':\n",
    "        break\n",
    "    print(food, end=' ')\n"
   ]
  },
  {
   "attachments": {},
   "cell_type": "markdown",
   "metadata": {},
   "source": [
    "## Exercise 6 (Optional - Bonus)"
   ]
  },
  {
   "attachments": {},
   "cell_type": "markdown",
   "metadata": {},
   "source": [
    "Using a loop structure (either **for** or **while**) draw a Christmas tree with a base of 5 stars using asterisks(*). The output should look like this:\n",
    "\n",
    "```{figure} ../images/2_control_flow/christmas_tree.jpg\n",
    ":alt: christmas_tree_illustration\n",
    ":name: ch-t-pseudo\n",
    ":class: ch3\n",
    ":align: center\n",
    "```"
   ]
  },
  {
   "cell_type": "code",
   "execution_count": 43,
   "metadata": {},
   "outputs": [
    {
     "name": "stdout",
     "output_type": "stream",
     "text": [
      "    * \n",
      "   * * \n",
      "  * * * \n",
      " * * * * \n",
      "* * * * * \n"
     ]
    }
   ],
   "source": [
    "# Answer\n",
    "length = 5\n",
    "for i in range(0,length):\n",
    "    for j in range(0,(i+length)):\n",
    "        if j>=(length-(i+1)):\n",
    "            if (j%2==0 and i%2==0) or (j%2==1 and i%2==1):\n",
    "                print('*', end='')\n",
    "            else:\n",
    "                print(' ', end='')\n",
    "        else:\n",
    "            print(' ', end='')\n",
    "    print(' ')"
   ]
  }
 ],
 "metadata": {
  "kernelspec": {
   "display_name": "python-jb",
   "language": "python",
   "name": "python3"
  },
  "language_info": {
   "codemirror_mode": {
    "name": "ipython",
    "version": 3
   },
   "file_extension": ".py",
   "mimetype": "text/x-python",
   "name": "python",
   "nbconvert_exporter": "python",
   "pygments_lexer": "ipython3",
   "version": "3.7.13 (default, Oct 19 2022, 10:19:43) [MSC v.1916 64 bit (AMD64)]"
  },
  "orig_nbformat": 4,
  "vscode": {
   "interpreter": {
    "hash": "0c2f5c4fba51b93f19e499abfcc9ef4d6fee5bb503e49077d95162365c0a0cb3"
   }
  }
 },
 "nbformat": 4,
 "nbformat_minor": 2
}
