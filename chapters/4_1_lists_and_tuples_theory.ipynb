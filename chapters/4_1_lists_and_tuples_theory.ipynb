{
 "cells": [
  {
   "attachments": {},
   "cell_type": "markdown",
   "metadata": {},
   "source": [
    "# Readings"
   ]
  },
  {
   "attachments": {},
   "cell_type": "markdown",
   "metadata": {},
   "source": [
    "In {ref}`Chapter 3 <ch3-nested-loops-label>`, we first faced the need of encapsulating many values in the same variable when introducing the `fermented_food` and `fermented_drinks` variables that had a *collection* of values. Both variables were examples of **lists**."
   ]
  },
  {
   "attachments": {},
   "cell_type": "markdown",
   "metadata": {},
   "source": [
    "## Lists"
   ]
  },
  {
   "attachments": {},
   "cell_type": "markdown",
   "metadata": {},
   "source": [
    "The syntax of declaring a list is:\n",
    "\n",
    "```python\n",
    "list = [item1, item2, item3,....]\n",
    "```\n",
    "So, anything enclosed in square brackets `[]` and separated by `,` will be a list. With the above piece of code you create a list and assign it to the `list` variable. Some examples of lists would be:"
   ]
  },
  {
   "cell_type": "code",
   "execution_count": 52,
   "metadata": {},
   "outputs": [],
   "source": [
    "natural_numbers = [1, 2, 3, 4, 5]\n",
    "rational_numbers = [1.1, 2.5, 3.4]\n",
    "letters = ['p', 'y', 't', 'h', 'o', 'n']\n",
    "booleans = [True, False, False, False, True]"
   ]
  },
  {
   "attachments": {},
   "cell_type": "markdown",
   "metadata": {},
   "source": [
    "The lists in the examples above contain the same data types, which means that they are *homogenous*. However, in Python it is possible that a list can contain different data types. These lists are called *heterogenous*. For example:"
   ]
  },
  {
   "cell_type": "code",
   "execution_count": 53,
   "metadata": {},
   "outputs": [],
   "source": [
    "mixed_list = [1, 'p', 1.1, True]"
   ]
  },
  {
   "attachments": {},
   "cell_type": "markdown",
   "metadata": {},
   "source": [
    "Just like in previous chapters, we can use the `print()` function to print a list:"
   ]
  },
  {
   "cell_type": "code",
   "execution_count": 54,
   "metadata": {},
   "outputs": [
    {
     "name": "stdout",
     "output_type": "stream",
     "text": [
      "[1, 2, 3, 4, 5]\n"
     ]
    }
   ],
   "source": [
    "print(natural_numbers)"
   ]
  },
  {
   "attachments": {},
   "cell_type": "markdown",
   "metadata": {},
   "source": [
    "### Number of elements in a list"
   ]
  },
  {
   "attachments": {},
   "cell_type": "markdown",
   "metadata": {},
   "source": [
    "In most of the cases we do not know how many elements are there in a  list. It is possible that during the execution of the program the number of elements in a list will change, e.g we add/remove elements to/from a list, list created from user inputs, etc. In these situations, if we would like to iterate over the elements of a list, it would be impossible to hard-code the number of iterations like we did so far in the previous chapters. That's why the `len()` function is very useful. It gets as argument a list and outputs the length of the list, in other words: the number of elements that the list has. For example:"
   ]
  },
  {
   "cell_type": "code",
   "execution_count": 55,
   "metadata": {},
   "outputs": [
    {
     "data": {
      "text/plain": [
       "4"
      ]
     },
     "execution_count": 55,
     "metadata": {},
     "output_type": "execute_result"
    }
   ],
   "source": [
    "len(mixed_list)"
   ]
  },
  {
   "attachments": {},
   "cell_type": "markdown",
   "metadata": {},
   "source": [
    "### Accessing elements of the list"
   ]
  },
  {
   "attachments": {},
   "cell_type": "markdown",
   "metadata": {},
   "source": [
    "Lists in Python are 0-based index. This means that the first element is at position 0, the second element at position 1 and so on. {numref}`indexing` illustrates this idea.\n",
    "\n",
    "```{figure} ../images/4_lists_and_tuples/indexing.jpg\n",
    ":alt: indexing_illustration\n",
    ":name: indexing\n",
    ":class: ch5\n",
    ":align: center\n",
    "\n",
    "Indexing in Python\n",
    "```"
   ]
  },
  {
   "attachments": {},
   "cell_type": "markdown",
   "metadata": {},
   "source": [
    "```{hint}\n",
    "Since Python is 0-based index this means that in a list with `n` elements, the last element will be in position `n-1`.\n",
    "```"
   ]
  },
  {
   "attachments": {},
   "cell_type": "markdown",
   "metadata": {},
   "source": [
    "````{margin}\n",
    "```{important}\n",
    "The indexes of list elements have to be **integers** or **expressions that evaluate to integers**.\n",
    "```\n",
    "````\n",
    "In order to access element `t` in the `letters` list, in the examples above we would write:"
   ]
  },
  {
   "cell_type": "code",
   "execution_count": 56,
   "metadata": {},
   "outputs": [
    {
     "data": {
      "text/plain": [
       "'t'"
      ]
     },
     "execution_count": 56,
     "metadata": {},
     "output_type": "execute_result"
    }
   ],
   "source": [
    "letters[2]"
   ]
  },
  {
   "attachments": {},
   "cell_type": "markdown",
   "metadata": {},
   "source": [
    "Although character `t` is the third element in the list, in order to access it we should use index `2` since lists are 0-index based."
   ]
  },
  {
   "attachments": {},
   "cell_type": "markdown",
   "metadata": {},
   "source": [
    "In Python we can access elements of a list using negative indexes, also. In this setting, the last element of the list is at position -1, the second from the last is at position -2 and so on. {numref}`indexing-neg` illustrates the idea:\n",
    "\n",
    "```{figure} ../images/4_lists_and_tuples/negative_indexing.jpg\n",
    ":alt: neg_indexing_illustration\n",
    ":name: indexing-neg\n",
    ":class: ch5\n",
    ":align: center\n",
    "\n",
    "Negative Indexing in Python\n",
    "```"
   ]
  },
  {
   "cell_type": "code",
   "execution_count": 57,
   "metadata": {},
   "outputs": [
    {
     "data": {
      "text/plain": [
       "'t'"
      ]
     },
     "execution_count": 57,
     "metadata": {},
     "output_type": "execute_result"
    }
   ],
   "source": [
    "letters[-4] #accessing element 't'"
   ]
  },
  {
   "attachments": {},
   "cell_type": "markdown",
   "metadata": {},
   "source": [
    "```{caution}\n",
    "If we try to access an element at a position that does not exist then we will get an `IndexError`. E.g: in the letters list above if we try to access element at position 9 or -8 then we will get an `IndexError` since the letters list does not contain 10 or 8 elements respectively.\n",
    "```"
   ]
  },
  {
   "cell_type": "code",
   "execution_count": 58,
   "metadata": {},
   "outputs": [
    {
     "ename": "IndexError",
     "evalue": "list index out of range",
     "output_type": "error",
     "traceback": [
      "\u001b[1;31m---------------------------------------------------------------------------\u001b[0m",
      "\u001b[1;31mIndexError\u001b[0m                                Traceback (most recent call last)",
      "\u001b[1;32m~\\AppData\\Local\\Temp\\ipykernel_17708\\2791037319.py\u001b[0m in \u001b[0;36m<module>\u001b[1;34m\u001b[0m\n\u001b[1;32m----> 1\u001b[1;33m \u001b[0mletters\u001b[0m\u001b[1;33m[\u001b[0m\u001b[1;36m9\u001b[0m\u001b[1;33m]\u001b[0m\u001b[1;33m\u001b[0m\u001b[1;33m\u001b[0m\u001b[0m\n\u001b[0m",
      "\u001b[1;31mIndexError\u001b[0m: list index out of range"
     ]
    }
   ],
   "source": [
    "letters[9]"
   ]
  },
  {
   "attachments": {},
   "cell_type": "markdown",
   "metadata": {},
   "source": [
    "We can use indices in a loop to access elements of a list as well, justs we had done in {ref}`Nested Loops in Chapter 3 <ch3-nested-loops-label>`. For example to print each element of the `letters` list we would do:"
   ]
  },
  {
   "cell_type": "code",
   "execution_count": 69,
   "metadata": {},
   "outputs": [
    {
     "name": "stdout",
     "output_type": "stream",
     "text": [
      "p y t h o n "
     ]
    }
   ],
   "source": [
    "for i in range(0, len(letters)):\n",
    "    print(letters[i], end=' ')"
   ]
  },
  {
   "attachments": {},
   "cell_type": "markdown",
   "metadata": {},
   "source": [
    "```{important}\n",
    "Here we used function `len(letters)` to determine the number of elements of the `letters` list inside the range function. So the range function will produce the sequence of numbers `{0, 1, 2,...,len(letters)-1}` that corresponds with the indices needed to access the elements of the list. Thus we do not need to hardcode the number of elements that a list will have since we can access it via the `len()` function, as explained in the precious section as well.\n",
    "```"
   ]
  },
  {
   "attachments": {},
   "cell_type": "markdown",
   "metadata": {},
   "source": [
    "### Adding/Removing elements from a list"
   ]
  },
  {
   "attachments": {},
   "cell_type": "markdown",
   "metadata": {},
   "source": [
    "Lists are **mutable** data-types. This means that we can modify a list and its objects by adding, deleting or modifying certain list elements.\n",
    "In order to modify a list element we access it using its index and then we set it to the new value. For example, suppose we want to change the second element of the `natural_numbers` list from `2` to `10`. Then we would write:"
   ]
  },
  {
   "attachments": {},
   "cell_type": "markdown",
   "metadata": {},
   "source": [
    "#### Modifying elements of a list"
   ]
  },
  {
   "cell_type": "code",
   "execution_count": 59,
   "metadata": {},
   "outputs": [
    {
     "name": "stdout",
     "output_type": "stream",
     "text": [
      "List of natural numbers before changes: [1, 2, 3, 4, 5]\n",
      "List of natural numbers after changes: [1, 10, 3, 4, 5]\n"
     ]
    }
   ],
   "source": [
    "print('List of natural numbers before changes:', natural_numbers)\n",
    "natural_numbers[1] = 10\n",
    "print('List of natural numbers after changes:', natural_numbers)"
   ]
  },
  {
   "attachments": {},
   "cell_type": "markdown",
   "metadata": {},
   "source": [
    "#### Adding elements to a list"
   ]
  },
  {
   "attachments": {},
   "cell_type": "markdown",
   "metadata": {},
   "source": [
    "````{margin}\n",
    "```{admonition} Ways to add elements to a list\n",
    "We can use the `+=` operator or the methods: `append()`, `insert(position, element)`, `extend()`.\n",
    "```\n",
    "````"
   ]
  },
  {
   "attachments": {},
   "cell_type": "markdown",
   "metadata": {},
   "source": [
    "In order to add elements to a list we can use the `+=` operator. We can add a single value or many values in the form of iterable (list, tuple, etc).\n",
    "````{margin}\n",
    "```{note}\n",
    "The `+=` operator is equivalent to writing `natural_numbers = natural_numbers + [20]`. It is a shorthand notation for addition.\n",
    "```\n",
    "````"
   ]
  },
  {
   "cell_type": "code",
   "execution_count": 60,
   "metadata": {},
   "outputs": [
    {
     "name": "stdout",
     "output_type": "stream",
     "text": [
      "[1, 10, 3, 4, 5, 20]\n",
      "[1, 10, 3, 4, 5, 20, 30, 40]\n"
     ]
    }
   ],
   "source": [
    "natural_numbers += [20]\n",
    "print(natural_numbers)\n",
    "natural_numbers += [30, 40]\n",
    "print(natural_numbers)"
   ]
  },
  {
   "attachments": {},
   "cell_type": "markdown",
   "metadata": {},
   "source": [
    "```{caution}\n",
    "Be careful if you try to add a single value to a list using the `+=` operator. It will raise a `TypeError` since a single value is not an **iterable** (collection of values).\n",
    "```"
   ]
  },
  {
   "cell_type": "code",
   "execution_count": 61,
   "metadata": {},
   "outputs": [
    {
     "ename": "TypeError",
     "evalue": "'int' object is not iterable",
     "output_type": "error",
     "traceback": [
      "\u001b[1;31m---------------------------------------------------------------------------\u001b[0m",
      "\u001b[1;31mTypeError\u001b[0m                                 Traceback (most recent call last)",
      "\u001b[1;32m~\\AppData\\Local\\Temp\\ipykernel_17708\\2418135379.py\u001b[0m in \u001b[0;36m<module>\u001b[1;34m\u001b[0m\n\u001b[1;32m----> 1\u001b[1;33m \u001b[0mnatural_numbers\u001b[0m \u001b[1;33m+=\u001b[0m \u001b[1;36m20\u001b[0m\u001b[1;33m\u001b[0m\u001b[1;33m\u001b[0m\u001b[0m\n\u001b[0m",
      "\u001b[1;31mTypeError\u001b[0m: 'int' object is not iterable"
     ]
    }
   ],
   "source": [
    "natural_numbers += 20"
   ]
  },
  {
   "attachments": {},
   "cell_type": "markdown",
   "metadata": {},
   "source": [
    "There are other ways to add elements to a list, using different built-in methods."
   ]
  },
  {
   "attachments": {},
   "cell_type": "markdown",
   "metadata": {},
   "source": [
    "We can use the `append()` method to add a single element to a list.\n",
    "````{margin}\n",
    "```{note}\n",
    "We introduced methods in the {ref}`optional section of methods in Chapter 4 <ch4-methods-label>`. All function that we use in this part are *methods* because we call them using an object which is a list. E.g `rational_number.append(4.7)`.\n",
    "```\n",
    "````"
   ]
  },
  {
   "cell_type": "code",
   "execution_count": 62,
   "metadata": {},
   "outputs": [
    {
     "name": "stdout",
     "output_type": "stream",
     "text": [
      "[1.1, 2.5, 3.4, 4.7]\n"
     ]
    }
   ],
   "source": [
    "rational_numbers.append(4.7)\n",
    "print(rational_numbers)"
   ]
  },
  {
   "attachments": {},
   "cell_type": "markdown",
   "metadata": {},
   "source": [
    "We can use the `insert()` method to add an element to a list ata a specific position. Its syntax is: \n",
    "```python\n",
    "list_name.insert(position, element)\n",
    "```"
   ]
  },
  {
   "cell_type": "code",
   "execution_count": 63,
   "metadata": {},
   "outputs": [
    {
     "name": "stdout",
     "output_type": "stream",
     "text": [
      "natural_numbers before adding 50: [1, 10, 3, 4, 5, 20, 30, 40]\n",
      "natural_numbers after adding 50: [1, 10, 3, 50, 4, 5, 20, 30, 40]\n"
     ]
    }
   ],
   "source": [
    "print('natural_numbers before adding 50:', natural_numbers)\n",
    "natural_numbers.insert(3, 50)\n",
    "print('natural_numbers after adding 50:', natural_numbers)"
   ]
  },
  {
   "attachments": {},
   "cell_type": "markdown",
   "metadata": {},
   "source": [
    "In order to add elements of any type of collection (tuples, sets and dictionaries) to a list we can use the `extend()` method as well. The syntax is:\n",
    "```python\n",
    "list_name.extend(collection_to_be_added)\n",
    "```"
   ]
  },
  {
   "attachments": {},
   "cell_type": "markdown",
   "metadata": {},
   "source": [
    "````{margin}\n",
    "```{important}\n",
    "The `natural_numbers` modified list will be appended to the `rational_numbers`.\n",
    "```\n",
    "````"
   ]
  },
  {
   "cell_type": "code",
   "execution_count": 64,
   "metadata": {},
   "outputs": [
    {
     "name": "stdout",
     "output_type": "stream",
     "text": [
      "rational_numbers before extending to natural_numbers: [1.1, 2.5, 3.4, 4.7]\n",
      "rational_numbers after extending to natural_numbers: [1.1, 2.5, 3.4, 4.7, 1, 10, 3, 50, 4, 5, 20, 30, 40]\n"
     ]
    }
   ],
   "source": [
    "print('rational_numbers before extending to natural_numbers:', rational_numbers)\n",
    "rational_numbers.extend(natural_numbers)\n",
    "print('rational_numbers after extending to natural_numbers:', rational_numbers)"
   ]
  },
  {
   "attachments": {},
   "cell_type": "markdown",
   "metadata": {},
   "source": [
    "#### Removing elements from a list"
   ]
  },
  {
   "attachments": {},
   "cell_type": "markdown",
   "metadata": {},
   "source": [
    "````{margin}\n",
    "```{admonition} Ways to remove elements from a list\n",
    "We can use the methods: `remove(element)`, `pop(position)`, `pop()`.\n",
    "```\n",
    "````"
   ]
  },
  {
   "attachments": {},
   "cell_type": "markdown",
   "metadata": {},
   "source": [
    "There are two methods to remove elements from a list: `remove()` and `pop()`. The `remove()` method allows us to specify an element of the list to remove."
   ]
  },
  {
   "cell_type": "code",
   "execution_count": 65,
   "metadata": {},
   "outputs": [
    {
     "name": "stdout",
     "output_type": "stream",
     "text": [
      "natural_numbers before removing 50: [1, 10, 3, 50, 4, 5, 20, 30, 40]\n",
      "natural_numbers after removing 50: [1, 10, 3, 4, 5, 20, 30, 40]\n"
     ]
    }
   ],
   "source": [
    "print('natural_numbers before removing 50:', natural_numbers)\n",
    "natural_numbers.remove(50)\n",
    "print('natural_numbers after removing 50:', natural_numbers)"
   ]
  },
  {
   "attachments": {},
   "cell_type": "markdown",
   "metadata": {},
   "source": [
    "The `pop()` method has two versions: one without any arguments and one with one argument. If we call `pop()` without any arguments then then it will remove the last element from the list. If we call `pop(index)` it will remove the item at position `index`."
   ]
  },
  {
   "cell_type": "code",
   "execution_count": 66,
   "metadata": {},
   "outputs": [
    {
     "name": "stdout",
     "output_type": "stream",
     "text": [
      "natural_numbers before removing last element: [1, 10, 3, 4, 5, 20, 30, 40]\n",
      "natural_numbers after removing last element: [1, 10, 3, 4, 5, 20, 30]\n"
     ]
    }
   ],
   "source": [
    "print('natural_numbers before removing last element:', natural_numbers)\n",
    "natural_numbers.pop()\n",
    "print('natural_numbers after removing last element:', natural_numbers)"
   ]
  },
  {
   "cell_type": "code",
   "execution_count": 67,
   "metadata": {},
   "outputs": [
    {
     "name": "stdout",
     "output_type": "stream",
     "text": [
      "natural_numbers before removing element at position 4: [1, 10, 3, 4, 5, 20, 30]\n",
      "natural_numbers after removing element at position 4: [1, 10, 3, 4, 20, 30]\n"
     ]
    }
   ],
   "source": [
    "print('natural_numbers before removing element at position 4:', natural_numbers)\n",
    "natural_numbers.pop(4)\n",
    "print('natural_numbers after removing element at position 4:', natural_numbers)"
   ]
  },
  {
   "attachments": {},
   "cell_type": "markdown",
   "metadata": {},
   "source": [
    "### Comparing lists"
   ]
  },
  {
   "attachments": {},
   "cell_type": "markdown",
   "metadata": {},
   "source": [
    "In python you can compare lists element-wise by using the {ref}`comparison operators we introduce in Chapter 2 <comp-op-ch2-label>`. Two lists are said to  be equal if and only if they have the same number of elements and the elements at each position are equal as well. For example:"
   ]
  },
  {
   "cell_type": "code",
   "execution_count": 72,
   "metadata": {},
   "outputs": [
    {
     "name": "stdout",
     "output_type": "stream",
     "text": [
      "List 1 == List 3 True\n",
      "List 1 == List 2 False\n"
     ]
    }
   ],
   "source": [
    "list_1 = [1,2,3]\n",
    "list_2 = [2,1,3]\n",
    "list_3 = [1,2,3]\n",
    "print('List 1 == List 3:',list_1 == list_3)\n",
    "print('List 1 == List 2:',list_1 == list_2)"
   ]
  },
  {
   "attachments": {},
   "cell_type": "markdown",
   "metadata": {},
   "source": [
    "Also, `list_1` is greater than `list_2` if there exists a position in `list_1` that is larger than the corresponding position in `list_2`, no matter how many elements the lists have. However, if `list_1` has `n` elements and `list_2` have `m` elements and `n<m` and the first `n` elements in both lists are the same, then `list_2` will be greater than `list_1` since it contains more elements. For example:"
   ]
  },
  {
   "cell_type": "code",
   "execution_count": 81,
   "metadata": {},
   "outputs": [
    {
     "name": "stdout",
     "output_type": "stream",
     "text": [
      "list_1 > list_4: False\n"
     ]
    }
   ],
   "source": [
    "list_4 = [4,5] # list_4 is greater than list_1\n",
    "print('list_1 > list_4:',list_1 > list_4)"
   ]
  },
  {
   "cell_type": "code",
   "execution_count": 80,
   "metadata": {},
   "outputs": [
    {
     "name": "stdout",
     "output_type": "stream",
     "text": [
      "list_1 > list_4: False\n"
     ]
    }
   ],
   "source": [
    "list_5 = [1, 2, 3, 1, 1] # list_5 is greater than list_1\n",
    "print('list_1 > list_5:',list_1 > list_5)"
   ]
  },
  {
   "attachments": {},
   "cell_type": "markdown",
   "metadata": {},
   "source": [
    "## Tuples"
   ]
  },
  {
   "attachments": {},
   "cell_type": "markdown",
   "metadata": {},
   "source": [
    "## Unpacking sequences of variables"
   ]
  },
  {
   "attachments": {},
   "cell_type": "markdown",
   "metadata": {},
   "source": [
    "## Slicing"
   ]
  },
  {
   "attachments": {},
   "cell_type": "markdown",
   "metadata": {},
   "source": [
    "## **del** statement"
   ]
  },
  {
   "attachments": {},
   "cell_type": "markdown",
   "metadata": {},
   "source": [
    "## Passing lists to functions"
   ]
  },
  {
   "attachments": {},
   "cell_type": "markdown",
   "metadata": {},
   "source": [
    "## List comprehensions"
   ]
  },
  {
   "attachments": {},
   "cell_type": "markdown",
   "metadata": {},
   "source": [
    "## Sorting lists"
   ]
  },
  {
   "attachments": {},
   "cell_type": "markdown",
   "metadata": {},
   "source": [
    "## Searching lists"
   ]
  },
  {
   "attachments": {},
   "cell_type": "markdown",
   "metadata": {},
   "source": [
    "## Fliter, Map, Reduce???"
   ]
  },
  {
   "attachments": {},
   "cell_type": "markdown",
   "metadata": {},
   "source": [
    "## 2D lists"
   ]
  }
 ],
 "metadata": {
  "kernelspec": {
   "display_name": "python-jb",
   "language": "python",
   "name": "python3"
  },
  "language_info": {
   "codemirror_mode": {
    "name": "ipython",
    "version": 3
   },
   "file_extension": ".py",
   "mimetype": "text/x-python",
   "name": "python",
   "nbconvert_exporter": "python",
   "pygments_lexer": "ipython3",
   "version": "3.7.13"
  },
  "orig_nbformat": 4,
  "vscode": {
   "interpreter": {
    "hash": "0c2f5c4fba51b93f19e499abfcc9ef4d6fee5bb503e49077d95162365c0a0cb3"
   }
  }
 },
 "nbformat": 4,
 "nbformat_minor": 2
}
