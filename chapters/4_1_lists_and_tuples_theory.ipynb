{
 "cells": [
  {
   "attachments": {},
   "cell_type": "markdown",
   "metadata": {},
   "source": [
    "# Readings"
   ]
  },
  {
   "attachments": {},
   "cell_type": "markdown",
   "metadata": {},
   "source": [
    "In {ref}`Chapter 3 <ch3-nested-loops-label>`, we first faced the need of encapsulating many values in the same variable when introducing the `fermented_food` and `fermented_drinks` variables that had a *collection* of values. Both variables were examples of **lists**."
   ]
  },
  {
   "attachments": {},
   "cell_type": "markdown",
   "metadata": {},
   "source": [
    "## Lists"
   ]
  },
  {
   "attachments": {},
   "cell_type": "markdown",
   "metadata": {},
   "source": [
    "The syntax of declaring a list is:\n",
    "\n",
    "```python\n",
    "list = [item1, item2, item3,....]\n",
    "```\n",
    "So, anything enclosed in square brackets `[]` and separated by `,` will be a list. With the above piece of code you create a list and assign it to the `list` variable. Some examples of lists would be:"
   ]
  },
  {
   "cell_type": "code",
   "execution_count": 1,
   "metadata": {},
   "outputs": [],
   "source": [
    "natural_numbers = [1, 2, 3, 4, 5]\n",
    "rational_numbers = [1.1, 2.5, 3.4]\n",
    "letters = ['p', 'y', 't', 'h', 'o', 'n']\n",
    "booleans = [True, False, False, False, True]"
   ]
  },
  {
   "attachments": {},
   "cell_type": "markdown",
   "metadata": {},
   "source": [
    "The lists in the examples above contain the same data types, which means that they are *homogenous*. However, in Python it is possible that a list can contain different data types. These lists are called *heterogenous*. For example:"
   ]
  },
  {
   "cell_type": "code",
   "execution_count": 2,
   "metadata": {},
   "outputs": [],
   "source": [
    "mixed_list = [1, 'p', 1.1, True]"
   ]
  },
  {
   "attachments": {},
   "cell_type": "markdown",
   "metadata": {},
   "source": [
    "Just like in previous chapters, we can use the `print()` function to print a list:"
   ]
  },
  {
   "cell_type": "code",
   "execution_count": 3,
   "metadata": {},
   "outputs": [
    {
     "name": "stdout",
     "output_type": "stream",
     "text": [
      "[1, 2, 3, 4, 5]\n"
     ]
    }
   ],
   "source": [
    "print(natural_numbers)"
   ]
  },
  {
   "attachments": {},
   "cell_type": "markdown",
   "metadata": {},
   "source": [
    "### Number of elements in a list"
   ]
  },
  {
   "attachments": {},
   "cell_type": "markdown",
   "metadata": {},
   "source": [
    "In most of the cases we do not know how many elements are there in a  list. It is possible that during the execution of the program the number of elements in a list will change, e.g we add/remove elements to/from a list, list created from user inputs, etc. In these situations, if we would like to iterate over the elements of a list, it would be impossible to hard-code the number of iterations like we did so far in the previous chapters. That's why the `len()` function is very useful. It gets as argument a list and outputs the length of the list, in other words: the number of elements that the list has. For example:"
   ]
  },
  {
   "cell_type": "code",
   "execution_count": 4,
   "metadata": {},
   "outputs": [
    {
     "data": {
      "text/plain": [
       "4"
      ]
     },
     "execution_count": 4,
     "metadata": {},
     "output_type": "execute_result"
    }
   ],
   "source": [
    "len(mixed_list)"
   ]
  },
  {
   "attachments": {},
   "cell_type": "markdown",
   "metadata": {},
   "source": [
    "(ch4-access-lists-label)=\n",
    "### Accessing elements of the list"
   ]
  },
  {
   "attachments": {},
   "cell_type": "markdown",
   "metadata": {},
   "source": [
    "Lists in Python are 0-based index. This means that the first element is at position 0, the second element at position 1 and so on. {numref}`indexing` illustrates this idea.\n",
    "\n",
    "```{figure} ../images/4_lists_and_tuples/indexing.jpg\n",
    ":alt: indexing_illustration\n",
    ":name: indexing\n",
    ":class: ch5\n",
    ":align: center\n",
    "\n",
    "Indexing in Python\n",
    "```"
   ]
  },
  {
   "attachments": {},
   "cell_type": "markdown",
   "metadata": {},
   "source": [
    "```{hint}\n",
    "Since Python is 0-based index this means that in a list with `n` elements, the last element will be in position `n-1`.\n",
    "```"
   ]
  },
  {
   "attachments": {},
   "cell_type": "markdown",
   "metadata": {},
   "source": [
    "````{margin}\n",
    "```{important}\n",
    "The indexes of list elements have to be **integers** or **expressions that evaluate to integers**.\n",
    "```\n",
    "````\n",
    "In order to access element `t` in the `letters` list, in the examples above we would write:"
   ]
  },
  {
   "cell_type": "code",
   "execution_count": 5,
   "metadata": {},
   "outputs": [
    {
     "data": {
      "text/plain": [
       "'t'"
      ]
     },
     "execution_count": 5,
     "metadata": {},
     "output_type": "execute_result"
    }
   ],
   "source": [
    "letters[2]"
   ]
  },
  {
   "attachments": {},
   "cell_type": "markdown",
   "metadata": {},
   "source": [
    "Although character `t` is the third element in the list, in order to access it we should use index `2` since lists are 0-index based."
   ]
  },
  {
   "attachments": {},
   "cell_type": "markdown",
   "metadata": {},
   "source": [
    "In Python we can access elements of a list using negative indexes, also. In this setting, the last element of the list is at position -1, the second from the last is at position -2 and so on. {numref}`indexing-neg` illustrates the idea:\n",
    "\n",
    "```{figure} ../images/4_lists_and_tuples/negative_indexing.jpg\n",
    ":alt: neg_indexing_illustration\n",
    ":name: indexing-neg\n",
    ":class: ch5\n",
    ":align: center\n",
    "\n",
    "Negative Indexing in Python\n",
    "```"
   ]
  },
  {
   "cell_type": "code",
   "execution_count": 6,
   "metadata": {},
   "outputs": [
    {
     "data": {
      "text/plain": [
       "'t'"
      ]
     },
     "execution_count": 6,
     "metadata": {},
     "output_type": "execute_result"
    }
   ],
   "source": [
    "letters[-4] #accessing element 't'"
   ]
  },
  {
   "attachments": {},
   "cell_type": "markdown",
   "metadata": {},
   "source": [
    "```{caution}\n",
    "If we try to access an element at a position that does not exist then we will get an `IndexError`. E.g: in the letters list above if we try to access element at position 9 or -8 then we will get an `IndexError` since the letters list does not contain 10 or 8 elements respectively.\n",
    "```"
   ]
  },
  {
   "cell_type": "code",
   "execution_count": 7,
   "metadata": {},
   "outputs": [
    {
     "ename": "IndexError",
     "evalue": "list index out of range",
     "output_type": "error",
     "traceback": [
      "\u001b[1;31m---------------------------------------------------------------------------\u001b[0m",
      "\u001b[1;31mIndexError\u001b[0m                                Traceback (most recent call last)",
      "\u001b[1;32m~\\AppData\\Local\\Temp\\ipykernel_9824\\2791037319.py\u001b[0m in \u001b[0;36m<module>\u001b[1;34m\u001b[0m\n\u001b[1;32m----> 1\u001b[1;33m \u001b[0mletters\u001b[0m\u001b[1;33m[\u001b[0m\u001b[1;36m9\u001b[0m\u001b[1;33m]\u001b[0m\u001b[1;33m\u001b[0m\u001b[1;33m\u001b[0m\u001b[0m\n\u001b[0m",
      "\u001b[1;31mIndexError\u001b[0m: list index out of range"
     ]
    }
   ],
   "source": [
    "letters[9]"
   ]
  },
  {
   "attachments": {},
   "cell_type": "markdown",
   "metadata": {},
   "source": [
    "We can use indices in a loop to access elements of a list as well, justs we had done in {ref}`Nested Loops in Chapter 3 <ch3-nested-loops-label>`. For example to print each element of the `letters` list using a `for` loop we would do:"
   ]
  },
  {
   "cell_type": "code",
   "execution_count": 8,
   "metadata": {},
   "outputs": [
    {
     "name": "stdout",
     "output_type": "stream",
     "text": [
      "p y t h o n "
     ]
    }
   ],
   "source": [
    "for i in range(0, len(letters)):\n",
    "    print(letters[i], end=' ')"
   ]
  },
  {
   "attachments": {},
   "cell_type": "markdown",
   "metadata": {},
   "source": [
    "Similarly, using a `while` loop we could write:"
   ]
  },
  {
   "cell_type": "code",
   "execution_count": 9,
   "metadata": {},
   "outputs": [
    {
     "name": "stdout",
     "output_type": "stream",
     "text": [
      "p y t h o n "
     ]
    }
   ],
   "source": [
    "j = 0\n",
    "while j < len(letters):\n",
    "    print(letters[j], end=' ')\n",
    "    j+=1"
   ]
  },
  {
   "attachments": {},
   "cell_type": "markdown",
   "metadata": {},
   "source": [
    "```{important}\n",
    "Here we used function `len(letters)` to determine the number of elements of the `letters` list inside the range function. So the range function will produce the sequence of numbers `{0, 1, 2,..., len(letters)-1}` that corresponds with the indices needed to access the elements of the list. Thus we do not need to hardcode the number of elements that a list will have since we can access it via the `len()` function, as explained in the precious section as well.\n",
    "```"
   ]
  },
  {
   "attachments": {},
   "cell_type": "markdown",
   "metadata": {},
   "source": [
    "While, if we want to select a range of values in a list, in the square brackets we would put a range:\n",
    "```python\n",
    "list_name[start_pos:end_pos]\n",
    "```\n",
    ", where `end_pos` is non-inclusive. This is called **slicing**."
   ]
  },
  {
   "cell_type": "code",
   "execution_count": 10,
   "metadata": {},
   "outputs": [
    {
     "data": {
      "text/plain": [
       "['y', 't', 'h']"
      ]
     },
     "execution_count": 10,
     "metadata": {},
     "output_type": "execute_result"
    }
   ],
   "source": [
    "letters[1:4] #printing letters of positions 1,2,3"
   ]
  },
  {
   "attachments": {},
   "cell_type": "markdown",
   "metadata": {},
   "source": [
    "There are also variations of range selection in lists. For example, if we write:\n",
    " - `list_name(start_pos: )` - this will select all elements from `start_pos` until the end of the list.\n",
    " - `list_name( :end_pos)` - this will select all elements from the beginning until the `end_pos` non-inclusive.\n",
    " - `list_name( : )` - this will select all elements of the list."
   ]
  },
  {
   "attachments": {},
   "cell_type": "markdown",
   "metadata": {},
   "source": [
    "### Adding/Removing elements to/from a list"
   ]
  },
  {
   "attachments": {},
   "cell_type": "markdown",
   "metadata": {},
   "source": [
    "Lists are **mutable** data-types. This means that we can modify a list and its objects by adding, deleting or modifying certain list elements.\n",
    "In order to modify a list element we access it using its index and then we set it to the new value. For example, suppose we want to change the second element of the `natural_numbers` list from `2` to `10`. Then we would write:"
   ]
  },
  {
   "attachments": {},
   "cell_type": "markdown",
   "metadata": {},
   "source": [
    "#### Modifying elements of a list"
   ]
  },
  {
   "cell_type": "code",
   "execution_count": 53,
   "metadata": {},
   "outputs": [
    {
     "name": "stdout",
     "output_type": "stream",
     "text": [
      "List of natural numbers before changes: [1, 2, 3, 4, 5]\n",
      "List of natural numbers after changes: [1, 10, 3, 4, 5]\n"
     ]
    }
   ],
   "source": [
    "print('List of natural numbers before changes:', natural_numbers)\n",
    "natural_numbers[1] = 10\n",
    "print('List of natural numbers after changes:', natural_numbers)"
   ]
  },
  {
   "attachments": {},
   "cell_type": "markdown",
   "metadata": {},
   "source": [
    "#### Adding elements to a list"
   ]
  },
  {
   "attachments": {},
   "cell_type": "markdown",
   "metadata": {},
   "source": [
    "````{margin}\n",
    "```{admonition} Ways to add elements to a list\n",
    "We can use the `+=` operator or the methods: `append()`, `insert(position, element)`, `extend()`.\n",
    "```\n",
    "````"
   ]
  },
  {
   "attachments": {},
   "cell_type": "markdown",
   "metadata": {},
   "source": [
    "In order to add elements to a list we can use the `+=` operator. We can add a single value or many values in the form of iterable (list, tuple, etc).\n",
    "````{margin}\n",
    "```{note}\n",
    "The `+=` operator is equivalent to writing `natural_numbers = natural_numbers + [20]`. It is a shorthand notation for addition.\n",
    "```\n",
    "````"
   ]
  },
  {
   "cell_type": "code",
   "execution_count": 54,
   "metadata": {},
   "outputs": [
    {
     "name": "stdout",
     "output_type": "stream",
     "text": [
      "[1, 10, 3, 4, 5, 20]\n",
      "[1, 10, 3, 4, 5, 20, 30, 40]\n"
     ]
    }
   ],
   "source": [
    "natural_numbers += [20]\n",
    "print(natural_numbers)\n",
    "natural_numbers += [30, 40]\n",
    "print(natural_numbers)"
   ]
  },
  {
   "attachments": {},
   "cell_type": "markdown",
   "metadata": {},
   "source": [
    "```{caution}\n",
    "Be careful if you try to add a single value to a list using the `+=` operator. It will raise a `TypeError` since a single value is not an **iterable** (collection of values).\n",
    "```"
   ]
  },
  {
   "cell_type": "code",
   "execution_count": 55,
   "metadata": {},
   "outputs": [
    {
     "ename": "TypeError",
     "evalue": "'int' object is not iterable",
     "output_type": "error",
     "traceback": [
      "\u001b[1;31m---------------------------------------------------------------------------\u001b[0m",
      "\u001b[1;31mTypeError\u001b[0m                                 Traceback (most recent call last)",
      "\u001b[1;32m~\\AppData\\Local\\Temp\\ipykernel_16436\\2418135379.py\u001b[0m in \u001b[0;36m<module>\u001b[1;34m\u001b[0m\n\u001b[1;32m----> 1\u001b[1;33m \u001b[0mnatural_numbers\u001b[0m \u001b[1;33m+=\u001b[0m \u001b[1;36m20\u001b[0m\u001b[1;33m\u001b[0m\u001b[1;33m\u001b[0m\u001b[0m\n\u001b[0m",
      "\u001b[1;31mTypeError\u001b[0m: 'int' object is not iterable"
     ]
    }
   ],
   "source": [
    "natural_numbers += 20"
   ]
  },
  {
   "attachments": {},
   "cell_type": "markdown",
   "metadata": {},
   "source": [
    "There are other ways to add elements to a list, using different built-in methods."
   ]
  },
  {
   "attachments": {},
   "cell_type": "markdown",
   "metadata": {},
   "source": [
    "We can use the `append()` method to add a single element to a list.\n",
    "````{margin}\n",
    "```{note}\n",
    "We introduced methods in the {ref}`optional section of methods in Chapter 4 <ch4-methods-label>`. All functions that we use in this part are *methods* because we call them using an object which is a list. E.g `rational_number.append(4.7)`.\n",
    "```\n",
    "````"
   ]
  },
  {
   "cell_type": "code",
   "execution_count": 56,
   "metadata": {},
   "outputs": [
    {
     "name": "stdout",
     "output_type": "stream",
     "text": [
      "[1.1, 2.5, 3.4, 4.7]\n"
     ]
    }
   ],
   "source": [
    "rational_numbers.append(4.7)\n",
    "print(rational_numbers)"
   ]
  },
  {
   "attachments": {},
   "cell_type": "markdown",
   "metadata": {},
   "source": [
    "We can use the `insert()` method to add an element to a list ata a specific position. Its syntax is: \n",
    "```python\n",
    "list_name.insert(position, element)\n",
    "```"
   ]
  },
  {
   "cell_type": "code",
   "execution_count": 57,
   "metadata": {},
   "outputs": [
    {
     "name": "stdout",
     "output_type": "stream",
     "text": [
      "natural_numbers before adding 50: [1, 10, 3, 4, 5, 20, 30, 40]\n",
      "natural_numbers after adding 50: [1, 10, 3, 50, 4, 5, 20, 30, 40]\n"
     ]
    }
   ],
   "source": [
    "print('natural_numbers before adding 50:', natural_numbers)\n",
    "natural_numbers.insert(3, 50)\n",
    "print('natural_numbers after adding 50:', natural_numbers)"
   ]
  },
  {
   "attachments": {},
   "cell_type": "markdown",
   "metadata": {},
   "source": [
    "In order to add elements of any type of collection (tuples, sets and dictionaries) to a list we can use the `extend()` method as well. The syntax is:\n",
    "```python\n",
    "list_name.extend(collection_to_be_added)\n",
    "```"
   ]
  },
  {
   "attachments": {},
   "cell_type": "markdown",
   "metadata": {},
   "source": [
    "````{margin}\n",
    "```{important}\n",
    "The `natural_numbers` modified list will be appended to the `rational_numbers`.\n",
    "```\n",
    "````"
   ]
  },
  {
   "cell_type": "code",
   "execution_count": 58,
   "metadata": {},
   "outputs": [
    {
     "name": "stdout",
     "output_type": "stream",
     "text": [
      "rational_numbers before extending to natural_numbers: [1.1, 2.5, 3.4, 4.7]\n",
      "rational_numbers after extending to natural_numbers: [1.1, 2.5, 3.4, 4.7, 1, 10, 3, 50, 4, 5, 20, 30, 40]\n"
     ]
    }
   ],
   "source": [
    "print('rational_numbers before extending to natural_numbers:', rational_numbers)\n",
    "rational_numbers.extend(natural_numbers)\n",
    "print('rational_numbers after extending to natural_numbers:', rational_numbers)"
   ]
  },
  {
   "attachments": {},
   "cell_type": "markdown",
   "metadata": {},
   "source": [
    "(ch4-remove-elements-from-list-label)=\n",
    "#### Removing elements from a list"
   ]
  },
  {
   "attachments": {},
   "cell_type": "markdown",
   "metadata": {},
   "source": [
    "````{margin}\n",
    "```{admonition} Ways to remove elements from a list\n",
    "We can use the methods: `remove(element)`, `pop(position)`, `pop()`.\n",
    "```\n",
    "````"
   ]
  },
  {
   "attachments": {},
   "cell_type": "markdown",
   "metadata": {},
   "source": [
    "There are two methods to remove elements from a list: `remove()` and `pop()`. The `remove()` method allows us to specify an element of the list to remove."
   ]
  },
  {
   "cell_type": "code",
   "execution_count": 59,
   "metadata": {},
   "outputs": [
    {
     "name": "stdout",
     "output_type": "stream",
     "text": [
      "natural_numbers before removing 50: [1, 10, 3, 50, 4, 5, 20, 30, 40]\n",
      "natural_numbers after removing 50: [1, 10, 3, 4, 5, 20, 30, 40]\n"
     ]
    }
   ],
   "source": [
    "print('natural_numbers before removing 50:', natural_numbers)\n",
    "natural_numbers.remove(50)\n",
    "print('natural_numbers after removing 50:', natural_numbers)"
   ]
  },
  {
   "attachments": {},
   "cell_type": "markdown",
   "metadata": {},
   "source": [
    "The `pop()` method has two versions: one without any arguments and one with one argument. If we call `pop()` without any arguments then then it will remove the last element from the list. If we call `pop(index)` it will remove the item at position `index`."
   ]
  },
  {
   "cell_type": "code",
   "execution_count": 60,
   "metadata": {},
   "outputs": [
    {
     "name": "stdout",
     "output_type": "stream",
     "text": [
      "natural_numbers before removing last element: [1, 10, 3, 4, 5, 20, 30, 40]\n",
      "natural_numbers after removing last element: [1, 10, 3, 4, 5, 20, 30]\n"
     ]
    }
   ],
   "source": [
    "print('natural_numbers before removing last element:', natural_numbers)\n",
    "natural_numbers.pop()\n",
    "print('natural_numbers after removing last element:', natural_numbers)"
   ]
  },
  {
   "cell_type": "code",
   "execution_count": 61,
   "metadata": {},
   "outputs": [
    {
     "name": "stdout",
     "output_type": "stream",
     "text": [
      "natural_numbers before removing element at position 4: [1, 10, 3, 4, 5, 20, 30]\n",
      "natural_numbers after removing element at position 4: [1, 10, 3, 4, 20, 30]\n"
     ]
    }
   ],
   "source": [
    "print('natural_numbers before removing element at position 4:', natural_numbers)\n",
    "natural_numbers.pop(4)\n",
    "print('natural_numbers after removing element at position 4:', natural_numbers)"
   ]
  },
  {
   "attachments": {},
   "cell_type": "markdown",
   "metadata": {},
   "source": [
    "### Comparing lists"
   ]
  },
  {
   "attachments": {},
   "cell_type": "markdown",
   "metadata": {},
   "source": [
    "In Python you can compare lists element-wise by using the {ref}`comparison operators we introduce in Chapter 2 <comp-op-ch2-label>`. Two lists are said to  be equal if and only if they have the same number of elements and the elements at each position are equal as well. For example:"
   ]
  },
  {
   "cell_type": "code",
   "execution_count": 62,
   "metadata": {},
   "outputs": [
    {
     "name": "stdout",
     "output_type": "stream",
     "text": [
      "List 1 == List 3: True\n",
      "List 1 == List 2: False\n"
     ]
    }
   ],
   "source": [
    "list_1 = [1,2,3]\n",
    "list_2 = [2,1,3]\n",
    "list_3 = [1,2,3]\n",
    "print('List 1 == List 3:',list_1 == list_3)\n",
    "print('List 1 == List 2:',list_1 == list_2)"
   ]
  },
  {
   "attachments": {},
   "cell_type": "markdown",
   "metadata": {},
   "source": [
    "Also, `list_1` is greater than `list_2` if there exists a position in `list_1` that is larger than the corresponding position in `list_2`, no matter how many elements the lists have. However, if `list_1` has `n` elements and `list_2` have `m` elements and `n<m` and the first `n` elements in both lists are the same, then `list_2` will be greater than `list_1` since it contains more elements. For example:"
   ]
  },
  {
   "cell_type": "code",
   "execution_count": 63,
   "metadata": {},
   "outputs": [
    {
     "name": "stdout",
     "output_type": "stream",
     "text": [
      "list_1 > list_4: False\n"
     ]
    }
   ],
   "source": [
    "list_4 = [4,5] # list_4 is greater than list_1\n",
    "print('list_1 > list_4:',list_1 > list_4)"
   ]
  },
  {
   "cell_type": "code",
   "execution_count": 64,
   "metadata": {},
   "outputs": [
    {
     "name": "stdout",
     "output_type": "stream",
     "text": [
      "list_1 > list_5: False\n"
     ]
    }
   ],
   "source": [
    "list_5 = [1, 2, 3, 1, 1] # list_5 is greater than list_1\n",
    "print('list_1 > list_5:',list_1 > list_5)"
   ]
  },
  {
   "attachments": {},
   "cell_type": "markdown",
   "metadata": {},
   "source": [
    "### List comprehensions"
   ]
  },
  {
   "attachments": {},
   "cell_type": "markdown",
   "metadata": {},
   "source": [
    "Another way to iterate over a list is through *list comprehensions*, otherwise shorthand *for-loops*. The syntax for *list comprehensions* is:\n",
    "\n",
    "```python\n",
    "new_list = [do something on item x for x in iterable_name (if condition==True)]\n",
    "```\n",
    "The condition is not mandatory to be included. Below we will see examples that include a *condition* part and examples that do not include a *condition* part. Also, the `iterable_name` can be any iterable (list, tuple, set, dictionary). `x` is the variable used to iterate the list, that will represent one element of the iterable per iteration, which will be modified by the `do something on item x` part and will be appended to the `new_list`.\n",
    "\n",
    "As you can  see, they provide a shorthand syntax for creating a list by modifying or filtering elements of the current list, in only one line of code."
   ]
  },
  {
   "attachments": {},
   "cell_type": "markdown",
   "metadata": {},
   "source": [
    "For example, to iterate over the elements of the `letters` list we  would write:"
   ]
  },
  {
   "cell_type": "code",
   "execution_count": 65,
   "metadata": {},
   "outputs": [
    {
     "name": "stdout",
     "output_type": "stream",
     "text": [
      "p y t h o n "
     ]
    }
   ],
   "source": [
    "[print(letter, end=' ') for letter in letters];"
   ]
  },
  {
   "attachments": {},
   "cell_type": "markdown",
   "metadata": {},
   "source": [
    "Now suppose that we want to split the elements of the `letters` list into vowels and consonants. The vowels in the English language are: `a, e, i, o, u, y`, so we will have them in the `vowels` list. We will have all the vowels from the `letters` list in one list and all the consonant on another. For this we can use a list comprehension."
   ]
  },
  {
   "attachments": {},
   "cell_type": "markdown",
   "metadata": {},
   "source": [
    "````{margin}\n",
    "```{hint}\n",
    "The `in` operator is used to check if an item is part of a sequence like a list or a tuple or not. Similarly if we want to check if an item is not in a sequence we just add the negation operator `not` in front of `in`. {ref}`More to follow <ch4-search-list>`. \n",
    "```\n",
    "````"
   ]
  },
  {
   "cell_type": "code",
   "execution_count": 66,
   "metadata": {},
   "outputs": [
    {
     "name": "stdout",
     "output_type": "stream",
     "text": [
      "Vowels in letters: ['y', 'o']\n",
      "Consonants in letters: ['p', 't', 'h', 'n']\n"
     ]
    }
   ],
   "source": [
    "vowels = ['a', 'e', 'i', 'o', 'u', 'y']\n",
    "\n",
    "vowels_in_letters = [letter for letter in letters if letter in vowels]\n",
    "consonants_in_letters = [letter for letter in letters if letter not in vowels]\n",
    "\n",
    "print('Vowels in letters:', vowels_in_letters)\n",
    "print('Consonants in letters:', consonants_in_letters)"
   ]
  },
  {
   "attachments": {},
   "cell_type": "markdown",
   "metadata": {},
   "source": [
    "There is a possibility to include more than one condition. In this case the syntax of the list comprehension changes a bit because the condition would come before the for-loop. The syntax would be:\n",
    "```python\n",
    "new_list = [a if condition=True else a=b  for a in iterable_name]\n",
    "```"
   ]
  },
  {
   "attachments": {},
   "cell_type": "markdown",
   "metadata": {},
   "source": [
    "For example, the example above of separating the vowels from consonants would be written as:"
   ]
  },
  {
   "cell_type": "code",
   "execution_count": 67,
   "metadata": {},
   "outputs": [
    {
     "name": "stdout",
     "output_type": "stream",
     "text": [
      "Vowels in letters: ['y', 'o']\n",
      "Consonants in letters: ['p', 't', 'h', 'n']\n"
     ]
    }
   ],
   "source": [
    "vowels_list = []\n",
    "consonants_list = []\n",
    "\n",
    "[vowels_list.append(x) if x in vowels else consonants_list.append(x) for x in letters]\n",
    "\n",
    "print('Vowels in letters:', vowels_in_letters)\n",
    "print('Consonants in letters:', consonants_in_letters)"
   ]
  },
  {
   "attachments": {},
   "cell_type": "markdown",
   "metadata": {},
   "source": [
    "`[vowels_list.append(x) if x in vowels else consonants_list.append(x) for x in letters]` this is the statement equivalent to the two *list-comprehensions* in the previous example. In other words, this statement sole-handedly does the job. Let us explain what it does. We are iterating over the `letters` list using the variable `x`. For each `x`, we check if it is in the `vowels` list defined in the previous code cell. If this condition is `True`, then we append the letter `x` to the `vowels_list`, otherwise we append `x` to the `consonants_list`. So the first statement `vowels_list.append(x)` is executed only if the condition in the `if` part is `True`, otherwise the statement in the `else` part is executed. {numref}`list-comprehension` illustrates this case too. "
   ]
  },
  {
   "attachments": {},
   "cell_type": "markdown",
   "metadata": {},
   "source": [
    "```{figure} ../images/4_lists_and_tuples/list_comp_with_mult_cond.jpg\n",
    ":alt: list_comp_illustration\n",
    ":name: list-comprehension\n",
    ":class: ch5\n",
    ":align: center\n",
    "\n",
    "List comprehension with two conditions\n",
    "```"
   ]
  },
  {
   "attachments": {},
   "cell_type": "markdown",
   "metadata": {},
   "source": [
    "### Sorting lists"
   ]
  },
  {
   "attachments": {},
   "cell_type": "markdown",
   "metadata": {},
   "source": [
    "When programming, quite often we face the need to sort inputs (inside sequences) according to some criteria. In Python there is a built-in *function* `sorted()`, that can receive a list as an argument and sort it. Also there is the built-in *method* `list_name.sort()` that is called on a list object and by default sorts a list in ascending order.\n",
    "\n",
    "```{important}\n",
    "The built-in function `sorted()`, returns a new list and the passed list remains **unchanged**. The built-in `list_name.sort()` method does the sorting **in-place**. This means that **the original list will be modified**.\n",
    "```"
   ]
  },
  {
   "attachments": {},
   "cell_type": "markdown",
   "metadata": {},
   "source": [
    "For example:\n",
    "````{margin}\n",
    "```{hint}\n",
    "By passing the argument `reverse=True` to the `sort()` method we can sort a list in reverse (descending) order.\n",
    "```\n",
    "````"
   ]
  },
  {
   "cell_type": "code",
   "execution_count": 68,
   "metadata": {},
   "outputs": [
    {
     "name": "stdout",
     "output_type": "stream",
     "text": [
      "letters in ascending order: ['h', 'n', 'o', 'p', 't', 'y']\n",
      "letters in descending order: ['y', 't', 'p', 'o', 'n', 'h']\n"
     ]
    }
   ],
   "source": [
    "letters.sort()\n",
    "print('letters in ascending order:', letters)\n",
    "\n",
    "letters.sort(reverse=True)\n",
    "print('letters in descending order:', letters)"
   ]
  },
  {
   "attachments": {},
   "cell_type": "markdown",
   "metadata": {},
   "source": [
    "Changes happen to the original list, `letters`."
   ]
  },
  {
   "attachments": {},
   "cell_type": "markdown",
   "metadata": {},
   "source": [
    "Sorting using the `sorted()` built-in function:"
   ]
  },
  {
   "cell_type": "code",
   "execution_count": 69,
   "metadata": {},
   "outputs": [
    {
     "name": "stdout",
     "output_type": "stream",
     "text": [
      "natural_numbers [1, 10, 3, 4, 20, 30]\n",
      "sorted_numbers [1, 3, 4, 10, 20, 30]\n"
     ]
    }
   ],
   "source": [
    "sorted_numbers = sorted(natural_numbers)\n",
    "print('natural_numbers', natural_numbers)\n",
    "print('sorted_numbers', sorted_numbers)"
   ]
  },
  {
   "attachments": {},
   "cell_type": "markdown",
   "metadata": {},
   "source": [
    "As you can see, the original list passed as argument, `natural_numbers` is unchanged."
   ]
  },
  {
   "attachments": {},
   "cell_type": "markdown",
   "metadata": {},
   "source": [
    "```{caution}\n",
    "If you try to use the built-in function `sorted()` or the built-in method `sort()` with a list that contains mixed data-types you will get a `TypeError` because there will be no way how to compare values of different data-types.\n",
    "```"
   ]
  },
  {
   "cell_type": "code",
   "execution_count": 70,
   "metadata": {},
   "outputs": [
    {
     "ename": "TypeError",
     "evalue": "'<' not supported between instances of 'str' and 'int'",
     "output_type": "error",
     "traceback": [
      "\u001b[1;31m---------------------------------------------------------------------------\u001b[0m",
      "\u001b[1;31mTypeError\u001b[0m                                 Traceback (most recent call last)",
      "\u001b[1;32m~\\AppData\\Local\\Temp\\ipykernel_16436\\4181370301.py\u001b[0m in \u001b[0;36m<module>\u001b[1;34m\u001b[0m\n\u001b[1;32m----> 1\u001b[1;33m \u001b[0mprint\u001b[0m\u001b[1;33m(\u001b[0m\u001b[0msorted\u001b[0m\u001b[1;33m(\u001b[0m\u001b[0mmixed_list\u001b[0m\u001b[1;33m)\u001b[0m\u001b[1;33m)\u001b[0m\u001b[1;33m\u001b[0m\u001b[1;33m\u001b[0m\u001b[0m\n\u001b[0m",
      "\u001b[1;31mTypeError\u001b[0m: '<' not supported between instances of 'str' and 'int'"
     ]
    }
   ],
   "source": [
    "print(sorted(mixed_list))"
   ]
  },
  {
   "attachments": {},
   "cell_type": "markdown",
   "metadata": {},
   "source": [
    "(ch4-search-list)=\n",
    "### Searching lists"
   ]
  },
  {
   "attachments": {},
   "cell_type": "markdown",
   "metadata": {},
   "source": [
    "The main purpose of searching is to find out whether a list contains the value we are searching for or not. The value that we are searching for is called a **key**. So in other words, we want to find out whether a list contains a key or not. In Python there is a built-in method that helps us do this: \n",
    "```python\n",
    "list_name.index(key_name)\n",
    "```\n",
    "As we have seen many times so  far, since `index()` is  a built-in method, we are calling it on a *list object*, that is the list we are searching the key in. ***Key_name*** is the value that we are interested in finding out if it is in the *list_name* or not. This method will return the first index where the item is found in the list."
   ]
  },
  {
   "attachments": {},
   "cell_type": "markdown",
   "metadata": {},
   "source": [
    "Let us look at an example."
   ]
  },
  {
   "cell_type": "code",
   "execution_count": 4,
   "metadata": {},
   "outputs": [
    {
     "name": "stdout",
     "output_type": "stream",
     "text": [
      "2\n"
     ]
    }
   ],
   "source": [
    "fermented_food = ['milk', 'yoghurt', 'beer', 'cider', 'tempeh', 'sauerkraut', 'kefir']\n",
    "print(fermented_food.index('beer'))"
   ]
  },
  {
   "attachments": {},
   "cell_type": "markdown",
   "metadata": {},
   "source": [
    "```{caution}\n",
    "If the *key* that you are searching for in the list does not exist then you  will get a `ValueError`.\n",
    "```"
   ]
  },
  {
   "cell_type": "code",
   "execution_count": 3,
   "metadata": {},
   "outputs": [
    {
     "ename": "ValueError",
     "evalue": "'wine' is not in list",
     "output_type": "error",
     "traceback": [
      "\u001b[1;31m---------------------------------------------------------------------------\u001b[0m",
      "\u001b[1;31mValueError\u001b[0m                                Traceback (most recent call last)",
      "\u001b[1;32m~\\AppData\\Local\\Temp\\ipykernel_14240\\831525127.py\u001b[0m in \u001b[0;36m<module>\u001b[1;34m\u001b[0m\n\u001b[1;32m----> 1\u001b[1;33m \u001b[0mprint\u001b[0m\u001b[1;33m(\u001b[0m\u001b[0mfermented_food\u001b[0m\u001b[1;33m.\u001b[0m\u001b[0mindex\u001b[0m\u001b[1;33m(\u001b[0m\u001b[1;34m'wine'\u001b[0m\u001b[1;33m)\u001b[0m\u001b[1;33m)\u001b[0m\u001b[1;33m\u001b[0m\u001b[1;33m\u001b[0m\u001b[0m\n\u001b[0m",
      "\u001b[1;31mValueError\u001b[0m: 'wine' is not in list"
     ]
    }
   ],
   "source": [
    "print(fermented_food.index('wine'))"
   ]
  },
  {
   "attachments": {},
   "cell_type": "markdown",
   "metadata": {},
   "source": [
    "```{hint}\n",
    "To escape this kind of errors python provides two operators: **in** and **not in**. **in** checks whether an element is part of a list and returns `True` if so, otherwise `False`. **not in** does the opposite, it checks whether an element is not in a list and if it is not returns `True`, otherwise it returns `False`.\n",
    "```"
   ]
  },
  {
   "cell_type": "code",
   "execution_count": 15,
   "metadata": {},
   "outputs": [
    {
     "name": "stdout",
     "output_type": "stream",
     "text": [
      "False\n",
      "True\n"
     ]
    }
   ],
   "source": [
    "print('wine' in fermented_food)\n",
    "print('wine' not in fermented_food)"
   ]
  },
  {
   "attachments": {},
   "cell_type": "markdown",
   "metadata": {},
   "source": [
    "````{margin}\n",
    "```{note}\n",
    "For the sake of completeness:\n",
    "Python also provides two additional functions to deal with lists: `any(list_name)` and `all(list_name)`. `any()` returns `True` if there is at least a `True` element in the list and `all()` returns `True` if all elements in the list all `True`. All data types as long as they are not 0, are considered to be `True` and all sequences are considered as `True` values, unless they are empty. E.g: For the following sequence [True, False, True] `all()` would return `False` and `any()` would return `True`. \n",
    "```\n",
    "````\n",
    "There are also variants of the `index()` method that allow us to specify the start and start index, or only one of them in the list that we want to search for. The syntax looks like this:\n",
    "```python\n",
    "list_name.index(value, start_index, end_index)\n",
    "```\n",
    "Note that the **end_index** is non-inclusive."
   ]
  },
  {
   "cell_type": "code",
   "execution_count": 13,
   "metadata": {},
   "outputs": [
    {
     "name": "stdout",
     "output_type": "stream",
     "text": [
      "2\n",
      "3\n"
     ]
    }
   ],
   "source": [
    "print(fermented_food.index('beer', 1))\n",
    "print(fermented_food.index('cider', 2, 5))"
   ]
  },
  {
   "attachments": {},
   "cell_type": "markdown",
   "metadata": {},
   "source": [
    "```{caution}\n",
    "`index()` does not allow any *keyword arguments* so it is not possible to specify only the *end_index*. Also the search goes only forward even if you specify negative indices.\n",
    "```"
   ]
  },
  {
   "attachments": {},
   "cell_type": "markdown",
   "metadata": {},
   "source": [
    "## Tuples"
   ]
  },
  {
   "attachments": {},
   "cell_type": "markdown",
   "metadata": {},
   "source": [
    "Tuples, just like lists are sequences of values. However, unlike lists they are **immutable**. This means that they cannot be modified during program execution: you cannot add or remove elements or modify any of the singleton items (like integers, floats, etc). Just like lists, they can have heterogenous or homogenous data. Everything enclosed in parenthesis () is a tuple. Also, tuples are ordered, this means that the items in the tuple have an order defined at the time they are created which cannot change. Some examples of tuples:"
   ]
  },
  {
   "cell_type": "code",
   "execution_count": 11,
   "metadata": {},
   "outputs": [
    {
     "data": {
      "text/plain": [
       "(1001, 'wine')"
      ]
     },
     "execution_count": 11,
     "metadata": {},
     "output_type": "execute_result"
    }
   ],
   "source": [
    "fermented_drink_tuple = (1001, 'wine')\n",
    "fermented_drink_tuple"
   ]
  },
  {
   "attachments": {},
   "cell_type": "markdown",
   "metadata": {},
   "source": [
    "Other example of tuples:"
   ]
  },
  {
   "cell_type": "code",
   "execution_count": 12,
   "metadata": {},
   "outputs": [
    {
     "name": "stdout",
     "output_type": "stream",
     "text": [
      "(1, 2, 3, 4, 5)\n",
      "(1, 'a', 2, 'b', 3, 'c')\n",
      "()\n",
      "(1,)\n"
     ]
    }
   ],
   "source": [
    "tuple_1 = (1,2,3,4,5)\n",
    "tuple_2 = (1, 'a', 2, 'b', 3, 'c')\n",
    "empty_tuple = ()\n",
    "singleton_tuple = (1, )\n",
    "\n",
    "print(tuple_1)\n",
    "print(tuple_2)\n",
    "print(empty_tuple)\n",
    "print(singleton_tuple)"
   ]
  },
  {
   "attachments": {},
   "cell_type": "markdown",
   "metadata": {},
   "source": [
    "```{note}\n",
    "Notice the comma `(, )` after the singleton tuple. In case that we would have omitted it, then we would just have an integer and not a tuple anymore, although it would have been inside `()`.\n",
    "```"
   ]
  },
  {
   "attachments": {},
   "cell_type": "markdown",
   "metadata": {},
   "source": [
    "Also we can define a tuple without parenthesis too:"
   ]
  },
  {
   "cell_type": "code",
   "execution_count": 13,
   "metadata": {},
   "outputs": [
    {
     "data": {
      "text/plain": [
       "(1, 2, 3, 4, 5, 6)"
      ]
     },
     "execution_count": 13,
     "metadata": {},
     "output_type": "execute_result"
    }
   ],
   "source": [
    "tuple_3 = 1,2,3,4,5,6\n",
    "tuple_3"
   ]
  },
  {
   "attachments": {},
   "cell_type": "markdown",
   "metadata": {},
   "source": [
    "### Number of elements in a tuple"
   ]
  },
  {
   "attachments": {},
   "cell_type": "markdown",
   "metadata": {},
   "source": [
    "Just like with lists, we can use the `len()` function to find the number of elements in a tuple. For example:"
   ]
  },
  {
   "cell_type": "code",
   "execution_count": 23,
   "metadata": {},
   "outputs": [
    {
     "data": {
      "text/plain": [
       "4"
      ]
     },
     "execution_count": 23,
     "metadata": {},
     "output_type": "execute_result"
    }
   ],
   "source": [
    "fermented_drinks_tuple = ('wine', 'beer', 'kefir', 'kombucha')\n",
    "len(fermented_drinks_tuple)"
   ]
  },
  {
   "attachments": {},
   "cell_type": "markdown",
   "metadata": {},
   "source": [
    "(ch4-access-tuples-label)=\n",
    "### Accessing elements of a tuple"
   ]
  },
  {
   "attachments": {},
   "cell_type": "markdown",
   "metadata": {},
   "source": [
    "Again the same patterns used for accessing elements in a list can be used with tuples. Negative indexing holds here as well. Also the index of first element is 0, too."
   ]
  },
  {
   "cell_type": "code",
   "execution_count": 24,
   "metadata": {},
   "outputs": [
    {
     "data": {
      "text/plain": [
       "'beer'"
      ]
     },
     "execution_count": 24,
     "metadata": {},
     "output_type": "execute_result"
    }
   ],
   "source": [
    "fermented_drinks_tuple[1]"
   ]
  },
  {
   "attachments": {},
   "cell_type": "markdown",
   "metadata": {},
   "source": [
    "The above code will print the element at position `1` of the tuple."
   ]
  },
  {
   "attachments": {},
   "cell_type": "markdown",
   "metadata": {},
   "source": [
    "We can select a range of values as well using slicing:"
   ]
  },
  {
   "cell_type": "code",
   "execution_count": 26,
   "metadata": {},
   "outputs": [
    {
     "name": "stdout",
     "output_type": "stream",
     "text": [
      "Fermented drinks at positions: 1, 2, 3 ('beer', 'kefir', 'kombucha')\n",
      "Fermented drinks until position 4 (non-inclusive) ('wine', 'beer', 'kefir', 'kombucha')\n",
      "Fermented drinks from position 1 until the end beer\n"
     ]
    }
   ],
   "source": [
    "print('Fermented drinks at positions: 1, 2, 3', fermented_drinks_tuple[1:4])\n",
    "print('Fermented drinks until position 4 (non-inclusive)', fermented_drinks_tuple[:4])\n",
    "print('Fermented drinks from position 1 until the end', fermented_drinks_tuple[1])"
   ]
  },
  {
   "attachments": {},
   "cell_type": "markdown",
   "metadata": {},
   "source": [
    "### Adding/Removing elements to/from a tuple"
   ]
  },
  {
   "attachments": {},
   "cell_type": "markdown",
   "metadata": {},
   "source": [
    "````{margin}\n",
    "```{note}\n",
    "Each time an object is created in Python, it is assigned an `id` that does not change until the object is garbage collected. To retrieve this id we simply pass the object as an argument to  the `id()` function: `id(object_name)`.\n",
    "```\n",
    "````\n",
    "````{margin}\n",
    "```{note}\n",
    "**Garbage collection** is the process of freeing up memory from objects that are not referenced anymore, so that it can be used during the execution of the program. It is like cleaning the memory from dirt.\n",
    "```\n",
    "````\n",
    "This is where the idea of tuples becoming immutable becomes evident. In the beginning of this section we emphasized the fact that tuples are **immutable** objects. This means that they cannot be modified. If this did not hold then nothing would set them apart from lists. But what does this mean?\n",
    "Each time we add/remove an element in/from a tuple a new tuple would be created behind the scenes. We will use the `id()` function to confirm this."
   ]
  },
  {
   "attachments": {},
   "cell_type": "markdown",
   "metadata": {},
   "source": [
    "#### Modifying elements of a tuple"
   ]
  },
  {
   "attachments": {},
   "cell_type": "markdown",
   "metadata": {},
   "source": [
    "Since tuples are **immutable** we cannot modify their elements, but we can modify elements of mutable objects that a tuple may contain. For example, we can modify elements of a list that tuple may contain but we cannot substitute the whole list with a new one. For example:"
   ]
  },
  {
   "cell_type": "code",
   "execution_count": 31,
   "metadata": {},
   "outputs": [
    {
     "ename": "TypeError",
     "evalue": "'tuple' object does not support item assignment",
     "output_type": "error",
     "traceback": [
      "\u001b[1;31m---------------------------------------------------------------------------\u001b[0m",
      "\u001b[1;31mTypeError\u001b[0m                                 Traceback (most recent call last)",
      "\u001b[1;32m~\\AppData\\Local\\Temp\\ipykernel_9824\\2671686010.py\u001b[0m in \u001b[0;36m<module>\u001b[1;34m\u001b[0m\n\u001b[0;32m      1\u001b[0m \u001b[0mmixed_tuple\u001b[0m \u001b[1;33m=\u001b[0m \u001b[1;33m(\u001b[0m\u001b[1;36m1\u001b[0m\u001b[1;33m,\u001b[0m \u001b[1;34m'a'\u001b[0m\u001b[1;33m,\u001b[0m \u001b[1;33m[\u001b[0m\u001b[1;36m2\u001b[0m\u001b[1;33m,\u001b[0m \u001b[1;34m'c'\u001b[0m\u001b[1;33m,\u001b[0m \u001b[1;34m'd'\u001b[0m\u001b[1;33m]\u001b[0m\u001b[1;33m)\u001b[0m\u001b[1;33m\u001b[0m\u001b[1;33m\u001b[0m\u001b[0m\n\u001b[1;32m----> 2\u001b[1;33m \u001b[0mmixed_tuple\u001b[0m\u001b[1;33m[\u001b[0m\u001b[1;36m1\u001b[0m\u001b[1;33m]\u001b[0m \u001b[1;33m=\u001b[0m \u001b[1;36m3\u001b[0m\u001b[1;33m\u001b[0m\u001b[1;33m\u001b[0m\u001b[0m\n\u001b[0m",
      "\u001b[1;31mTypeError\u001b[0m: 'tuple' object does not support item assignment"
     ]
    }
   ],
   "source": [
    "mixed_tuple = (1, 'a', [2, 'c', 'd'])\n",
    "mixed_tuple[1] = 3"
   ]
  },
  {
   "attachments": {},
   "cell_type": "markdown",
   "metadata": {},
   "source": [
    "The above piece of code gives a `TypeError` because we are trying to modify an item from a tuple."
   ]
  },
  {
   "cell_type": "code",
   "execution_count": 32,
   "metadata": {},
   "outputs": [
    {
     "data": {
      "text/plain": [
       "(1, 'a', [3, 'c', 'd'])"
      ]
     },
     "execution_count": 32,
     "metadata": {},
     "output_type": "execute_result"
    }
   ],
   "source": [
    "mixed_tuple[2][0] = 3\n",
    "mixed_tuple"
   ]
  },
  {
   "attachments": {},
   "cell_type": "markdown",
   "metadata": {},
   "source": [
    "Now we accessed the element at position 2 of the tuple which is a list. Then we went a step further and accessed element at position 0 of the list inside the tuple. We changed this element from `2` to `3`. Since a list is mutable the operation was successful. Meanwhile if we try to substitute a list with another one, we are going to get a `TypeError` again since we are trying to modify an element of a tuple:"
   ]
  },
  {
   "cell_type": "code",
   "execution_count": 33,
   "metadata": {},
   "outputs": [
    {
     "ename": "TypeError",
     "evalue": "'tuple' object does not support item assignment",
     "output_type": "error",
     "traceback": [
      "\u001b[1;31m---------------------------------------------------------------------------\u001b[0m",
      "\u001b[1;31mTypeError\u001b[0m                                 Traceback (most recent call last)",
      "\u001b[1;32m~\\AppData\\Local\\Temp\\ipykernel_9824\\1303170592.py\u001b[0m in \u001b[0;36m<module>\u001b[1;34m\u001b[0m\n\u001b[1;32m----> 1\u001b[1;33m \u001b[0mmixed_tuple\u001b[0m\u001b[1;33m[\u001b[0m\u001b[1;36m2\u001b[0m\u001b[1;33m]\u001b[0m \u001b[1;33m=\u001b[0m \u001b[1;33m[\u001b[0m\u001b[1;36m1\u001b[0m\u001b[1;33m,\u001b[0m\u001b[1;36m2\u001b[0m\u001b[1;33m,\u001b[0m\u001b[1;36m3\u001b[0m\u001b[1;33m,\u001b[0m\u001b[1;36m4\u001b[0m\u001b[1;33m]\u001b[0m\u001b[1;33m\u001b[0m\u001b[1;33m\u001b[0m\u001b[0m\n\u001b[0m\u001b[0;32m      2\u001b[0m \u001b[0mmixed_tuple\u001b[0m\u001b[1;33m\u001b[0m\u001b[1;33m\u001b[0m\u001b[0m\n",
      "\u001b[1;31mTypeError\u001b[0m: 'tuple' object does not support item assignment"
     ]
    }
   ],
   "source": [
    "mixed_tuple[2] = [1,2,3,4]\n",
    "mixed_tuple"
   ]
  },
  {
   "attachments": {},
   "cell_type": "markdown",
   "metadata": {},
   "source": [
    "````{margin}\n",
    "```{note}\n",
    "**Remainder**: `int`, `float` and `string` are immutable data types.\n",
    "```\n",
    "````\n",
    "To understand this better have a look at {numref}`modifying-tuples`:\n",
    "\n",
    "```{figure} ../images/4_lists_and_tuples/modifying-tuple.jpg\n",
    ":alt: modifying_elements_of_a_tuple_illustration\n",
    ":name: modifying-tuples\n",
    ":class: ch5\n",
    ":align: center\n",
    "\n",
    "Modifying elements of a tuple\n",
    "```\n",
    "As you can see, changes cannot happen in the memory space of the tuple, but they can happen in the memory space of elements of a tuple that are *mutable*. Since the tuples stores only a pointer to the memory location of the list, from the tuple's perspective nothing changes with respect to the list as long as the memory address of the list remains the same. When we try to assign a different list to the tuple element at position 2, we are changing the pointer, since the new list will be in a different location from the existing one. This consists of making a change in the memory space of the tuple, thus it raises a `TypeError`."
   ]
  },
  {
   "attachments": {},
   "cell_type": "markdown",
   "metadata": {},
   "source": [
    "#### Adding elements to a tuple"
   ]
  },
  {
   "cell_type": "code",
   "execution_count": 27,
   "metadata": {},
   "outputs": [
    {
     "name": "stdout",
     "output_type": "stream",
     "text": [
      "ID of numbers_tuple_1 before adding new elements: 3055677222984\n",
      "ID of numbers_tuple_1 after adding new elements: 3055672476968\n"
     ]
    }
   ],
   "source": [
    "numbers_tuple_1 = (1,2,3,4)\n",
    "print('ID of numbers_tuple_1 before adding new elements:', id(numbers_tuple_1))\n",
    "numbers_tuple_1 += (6,8)\n",
    "print('ID of numbers_tuple_1 after adding new elements:', id(numbers_tuple_1))"
   ]
  },
  {
   "attachments": {},
   "cell_type": "markdown",
   "metadata": {},
   "source": [
    "````{margin}\n",
    "```{important}\n",
    "The same happens with `strings` when we try to modify them, a new `string` object is created.\n",
    "```\n",
    "````\n",
    "\n",
    "{numref}`adding-tuple-comprehension` illustrates what actually happens in memory when we try to add elements to a tuple.\n",
    "\n",
    "```{figure} ../images/4_lists_and_tuples/adding_tuple_1.jpg\n",
    ":alt: adding_elements_to_a_tuple_illustration\n",
    ":name: adding-tuple-comprehension\n",
    ":class: ch5\n",
    ":align: center\n",
    "\n",
    "Adding elements to a tuple\n",
    "```"
   ]
  },
  {
   "attachments": {},
   "cell_type": "markdown",
   "metadata": {},
   "source": [
    "As you can see the ID has changed, although we are referring to the same variable `numbers_tuple_1`. This does not happen in any case for a `list`. For example:"
   ]
  },
  {
   "cell_type": "code",
   "execution_count": 29,
   "metadata": {},
   "outputs": [
    {
     "name": "stdout",
     "output_type": "stream",
     "text": [
      "ID of numbers_list_1 before adding new elements: 3055678224072\n",
      "ID of numbers_list_1 after adding new elements: 3055678224072\n"
     ]
    }
   ],
   "source": [
    "numbers_list_1 = [1,2,3,4]\n",
    "print('ID of numbers_list_1 before adding new elements:', id(numbers_list_1))\n",
    "numbers_list_1 += (6,8) # adding a tuple to a list\n",
    "print('ID of numbers_list_1 after adding new elements:', id(numbers_list_1))"
   ]
  },
  {
   "attachments": {},
   "cell_type": "markdown",
   "metadata": {},
   "source": [
    "As you can see the ID has not changed."
   ]
  },
  {
   "attachments": {},
   "cell_type": "markdown",
   "metadata": {},
   "source": [
    "#### Removing elements from a tuple"
   ]
  },
  {
   "attachments": {},
   "cell_type": "markdown",
   "metadata": {},
   "source": [
    "To **remove** values from a tuple we first need to convert the tuple to a list. Then we can use one of the ways explained in {ref}` Removing elements from a list <ch4-remove-elements-from-list-label>`. After that we would have to convert the list back to a tuple. This will again result in a new tuple being created. "
   ]
  },
  {
   "attachments": {},
   "cell_type": "markdown",
   "metadata": {},
   "source": [
    "````{margin}\n",
    "```{hint}\n",
    "Note that even for adding elements to a tuple we can use a similar approach. We can convert the tuple to a list, add the new elements and then convert back to a tuple.\n",
    "```\n",
    "````"
   ]
  },
  {
   "cell_type": "code",
   "execution_count": 30,
   "metadata": {},
   "outputs": [
    {
     "name": "stdout",
     "output_type": "stream",
     "text": [
      "Tuple at the beginning: (1, 2, 3, 4, 6, 8, 6, 8)\n",
      "ID of numbers_tuple_1 after adding new elements: 3055645592040\n",
      "Tuple after removing 8: (1, 2, 3, 4, 6, 6, 8)\n",
      "ID of numbers_tuple_1 after removing 8: 3055708024904\n"
     ]
    }
   ],
   "source": [
    "print('Tuple at the beginning:', numbers_tuple_1)\n",
    "print('ID of numbers_tuple_1 after adding new elements:', id(numbers_tuple_1))\n",
    "\n",
    "#convert tuple to list\n",
    "list_from_tuple = list(numbers_tuple_1)\n",
    "#remove element 8 from list\n",
    "list_from_tuple.remove(8)\n",
    "#convert list back to tuple\n",
    "numbers_tuple_1 = tuple(list_from_tuple)\n",
    "\n",
    "print('Tuple after removing 8:', numbers_tuple_1)\n",
    "print('ID of numbers_tuple_1 after removing 8:', id(numbers_tuple_1))"
   ]
  },
  {
   "attachments": {},
   "cell_type": "markdown",
   "metadata": {},
   "source": [
    "Here the creation of the new tuple object is more evident since we are using `tuple()` function to create a new tuple from a given list. Hence, you can confirm this even by checking the changed IDs. In memory the process is similar to what is depicted in {numref}`adding-tuple-comprehension`, except that now we copy only the elements that we need."
   ]
  },
  {
   "attachments": {},
   "cell_type": "markdown",
   "metadata": {},
   "source": [
    "### Searching tuples"
   ]
  },
  {
   "attachments": {},
   "cell_type": "markdown",
   "metadata": {},
   "source": [
    "There is also an `index()` method for searching for specific elements in tuples. Just like in the case of lists, it will return the index of the first occurrence of the element passed as an argument to the function or `ValueError` if the value we are searching for is not in the tuple."
   ]
  },
  {
   "cell_type": "code",
   "execution_count": 51,
   "metadata": {},
   "outputs": [
    {
     "data": {
      "text/plain": [
       "1"
      ]
     },
     "execution_count": 51,
     "metadata": {},
     "output_type": "execute_result"
    }
   ],
   "source": [
    "numbers_tuple_1.index(2)"
   ]
  },
  {
   "cell_type": "code",
   "execution_count": 53,
   "metadata": {},
   "outputs": [
    {
     "ename": "ValueError",
     "evalue": "tuple.index(x): x not in tuple",
     "output_type": "error",
     "traceback": [
      "\u001b[1;31m---------------------------------------------------------------------------\u001b[0m",
      "\u001b[1;31mValueError\u001b[0m                                Traceback (most recent call last)",
      "\u001b[1;32m~\\AppData\\Local\\Temp\\ipykernel_9824\\1736408906.py\u001b[0m in \u001b[0;36m<module>\u001b[1;34m\u001b[0m\n\u001b[1;32m----> 1\u001b[1;33m \u001b[0mnumbers_tuple_1\u001b[0m\u001b[1;33m.\u001b[0m\u001b[0mindex\u001b[0m\u001b[1;33m(\u001b[0m\u001b[1;36m100\u001b[0m\u001b[1;33m)\u001b[0m \u001b[1;31m#100 not present in the tuple\u001b[0m\u001b[1;33m\u001b[0m\u001b[1;33m\u001b[0m\u001b[0m\n\u001b[0m",
      "\u001b[1;31mValueError\u001b[0m: tuple.index(x): x not in tuple"
     ]
    }
   ],
   "source": [
    "numbers_tuple_1.index(100) #100 not present in the tuple"
   ]
  },
  {
   "attachments": {},
   "cell_type": "markdown",
   "metadata": {},
   "source": [
    "### Counting elements in tuples"
   ]
  },
  {
   "attachments": {},
   "cell_type": "markdown",
   "metadata": {},
   "source": [
    "By using the `count()` method we can find the number of occurrences of the elements passed as an argument to the method. For example:"
   ]
  },
  {
   "cell_type": "code",
   "execution_count": 56,
   "metadata": {},
   "outputs": [
    {
     "data": {
      "text/plain": [
       "2"
      ]
     },
     "execution_count": 56,
     "metadata": {},
     "output_type": "execute_result"
    }
   ],
   "source": [
    "numbers_tuple_1.count(6)"
   ]
  },
  {
   "attachments": {},
   "cell_type": "markdown",
   "metadata": {},
   "source": [
    "## Unpacking sequences of variables"
   ]
  },
  {
   "attachments": {},
   "cell_type": "markdown",
   "metadata": {},
   "source": [
    "So far we have seen how to group different variables or values in a single variable. By doing unpacking we reverse this process, we move from one sequence of variables to multiple variables. The syntax for unpacking looks like this:\n",
    "```python\n",
    "var1, var2, var3, .... = sequence_name\n",
    "```\n",
    "On the left-hand side there should be as mny variable names as there are elements in the sequence in the right-hand side. For example:"
   ]
  },
  {
   "cell_type": "code",
   "execution_count": 36,
   "metadata": {},
   "outputs": [],
   "source": [
    "fermented_drinks = ['wine', 'beer', 'cider', 'yoghurt']"
   ]
  },
  {
   "cell_type": "code",
   "execution_count": 38,
   "metadata": {},
   "outputs": [
    {
     "name": "stdout",
     "output_type": "stream",
     "text": [
      "wine beer cider yoghurt\n"
     ]
    }
   ],
   "source": [
    "wine, beer, cider, yoghurt = fermented_drinks\n",
    "print(wine, beer, cider, yoghurt)"
   ]
  },
  {
   "attachments": {},
   "cell_type": "markdown",
   "metadata": {},
   "source": [
    "As you can see, each variable is assigned a value from the list. The same can happen with tuples:"
   ]
  },
  {
   "cell_type": "code",
   "execution_count": 43,
   "metadata": {},
   "outputs": [],
   "source": [
    "fermented_tuple = ('kimchi', 'sauerkraut', 'kefir')"
   ]
  },
  {
   "cell_type": "code",
   "execution_count": 44,
   "metadata": {},
   "outputs": [
    {
     "name": "stdout",
     "output_type": "stream",
     "text": [
      "kimchi sauerkraut kefir\n"
     ]
    }
   ],
   "source": [
    "kimchi, sauerkraut, kefir = fermented_tuple\n",
    "print(kimchi, sauerkraut, kefir)"
   ]
  },
  {
   "attachments": {},
   "cell_type": "markdown",
   "metadata": {},
   "source": [
    "To avoid the need to declare as many variables as there are elements in a list or tuple, you can declare variables for the values you need and then declare another variables with a preceding asterisk (`*`) that will collect all the remaining elements in a list:"
   ]
  },
  {
   "cell_type": "code",
   "execution_count": 42,
   "metadata": {},
   "outputs": [
    {
     "name": "stdout",
     "output_type": "stream",
     "text": [
      "wine ['beer', 'cider', 'yoghurt']\n"
     ]
    }
   ],
   "source": [
    "wine, *the_rest = fermented_drinks\n",
    "print(wine, the_rest)"
   ]
  },
  {
   "attachments": {},
   "cell_type": "markdown",
   "metadata": {},
   "source": [
    "As you can see, all the remaining elements are collected in a list. This can be applied to tuples as well:"
   ]
  },
  {
   "cell_type": "code",
   "execution_count": 45,
   "metadata": {},
   "outputs": [
    {
     "name": "stdout",
     "output_type": "stream",
     "text": [
      "kimchi ['sauerkraut', 'kefir']\n"
     ]
    }
   ],
   "source": [
    "kimchi, *the_other = fermented_tuple\n",
    "print(kimchi, the_other)"
   ]
  },
  {
   "attachments": {},
   "cell_type": "markdown",
   "metadata": {},
   "source": [
    "Depending on the position of items we want to single out and save in a variable, we should specify where the variable with the asterisk should stand. For example if we would like to save teh first and last elements of the `fermented_food` list then we would do:"
   ]
  },
  {
   "cell_type": "code",
   "execution_count": 47,
   "metadata": {},
   "outputs": [
    {
     "name": "stdout",
     "output_type": "stream",
     "text": [
      "wine ['beer', 'cider'] yoghurt\n"
     ]
    }
   ],
   "source": [
    "wine, *the_rest, yoghurt = fermented_drinks\n",
    "print(wine, the_rest, yoghurt)"
   ]
  },
  {
   "attachments": {},
   "cell_type": "markdown",
   "metadata": {},
   "source": [
    "Also if we would  like to store only the last element, than we would write:"
   ]
  },
  {
   "cell_type": "code",
   "execution_count": 48,
   "metadata": {},
   "outputs": [
    {
     "name": "stdout",
     "output_type": "stream",
     "text": [
      "['wine', 'beer', 'cider'] yoghurt\n"
     ]
    }
   ],
   "source": [
    "*the_rest, yoghurt = fermented_drinks\n",
    "print(the_rest, yoghurt)"
   ]
  },
  {
   "attachments": {},
   "cell_type": "markdown",
   "metadata": {},
   "source": [
    "Similarly, if we would like to single out only the last two values we would write:"
   ]
  },
  {
   "cell_type": "code",
   "execution_count": 49,
   "metadata": {},
   "outputs": [
    {
     "name": "stdout",
     "output_type": "stream",
     "text": [
      "['wine', 'beer'] cider yoghurt\n"
     ]
    }
   ],
   "source": [
    "*the_rest, cider, yoghurt = fermented_drinks\n",
    "print(the_rest, cider, yoghurt)"
   ]
  },
  {
   "attachments": {},
   "cell_type": "markdown",
   "metadata": {},
   "source": [
    "As you can see the position of the `the_rest` variable is flexible based on what we need to single out."
   ]
  },
  {
   "attachments": {},
   "cell_type": "markdown",
   "metadata": {},
   "source": [
    "### **enumerate** function"
   ]
  },
  {
   "attachments": {},
   "cell_type": "markdown",
   "metadata": {},
   "source": [
    "The **enumerate** function is a built-in function in Python used to iterate over sequences of values. It is a more elegant way then the previously used `range()` function since it avoids any `IndexError`s. It receives as argument a sequence of values (*iterable*) and for each element in the list it returns a tuple consisting of **(key, value)** pairs where the **key** is the index and the **value** is the element in an iterable corresponding to that index. The function itself produces an object of type `enumerate`. If we directly use the `print()` function on it, then it will print the memory location of this object. To print its contents element-by-element, we need to add `*` before the enumerate call:"
   ]
  },
  {
   "cell_type": "code",
   "execution_count": 65,
   "metadata": {},
   "outputs": [
    {
     "name": "stdout",
     "output_type": "stream",
     "text": [
      "(0, 'wine') (1, 'beer') (2, 'cider') (3, 'yoghurt')\n"
     ]
    }
   ],
   "source": [
    "print(*enumerate(fermented_drinks))"
   ]
  },
  {
   "attachments": {},
   "cell_type": "markdown",
   "metadata": {},
   "source": [
    "````{margin}\n",
    "```{note}\n",
    "The syntax `print(f'{string_1}, {string_2}')` is a formatted string. `f`in the beginning indicates that we are going to print a string using the format specified by the string that comes after `f`.\n",
    "```\n",
    "````"
   ]
  },
  {
   "attachments": {},
   "cell_type": "markdown",
   "metadata": {},
   "source": [
    "Similarly we can iterate over the tuples using a `for`-loop:"
   ]
  },
  {
   "cell_type": "code",
   "execution_count": 81,
   "metadata": {},
   "outputs": [
    {
     "name": "stdout",
     "output_type": "stream",
     "text": [
      "(0,wine) (1,beer) (2,cider) (3,yoghurt) "
     ]
    }
   ],
   "source": [
    "for tuple_i in enumerate(fermented_drinks):\n",
    "    print(f'({tuple_i[0]},{tuple_i[1]})', end=' ')"
   ]
  },
  {
   "attachments": {},
   "cell_type": "markdown",
   "metadata": {},
   "source": [
    "## Slicing"
   ]
  },
  {
   "attachments": {},
   "cell_type": "markdown",
   "metadata": {},
   "source": [
    "As we saw in {ref}`Accessing elements in lists <ch4-access-lists-label>` and {ref}`Accessing elements in tuples <ch4-access-tuples-label>`, we can use **slicing** to access a range of values. Here we will see some more specific cases of slicing."
   ]
  },
  {
   "attachments": {},
   "cell_type": "markdown",
   "metadata": {},
   "source": [
    "````{margin}\n",
    "```{hint}\n",
    "Slicing with [:] will select all the elements of a sequence.\n",
    "```\n",
    "````"
   ]
  },
  {
   "attachments": {},
   "cell_type": "markdown",
   "metadata": {},
   "source": [
    "#### Slicing with step size"
   ]
  },
  {
   "cell_type": "code",
   "execution_count": 80,
   "metadata": {},
   "outputs": [
    {
     "data": {
      "text/plain": [
       "['beer', 'yoghurt']"
      ]
     },
     "execution_count": 80,
     "metadata": {},
     "output_type": "execute_result"
    }
   ],
   "source": [
    "fermented_drinks = ['wine', 'beer', 'cider', 'yoghurt']\n",
    "fermented_drinks[1:4:2]"
   ]
  },
  {
   "attachments": {},
   "cell_type": "markdown",
   "metadata": {},
   "source": [
    "The third number says that we are going to select only 1 in 2 indices. For example, in this case, since we are interested in the range [1:4) with a step size of 2, from {1,2,3} we are going to select only {1,3}."
   ]
  },
  {
   "attachments": {},
   "cell_type": "markdown",
   "metadata": {},
   "source": [
    "We can also use negative indices and step sizes as well. Look at the example below:"
   ]
  },
  {
   "cell_type": "code",
   "execution_count": 84,
   "metadata": {},
   "outputs": [
    {
     "data": {
      "text/plain": [
       "['yoghurt', 'beer']"
      ]
     },
     "execution_count": 84,
     "metadata": {},
     "output_type": "execute_result"
    }
   ],
   "source": [
    "fermented_drinks[-1:-4:-2]"
   ]
  },
  {
   "attachments": {},
   "cell_type": "markdown",
   "metadata": {},
   "source": [
    "Here we process the list of `fermented_drinks` in reverse order from the last item indexed at position `-1` until the first item indexed at position `-4` (for a visual explanation on how negative indices work check {numref}`indexing-neg`) going backward 1 element each time."
   ]
  },
  {
   "attachments": {},
   "cell_type": "markdown",
   "metadata": {},
   "source": [
    "#### Modifying lists with tuples"
   ]
  },
  {
   "attachments": {},
   "cell_type": "markdown",
   "metadata": {},
   "source": [
    "We can modify many list elements in one go using slicing as well. "
   ]
  },
  {
   "cell_type": "code",
   "execution_count": 85,
   "metadata": {},
   "outputs": [
    {
     "name": "stdout",
     "output_type": "stream",
     "text": [
      "Before: ['wine', 'beer', 'cider', 'yoghurt']\n",
      "After: ['wine', 'wine', 'wine', 'wine']\n"
     ]
    }
   ],
   "source": [
    "print('Before:', fermented_drinks)\n",
    "fermented_drinks[1:4] = ['wine','wine','wine']\n",
    "print('After:', fermented_drinks)"
   ]
  },
  {
   "attachments": {},
   "cell_type": "markdown",
   "metadata": {},
   "source": [
    "As you can see, all elements from positions {1,2,3} were substituted with the elements of the new list (3 `wine`)."
   ]
  },
  {
   "attachments": {},
   "cell_type": "markdown",
   "metadata": {},
   "source": [
    "## **del** statement"
   ]
  },
  {
   "attachments": {},
   "cell_type": "markdown",
   "metadata": {},
   "source": [
    "## Passing lists to functions"
   ]
  },
  {
   "attachments": {},
   "cell_type": "markdown",
   "metadata": {},
   "source": [
    "### Copying lists (Shallow vs Deep Copying)"
   ]
  },
  {
   "attachments": {},
   "cell_type": "markdown",
   "metadata": {},
   "source": [
    "## Fliter, Map, Reduce???"
   ]
  },
  {
   "attachments": {},
   "cell_type": "markdown",
   "metadata": {},
   "source": [
    "## 2D lists"
   ]
  },
  {
   "attachments": {},
   "cell_type": "markdown",
   "metadata": {},
   "source": [
    "## Functional style programming"
   ]
  }
 ],
 "metadata": {
  "kernelspec": {
   "display_name": "python-jb",
   "language": "python",
   "name": "python3"
  },
  "language_info": {
   "codemirror_mode": {
    "name": "ipython",
    "version": 3
   },
   "file_extension": ".py",
   "mimetype": "text/x-python",
   "name": "python",
   "nbconvert_exporter": "python",
   "pygments_lexer": "ipython3",
   "version": "3.7.13"
  },
  "orig_nbformat": 4,
  "vscode": {
   "interpreter": {
    "hash": "0c2f5c4fba51b93f19e499abfcc9ef4d6fee5bb503e49077d95162365c0a0cb3"
   }
  }
 },
 "nbformat": 4,
 "nbformat_minor": 2
}
