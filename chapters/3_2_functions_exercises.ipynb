{
 "cells": [
  {
   "attachments": {},
   "cell_type": "markdown",
   "metadata": {},
   "source": [
    "# Exercises"
   ]
  },
  {
   "attachments": {},
   "cell_type": "markdown",
   "metadata": {},
   "source": [
    "## Exercise 1"
   ]
  },
  {
   "attachments": {},
   "cell_type": "markdown",
   "metadata": {},
   "source": [
    "In this exercise we want to determine if a number is positive (>0) or not. Write a function that will return a value based on whether the number is positive or not. Then try it out with different arguments."
   ]
  },
  {
   "cell_type": "code",
   "execution_count": 2,
   "metadata": {},
   "outputs": [],
   "source": [
    "# write the function here"
   ]
  },
  {
   "cell_type": "code",
   "execution_count": 28,
   "metadata": {},
   "outputs": [],
   "source": [
    "# write the function calls here"
   ]
  },
  {
   "attachments": {},
   "cell_type": "markdown",
   "metadata": {},
   "source": [
    "## Exercise 2"
   ]
  },
  {
   "attachments": {},
   "cell_type": "markdown",
   "metadata": {},
   "source": [
    "Write a function that will receive arbitrary many integer arguments and will compute their average. Test it with different number of arguments."
   ]
  },
  {
   "cell_type": "code",
   "execution_count": 13,
   "metadata": {},
   "outputs": [],
   "source": [
    "# write the function here"
   ]
  },
  {
   "cell_type": "code",
   "execution_count": 24,
   "metadata": {},
   "outputs": [],
   "source": [
    "# write the function calls here"
   ]
  },
  {
   "attachments": {},
   "cell_type": "markdown",
   "metadata": {},
   "source": [
    "## Exercise 3"
   ]
  },
  {
   "attachments": {},
   "cell_type": "markdown",
   "metadata": {},
   "source": [
    "Suppose that we have the following piece of code:\n",
    "\n",
    "```python\n",
    "def find_square(x):\n",
    "return x**2\n",
    "\n",
    "print(find_square(2))\n",
    "```\n",
    "\n",
    "Do you think it will run? Explain your reasoning."
   ]
  },
  {
   "cell_type": "code",
   "execution_count": 25,
   "metadata": {},
   "outputs": [],
   "source": [
    "# write your answer as a comment here"
   ]
  },
  {
   "attachments": {},
   "cell_type": "markdown",
   "metadata": {},
   "source": [
    "## Exercise 4"
   ]
  },
  {
   "attachments": {},
   "cell_type": "markdown",
   "metadata": {},
   "source": [
    "Suppose that we have the following piece of code:\n",
    "\n",
    "```python\n",
    "def function_xyz(x,y,z):\n",
    "    x = 5\n",
    "    \n",
    "    if(y>0):\n",
    "        a = x*3\n",
    "    else:\n",
    "        b = z*2\n",
    "    \n",
    "    return a*b\n",
    "\n",
    "\n",
    "print(function_xyz(1,2,3))\n",
    "print(function_xyz(1,-2,3))\n",
    "print(function_xyz(1,0,3))\n",
    "```\n",
    "\n",
    "Do you think any of the function calls will execute correctly? Explain your reasoning."
   ]
  },
  {
   "cell_type": "code",
   "execution_count": 26,
   "metadata": {},
   "outputs": [],
   "source": [
    "# write your answer as a comment here"
   ]
  },
  {
   "attachments": {},
   "cell_type": "markdown",
   "metadata": {},
   "source": [
    "## Exercise 5"
   ]
  },
  {
   "attachments": {},
   "cell_type": "markdown",
   "metadata": {},
   "source": [
    "Suppose that we have the following piece of code:\n",
    "\n",
    "```python\n",
    "def function_xyz(x,y,z):\n",
    "    x = 5\n",
    "    \n",
    "    if(y>0):\n",
    "        a = x*3\n",
    "    if(z>0):\n",
    "        b = z*2\n",
    "    \n",
    "    return a*b\n",
    "\n",
    "\n",
    "print(function_xyz(1,2,3))\n",
    "print(function_xyz(1,-2,-3))\n",
    "```\n",
    "\n",
    "Do you think any of the function calls will execute correctly? Explain your reasoning."
   ]
  },
  {
   "cell_type": "code",
   "execution_count": 27,
   "metadata": {},
   "outputs": [],
   "source": [
    "# write your answer as a comment here"
   ]
  },
  {
   "attachments": {},
   "cell_type": "markdown",
   "metadata": {},
   "source": [
    "## Exercise 6"
   ]
  },
  {
   "attachments": {},
   "cell_type": "markdown",
   "metadata": {},
   "source": [
    "Remember the Christmas tree we were trying to build on the previous exercise session? Now we want to be more flexible and based on our available space build different-sized Christmas trees, not only with 5 starts. Modify the following code so that it takes different numbers, and using them builds Christmas trees of different sizes. (You need to substitute only the question marks.)"
   ]
  },
  {
   "cell_type": "code",
   "execution_count": 16,
   "metadata": {},
   "outputs": [],
   "source": [
    "def build_christmas_tree( ? ):\n",
    "    for i in range(0, ? ):\n",
    "        for j in range(0,(i+ ?)):\n",
    "            if j>=(?-(i+1)):\n",
    "                if (j%2==0 and i%2==0) or (j%2==1 and i%2==1):\n",
    "                    print('*', end='')\n",
    "                else:\n",
    "                    print(' ', end='')\n",
    "            else:\n",
    "                print(' ', end='')\n",
    "        print(' ')"
   ]
  },
  {
   "cell_type": "code",
   "execution_count": 29,
   "metadata": {},
   "outputs": [],
   "source": [
    "# define a variable for the length\n",
    "# call the function"
   ]
  }
 ],
 "metadata": {
  "kernelspec": {
   "display_name": "python-jb",
   "language": "python",
   "name": "python3"
  },
  "language_info": {
   "codemirror_mode": {
    "name": "ipython",
    "version": 3
   },
   "file_extension": ".py",
   "mimetype": "text/x-python",
   "name": "python",
   "nbconvert_exporter": "python",
   "pygments_lexer": "ipython3",
   "version": "3.7.13"
  },
  "orig_nbformat": 4,
  "vscode": {
   "interpreter": {
    "hash": "0c2f5c4fba51b93f19e499abfcc9ef4d6fee5bb503e49077d95162365c0a0cb3"
   }
  }
 },
 "nbformat": 4,
 "nbformat_minor": 2
}
