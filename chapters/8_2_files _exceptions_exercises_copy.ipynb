{
 "cells": [
  {
   "attachments": {},
   "cell_type": "markdown",
   "metadata": {},
   "source": [
    "# Exercises"
   ]
  },
  {
   "cell_type": "code",
   "execution_count": 1,
   "metadata": {},
   "outputs": [],
   "source": [
    "import ipywidgets as widgets"
   ]
  },
  {
   "attachments": {},
   "cell_type": "markdown",
   "metadata": {},
   "source": [
    "## Exercise 1"
   ]
  },
  {
   "attachments": {},
   "cell_type": "markdown",
   "metadata": {},
   "source": [
    "<pre data-executable=\"true\" data-language=\"python\">"
   ]
  },
  {
   "cell_type": "code",
   "execution_count": 12,
   "metadata": {
    "tags": [
     "remove-input"
    ]
   },
   "outputs": [
    {
     "data": {
      "application/vnd.jupyter.widget-view+json": {
       "model_id": "6acd95f1621c42a283f94e5642771d7e",
       "version_major": 2,
       "version_minor": 0
      },
      "text/plain": [
       "VBox(children=(Output(outputs=({'output_type': 'stream', 'name': 'stdout', 'text': 'Which one of the following…"
      ]
     },
     "metadata": {},
     "output_type": "display_data"
    }
   ],
   "source": [
    "question = widgets.Output()\n",
    "question.append_stdout('Which one of the following modes of opening a file will overwrite all the contents of the file?')\n",
    "\n",
    "dropdow = widgets.RadioButtons(\n",
    "    options=['w', 'a', 'r+'],\n",
    "#    value='pineapple', # Defaults to 'pineapple'\n",
    "#    layout={'width': 'max-content'}, # If the items' names are long\n",
    "    description='',\n",
    "    disabled=False\n",
    ")\n",
    "\n",
    "check_button = widgets.Button(description='Check')\n",
    "\n",
    "out = widgets.Output()\n",
    "def on_button_clicked(_):\n",
    "      # \"linking function with output\"\n",
    "      with out:\n",
    "          # what happens when we press the button\n",
    "          out.clear_output()\n",
    "          if dropdow.value == 'w':\n",
    "            print(\"Correct!\")\n",
    "          else:\n",
    "            print(\"Incorrect!\")\n",
    "\n",
    "# linking button and function together using a button's method\n",
    "check_button.on_click(on_button_clicked)\n",
    "# displaying button and its output together\n",
    "widgets.VBox([question, dropdow, check_button, out])"
   ]
  },
  {
   "attachments": {},
   "cell_type": "markdown",
   "metadata": {},
   "source": [
    "## Exercise 2"
   ]
  },
  {
   "cell_type": "code",
   "execution_count": 13,
   "metadata": {
    "tags": [
     "remove-input"
    ]
   },
   "outputs": [
    {
     "data": {
      "application/vnd.jupyter.widget-view+json": {
       "model_id": "f8bb8497eb1f48cca26a83f65ff9fa65",
       "version_major": 2,
       "version_minor": 0
      },
      "text/plain": [
       "VBox(children=(Output(outputs=({'output_type': 'stream', 'name': 'stdout', 'text': 'What mode  of opening woul…"
      ]
     },
     "metadata": {},
     "output_type": "display_data"
    }
   ],
   "source": [
    "question = widgets.Output()\n",
    "question.append_stdout('What mode  of opening would you use for reading a file?')\n",
    "\n",
    "dropdow = widgets.RadioButtons(\n",
    "    options=['r', 'a', 'r+'],\n",
    "#    value='pineapple', # Defaults to 'pineapple'\n",
    "#    layout={'width': 'max-content'}, # If the items' names are long\n",
    "    description='',\n",
    "    disabled=False\n",
    ")\n",
    "\n",
    "check_button = widgets.Button(description='Check')\n",
    "\n",
    "out = widgets.Output()\n",
    "def on_button_clicked(_):\n",
    "      # \"linking function with output\"\n",
    "      with out:\n",
    "          # what happens when we press the button\n",
    "          out.clear_output()\n",
    "          if dropdow.value == 'r':\n",
    "            print(\"Correct!\")\n",
    "          else:\n",
    "            print(\"Incorrect!\")\n",
    "\n",
    "# linking button and function together using a button's method\n",
    "check_button.on_click(on_button_clicked)\n",
    "# displaying button and its output together\n",
    "widgets.VBox([question, dropdow, check_button, out])"
   ]
  },
  {
   "attachments": {},
   "cell_type": "markdown",
   "metadata": {},
   "source": [
    "## Exercise 3"
   ]
  },
  {
   "cell_type": "code",
   "execution_count": 14,
   "metadata": {},
   "outputs": [
    {
     "data": {
      "application/vnd.jupyter.widget-view+json": {
       "model_id": "82ab39c89bd54a2f9c994195f7f2d02e",
       "version_major": 2,
       "version_minor": 0
      },
      "text/plain": [
       "VBox(children=(Output(outputs=({'output_type': 'stream', 'name': 'stdout', 'text': 'Which error will correspon…"
      ]
     },
     "metadata": {},
     "output_type": "display_data"
    }
   ],
   "source": [
    "question = widgets.Output()\n",
    "question.append_stdout('Which error will correspond to passing an integer to a function when the function expects a string?')\n",
    "\n",
    "dropdow = widgets.RadioButtons(\n",
    "    options=['BaseError', 'ValueError', 'TypeError'],\n",
    "#    value='pineapple', # Defaults to 'pineapple'\n",
    "#    layout={'width': 'max-content'}, # If the items' names are long\n",
    "    description='',\n",
    "    disabled=False\n",
    ")\n",
    "\n",
    "check_button = widgets.Button(description='Check')\n",
    "\n",
    "out = widgets.Output()\n",
    "def on_button_clicked(_):\n",
    "      # \"linking function with output\"\n",
    "      with out:\n",
    "          # what happens when we press the button\n",
    "          out.clear_output()\n",
    "          if dropdow.value == 'ValueError':\n",
    "            print(\"Correct!\")\n",
    "          else:\n",
    "            print(\"Incorrect!\")\n",
    "\n",
    "# linking button and function together using a button's method\n",
    "check_button.on_click(on_button_clicked)\n",
    "# displaying button and its output together\n",
    "widgets.VBox([question, dropdow, check_button, out])"
   ]
  },
  {
   "attachments": {},
   "cell_type": "markdown",
   "metadata": {},
   "source": [
    "## Exercise 4"
   ]
  },
  {
   "attachments": {},
   "cell_type": "markdown",
   "metadata": {},
   "source": [
    "Write the following content into a file called `'exercise4.txt'`:\n",
    "\n",
    "*In this case, no exception was raised, as a result the code block in the try statement was executed successfully. After it was finished, the control went to the finally block, printing the statement and terminating.*"
   ]
  },
  {
   "cell_type": "code",
   "execution_count": null,
   "metadata": {},
   "outputs": [],
   "source": [
    "# write your code here"
   ]
  },
  {
   "attachments": {},
   "cell_type": "markdown",
   "metadata": {},
   "source": [
    "</pre>"
   ]
  },
  {
   "attachments": {},
   "cell_type": "markdown",
   "metadata": {},
   "source": [
    "## Exercise 5"
   ]
  },
  {
   "attachments": {},
   "cell_type": "markdown",
   "metadata": {},
   "source": [
    "Try to  read and print in the screen the contents of the file you created in Exercise 4."
   ]
  },
  {
   "cell_type": "code",
   "execution_count": null,
   "metadata": {},
   "outputs": [],
   "source": [
    "# write your code here"
   ]
  }
 ],
 "metadata": {
  "kernelspec": {
   "display_name": "python-jb",
   "language": "python",
   "name": "python3"
  },
  "language_info": {
   "codemirror_mode": {
    "name": "ipython",
    "version": 3
   },
   "file_extension": ".py",
   "mimetype": "text/x-python",
   "name": "python",
   "nbconvert_exporter": "python",
   "pygments_lexer": "ipython3",
   "version": "3.7.13"
  },
  "orig_nbformat": 4,
  "vscode": {
   "interpreter": {
    "hash": "0c2f5c4fba51b93f19e499abfcc9ef4d6fee5bb503e49077d95162365c0a0cb3"
   }
  }
 },
 "nbformat": 4,
 "nbformat_minor": 2
}
