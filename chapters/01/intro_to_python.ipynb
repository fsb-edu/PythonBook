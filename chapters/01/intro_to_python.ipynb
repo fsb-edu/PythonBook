{
 "cells": [
  {
   "cell_type": "markdown",
   "metadata": {},
   "source": [
    "# Introduction to Python programming"
   ]
  },
  {
   "cell_type": "markdown",
   "metadata": {},
   "source": [
    "(chapter1-label)=\n",
    "## Variables"
   ]
  },
  {
   "cell_type": "markdown",
   "metadata": {},
   "source": [
    "### What are variables?"
   ]
  },
  {
   "cell_type": "markdown",
   "metadata": {},
   "source": [
    "***Variables*** are nothing more than *placeholders* for values. Each variable has a name (**identifier**), which we as programmers give it. Also, each variable is assigned a value using the = (**assignment operator**). Variables are saved in the main memory (RAM) of a computer for the duration of the program execution. What really happens is this: when we give a name to a variable we actually name the memory location that will hold the value for that variable. The name that we give to the variables is not relevant to the computer at all. In the end, when the program is being executed the name will be translated to a memory address. {numref}`var-assign` illustrates the idea."
   ]
  },
  {
   "cell_type": "markdown",
   "metadata": {},
   "source": [
    "````{margin}\n",
    "```{attention}\n",
    "Do not forget that 2 is saved as a sequence of 0s and 1s in the main memory.\n",
    "```\n",
    "````\n",
    "\n",
    "```{figure} ../../images/1_intro_to_python/var_assign.jpg\n",
    ":alt: var_assign_illustration\n",
    ":name: var-assign\n",
    ":class: ch2\n",
    ":align: center\n",
    "\n",
    "Variable Assignment\n",
    "```"
   ]
  },
  {
   "cell_type": "markdown",
   "metadata": {},
   "source": [
    "```{important}\n",
    "Note that the computer does not change the name of an address for a memory cell. It just maps `x` to the value of that particular address, so that it knows whenever we call `x` in the code it is going to read the contents at that location. E.g. in {numref}`var-assign` , the address where 2 is saved would still be `0x6f66..` even after assigning 2 to that location. However, the computer would know that what we call `x` in reality it is `0x6f66..` .\n",
    "\n",
    "```"
   ]
  },
  {
   "cell_type": "markdown",
   "metadata": {},
   "source": [
    "Here is an example of assigning a value to a variable and then checking the variable's value using the `print()` function:"
   ]
  },
  {
   "cell_type": "markdown",
   "metadata": {},
   "source": [
    "````{margin}\n",
    "```{important}\n",
    "Note that all sentences that start with `#` are called **comments**. The interpreter ignores them. They are there to make the code easier to understand.\n",
    "```\n",
    "````"
   ]
  },
  {
   "cell_type": "code",
   "execution_count": 1,
   "metadata": {
    "execution": {
     "iopub.execute_input": "2023-05-30T09:23:55.149319Z",
     "iopub.status.busy": "2023-05-30T09:23:55.148519Z",
     "iopub.status.idle": "2023-05-30T09:23:55.161732Z",
     "shell.execute_reply": "2023-05-30T09:23:55.160519Z",
     "shell.execute_reply.started": "2023-05-30T09:23:55.149281Z"
    }
   },
   "outputs": [
    {
     "name": "stdout",
     "output_type": "stream",
     "text": [
      "The value of x is 2\n"
     ]
    }
   ],
   "source": [
    "x = 2 # assign value 2 to variable x\n",
    "print('The value of x is', x) # print the value of variable x"
   ]
  },
  {
   "cell_type": "markdown",
   "metadata": {},
   "source": [
    "We are free to name variables as we want, but it is a good practice to give them self-explanatory names, so that we can easily find out what is the purpose of each variable. In addition, there are some rules regarding the characters that an **identifier** can have. For example, they can contain letters, digits and underscores (_). However, an identifier must never start with a digit. Also, Python is a *case-sensitive* programming language. This means that two variables `a` and `A` are different. You cannot call `a` by calling `A`.\n",
    "\n",
    "```{note}\n",
    "When variable names contain more than one word, Python programmers use something that is called *snake case*, e.g `myVariableName` would be written as `my_variable_name`. Still, if you do not abide with this way of naming variables, the code will run without problems, as long as there are no other types of errors.\n",
    "```\n",
    "\n",
    "```{attention}\n",
    "Another important rule is the indentation. As we have stated previously, Python is a space-sensitive programming language. It is advised to use 4 spaces per indentation level. We will use this throughout our code examples.\n",
    "```\n",
    "\n",
    "You can find more rules for good programming practices in the [Style Guide Documentation for Python](https://peps.python.org/pep-0008/)."
   ]
  },
  {
   "cell_type": "markdown",
   "metadata": {},
   "source": [
    "### Types of variables"
   ]
  },
  {
   "cell_type": "markdown",
   "metadata": {},
   "source": [
    "The type of a variable determines what kind of values the variable is going to hold: integers, decimals, strings (sequences of characters), etc. However, we do not need to *explicitly* determine the type of a variable, since it is *implicitly* determined during runtime. There are several built-in data types in Python. Here, we present the most used ones. In the following chapters we are going to further explore many of them.\n",
    "We can check the type of a variable using the `type()` built-in function."
   ]
  },
  {
   "cell_type": "code",
   "execution_count": 2,
   "metadata": {
    "execution": {
     "iopub.execute_input": "2023-05-30T09:28:23.614876Z",
     "iopub.status.busy": "2023-05-30T09:28:23.614206Z",
     "iopub.status.idle": "2023-05-30T09:28:23.623524Z",
     "shell.execute_reply": "2023-05-30T09:28:23.622315Z",
     "shell.execute_reply.started": "2023-05-30T09:28:23.614807Z"
    }
   },
   "outputs": [],
   "source": [
    "# numeric values\n",
    "integer = 2 # integer\n",
    "decimal = 2.5 # decimal or floating-point number\n",
    "\n",
    "# boolean values\n",
    "boolean = True\n",
    "\n",
    "# sequence of characters\n",
    "string = 'Welcome to Python Programming!' # string\n",
    "\n",
    "#collection of values\n",
    "list_of_values = [1,2,3,4] # list\n",
    "tuples = ('a', 1) # tuple\n",
    "dictionary = {'one':1, 'two':2, 'three':3} # dictionary"
   ]
  },
  {
   "cell_type": "code",
   "execution_count": 3,
   "metadata": {
    "execution": {
     "iopub.execute_input": "2023-05-30T09:28:24.832221Z",
     "iopub.status.busy": "2023-05-30T09:28:24.831737Z",
     "iopub.status.idle": "2023-05-30T09:28:24.840514Z",
     "shell.execute_reply": "2023-05-30T09:28:24.839467Z",
     "shell.execute_reply.started": "2023-05-30T09:28:24.832182Z"
    }
   },
   "outputs": [
    {
     "name": "stdout",
     "output_type": "stream",
     "text": [
      "integer is of type <class 'int'>\n",
      "decimal is of type <class 'float'>\n",
      "boolean is of type <class 'bool'>\n",
      "string is of type <class 'str'>\n",
      "list_of_values is of type <class 'list'>\n",
      "tuples is of type <class 'tuple'>\n",
      "dictionary is of type <class 'dict'>\n"
     ]
    }
   ],
   "source": [
    "print('integer is of type', type(integer))\n",
    "print('decimal is of type', type(decimal))\n",
    "print('boolean is of type', type(boolean))\n",
    "print('string is of type', type(string))\n",
    "print('list_of_values is of type', type(list_of_values))\n",
    "print('tuples is of type', type(tuples))\n",
    "print('dictionary is of type', type(dictionary))"
   ]
  },
  {
   "cell_type": "markdown",
   "metadata": {},
   "source": [
    "{numref}`data-types-table` summarizes the above mentioned data types and the values that they hold."
   ]
  },
  {
   "cell_type": "markdown",
   "metadata": {},
   "source": [
    "```{list-table} Variable types in Python\n",
    ":header-rows: 1\n",
    ":name: data-types-table\n",
    "\n",
    "* - Variable Type\n",
    "  - Python Class\n",
    "  - Explanation\n",
    "* - integer\n",
    "  - `int`\n",
    "  - numbers like `...,-2,-1,0,1,2,...`\n",
    "* - decimal\n",
    "  - `float`\n",
    "  - decimal values, rational numbers, etc.\n",
    "* - boolean\n",
    "  - `bool`\n",
    "  - only values: `True` or `False`\n",
    "* - string\n",
    "  - `str`\n",
    "  - words, sentences, any sequence of characters\n",
    "* - list\n",
    "  - `list`\n",
    "  - mutable collection of variables or values\n",
    "* - tuple\n",
    "  - `tuple`\n",
    "  - immutable collection of variables or values\n",
    "* - dictionary\n",
    "  - `dict`\n",
    "  - collection of key-value pairs, where keys must be unique\n",
    "```"
   ]
  },
  {
   "cell_type": "markdown",
   "metadata": {},
   "source": [
    "## Arithmetic operators"
   ]
  },
  {
   "cell_type": "markdown",
   "metadata": {},
   "source": [
    "Python supports most of the arithmetic operators. Below you can see code examples. Each operator can receive two operands (numbers)."
   ]
  },
  {
   "cell_type": "markdown",
   "metadata": {},
   "source": [
    "### Addition (+)"
   ]
  },
  {
   "cell_type": "markdown",
   "metadata": {},
   "source": [
    "The following piece of code adds values `5` and `7` and assigns the result to the `sum_result` variable."
   ]
  },
  {
   "cell_type": "code",
   "execution_count": 4,
   "metadata": {
    "execution": {
     "iopub.execute_input": "2023-05-30T09:31:18.878867Z",
     "iopub.status.busy": "2023-05-30T09:31:18.878445Z",
     "iopub.status.idle": "2023-05-30T09:31:18.885715Z",
     "shell.execute_reply": "2023-05-30T09:31:18.883181Z",
     "shell.execute_reply.started": "2023-05-30T09:31:18.878835Z"
    }
   },
   "outputs": [
    {
     "name": "stdout",
     "output_type": "stream",
     "text": [
      "5 + 7 = 12\n"
     ]
    }
   ],
   "source": [
    "sum_result = 5 + 7\n",
    "print('5 + 7 =', sum_result)"
   ]
  },
  {
   "cell_type": "markdown",
   "metadata": {},
   "source": [
    "### Subtraction (-)"
   ]
  },
  {
   "cell_type": "markdown",
   "metadata": {},
   "source": [
    "The following piece of code subtracts value `5` from `7` and assigns the result to the `difference` variable."
   ]
  },
  {
   "cell_type": "code",
   "execution_count": 36,
   "metadata": {},
   "outputs": [
    {
     "name": "stdout",
     "output_type": "stream",
     "text": [
      "7 - 5 = 2\n"
     ]
    }
   ],
   "source": [
    "difference = 7 - 5\n",
    "print('7 - 5 =', difference)"
   ]
  },
  {
   "cell_type": "markdown",
   "metadata": {},
   "source": [
    "### Multiplication (*)"
   ]
  },
  {
   "cell_type": "markdown",
   "metadata": {},
   "source": [
    "The following piece of code multiplies values `5` and `7` and assigns the result to the `product` variable."
   ]
  },
  {
   "cell_type": "code",
   "execution_count": 37,
   "metadata": {},
   "outputs": [
    {
     "name": "stdout",
     "output_type": "stream",
     "text": [
      "5 * 7 = 35\n"
     ]
    }
   ],
   "source": [
    "product = 5 * 7\n",
    "print('5 * 7 =', product)"
   ]
  },
  {
   "cell_type": "markdown",
   "metadata": {},
   "source": [
    "### True division (/)"
   ]
  },
  {
   "cell_type": "markdown",
   "metadata": {},
   "source": [
    "The following piece of code divides values `7` by `5` and assigns the result to the `quotient` variable. The results will always be a floating-point number."
   ]
  },
  {
   "cell_type": "code",
   "execution_count": 5,
   "metadata": {
    "execution": {
     "iopub.execute_input": "2023-05-30T09:32:10.040316Z",
     "iopub.status.busy": "2023-05-30T09:32:10.039767Z",
     "iopub.status.idle": "2023-05-30T09:32:10.047248Z",
     "shell.execute_reply": "2023-05-30T09:32:10.045789Z",
     "shell.execute_reply.started": "2023-05-30T09:32:10.040262Z"
    }
   },
   "outputs": [
    {
     "name": "stdout",
     "output_type": "stream",
     "text": [
      "7 / 5 = 1.4\n"
     ]
    }
   ],
   "source": [
    "quotient_1 = 7 / 5\n",
    "print('7 / 5 =', quotient_1)"
   ]
  },
  {
   "cell_type": "markdown",
   "metadata": {},
   "source": [
    "### Floor division (//)"
   ]
  },
  {
   "cell_type": "markdown",
   "metadata": {},
   "source": [
    "In contrast to the *true division*, _floor division_ will divide two numbers and return an integer (whole number) which will be the result rounded down."
   ]
  },
  {
   "cell_type": "code",
   "execution_count": 6,
   "metadata": {
    "execution": {
     "iopub.execute_input": "2023-05-30T09:33:26.599114Z",
     "iopub.status.busy": "2023-05-30T09:33:26.598709Z",
     "iopub.status.idle": "2023-05-30T09:33:26.604101Z",
     "shell.execute_reply": "2023-05-30T09:33:26.602825Z",
     "shell.execute_reply.started": "2023-05-30T09:33:26.599080Z"
    }
   },
   "outputs": [
    {
     "name": "stdout",
     "output_type": "stream",
     "text": [
      "7 // 5 = 1\n"
     ]
    }
   ],
   "source": [
    "quotient_2 = 7 // 5\n",
    "print('7 // 5 =', quotient_2)"
   ]
  },
  {
   "cell_type": "markdown",
   "metadata": {},
   "source": [
    "### Remainder (%)"
   ]
  },
  {
   "cell_type": "markdown",
   "metadata": {},
   "source": [
    "The following piece of code finds the remainder of  `7` divided by `5` and assigns the result to the `remainder` variable. The result will always be an integer."
   ]
  },
  {
   "cell_type": "code",
   "execution_count": 7,
   "metadata": {
    "execution": {
     "iopub.execute_input": "2023-05-30T09:33:39.098587Z",
     "iopub.status.busy": "2023-05-30T09:33:39.097983Z",
     "iopub.status.idle": "2023-05-30T09:33:39.106138Z",
     "shell.execute_reply": "2023-05-30T09:33:39.105013Z",
     "shell.execute_reply.started": "2023-05-30T09:33:39.098527Z"
    }
   },
   "outputs": [
    {
     "name": "stdout",
     "output_type": "stream",
     "text": [
      "7 % 5 = 2\n"
     ]
    }
   ],
   "source": [
    "remainder = 7 % 5\n",
    "print('7 % 5 =', remainder)"
   ]
  },
  {
   "cell_type": "markdown",
   "metadata": {},
   "source": [
    "### Exponentiation (**)"
   ]
  },
  {
   "cell_type": "markdown",
   "metadata": {},
   "source": [
    "The following piece of code raises  `7` to the power of `5` and assigns the result to the `power` variable."
   ]
  },
  {
   "cell_type": "code",
   "execution_count": 8,
   "metadata": {
    "execution": {
     "iopub.execute_input": "2023-05-30T09:33:49.627985Z",
     "iopub.status.busy": "2023-05-30T09:33:49.627416Z",
     "iopub.status.idle": "2023-05-30T09:33:49.637680Z",
     "shell.execute_reply": "2023-05-30T09:33:49.634666Z",
     "shell.execute_reply.started": "2023-05-30T09:33:49.627942Z"
    }
   },
   "outputs": [
    {
     "name": "stdout",
     "output_type": "stream",
     "text": [
      "7 ^ 5 = 16807\n"
     ]
    }
   ],
   "source": [
    "power = 7 ** 5\n",
    "print('7 ^ 5 =', power)"
   ]
  },
  {
   "cell_type": "markdown",
   "metadata": {},
   "source": [
    "### Use of parentheses"
   ]
  },
  {
   "cell_type": "markdown",
   "metadata": {},
   "source": [
    "In Python expressions, parentheses have the same function as in algebraic expressions. They will group together values whose operations should be computed first. Check the code example below to understand the role of the parentheses. The precedence of the operators is the same as in algebraic expressions."
   ]
  },
  {
   "cell_type": "code",
   "execution_count": 9,
   "metadata": {
    "execution": {
     "iopub.execute_input": "2023-05-30T09:34:42.404279Z",
     "iopub.status.busy": "2023-05-30T09:34:42.403845Z",
     "iopub.status.idle": "2023-05-30T09:34:42.419212Z",
     "shell.execute_reply": "2023-05-30T09:34:42.418025Z",
     "shell.execute_reply.started": "2023-05-30T09:34:42.404245Z"
    }
   },
   "outputs": [
    {
     "data": {
      "text/plain": [
       "12"
      ]
     },
     "execution_count": 9,
     "metadata": {},
     "output_type": "execute_result"
    }
   ],
   "source": [
    "2*(4+2)"
   ]
  },
  {
   "cell_type": "code",
   "execution_count": 10,
   "metadata": {
    "execution": {
     "iopub.execute_input": "2023-05-30T09:34:43.210245Z",
     "iopub.status.busy": "2023-05-30T09:34:43.209703Z",
     "iopub.status.idle": "2023-05-30T09:34:43.218784Z",
     "shell.execute_reply": "2023-05-30T09:34:43.217435Z",
     "shell.execute_reply.started": "2023-05-30T09:34:43.210202Z"
    }
   },
   "outputs": [
    {
     "data": {
      "text/plain": [
       "10"
      ]
     },
     "execution_count": 10,
     "metadata": {},
     "output_type": "execute_result"
    }
   ],
   "source": [
    "2*4+2"
   ]
  },
  {
   "cell_type": "markdown",
   "metadata": {},
   "source": [
    "### Precedence rules"
   ]
  },
  {
   "cell_type": "markdown",
   "metadata": {},
   "source": [
    "If an expression contains multiple operators, then they are executed according to the following rules:\n",
    "\n",
    "```{important}\n",
    " 1. Expressions in parentheses are evaluated first.\n",
    " 2. Exponentiation is evaluated next in a right to left fashion if there are multiple of them.\n",
    " 3. Multiplication, division and remainder are evaluated next from left to right if there are many.\n",
    " 4. Addition and subtraction are left for the very end, just like in algebraic expressions.\n",
    "```"
   ]
  },
  {
   "cell_type": "markdown",
   "metadata": {},
   "source": [
    "You can learn more about Python operator precedence in the [official Python documentation](https://docs.python.org/3/reference/expressions.html#operator-precedence)."
   ]
  },
  {
   "cell_type": "markdown",
   "metadata": {},
   "source": [
    "In {numref}`op-prec` you can find an example on how Python would evaluate an algebraic expression with many operators."
   ]
  },
  {
   "cell_type": "markdown",
   "metadata": {},
   "source": [
    "```{figure} ..././images/1_intro_to_python/op_prec.jpg\n",
    ":alt: operator_precedence_illustration\n",
    ":name: op-prec\n",
    ":class: ch2\n",
    ":align: center\n",
    "\n",
    "Operator Precedence Example\n",
    "```"
   ]
  },
  {
   "cell_type": "markdown",
   "metadata": {},
   "source": [
    "```{note}\n",
    "All operators produce a result that has the same type as their operands (inputs), except of the true division (/) that always produces a floating-point number. In case when the operands are of mixed-types, e.g. one is an integer and one a floating-point, the result will always be a floating point.\n",
    "```"
   ]
  },
  {
   "cell_type": "markdown",
   "metadata": {},
   "source": [
    "(comp-op-ch2-label)=\n",
    "## Comparison operators"
   ]
  },
  {
   "cell_type": "markdown",
   "metadata": {},
   "source": [
    "Python supports the algebraic comparison operators as well. As we will see in the next chapters, they are important in conditional statements. Here you can find a summary of the **comparison operators**:\n",
    "\n",
    "```{list-table} Comparison Operators\n",
    ":header-rows: 1\n",
    ":name: comparison-operators-table\n",
    "\n",
    "* - Operator\n",
    "  - Function\n",
    "  - Example\n",
    "* - ==\n",
    "  - Test for equality\n",
    "  - x == y\n",
    "* - !=\n",
    "  - Test for inequality\n",
    "  - x != y\n",
    "* - \\>\n",
    "  - Greater than\n",
    "  - x > y\n",
    "* - <\n",
    "  - Less than\n",
    "  - x < y\n",
    "* - \\>=\n",
    "  - Greater than or equal\n",
    "  - x >= y\n",
    "* - <=\n",
    "  - Less than or equal\n",
    "  - x <= y\n",
    "```"
   ]
  },
  {
   "cell_type": "markdown",
   "metadata": {},
   "source": [
    "## Logical operators"
   ]
  },
  {
   "cell_type": "markdown",
   "metadata": {},
   "source": [
    "**Logical operators** take at most two boolean values and output a single boolean value. They are used to evaluate whether an expression is `True` or `False`. There are truth tables that indicate the results of each of the logical operators. The most used logical operators are: AND, OR and NOT."
   ]
  },
  {
   "cell_type": "markdown",
   "metadata": {},
   "source": [
    "### Logical AND"
   ]
  },
  {
   "cell_type": "markdown",
   "metadata": {},
   "source": [
    "Here you can find the truth table of the logical **AND**. It evaluates to TRUE only if both operands are true.\n",
    "\n",
    "```{list-table} AND Truth Table\n",
    ":header-rows: 1\n",
    ":name: and-truth-table\n",
    "\n",
    "* - Operand 1\n",
    "  - Operand 2\n",
    "  - Result\n",
    "* - True\n",
    "  - True\n",
    "  - True\n",
    "* - True\n",
    "  - False\n",
    "  - False\n",
    "* - False\n",
    "  - True\n",
    "  - False\n",
    "* - False\n",
    "  - False\n",
    "  - False\n",
    "```"
   ]
  },
  {
   "cell_type": "markdown",
   "metadata": {},
   "source": [
    "Let us see some examples in Python."
   ]
  },
  {
   "cell_type": "code",
   "execution_count": 12,
   "metadata": {
    "execution": {
     "iopub.execute_input": "2023-05-30T09:37:23.247478Z",
     "iopub.status.busy": "2023-05-30T09:37:23.246427Z",
     "iopub.status.idle": "2023-05-30T09:37:23.254584Z",
     "shell.execute_reply": "2023-05-30T09:37:23.253179Z",
     "shell.execute_reply.started": "2023-05-30T09:37:23.247403Z"
    }
   },
   "outputs": [],
   "source": [
    "x = 3\n",
    "y = 5"
   ]
  },
  {
   "cell_type": "code",
   "execution_count": 13,
   "metadata": {
    "execution": {
     "iopub.execute_input": "2023-05-30T09:37:23.680117Z",
     "iopub.status.busy": "2023-05-30T09:37:23.679703Z",
     "iopub.status.idle": "2023-05-30T09:37:23.687419Z",
     "shell.execute_reply": "2023-05-30T09:37:23.686269Z",
     "shell.execute_reply.started": "2023-05-30T09:37:23.680084Z"
    },
    "tags": []
   },
   "outputs": [
    {
     "name": "stdout",
     "output_type": "stream",
     "text": [
      "x > 0 is True\n",
      "y > 0 is True\n",
      "(x > 0) and (y > 0) is True\n"
     ]
    }
   ],
   "source": [
    "print('x > 0 is', (x > 0))\n",
    "print('y > 0 is', (y > 0))\n",
    "print('(x > 0) and (y > 0) is', (x > 0) and (y > 0))"
   ]
  },
  {
   "cell_type": "markdown",
   "metadata": {},
   "source": [
    "As we can see from the code cell above, the left operand evaluates to `True` since `x = 3 > 0` is true. The same for the right operand, since `y = 5 > 0` is true. This situation corresponds to the first row of {numref}`and-truth-table` and the results of the table correspond to what is printed in our case. "
   ]
  },
  {
   "cell_type": "code",
   "execution_count": 14,
   "metadata": {
    "execution": {
     "iopub.execute_input": "2023-05-30T09:38:02.506847Z",
     "iopub.status.busy": "2023-05-30T09:38:02.506274Z",
     "iopub.status.idle": "2023-05-30T09:38:02.514600Z",
     "shell.execute_reply": "2023-05-30T09:38:02.513120Z",
     "shell.execute_reply.started": "2023-05-30T09:38:02.506803Z"
    }
   },
   "outputs": [
    {
     "name": "stdout",
     "output_type": "stream",
     "text": [
      "x < 0 is False\n",
      "y < 0 is False\n",
      "(x < 0) and (y < 0) is False\n"
     ]
    }
   ],
   "source": [
    "print('x < 0 is', (x < 0))\n",
    "print('y < 0 is', (y < 0))\n",
    "print('(x < 0) and (y < 0) is', (x < 0) and (y < 0))"
   ]
  },
  {
   "cell_type": "markdown",
   "metadata": {},
   "source": [
    "In this case, both operands evaluate to `False`. So, we are in the last row of {numref}`and-truth-table`, the expected result is `False`, which is indeed what we got."
   ]
  },
  {
   "cell_type": "code",
   "execution_count": 15,
   "metadata": {
    "execution": {
     "iopub.execute_input": "2023-05-30T09:38:46.696384Z",
     "iopub.status.busy": "2023-05-30T09:38:46.695583Z",
     "iopub.status.idle": "2023-05-30T09:38:46.703583Z",
     "shell.execute_reply": "2023-05-30T09:38:46.702574Z",
     "shell.execute_reply.started": "2023-05-30T09:38:46.696338Z"
    }
   },
   "outputs": [
    {
     "name": "stdout",
     "output_type": "stream",
     "text": [
      "x > 0 is True\n",
      "y < 0 is False\n",
      "(x > 0) and (y < 0) is False\n"
     ]
    }
   ],
   "source": [
    "print('x > 0 is', (x > 0))\n",
    "print('y < 0 is', (y < 0))\n",
    "print('(x > 0) and (y < 0) is', (x > 0) and (y < 0))"
   ]
  },
  {
   "cell_type": "markdown",
   "metadata": {},
   "source": [
    "The same will be in this case:"
   ]
  },
  {
   "cell_type": "code",
   "execution_count": 16,
   "metadata": {
    "execution": {
     "iopub.execute_input": "2023-05-30T09:38:48.531701Z",
     "iopub.status.busy": "2023-05-30T09:38:48.531169Z",
     "iopub.status.idle": "2023-05-30T09:38:48.539159Z",
     "shell.execute_reply": "2023-05-30T09:38:48.537497Z",
     "shell.execute_reply.started": "2023-05-30T09:38:48.531661Z"
    }
   },
   "outputs": [
    {
     "name": "stdout",
     "output_type": "stream",
     "text": [
      "x < 0 is False\n",
      "y > 0 is True\n",
      "(x < 0) and (y > 0) is False\n"
     ]
    }
   ],
   "source": [
    "print('x < 0 is', (x < 0))\n",
    "print('y > 0 is', (y > 0))\n",
    "print('(x < 0) and (y > 0) is', (x < 0) and (y > 0))"
   ]
  },
  {
   "cell_type": "markdown",
   "metadata": {},
   "source": [
    "### Logical OR"
   ]
  },
  {
   "cell_type": "markdown",
   "metadata": {},
   "source": [
    "Here you can find the truth table of the logical **OR**. It evaluates to `False` only if both operands are `False`.\n",
    "\n",
    "```{list-table} OR Truth Table\n",
    ":header-rows: 1\n",
    ":name: or-truth-table\n",
    "\n",
    "* - Operand 1\n",
    "  - Operand 2\n",
    "  - Result\n",
    "* - True\n",
    "  - True\n",
    "  - True\n",
    "* - True\n",
    "  - False\n",
    "  - True\n",
    "* - False\n",
    "  - True\n",
    "  - True\n",
    "* - False\n",
    "  - False\n",
    "  - False\n",
    "```"
   ]
  },
  {
   "cell_type": "markdown",
   "metadata": {},
   "source": [
    "Let us apply the same operations as in the AND case above and see the results."
   ]
  },
  {
   "cell_type": "code",
   "execution_count": 17,
   "metadata": {
    "execution": {
     "iopub.execute_input": "2023-05-30T09:39:23.627072Z",
     "iopub.status.busy": "2023-05-30T09:39:23.626635Z",
     "iopub.status.idle": "2023-05-30T09:39:23.633732Z",
     "shell.execute_reply": "2023-05-30T09:39:23.632561Z",
     "shell.execute_reply.started": "2023-05-30T09:39:23.627037Z"
    }
   },
   "outputs": [
    {
     "name": "stdout",
     "output_type": "stream",
     "text": [
      "x > 0 is True\n",
      "y > 0 is True\n",
      "(x > 0) or (y > 0) is True\n"
     ]
    }
   ],
   "source": [
    "print('x > 0 is', (x > 0))\n",
    "print('y > 0 is', (y > 0))\n",
    "print('(x > 0) or (y > 0) is', (x > 0) or (y > 0))"
   ]
  },
  {
   "cell_type": "markdown",
   "metadata": {},
   "source": [
    "As we can see from the code cell above, the left operand evaluates to `True` since `x = 3 > 0` is true. The same for the right operand, since `y = 5 > 0` is true. This situation corresponds to the first row of {numref}`or-truth-table` and the results there corresponds to what is printed in our case. "
   ]
  },
  {
   "cell_type": "code",
   "execution_count": 18,
   "metadata": {
    "execution": {
     "iopub.execute_input": "2023-05-30T09:39:30.803207Z",
     "iopub.status.busy": "2023-05-30T09:39:30.801972Z",
     "iopub.status.idle": "2023-05-30T09:39:30.810728Z",
     "shell.execute_reply": "2023-05-30T09:39:30.809688Z",
     "shell.execute_reply.started": "2023-05-30T09:39:30.803139Z"
    }
   },
   "outputs": [
    {
     "name": "stdout",
     "output_type": "stream",
     "text": [
      "x < 0 is False\n",
      "y < 0 is False\n",
      "(x < 0) or (y < 0) is False\n"
     ]
    }
   ],
   "source": [
    "print('x < 0 is', (x < 0))\n",
    "print('y < 0 is', (y < 0))\n",
    "print('(x < 0) or (y < 0) is', (x < 0) or (y < 0))"
   ]
  },
  {
   "cell_type": "markdown",
   "metadata": {},
   "source": [
    "In this case, both operands evaluate to `False`. So, we are in the last row of {numref}`or-truth-table`, the excepted result is `False`, which is indeed what we got."
   ]
  },
  {
   "cell_type": "code",
   "execution_count": 19,
   "metadata": {
    "execution": {
     "iopub.execute_input": "2023-05-30T09:39:31.717013Z",
     "iopub.status.busy": "2023-05-30T09:39:31.716417Z",
     "iopub.status.idle": "2023-05-30T09:39:31.726903Z",
     "shell.execute_reply": "2023-05-30T09:39:31.725677Z",
     "shell.execute_reply.started": "2023-05-30T09:39:31.716962Z"
    }
   },
   "outputs": [
    {
     "name": "stdout",
     "output_type": "stream",
     "text": [
      "x > 0 is True\n",
      "y < 0 is False\n",
      "(x > 0) or (y < 0) is True\n"
     ]
    }
   ],
   "source": [
    "print('x > 0 is', (x > 0))\n",
    "print('y < 0 is', (y < 0))\n",
    "print('(x > 0) or (y < 0) is', (x > 0) or (y < 0))"
   ]
  },
  {
   "cell_type": "markdown",
   "metadata": {},
   "source": [
    "Here we see that it is sufficient for only one operand to be `True` in order for the result of the OR operator to be `True`. It is the same even below."
   ]
  },
  {
   "cell_type": "code",
   "execution_count": 20,
   "metadata": {
    "execution": {
     "iopub.execute_input": "2023-05-30T09:39:32.992355Z",
     "iopub.status.busy": "2023-05-30T09:39:32.991208Z",
     "iopub.status.idle": "2023-05-30T09:39:32.999749Z",
     "shell.execute_reply": "2023-05-30T09:39:32.998106Z",
     "shell.execute_reply.started": "2023-05-30T09:39:32.992305Z"
    }
   },
   "outputs": [
    {
     "name": "stdout",
     "output_type": "stream",
     "text": [
      "x < 0 is False\n",
      "y > 0 is True\n",
      "(x < 0) or (y > 0) is True\n"
     ]
    }
   ],
   "source": [
    "print('x < 0 is', (x < 0))\n",
    "print('y > 0 is', (y > 0))\n",
    "print('(x < 0) or (y > 0) is', (x < 0) or (y > 0))"
   ]
  },
  {
   "cell_type": "markdown",
   "metadata": {},
   "source": [
    "### Logical NOT"
   ]
  },
  {
   "cell_type": "markdown",
   "metadata": {},
   "source": [
    "The **NOT** operator is used to invert the value the operand. It receives only one operand. If the value it receives is `True` it will output `False` and if the value it receives is `False`, it will output `True`. Here is the truth table.\n",
    "\n",
    "```{list-table} NOT Truth Table\n",
    ":header-rows: 1\n",
    ":name: not-truth-table\n",
    "\n",
    "* - Operand 1\n",
    "  - Result\n",
    "* - True\n",
    "  - False\n",
    "* - False\n",
    "  - True\n",
    "```"
   ]
  },
  {
   "cell_type": "markdown",
   "metadata": {},
   "source": [
    "Here are some code examples that illustrate the NOT operator."
   ]
  },
  {
   "cell_type": "code",
   "execution_count": 21,
   "metadata": {
    "execution": {
     "iopub.execute_input": "2023-05-30T09:39:47.299893Z",
     "iopub.status.busy": "2023-05-30T09:39:47.299388Z",
     "iopub.status.idle": "2023-05-30T09:39:47.317842Z",
     "shell.execute_reply": "2023-05-30T09:39:47.316625Z",
     "shell.execute_reply.started": "2023-05-30T09:39:47.299849Z"
    }
   },
   "outputs": [
    {
     "name": "stdout",
     "output_type": "stream",
     "text": [
      "Flag variable at the beginning is: True\n",
      "Flag variable after modification is: False\n",
      "Flag variable after the second modification is: True\n"
     ]
    }
   ],
   "source": [
    "flag = True\n",
    "print('Flag variable at the beginning is:',flag)\n",
    "flag = not(flag)\n",
    "print('Flag variable after modification is:', flag)\n",
    "flag = not(flag)\n",
    "print('Flag variable after the second modification is:', flag)"
   ]
  },
  {
   "cell_type": "code",
   "execution_count": null,
   "metadata": {},
   "outputs": [],
   "source": []
  }
 ],
 "metadata": {
  "kernelspec": {
   "display_name": "Python 3 (ipykernel)",
   "language": "python",
   "name": "python3"
  },
  "language_info": {
   "codemirror_mode": {
    "name": "ipython",
    "version": 3
   },
   "file_extension": ".py",
   "mimetype": "text/x-python",
   "name": "python",
   "nbconvert_exporter": "python",
   "pygments_lexer": "ipython3",
   "version": "3.7.12"
  },
  "vscode": {
   "interpreter": {
    "hash": "0c2f5c4fba51b93f19e499abfcc9ef4d6fee5bb503e49077d95162365c0a0cb3"
   }
  }
 },
 "nbformat": 4,
 "nbformat_minor": 4
}
