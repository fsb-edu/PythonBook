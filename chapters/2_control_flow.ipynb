{
 "cells": [
  {
   "attachments": {},
   "cell_type": "markdown",
   "metadata": {},
   "source": [
    "# If-Else Statements and Loops"
   ]
  },
  {
   "attachments": {},
   "cell_type": "markdown",
   "metadata": {},
   "source": [
    "So far, the statements in the code blocks we have seen have executed sequentially, meaning each statement would be executed after the previous statements have executed. However, this is not always the case. Sometimes based on some condition some statements should be executed and others should be ignored. In other cases, some statements should be executed repeatedly until some condition fails. That's where **conditional statements** and **loops** become helpful. They are fundamental to every piece of software."
   ]
  },
  {
   "attachments": {},
   "cell_type": "markdown",
   "metadata": {},
   "source": [
    "## Algorithms and Pseudocode"
   ]
  },
  {
   "attachments": {},
   "cell_type": "markdown",
   "metadata": {},
   "source": [
    "Before we sit down and write code to solve a problem, it is important to have a plan on how to solve the problem. This series of steps that will solve the problem is called an **algorithm**."
   ]
  },
  {
   "attachments": {},
   "cell_type": "markdown",
   "metadata": {},
   "source": [
    "Algorithms can be expressed in *pseudocode* or *flowcharts* before being actually written. *Pseudocode* is writing code but in normal, spoken language. On the other hand a *flowchart* is a graphical representation of the flow of control (order of steps) of an  algorithm."
   ]
  },
  {
   "attachments": {},
   "cell_type": "markdown",
   "metadata": {},
   "source": [
    "Let us look at an example. Suppose we want to see if a number is positive or negative. {numref}`fwch-pseudo` below shows an example of an algorithm's pseudocode and flowchart."
   ]
  },
  {
   "attachments": {},
   "cell_type": "markdown",
   "metadata": {},
   "source": [
    "```{figure} ../images/2_control_flow/flowchart_pseudocode.jpg\n",
    ":alt: flowchart_pseudocode_illustration\n",
    ":name: fwch-pseudo\n",
    ":class: ch3\n",
    ":align: center\n",
    "\n",
    "Pseudocode and Flowchart Example\n",
    "```"
   ]
  },
  {
   "attachments": {},
   "cell_type": "markdown",
   "metadata": {},
   "source": [
    "Here is the program from the flowchart and pseudocode."
   ]
  },
  {
   "cell_type": "code",
   "execution_count": 5,
   "metadata": {},
   "outputs": [
    {
     "name": "stdout",
     "output_type": "stream",
     "text": [
      "Negative number\n"
     ]
    }
   ],
   "source": [
    "x = -5\n",
    "if x > 0:\n",
    "    print('Positive number')\n",
    "if x < 0:\n",
    "    print('Negative number')"
   ]
  },
  {
   "attachments": {},
   "cell_type": "markdown",
   "metadata": {},
   "source": [
    "## Conditional Statements"
   ]
  },
  {
   "attachments": {},
   "cell_type": "markdown",
   "metadata": {},
   "source": [
    "Conditional statements are used to decide which part of the code should be executed based on whether a specific condition is fulfilled or not. "
   ]
  },
  {
   "attachments": {},
   "cell_type": "markdown",
   "metadata": {},
   "source": [
    "### if statements"
   ]
  },
  {
   "attachments": {},
   "cell_type": "markdown",
   "metadata": {},
   "source": [
    "The syntax for the one-way conditional statement is:\n",
    "\n",
    "```python\n",
    "if condition:\n",
    "    do something\n",
    "```\n",
    "The code inside the `if` block will be executed only if the condition in the `if` statement evaluates to `True`. Let us look at some examples."
   ]
  },
  {
   "cell_type": "code",
   "execution_count": 9,
   "metadata": {},
   "outputs": [
    {
     "name": "stdout",
     "output_type": "stream",
     "text": [
      "x is positive\n"
     ]
    }
   ],
   "source": [
    "x = -5\n",
    "if x < 0:\n",
    "    print('x is positive')"
   ]
  },
  {
   "attachments": {},
   "cell_type": "markdown",
   "metadata": {},
   "source": [
    "Since the condition of the `if` statement evaluates to `True`, the `print` statement is going to be executed and we see the printed result."
   ]
  },
  {
   "cell_type": "code",
   "execution_count": 7,
   "metadata": {},
   "outputs": [],
   "source": [
    "if x > 0:\n",
    "    print('x is negative')"
   ]
  },
  {
   "attachments": {},
   "cell_type": "markdown",
   "metadata": {},
   "source": [
    "As expected, the above code cell does not display anything because the condition `x > 0` evaluates to `False`, thus the code block inside the `if` statement does not execute."
   ]
  },
  {
   "attachments": {},
   "cell_type": "markdown",
   "metadata": {},
   "source": [
    "### if-else statements"
   ]
  },
  {
   "attachments": {},
   "cell_type": "markdown",
   "metadata": {},
   "source": [
    "if-else statements are also known as two-way conditional or selection statements. The syntax of the `if-else` statement is as follows:\n",
    "\n",
    "```python\n",
    "if condition:\n",
    "    do something\n",
    "else:\n",
    "    do something else\n",
    "```\n",
    "\n",
    "The control flow is: if the condition in  the `if` statement is `True`, then the block inside the `if` statement is going to get executed. If the condition fails, then the block in the `else` statement will be executed."
   ]
  },
  {
   "attachments": {},
   "cell_type": "markdown",
   "metadata": {},
   "source": [
    "To better understand this, let us look at some examples."
   ]
  },
  {
   "cell_type": "code",
   "execution_count": 13,
   "metadata": {},
   "outputs": [
    {
     "name": "stdout",
     "output_type": "stream",
     "text": [
      "Congratulations! You passed the level.\n"
     ]
    }
   ],
   "source": [
    "points = 100\n",
    "if points >= 85:\n",
    "    print('Congratulations! You passed the level.')\n",
    "else:\n",
    "    print('Try again.')"
   ]
  },
  {
   "attachments": {},
   "cell_type": "markdown",
   "metadata": {},
   "source": [
    "````{margin}\n",
    "```{note}\n",
    "It suffices that the *condition* is a boolean expression that evaluates to `True` or `False`.\n",
    "```\n",
    "````\n",
    "\n",
    "````{margin}\n",
    "```{note}\n",
    "All non-zero numerical values and all non-empty strings evaluate to `True`. A `0` or an empty string (`''`) evaluate to `False`.\n",
    "```\n",
    "````\n",
    "In this case, we are assigning the value `100` to the `point` variable. The condition in the `if` statement evaluates to `True`, so the `print` statement inside the `if` block is going to be executed. The block in the `else` statement is completely ignored and the execution would continue with whatever comes after the `if-else` block."
   ]
  },
  {
   "cell_type": "code",
   "execution_count": 14,
   "metadata": {},
   "outputs": [
    {
     "name": "stdout",
     "output_type": "stream",
     "text": [
      "No need for umbrella today.\n"
     ]
    }
   ],
   "source": [
    "is_rainning = False\n",
    "if is_rainning:\n",
    "    print('Take the umbrella with you.')\n",
    "else:\n",
    "    print('No need for umbrella today.')"
   ]
  },
  {
   "attachments": {},
   "cell_type": "markdown",
   "metadata": {},
   "source": [
    "In the above code snippet, `is_rainning` is set to `False`. This means that the condition in the `if` statement will be `False` so whatever is in the `else` block will be executed. Thus, in this case we see the `string` in the `else` block printed out."
   ]
  },
  {
   "attachments": {},
   "cell_type": "markdown",
   "metadata": {},
   "source": [
    "### if-elif-else statements"
   ]
  },
  {
   "attachments": {},
   "cell_type": "markdown",
   "metadata": {},
   "source": [
    "What happens if there are multiple conditions to check? Clearly the one-way and two-way selection statements are not enough. For this, the `if-elif-else` statements are useful. The syntax of the `if-elif-else` statements is:\n",
    "\n",
    "```python\n",
    "if condition_1:\n",
    "    do action_1\n",
    "elif condition_2:\n",
    "    do action_2\n",
    "else:\n",
    "    do action_3\n",
    "```\n",
    "\n",
    "We can chain as many conditions as we want in `elif` blocks, however the starting block is an `if` block and the end block is an `else` block to account for default cases."
   ]
  },
  {
   "attachments": {},
   "cell_type": "markdown",
   "metadata": {},
   "source": [
    "Let us see some examples below. We want to model the grading scale of ETH to the descriptions for each grade."
   ]
  },
  {
   "cell_type": "code",
   "execution_count": 34,
   "metadata": {},
   "outputs": [],
   "source": [
    "grade = 5"
   ]
  },
  {
   "cell_type": "code",
   "execution_count": 35,
   "metadata": {},
   "outputs": [
    {
     "name": "stdout",
     "output_type": "stream",
     "text": [
      "Good\n"
     ]
    }
   ],
   "source": [
    "if grade>=5.75 and grade<=6.0:\n",
    "    print('Excellent')\n",
    "elif grade>=5.25 and grade<=5.5:\n",
    "    print('Very Good')\n",
    "elif grade>=4.75 and grade<=5.0:\n",
    "    print('Good')\n",
    "elif grade>=4.25 and grade<=4.5:\n",
    "    print('Satisfactory')\n",
    "elif grade==4.0:\n",
    "    print('Sufficient')\n",
    "elif grade>6.0 or grade<1:\n",
    "    print('Wrong grade')\n",
    "else:\n",
    "    print('Insufficient')"
   ]
  },
  {
   "attachments": {},
   "cell_type": "markdown",
   "metadata": {},
   "source": [
    "In this case, each condition will be evaluated from the beginning of the whole code snippet until the end. The first condition to be checked will the one in the `if` statement. If that evaluates to `True`, `Excellent` will be printed and the other statements skipped. If the condition fails, then the second one is checked. The same logic is used until either a condition evaluates to `True` or the `else` statement is reached. "
   ]
  },
  {
   "attachments": {},
   "cell_type": "markdown",
   "metadata": {},
   "source": [
    "It is not mandatory to include an `else` statement in the end. However, there will not be any action taken if all previous conditions have failed.\n",
    "````{margin}\n",
    "```{warning}\n",
    "Be careful not to confuse the **assignement** operator `=` with the equality **comparison** operator `==`.\n",
    "```\n",
    "````"
   ]
  },
  {
   "cell_type": "code",
   "execution_count": 40,
   "metadata": {},
   "outputs": [],
   "source": [
    "grade = 3\n",
    "if grade>=5.75 and grade<=6.0:\n",
    "    print('Excellent')\n",
    "elif grade>=5.25 and grade<=5.5:\n",
    "    print('Very Good')\n",
    "elif grade>=4.75 and grade<=5.0:\n",
    "    print('Good')\n",
    "elif grade>=4.25 and grade<=4.5:\n",
    "    print('Satisfactory')\n",
    "elif grade==4.0:\n",
    "    print('Sufficient')\n",
    "elif grade>6.0 or grade<1:\n",
    "    print('Wrong grade')"
   ]
  },
  {
   "attachments": {},
   "cell_type": "markdown",
   "metadata": {},
   "source": [
    "In this case, nothing is printed because no condition evaluates to `True` when `grade = 3`."
   ]
  },
  {
   "attachments": {},
   "cell_type": "markdown",
   "metadata": {},
   "source": [
    "```{note}\n",
    "It is also possible to nest `if` blocks inside an `if`, `else` or `elif` blocks. An example would be the following code snippet:\n",
    "```"
   ]
  },
  {
   "cell_type": "code",
   "execution_count": 37,
   "metadata": {},
   "outputs": [
    {
     "name": "stdout",
     "output_type": "stream",
     "text": [
      "Good or Satisfactory\n"
     ]
    }
   ],
   "source": [
    "grade = 5\n",
    "if grade>=5.25:\n",
    "    if grade>=5.75: # grade is already greater than 5.25, is it greater than 5.75 too?\n",
    "        print('Excellent')\n",
    "    else: #grade greater than 5.25 but less than 5.75\n",
    "        print('Very Good')\n",
    "else: # grade less than 5.25\n",
    "    print('Good or Satisfactory')"
   ]
  },
  {
   "attachments": {},
   "cell_type": "markdown",
   "metadata": {},
   "source": [
    "````{warning}\n",
    "It is important to pay attention to indentation in Python. Adding unnecessary indentation will lead to `IndentationError`. Indentation should be consistent inside code blocks. See the below code for an example of a situation that will cause this error.\n",
    "```python\n",
    "grade = 5\n",
    "if grade>=5.25:\n",
    "     if grade>=5.75: # added extra space at the beginning of this line\n",
    "         print('Excellent')\n",
    "    else: \n",
    "        print('Very Good')\n",
    " else: # adding extra space at the beginning of this line\n",
    "    print('Good or Satisfactory')\n",
    "```\n",
    "````"
   ]
  },
  {
   "attachments": {},
   "cell_type": "markdown",
   "metadata": {},
   "source": [
    "## Loops"
   ]
  },
  {
   "attachments": {},
   "cell_type": "markdown",
   "metadata": {},
   "source": [
    "### while loop"
   ]
  },
  {
   "attachments": {},
   "cell_type": "markdown",
   "metadata": {},
   "source": [
    "### do-while loop"
   ]
  },
  {
   "attachments": {},
   "cell_type": "markdown",
   "metadata": {},
   "source": [
    "### for loop"
   ]
  }
 ],
 "metadata": {
  "kernelspec": {
   "display_name": "python-jb",
   "language": "python",
   "name": "python3"
  },
  "language_info": {
   "codemirror_mode": {
    "name": "ipython",
    "version": 3
   },
   "file_extension": ".py",
   "mimetype": "text/x-python",
   "name": "python",
   "nbconvert_exporter": "python",
   "pygments_lexer": "ipython3",
   "version": "3.7.13"
  },
  "orig_nbformat": 4,
  "vscode": {
   "interpreter": {
    "hash": "0c2f5c4fba51b93f19e499abfcc9ef4d6fee5bb503e49077d95162365c0a0cb3"
   }
  }
 },
 "nbformat": 4,
 "nbformat_minor": 2
}
