{
 "cells": [
  {
   "attachments": {},
   "cell_type": "markdown",
   "metadata": {},
   "source": [
    "# If-Else Statements and Loops"
   ]
  },
  {
   "attachments": {},
   "cell_type": "markdown",
   "metadata": {},
   "source": [
    "So far, the statements in the code blocks we have seen have executed sequentially, meaning each statement would be executed after the previous statements have finished executing. However, this is not always the case. Sometimes based on some condition some statements should be executed and others should be ignored. In other cases, some statements should be executed repeatedly until some condition fails. That's where **conditional statements** and **loops** become helpful. They are fundamental to every piece of software."
   ]
  },
  {
   "attachments": {},
   "cell_type": "markdown",
   "metadata": {},
   "source": [
    "```{admonition} Chapter Summary\n",
    "- Algorithms and Pseudocode\n",
    "- Conditional Statements\n",
    "    - **if**, **if-else**, **if-elif-else**\n",
    "    - ternary operator\n",
    "- Loops\n",
    "    - **while**, **for**, **nested loops**, **for** with **else** statement\n",
    "    - **range()** function\n",
    "    - **continue**, **break**, **pass** statements\n",
    "```"
   ]
  }
 ],
 "metadata": {
  "kernelspec": {
   "display_name": "python-jb",
   "language": "python",
   "name": "python3"
  },
  "language_info": {
   "codemirror_mode": {
    "name": "ipython",
    "version": 3
   },
   "file_extension": ".py",
   "mimetype": "text/x-python",
   "name": "python",
   "nbconvert_exporter": "python",
   "pygments_lexer": "ipython3",
   "version": "3.7.13 (default, Oct 19 2022, 10:19:43) [MSC v.1916 64 bit (AMD64)]"
  },
  "orig_nbformat": 4,
  "vscode": {
   "interpreter": {
    "hash": "0c2f5c4fba51b93f19e499abfcc9ef4d6fee5bb503e49077d95162365c0a0cb3"
   }
  }
 },
 "nbformat": 4,
 "nbformat_minor": 2
}
