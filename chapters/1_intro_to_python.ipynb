{
 "cells": [
  {
   "attachments": {},
   "cell_type": "markdown",
   "metadata": {},
   "source": [
    "# Introduction to Python Programming"
   ]
  },
  {
   "attachments": {},
   "cell_type": "markdown",
   "metadata": {},
   "source": [
    "(chapter1-label)=\n",
    "## Variables"
   ]
  },
  {
   "attachments": {},
   "cell_type": "markdown",
   "metadata": {},
   "source": [
    "### What are variables?"
   ]
  },
  {
   "attachments": {},
   "cell_type": "markdown",
   "metadata": {},
   "source": [
    "***Variables*** are nothing more than *placeholders* for values. Each variable has a name (**identifier**), which we as programmers give it. Also, each variable is assigned a value using the = (assignment operator). Variables are saved in the main memory (main memory cells) of a computer for the duration of the execution of a program. What really happens is this: when we give a name to a variable we actually name the memory location that will hold the value for that variable. The name that we give to the variables is not relevant to the computer at all. In the end, when the program is being executed the name will be translated to a memory address. {numref}`var-assign` illustrates the idea."
   ]
  },
  {
   "attachments": {},
   "cell_type": "markdown",
   "metadata": {},
   "source": [
    "````{margin}\n",
    "```{attention}\n",
    "Do not forget that 2 is saved as a sequence of 0s and 1s in the main memory.\n",
    "```\n",
    "````\n",
    "\n",
    "```{figure} ../images/1_intro_to_python/var_assign.jpg\n",
    ":alt: var_assign_illustration\n",
    ":name: var-assign\n",
    ":class: ch2\n",
    ":align: center\n",
    "\n",
    "Variable Assignment\n",
    "```"
   ]
  },
  {
   "attachments": {},
   "cell_type": "markdown",
   "metadata": {},
   "source": [
    "```{admonition} Important\n",
    "Note that the computer does not change the name of an address for a memory cell. It just maps `x` to the value of that particular address, so that it knows whenever we call `x` in the code it is going to read the contents at that location. E.g. in the figure above, the address where 2 is saved would still be `0x6f66..` even after assigning 2 to that location. However, the computer would know that what we call `x` in reality it is `0x6f66..` .\n",
    "\n",
    "```"
   ]
  },
  {
   "attachments": {},
   "cell_type": "markdown",
   "metadata": {},
   "source": [
    "Here is an example of assigning a value to a variable and then checking the variables value using the `print()` function:"
   ]
  },
  {
   "cell_type": "code",
   "execution_count": 4,
   "metadata": {},
   "outputs": [
    {
     "name": "stdout",
     "output_type": "stream",
     "text": [
      "The value of x is 2\n"
     ]
    }
   ],
   "source": [
    "x = 2 # assigning the value 2 to variable x\n",
    "print('The value of x is',x) # printing the value of variable x"
   ]
  },
  {
   "attachments": {},
   "cell_type": "markdown",
   "metadata": {},
   "source": [
    "We are free to name variables as we want, but it is a good practice to give self-explanatory names to them, so that we can easily find out what is the purpose of each variable. In addition there are some rules regarding the characters that an **identifier** can have. For example, they can contain letters, digits and underscores (_). However, an identifier must never start with a digit. Also, Python is a *case-sensitive* programming language. This means that two variables `a` and `A` are different. You cannot call `a` by calling `A`.\n",
    "\n",
    "When variable names contain more than one word, Python programmers use something that is called *snake case*, e.g `myVariableName` would be written as `my_variable_name`. This is more of an unwritten rule, but if you do not abide with this way of naming variables, the code will run without problems, as long as there are no other types of errors."
   ]
  },
  {
   "attachments": {},
   "cell_type": "markdown",
   "metadata": {},
   "source": [
    "### Types of Variables"
   ]
  },
  {
   "attachments": {},
   "cell_type": "markdown",
   "metadata": {},
   "source": [
    "The type of a variable determines what kind of values is the variable going to hold: integers, decimals, strings (sequences of characters). However, we as programmers, do not need to explicitly determine the type of a variable, since it is implicitly determined during runtime. There are several built in data types in Python. Here we present the most used ones. In the following chapters we are going to further explore many of them.\n",
    "We can check the type of a variable using the `type()` built-in function."
   ]
  },
  {
   "cell_type": "code",
   "execution_count": 15,
   "metadata": {},
   "outputs": [],
   "source": [
    "# numeric values\n",
    "integer = 2 # integer\n",
    "decimal = 2.5 # decimal or floating-point number\n",
    "\n",
    "# boolean values\n",
    "boolean = True\n",
    "\n",
    "# sequence of characters\n",
    "string = 'Welcome to Python Programming!' # string\n",
    "\n",
    "#collection of values\n",
    "list_of_values = [1,2,3,4] # list\n",
    "tuples = ('a', 1) # tuple\n",
    "dictionary = {'one':1, 'two':2, 'three':3} # dictionary"
   ]
  },
  {
   "cell_type": "code",
   "execution_count": 16,
   "metadata": {},
   "outputs": [
    {
     "name": "stdout",
     "output_type": "stream",
     "text": [
      "integer is of type <class 'int'>\n",
      "decimal is of type <class 'float'>\n",
      "boolean is of type <class 'bool'>\n",
      "string is of type <class 'str'>\n",
      "list_of_values is of type <class 'list'>\n",
      "tuples is of type <class 'tuple'>\n",
      "dictionary is of type <class 'dict'>\n"
     ]
    }
   ],
   "source": [
    "print('integer is of type', type(integer))\n",
    "print('decimal is of type', type(decimal))\n",
    "print('boolean is of type', type(boolean))\n",
    "print('string is of type', type(string))\n",
    "print('list_of_values is of type', type(list_of_values))\n",
    "print('tuples is of type', type(tuples))\n",
    "print('dictionary is of type', type(dictionary))"
   ]
  },
  {
   "attachments": {},
   "cell_type": "markdown",
   "metadata": {},
   "source": [
    "{numref}`data-types-table` summarizes the above mentioned data types and the values that they hold."
   ]
  },
  {
   "attachments": {},
   "cell_type": "markdown",
   "metadata": {},
   "source": [
    "```{list-table} Variable types in Python\n",
    ":header-rows: 1\n",
    ":name: data-types-table\n",
    "\n",
    "* - Variable Type\n",
    "  - Python Class\n",
    "  - Explanation\n",
    "* - integer\n",
    "  - `int`\n",
    "  - numbers like `..-2,-1,0,1,2..`\n",
    "* - decimal\n",
    "  - `float`\n",
    "  - decimal values, rational numbers, etc\n",
    "* - boolean\n",
    "  - `bool`\n",
    "  - only values: `True` or `False`\n",
    "* - string\n",
    "  - `str`\n",
    "  - words, sentences, any sequence of characters\n",
    "* - list\n",
    "  - `list`\n",
    "  - collection of variables or values\n",
    "* - tuples\n",
    "  - `tuple`\n",
    "  - pairs of values\n",
    "* - dictionary\n",
    "  - `dict`\n",
    "  - collection of key-value pairs, where keys must be unique\n",
    "```"
   ]
  },
  {
   "attachments": {},
   "cell_type": "markdown",
   "metadata": {},
   "source": [
    "## Arithmetic Operators"
   ]
  },
  {
   "attachments": {},
   "cell_type": "markdown",
   "metadata": {},
   "source": [
    "Python supports most of the arithmetic operators. Below you can see code examples. Each operator can receive two operands (numbers)."
   ]
  },
  {
   "attachments": {},
   "cell_type": "markdown",
   "metadata": {},
   "source": [
    "### Addition (+)"
   ]
  },
  {
   "attachments": {},
   "cell_type": "markdown",
   "metadata": {},
   "source": [
    "The following piece of code adds variables `5` and `7` and assigns the result to the `sum` variable."
   ]
  },
  {
   "cell_type": "code",
   "execution_count": 34,
   "metadata": {},
   "outputs": [
    {
     "name": "stdout",
     "output_type": "stream",
     "text": [
      "5 + 7 = 12\n"
     ]
    }
   ],
   "source": [
    "sum = 5 + 7\n",
    "print('5 + 7 =',sum)"
   ]
  },
  {
   "attachments": {},
   "cell_type": "markdown",
   "metadata": {},
   "source": [
    "### Subtraction (-)"
   ]
  },
  {
   "attachments": {},
   "cell_type": "markdown",
   "metadata": {},
   "source": [
    "The following piece of code subtracts variables `5` from `7` and assigns the result to the `difference` variable."
   ]
  },
  {
   "cell_type": "code",
   "execution_count": 36,
   "metadata": {},
   "outputs": [
    {
     "name": "stdout",
     "output_type": "stream",
     "text": [
      "7 - 5 = 2\n"
     ]
    }
   ],
   "source": [
    "difference = 7 - 5\n",
    "print('7 - 5 =' ,difference)"
   ]
  },
  {
   "attachments": {},
   "cell_type": "markdown",
   "metadata": {},
   "source": [
    "### Multiplication (*)"
   ]
  },
  {
   "attachments": {},
   "cell_type": "markdown",
   "metadata": {},
   "source": [
    "The following piece of code multiplies variables `5` and `7` and assigns the result to the `product` variable."
   ]
  },
  {
   "cell_type": "code",
   "execution_count": 37,
   "metadata": {},
   "outputs": [
    {
     "name": "stdout",
     "output_type": "stream",
     "text": [
      "5 * 7 = 35\n"
     ]
    }
   ],
   "source": [
    "product = 5 * 7\n",
    "print('5 * 7 =', product)"
   ]
  },
  {
   "attachments": {},
   "cell_type": "markdown",
   "metadata": {},
   "source": [
    "### True Division (/)"
   ]
  },
  {
   "attachments": {},
   "cell_type": "markdown",
   "metadata": {},
   "source": [
    "The following piece of code divides variables `7` by `5` and assigns the result to the `quotient` variable. The results will always be a floating-point number."
   ]
  },
  {
   "cell_type": "code",
   "execution_count": 39,
   "metadata": {},
   "outputs": [
    {
     "name": "stdout",
     "output_type": "stream",
     "text": [
      "7 / 5 = 1.4\n"
     ]
    }
   ],
   "source": [
    "quotient_1 = 7 / 5\n",
    "print('7 / 5 =', quotient_1)"
   ]
  },
  {
   "attachments": {},
   "cell_type": "markdown",
   "metadata": {},
   "source": [
    "### Floor Division (//)"
   ]
  },
  {
   "attachments": {},
   "cell_type": "markdown",
   "metadata": {},
   "source": [
    "In contrast to the *True Division*, Floor Division will divide two numbers and return an integer, or whole number which will be the result rounded down to the nearest integer."
   ]
  },
  {
   "cell_type": "code",
   "execution_count": 40,
   "metadata": {},
   "outputs": [
    {
     "name": "stdout",
     "output_type": "stream",
     "text": [
      "7 // 5 = 1\n"
     ]
    }
   ],
   "source": [
    "quotient_2 = 7 // 5\n",
    "print('7 // 5 =', quotient_2)"
   ]
  },
  {
   "attachments": {},
   "cell_type": "markdown",
   "metadata": {},
   "source": [
    "### Remainder (%)"
   ]
  },
  {
   "attachments": {},
   "cell_type": "markdown",
   "metadata": {},
   "source": [
    "The following piece of code find the remainder of  `7` divided by `5` and assigns the result to the `remainder` variable. The result will always be an integer."
   ]
  },
  {
   "cell_type": "code",
   "execution_count": 41,
   "metadata": {},
   "outputs": [
    {
     "name": "stdout",
     "output_type": "stream",
     "text": [
      "7 % 5 = 2\n"
     ]
    }
   ],
   "source": [
    "remainder = 7 % 5\n",
    "print('7 % 5 =', remainder)"
   ]
  },
  {
   "attachments": {},
   "cell_type": "markdown",
   "metadata": {},
   "source": [
    "### Exponentiation (**)"
   ]
  },
  {
   "attachments": {},
   "cell_type": "markdown",
   "metadata": {},
   "source": [
    "The following piece of code raises  `7` to the power of `5` and assigns the result to the `power` variable."
   ]
  },
  {
   "cell_type": "code",
   "execution_count": 42,
   "metadata": {},
   "outputs": [
    {
     "name": "stdout",
     "output_type": "stream",
     "text": [
      "7 ^ 5 = 16807\n"
     ]
    }
   ],
   "source": [
    "power = 7 ** 5\n",
    "print('7 ^ 5 =', power)"
   ]
  },
  {
   "attachments": {},
   "cell_type": "markdown",
   "metadata": {},
   "source": [
    "### Use of Parenthesis"
   ]
  },
  {
   "attachments": {},
   "cell_type": "markdown",
   "metadata": {},
   "source": [
    "In Python expressions, parenthesis have the same function as in algebraic expressions. They will group together values, whose operations should be computed first. Check the code example below to understand the role of the parenthesis. Also the precedence of the operators is the same as in algebraic expressions."
   ]
  },
  {
   "cell_type": "code",
   "execution_count": 43,
   "metadata": {},
   "outputs": [
    {
     "data": {
      "text/plain": [
       "12"
      ]
     },
     "execution_count": 43,
     "metadata": {},
     "output_type": "execute_result"
    }
   ],
   "source": [
    "2*(4+2)"
   ]
  },
  {
   "cell_type": "code",
   "execution_count": 44,
   "metadata": {},
   "outputs": [
    {
     "data": {
      "text/plain": [
       "10"
      ]
     },
     "execution_count": 44,
     "metadata": {},
     "output_type": "execute_result"
    }
   ],
   "source": [
    "2*4+2"
   ]
  },
  {
   "attachments": {},
   "cell_type": "markdown",
   "metadata": {},
   "source": [
    "### Precedence Rules"
   ]
  },
  {
   "attachments": {},
   "cell_type": "markdown",
   "metadata": {},
   "source": [
    "If an expression contains multiple operators, then they are executed according to the following rules:\n",
    "\n",
    "```{admonition} Important\n",
    " 1. Expressions in parenthesis are evaluated first.\n",
    " 2. Exponentiation is evaluated next in a right to left fashion if there are multiple of them.\n",
    " 3. Multiplication, division and remainder are evaluated next from left to right if there are many.\n",
    " 4. Addition and Subtraction are left for the very end, just like in algebraic expressions.\n",
    "```"
   ]
  },
  {
   "attachments": {},
   "cell_type": "markdown",
   "metadata": {},
   "source": [
    "You can learn more about Python operator precedence in the [official Python documentation](https://docs.python.org/3/reference/expressions.html#operator-precedence)."
   ]
  },
  {
   "attachments": {},
   "cell_type": "markdown",
   "metadata": {},
   "source": [
    "In {numref}`op-prec` you can find an example on how Python would evaluate an algebraic expression with many operators."
   ]
  },
  {
   "attachments": {},
   "cell_type": "markdown",
   "metadata": {},
   "source": [
    "```{figure} ../images/1_intro_to_python/op_prec.jpg\n",
    ":alt: operator_precedence_illustration\n",
    ":name: op-prec\n",
    ":class: ch2\n",
    ":align: center\n",
    "\n",
    "Operator Precedence Example\n",
    "```"
   ]
  },
  {
   "attachments": {},
   "cell_type": "markdown",
   "metadata": {},
   "source": [
    "```{note}\n",
    "All operators produce a result that has the same type as their operands (inputs), except of the true division (/) that always produces a floating-point number. In case when the operands are of mixed-types, e.g. one is an integer and one a floating-point, the result will always be a floating point.\n",
    "```"
   ]
  },
  {
   "attachments": {},
   "cell_type": "markdown",
   "metadata": {},
   "source": [
    "Here you can find a summary of the **comparison operators** as well:\n",
    "\n",
    "```{list-table} Comparison Operators\n",
    ":header-rows: 1\n",
    ":name: comparison-operators-table\n",
    "\n",
    "* - Operator\n",
    "  - Function\n",
    "  - Example\n",
    "* - ==\n",
    "  - Test for equality\n",
    "  - x == y\n",
    "* - !=\n",
    "  - Test for inequality\n",
    "  - x != y\n",
    "* - \\>\n",
    "  - Greater than\n",
    "  - x > y\n",
    "* - <\n",
    "  - Less than\n",
    "  - x < y\n",
    "* - \\>=\n",
    "  - Greater than or equal\n",
    "  - x >= y\n",
    "* - <=\n",
    "  - Less than or equal\n",
    "  - x <= y\n",
    "```"
   ]
  },
  {
   "attachments": {},
   "cell_type": "markdown",
   "metadata": {},
   "source": [
    "## Logical Operators"
   ]
  },
  {
   "attachments": {},
   "cell_type": "markdown",
   "metadata": {},
   "source": [
    "**Logical operators** take at most two boolean values and output a single boolean value. They are used to evaluate whether an expression is `True` or `False`. There are truth tables that indicate the results of each of the logical operators. The most used logical operators are: AND, OR and NOT."
   ]
  },
  {
   "attachments": {},
   "cell_type": "markdown",
   "metadata": {},
   "source": [
    "### Logical AND"
   ]
  },
  {
   "attachments": {},
   "cell_type": "markdown",
   "metadata": {},
   "source": [
    "Here you can find the truth table of the logical **AND**. It evaluates to TRUE only if both operands are true.\n",
    "\n",
    "```{list-table} AND Truth Table\n",
    ":header-rows: 1\n",
    ":name: and-truth-table\n",
    "\n",
    "* - Operand 1\n",
    "  - Operand 2\n",
    "  - Result\n",
    "* - True\n",
    "  - True\n",
    "  - True\n",
    "* - True\n",
    "  - False\n",
    "  - False\n",
    "* - False\n",
    "  - True\n",
    "  - False\n",
    "* - False\n",
    "  - False\n",
    "  - False\n",
    "```"
   ]
  },
  {
   "attachments": {},
   "cell_type": "markdown",
   "metadata": {},
   "source": [
    "Let us see some examples in Python."
   ]
  },
  {
   "cell_type": "code",
   "execution_count": 54,
   "metadata": {},
   "outputs": [],
   "source": [
    "x = 3\n",
    "y = 5"
   ]
  },
  {
   "cell_type": "code",
   "execution_count": 64,
   "metadata": {},
   "outputs": [
    {
     "name": "stdout",
     "output_type": "stream",
     "text": [
      "x > 0 is True\n",
      "y > 0 is True\n",
      "(x > 0) and (y > 0) is True\n"
     ]
    }
   ],
   "source": [
    "print('x > 0 is', (x > 0))\n",
    "print('y > 0 is', (y > 0))\n",
    "print('(x > 0) and (y > 0) is', (x > 0) and (y > 0))"
   ]
  },
  {
   "attachments": {},
   "cell_type": "markdown",
   "metadata": {},
   "source": [
    "As we can see from the code cell above, the left operand evaluates to `True` since `x = 3 > 0` is true. The same for the right operand, since `y = 5 > 0` is true. This situation corresponds to the first row of {numref}`and-truth-table` and the results there corresponds to what is printed in our case. "
   ]
  },
  {
   "cell_type": "code",
   "execution_count": 65,
   "metadata": {},
   "outputs": [
    {
     "name": "stdout",
     "output_type": "stream",
     "text": [
      "x < 0 is False\n",
      "y < 0 is False\n",
      "(x < 0) and (y < 0) is False\n"
     ]
    }
   ],
   "source": [
    "print('x < 0 is', (x < 0))\n",
    "print('y < 0 is', (y < 0))\n",
    "print('(x < 0) and (y < 0) is', (x < 0) and (y < 0))"
   ]
  },
  {
   "attachments": {},
   "cell_type": "markdown",
   "metadata": {},
   "source": [
    "In this case, both operands evaluate to `False`. So, we are in the last row of {numref}`and-truth-table`, the excepted result is `False`, which is indeed what we got."
   ]
  },
  {
   "cell_type": "code",
   "execution_count": 66,
   "metadata": {},
   "outputs": [
    {
     "name": "stdout",
     "output_type": "stream",
     "text": [
      "x > 0 is True\n",
      "y < 0 is False\n",
      "(x > 0) and (y < 0) is False\n"
     ]
    }
   ],
   "source": [
    "print('x > 0 is', (x > 0))\n",
    "print('y < 0 is', (y < 0))\n",
    "print('(x > 0) and (y < 0) is', (x > 0) and (y < 0))"
   ]
  },
  {
   "attachments": {},
   "cell_type": "markdown",
   "metadata": {},
   "source": [
    "The same will be in this case:"
   ]
  },
  {
   "cell_type": "code",
   "execution_count": 67,
   "metadata": {},
   "outputs": [
    {
     "name": "stdout",
     "output_type": "stream",
     "text": [
      "x < 0 is False\n",
      "y > 0 is True\n",
      "(x < 0) and (y > 0) is False\n"
     ]
    }
   ],
   "source": [
    "print('x < 0 is', (x < 0))\n",
    "print('y > 0 is', (y > 0))\n",
    "print('(x < 0) and (y > 0) is', (x < 0) and (y > 0))"
   ]
  },
  {
   "attachments": {},
   "cell_type": "markdown",
   "metadata": {},
   "source": [
    "### Logical OR"
   ]
  },
  {
   "attachments": {},
   "cell_type": "markdown",
   "metadata": {},
   "source": [
    "Here you can find the truth table of the logical **OR**. It evaluates to `False` only if both operands are `False`.\n",
    "\n",
    "```{list-table} OR Truth Table\n",
    ":header-rows: 1\n",
    ":name: or-truth-table\n",
    "\n",
    "* - Operand 1\n",
    "  - Operand 2\n",
    "  - Result\n",
    "* - True\n",
    "  - True\n",
    "  - True\n",
    "* - True\n",
    "  - False\n",
    "  - True\n",
    "* - False\n",
    "  - True\n",
    "  - True\n",
    "* - False\n",
    "  - False\n",
    "  - False\n",
    "```"
   ]
  },
  {
   "attachments": {},
   "cell_type": "markdown",
   "metadata": {},
   "source": [
    "Let us apply the same operations as in the AND case above and see the results."
   ]
  },
  {
   "cell_type": "code",
   "execution_count": 68,
   "metadata": {},
   "outputs": [
    {
     "name": "stdout",
     "output_type": "stream",
     "text": [
      "x > 0 is True\n",
      "y > 0 is True\n",
      "(x > 0) or (y > 0) is True\n"
     ]
    }
   ],
   "source": [
    "print('x > 0 is', (x > 0))\n",
    "print('y > 0 is', (y > 0))\n",
    "print('(x > 0) or (y > 0) is', (x > 0) or (y > 0))"
   ]
  },
  {
   "attachments": {},
   "cell_type": "markdown",
   "metadata": {},
   "source": [
    "As we can see from the code cell above, the left operand evaluates to `True` since `x = 3 > 0` is true. The same for the right operand, since `y = 5 > 0` is true. This situation corresponds to the first row of {numref}`or-truth-table` and the results there corresponds to what is printed in our case. "
   ]
  },
  {
   "cell_type": "code",
   "execution_count": 69,
   "metadata": {},
   "outputs": [
    {
     "name": "stdout",
     "output_type": "stream",
     "text": [
      "x < 0 is False\n",
      "y < 0 is False\n",
      "(x < 0) or (y < 0) is False\n"
     ]
    }
   ],
   "source": [
    "print('x < 0 is', (x < 0))\n",
    "print('y < 0 is', (y < 0))\n",
    "print('(x < 0) or (y < 0) is', (x < 0) or (y < 0))"
   ]
  },
  {
   "attachments": {},
   "cell_type": "markdown",
   "metadata": {},
   "source": [
    "In this case, both operands evaluate to `False`. So, we are in the last row of {numref}`or-truth-table`, the excepted result is `False`, which is indeed what we got."
   ]
  },
  {
   "cell_type": "code",
   "execution_count": 70,
   "metadata": {},
   "outputs": [
    {
     "name": "stdout",
     "output_type": "stream",
     "text": [
      "x > 0 is True\n",
      "y < 0 is False\n",
      "(x > 0) or (y < 0) is True\n"
     ]
    }
   ],
   "source": [
    "print('x > 0 is', (x > 0))\n",
    "print('y < 0 is', (y < 0))\n",
    "print('(x > 0) or (y < 0) is', (x > 0) or (y < 0))"
   ]
  },
  {
   "attachments": {},
   "cell_type": "markdown",
   "metadata": {},
   "source": [
    "Here we see that it is sufficient for only one operand to be `True` in order for the result of the OR operator to be `True`. It is the same even below."
   ]
  },
  {
   "cell_type": "code",
   "execution_count": 71,
   "metadata": {},
   "outputs": [
    {
     "name": "stdout",
     "output_type": "stream",
     "text": [
      "x < 0 is False\n",
      "y > 0 is True\n",
      "(x < 0) or (y > 0) is True\n"
     ]
    }
   ],
   "source": [
    "print('x < 0 is', (x < 0))\n",
    "print('y > 0 is', (y > 0))\n",
    "print('(x < 0) or (y > 0) is', (x < 0) or (y > 0))"
   ]
  },
  {
   "attachments": {},
   "cell_type": "markdown",
   "metadata": {},
   "source": [
    "### Logical NOT"
   ]
  },
  {
   "attachments": {},
   "cell_type": "markdown",
   "metadata": {},
   "source": [
    "The **NOT** operator is used to invert the value the operand. It receives only one operand. If the value it receives is `True` it will output `False` and if the value it receives is `False`, it will output `True`. Here is the truth table.\n",
    "\n",
    "```{list-table} NOT Truth Table\n",
    ":header-rows: 1\n",
    ":name: not-truth-table\n",
    "\n",
    "* - Operand 1\n",
    "  - Result\n",
    "* - True\n",
    "  - False\n",
    "* - False\n",
    "  - True\n",
    "```"
   ]
  },
  {
   "attachments": {},
   "cell_type": "markdown",
   "metadata": {},
   "source": [
    "Here are some code examples that illustrate the NOT operator."
   ]
  },
  {
   "cell_type": "code",
   "execution_count": 76,
   "metadata": {},
   "outputs": [
    {
     "name": "stdout",
     "output_type": "stream",
     "text": [
      "Flag variable at the beginning is: True\n",
      "Flag variable after modification is: False\n",
      "Flag variable after the second modification is: True\n"
     ]
    }
   ],
   "source": [
    "flag = True\n",
    "print('Flag variable at the beginning is:',flag)\n",
    "flag = not(flag)\n",
    "print('Flag variable after modification is:', flag)\n",
    "flag = not(flag)\n",
    "print('Flag variable after the second modification is:', flag)\n"
   ]
  }
 ],
 "metadata": {
  "kernelspec": {
   "display_name": "python-jb",
   "language": "python",
   "name": "python3"
  },
  "language_info": {
   "codemirror_mode": {
    "name": "ipython",
    "version": 3
   },
   "file_extension": ".py",
   "mimetype": "text/x-python",
   "name": "python",
   "nbconvert_exporter": "python",
   "pygments_lexer": "ipython3",
   "version": "3.7.13 (default, Oct 19 2022, 10:19:43) [MSC v.1916 64 bit (AMD64)]"
  },
  "orig_nbformat": 4,
  "vscode": {
   "interpreter": {
    "hash": "0c2f5c4fba51b93f19e499abfcc9ef4d6fee5bb503e49077d95162365c0a0cb3"
   }
  }
 },
 "nbformat": 4,
 "nbformat_minor": 2
}
