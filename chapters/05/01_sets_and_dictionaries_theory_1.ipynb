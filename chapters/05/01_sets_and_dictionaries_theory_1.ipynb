{
 "cells": [
  {
   "cell_type": "markdown",
   "metadata": {},
   "source": [
    "# Readings: sets"
   ]
  },
  {
   "cell_type": "markdown",
   "metadata": {},
   "source": [
    "## Sets"
   ]
  },
  {
   "cell_type": "markdown",
   "metadata": {},
   "source": [
    "````{margin}\n",
    "```{note}\n",
    "Sets are *unchangeable*, *unordered* and cannot be *indexed*. They do not allow duplicate elements.\n",
    "```\n",
    "````\n",
    "Sets are collections of values. What sets them apart from lists and tuples is that sets do not allow *duplicate* elements. In addition, sets are *unordered*, which means that we cannot access elements of a set by indexing. Also sets do not support slicing. In addition, they are *unchangeable*, since we cannot modify an element that is already added there, but we can add and remove elements."
   ]
  },
  {
   "cell_type": "markdown",
   "metadata": {},
   "source": [
    "### Creating a set"
   ]
  },
  {
   "cell_type": "markdown",
   "metadata": {},
   "source": [
    "The syntax to define a set is:\n",
    "```python\n",
    "set_name = {element1, element2, element3,....}\n",
    "```\n",
    "For example:"
   ]
  },
  {
   "cell_type": "code",
   "execution_count": 1,
   "metadata": {
    "execution": {
     "iopub.execute_input": "2023-05-31T08:14:28.505237Z",
     "iopub.status.busy": "2023-05-31T08:14:28.504501Z",
     "iopub.status.idle": "2023-05-31T08:14:28.532878Z",
     "shell.execute_reply": "2023-05-31T08:14:28.530373Z",
     "shell.execute_reply.started": "2023-05-31T08:14:28.505184Z"
    }
   },
   "outputs": [
    {
     "data": {
      "text/plain": [
       "{'Hydrogen', 'Nitrogen', 'Oxygen', 'Potassium', 'Sodium'}"
      ]
     },
     "execution_count": 1,
     "metadata": {},
     "output_type": "execute_result"
    }
   ],
   "source": [
    "chemicals = {\n",
    "    'Oxygen', 'Hydrogen', 'Nitrogen', 'Potassium', 'Sodium', 'Oxygen'\n",
    "}\n",
    "chemicals"
   ]
  },
  {
   "cell_type": "markdown",
   "metadata": {},
   "source": [
    "The order in which the items appear is not important, since sets are unordered."
   ]
  },
  {
   "cell_type": "markdown",
   "metadata": {},
   "source": [
    "````{margin}\n",
    "```{note}\n",
    "We can use `len()` function to determine the number of elements in a set.\n",
    "```\n",
    "````\n",
    "As you can see, although `Oxygen` is specified twice in the creation of the set, it is added only once."
   ]
  },
  {
   "cell_type": "markdown",
   "metadata": {},
   "source": [
    "We can also create sets by using the `set()` function. This function receives a collection of values and builds a set from it. `set()` function is called a constructor since it is used to build/construct a set."
   ]
  },
  {
   "cell_type": "code",
   "execution_count": 1,
   "metadata": {
    "execution": {
     "iopub.execute_input": "2023-05-31T08:15:16.113379Z",
     "iopub.status.busy": "2023-05-31T08:15:16.112053Z",
     "iopub.status.idle": "2023-05-31T08:15:16.126706Z",
     "shell.execute_reply": "2023-05-31T08:15:16.124136Z",
     "shell.execute_reply.started": "2023-05-31T08:15:16.113183Z"
    }
   },
   "outputs": [
    {
     "data": {
      "text/plain": [
       "{'Hydrogen', 'Nitrogen', 'Oxygen', 'Potassium', 'Sodium'}"
      ]
     },
     "execution_count": 1,
     "metadata": {},
     "output_type": "execute_result"
    }
   ],
   "source": [
    "list_of_values = [\n",
    "    'Oxygen', 'Hydrogen', 'Nitrogen', 'Potassium', 'Sodium', 'Oxygen'\n",
    "]\n",
    "chemicals_1 = set(list_of_values)\n",
    "chemicals_1"
   ]
  },
  {
   "cell_type": "markdown",
   "metadata": {},
   "source": [
    "Again, `Oxygen` appears only once."
   ]
  },
  {
   "cell_type": "markdown",
   "metadata": {},
   "source": [
    "Also, we can use a for-loop to iterate over the values of a set:"
   ]
  },
  {
   "cell_type": "code",
   "execution_count": 3,
   "metadata": {
    "execution": {
     "iopub.execute_input": "2023-05-31T08:15:25.621221Z",
     "iopub.status.busy": "2023-05-31T08:15:25.620621Z",
     "iopub.status.idle": "2023-05-31T08:15:25.632693Z",
     "shell.execute_reply": "2023-05-31T08:15:25.629999Z",
     "shell.execute_reply.started": "2023-05-31T08:15:25.621181Z"
    }
   },
   "outputs": [
    {
     "name": "stdout",
     "output_type": "stream",
     "text": [
      "Potassium Hydrogen Sodium Oxygen Nitrogen "
     ]
    }
   ],
   "source": [
    "for el in chemicals:\n",
    "    print(el, end=' ')"
   ]
  },
  {
   "cell_type": "markdown",
   "metadata": {},
   "source": [
    "In contrast to lists, sets are very useful for storing collections of unique values when the order does not matter. This can be useful, e.g., for dereplicating a list or quickly counting the number of unique values in a list by casting a list to a set:"
   ]
  },
  {
   "cell_type": "code",
   "execution_count": 16,
   "metadata": {},
   "outputs": [
    {
     "name": "stdout",
     "output_type": "stream",
     "text": [
      "{'goose', 'duck'}\n",
      "We have 5 birds of 2 different types!\n"
     ]
    }
   ],
   "source": [
    "birds = ['duck', 'duck', 'duck', 'duck', 'goose']\n",
    "unique_birds = set(birds)\n",
    "print(unique_birds)\n",
    "print('We have {0} birds of {1} different types!'.format(len(birds), len(unique_birds)))"
   ]
  },
  {
   "cell_type": "markdown",
   "metadata": {},
   "source": [
    "### Adding elements in a set"
   ]
  },
  {
   "cell_type": "markdown",
   "metadata": {},
   "source": [
    "There are two ways to add elements in a set: by using the `add()` and `update()` methods. `add()` is used to add a single value, while `update()` can add any iterable.\n",
    "\n",
    "````{margin}\n",
    "```{admonition} Adding elements in a set\n",
    "To add elements to a set use: `add()` or `update()`.\n",
    "```\n",
    "````\n",
    "For example:"
   ]
  },
  {
   "cell_type": "code",
   "execution_count": 4,
   "metadata": {
    "execution": {
     "iopub.execute_input": "2023-05-31T08:16:00.032890Z",
     "iopub.status.busy": "2023-05-31T08:16:00.032224Z",
     "iopub.status.idle": "2023-05-31T08:16:00.047549Z",
     "shell.execute_reply": "2023-05-31T08:16:00.042574Z",
     "shell.execute_reply.started": "2023-05-31T08:16:00.032840Z"
    }
   },
   "outputs": [
    {
     "data": {
      "text/plain": [
       "{'Carbon', 'Hydrogen', 'Nitrogen', 'Oxygen', 'Potassium', 'Sodium'}"
      ]
     },
     "execution_count": 4,
     "metadata": {},
     "output_type": "execute_result"
    }
   ],
   "source": [
    "chemicals.add('Carbon')\n",
    "chemicals"
   ]
  },
  {
   "cell_type": "code",
   "execution_count": 5,
   "metadata": {
    "execution": {
     "iopub.execute_input": "2023-05-31T08:16:03.131367Z",
     "iopub.status.busy": "2023-05-31T08:16:03.130890Z",
     "iopub.status.idle": "2023-05-31T08:16:03.140040Z",
     "shell.execute_reply": "2023-05-31T08:16:03.138864Z",
     "shell.execute_reply.started": "2023-05-31T08:16:03.131330Z"
    }
   },
   "outputs": [
    {
     "data": {
      "text/plain": [
       "{'Aluminum',\n",
       " 'Calcium',\n",
       " 'Carbon',\n",
       " 'Hydrogen',\n",
       " 'Magnesium',\n",
       " 'Nitrogen',\n",
       " 'Oxygen',\n",
       " 'Potassium',\n",
       " 'Sodium'}"
      ]
     },
     "execution_count": 5,
     "metadata": {},
     "output_type": "execute_result"
    }
   ],
   "source": [
    "chemicals.update(['Calcium','Magnesium','Aluminum'])\n",
    "chemicals"
   ]
  },
  {
   "cell_type": "markdown",
   "metadata": {},
   "source": [
    "As you can see, the order in which elements are added is not important. In our case, the elements in the set are ordered alphabetically."
   ]
  },
  {
   "cell_type": "markdown",
   "metadata": {},
   "source": [
    "### Removing elements from a set"
   ]
  },
  {
   "cell_type": "markdown",
   "metadata": {},
   "source": [
    "For removing elements these methods can be used: `remove()`, `discard()` and `pop()`. The `clear()` method can be used to delete all elements of the set but *not the set itself*."
   ]
  },
  {
   "cell_type": "markdown",
   "metadata": {},
   "source": [
    "For example, `remove(element_name)` will remove the specified element and if that does not exist it will raise a `KeyError`."
   ]
  },
  {
   "cell_type": "markdown",
   "metadata": {},
   "source": [
    "````{margin}\n",
    "```{admonition} Removing elements from a set\n",
    "Methods used to remove elements from a set: `remove()`, `discard()`, `pop()`, `clear()`. `del` deletes the set entirely.\n",
    "```\n",
    "````"
   ]
  },
  {
   "cell_type": "code",
   "execution_count": 6,
   "metadata": {
    "execution": {
     "iopub.execute_input": "2023-05-31T08:16:40.922834Z",
     "iopub.status.busy": "2023-05-31T08:16:40.922007Z",
     "iopub.status.idle": "2023-05-31T08:16:40.934655Z",
     "shell.execute_reply": "2023-05-31T08:16:40.932737Z",
     "shell.execute_reply.started": "2023-05-31T08:16:40.922779Z"
    }
   },
   "outputs": [
    {
     "data": {
      "text/plain": [
       "{'Nitrogen', 'Oxygen', 'Potassium', 'Sodium'}"
      ]
     },
     "execution_count": 6,
     "metadata": {},
     "output_type": "execute_result"
    }
   ],
   "source": [
    "chemicals_1.remove('Hydrogen')\n",
    "chemicals_1"
   ]
  },
  {
   "cell_type": "code",
   "execution_count": 7,
   "metadata": {
    "execution": {
     "iopub.execute_input": "2023-05-31T08:16:46.157839Z",
     "iopub.status.busy": "2023-05-31T08:16:46.156646Z",
     "iopub.status.idle": "2023-05-31T08:16:46.330127Z",
     "shell.execute_reply": "2023-05-31T08:16:46.328857Z",
     "shell.execute_reply.started": "2023-05-31T08:16:46.157794Z"
    }
   },
   "outputs": [
    {
     "ename": "KeyError",
     "evalue": "'Carbon'",
     "output_type": "error",
     "traceback": [
      "\u001b[0;31m---------------------------------------------------------------------------\u001b[0m",
      "\u001b[0;31mKeyError\u001b[0m                                  Traceback (most recent call last)",
      "\u001b[0;32m/var/folders/7f/7nw_x13n5q965rss_qz6061m0000gq/T/ipykernel_57703/2546945945.py\u001b[0m in \u001b[0;36m<module>\u001b[0;34m\u001b[0m\n\u001b[0;32m----> 1\u001b[0;31m \u001b[0mchemicals_1\u001b[0m\u001b[0;34m.\u001b[0m\u001b[0mremove\u001b[0m\u001b[0;34m(\u001b[0m\u001b[0;34m'Carbon'\u001b[0m\u001b[0;34m)\u001b[0m\u001b[0;34m\u001b[0m\u001b[0;34m\u001b[0m\u001b[0m\n\u001b[0m\u001b[1;32m      2\u001b[0m \u001b[0mchemicals_1\u001b[0m\u001b[0;34m\u001b[0m\u001b[0;34m\u001b[0m\u001b[0m\n",
      "\u001b[0;31mKeyError\u001b[0m: 'Carbon'"
     ]
    }
   ],
   "source": [
    "chemicals_1.remove('Carbon')\n",
    "chemicals_1"
   ]
  },
  {
   "cell_type": "markdown",
   "metadata": {},
   "source": [
    "The `discard(element_name)` does the same but if the element does not exist then it does not raise an error."
   ]
  },
  {
   "cell_type": "code",
   "execution_count": 8,
   "metadata": {
    "execution": {
     "iopub.execute_input": "2023-05-31T08:16:56.642879Z",
     "iopub.status.busy": "2023-05-31T08:16:56.642258Z",
     "iopub.status.idle": "2023-05-31T08:16:56.654204Z",
     "shell.execute_reply": "2023-05-31T08:16:56.651992Z",
     "shell.execute_reply.started": "2023-05-31T08:16:56.642840Z"
    }
   },
   "outputs": [
    {
     "data": {
      "text/plain": [
       "{'Oxygen', 'Potassium', 'Sodium'}"
      ]
     },
     "execution_count": 8,
     "metadata": {},
     "output_type": "execute_result"
    }
   ],
   "source": [
    "chemicals_1.discard('Nitrogen')\n",
    "chemicals_1"
   ]
  },
  {
   "cell_type": "code",
   "execution_count": 9,
   "metadata": {
    "execution": {
     "iopub.execute_input": "2023-05-31T08:17:01.351365Z",
     "iopub.status.busy": "2023-05-31T08:17:01.350882Z",
     "iopub.status.idle": "2023-05-31T08:17:01.359724Z",
     "shell.execute_reply": "2023-05-31T08:17:01.358515Z",
     "shell.execute_reply.started": "2023-05-31T08:17:01.351333Z"
    }
   },
   "outputs": [
    {
     "data": {
      "text/plain": [
       "{'Oxygen', 'Potassium', 'Sodium'}"
      ]
     },
     "execution_count": 9,
     "metadata": {},
     "output_type": "execute_result"
    }
   ],
   "source": [
    "chemicals_1.discard('Carbon')\n",
    "chemicals_1"
   ]
  },
  {
   "cell_type": "markdown",
   "metadata": {},
   "source": [
    "The `pop()` method removes a random element from the set and returns it as output. Since sets are unordered, it will select an element (we as programmers cannot affect which element is selected) at random and will remove it."
   ]
  },
  {
   "cell_type": "code",
   "execution_count": 10,
   "metadata": {
    "execution": {
     "iopub.execute_input": "2023-05-31T08:17:38.338330Z",
     "iopub.status.busy": "2023-05-31T08:17:38.337668Z",
     "iopub.status.idle": "2023-05-31T08:17:38.345215Z",
     "shell.execute_reply": "2023-05-31T08:17:38.343626Z",
     "shell.execute_reply.started": "2023-05-31T08:17:38.338288Z"
    }
   },
   "outputs": [
    {
     "name": "stdout",
     "output_type": "stream",
     "text": [
      "Potassium\n",
      "Set after popping an element:  {'Sodium', 'Oxygen'}\n"
     ]
    }
   ],
   "source": [
    "print(chemicals_1.pop())\n",
    "print('Set after popping an element: ', chemicals_1)"
   ]
  },
  {
   "cell_type": "markdown",
   "metadata": {},
   "source": [
    "In order to clear a set from all the elements we can use the `clear()` method:"
   ]
  },
  {
   "cell_type": "code",
   "execution_count": 11,
   "metadata": {
    "execution": {
     "iopub.execute_input": "2023-05-31T08:17:50.863756Z",
     "iopub.status.busy": "2023-05-31T08:17:50.862772Z",
     "iopub.status.idle": "2023-05-31T08:17:50.875513Z",
     "shell.execute_reply": "2023-05-31T08:17:50.873423Z",
     "shell.execute_reply.started": "2023-05-31T08:17:50.863686Z"
    }
   },
   "outputs": [
    {
     "data": {
      "text/plain": [
       "set()"
      ]
     },
     "execution_count": 11,
     "metadata": {},
     "output_type": "execute_result"
    }
   ],
   "source": [
    "chemicals_1.clear()\n",
    "chemicals_1"
   ]
  },
  {
   "cell_type": "markdown",
   "metadata": {},
   "source": [
    "The **del** keyword deletes the set entirely from the runtime."
   ]
  },
  {
   "cell_type": "code",
   "execution_count": 12,
   "metadata": {
    "execution": {
     "iopub.execute_input": "2023-05-31T08:18:00.488457Z",
     "iopub.status.busy": "2023-05-31T08:18:00.487429Z",
     "iopub.status.idle": "2023-05-31T08:18:00.508899Z",
     "shell.execute_reply": "2023-05-31T08:18:00.505609Z",
     "shell.execute_reply.started": "2023-05-31T08:18:00.488413Z"
    }
   },
   "outputs": [
    {
     "ename": "NameError",
     "evalue": "name 'chemicals_1' is not defined",
     "output_type": "error",
     "traceback": [
      "\u001b[0;31m---------------------------------------------------------------------------\u001b[0m",
      "\u001b[0;31mNameError\u001b[0m                                 Traceback (most recent call last)",
      "\u001b[0;32m/var/folders/7f/7nw_x13n5q965rss_qz6061m0000gq/T/ipykernel_57703/1218415494.py\u001b[0m in \u001b[0;36m<module>\u001b[0;34m\u001b[0m\n\u001b[1;32m      1\u001b[0m \u001b[0;32mdel\u001b[0m \u001b[0mchemicals_1\u001b[0m\u001b[0;34m\u001b[0m\u001b[0;34m\u001b[0m\u001b[0m\n\u001b[0;32m----> 2\u001b[0;31m \u001b[0mchemicals_1\u001b[0m\u001b[0;34m\u001b[0m\u001b[0;34m\u001b[0m\u001b[0m\n\u001b[0m",
      "\u001b[0;31mNameError\u001b[0m: name 'chemicals_1' is not defined"
     ]
    }
   ],
   "source": [
    "del chemicals_1\n",
    "chemicals_1"
   ]
  },
  {
   "cell_type": "markdown",
   "metadata": {},
   "source": [
    "As you can see, there is no variable anymore in the runtime that is called `chemicals_1`, that is why we get a `NameError`."
   ]
  },
  {
   "cell_type": "markdown",
   "metadata": {},
   "source": [
    "### Searching for a value in a set"
   ]
  },
  {
   "cell_type": "markdown",
   "metadata": {},
   "source": [
    "To check whether a value is in the set we can use the `in` or `not in` operators. As we have seen in the previous chapters, if the value is present, the `in` operator returns `True` and the `not in` operator returns `False`. If the value is not present, then `in` will return `False` and `not in` will return `True`."
   ]
  },
  {
   "cell_type": "code",
   "execution_count": 13,
   "metadata": {
    "execution": {
     "iopub.execute_input": "2023-05-31T08:18:46.656111Z",
     "iopub.status.busy": "2023-05-31T08:18:46.655517Z",
     "iopub.status.idle": "2023-05-31T08:18:46.665009Z",
     "shell.execute_reply": "2023-05-31T08:18:46.662350Z",
     "shell.execute_reply.started": "2023-05-31T08:18:46.656072Z"
    }
   },
   "outputs": [
    {
     "name": "stdout",
     "output_type": "stream",
     "text": [
      "True\n",
      "True\n",
      "False\n",
      "False\n"
     ]
    }
   ],
   "source": [
    "print('Oxygen' in chemicals)\n",
    "print('Carbon' in chemicals)\n",
    "print('Carbon' not in chemicals)\n",
    "print('Oxygen' not in chemicals)"
   ]
  },
  {
   "cell_type": "markdown",
   "metadata": {},
   "source": [
    "### Set Comparison"
   ]
  },
  {
   "cell_type": "markdown",
   "metadata": {},
   "source": [
    "We can use comparison operators introduced in {ref}`Chapter 2 <comp-op-ch2-label>` to compare two sets. Two sets are equal (`==`) if they have the same elements no matter their order. Otherwise, they are not equal."
   ]
  },
  {
   "cell_type": "markdown",
   "metadata": {},
   "source": [
    "Let us look at an example:"
   ]
  },
  {
   "cell_type": "code",
   "execution_count": 14,
   "metadata": {
    "execution": {
     "iopub.execute_input": "2023-05-31T08:19:45.599685Z",
     "iopub.status.busy": "2023-05-31T08:19:45.598961Z",
     "iopub.status.idle": "2023-05-31T08:19:45.608577Z",
     "shell.execute_reply": "2023-05-31T08:19:45.606993Z",
     "shell.execute_reply.started": "2023-05-31T08:19:45.599630Z"
    }
   },
   "outputs": [
    {
     "name": "stdout",
     "output_type": "stream",
     "text": [
      "chemicals = {'Potassium', 'Hydrogen', 'Carbon', 'Aluminum', 'Sodium', 'Calcium', 'Oxygen', 'Nitrogen', 'Magnesium'}\n",
      "chemicals_1 = {'Potassium', 'Hydrogen', 'Carbon', 'Aluminum', 'Sodium', 'Calcium', 'Oxygen', 'Nitrogen', 'Magnesium'}\n",
      "True\n"
     ]
    }
   ],
   "source": [
    "chemicals_1 = {\n",
    "    'Aluminum', 'Calcium', 'Carbon',\n",
    "    'Hydrogen', 'Magnesium', 'Nitrogen',\n",
    "    'Sodium', 'Oxygen', 'Potassium',\n",
    "}\n",
    "print('chemicals =', chemicals)\n",
    "print('chemicals_1 =', chemicals_1)\n",
    "print(chemicals_1 == chemicals)"
   ]
  },
  {
   "cell_type": "markdown",
   "metadata": {},
   "source": [
    "````{margin}\n",
    "```{important}\n",
    "In contrast to the lists, two sets are equal if they have the same elements no matter their order.\n",
    "```\n",
    "````\n",
    "As you can see, elements in `chemicals_1` do not have the same order as `chemicals`. But they have the same elements, as a result both sets are equal. "
   ]
  },
  {
   "cell_type": "markdown",
   "metadata": {},
   "source": [
    "On the other hand:"
   ]
  },
  {
   "cell_type": "code",
   "execution_count": 15,
   "metadata": {
    "execution": {
     "iopub.execute_input": "2023-05-31T08:20:30.314745Z",
     "iopub.status.busy": "2023-05-31T08:20:30.313653Z",
     "iopub.status.idle": "2023-05-31T08:20:30.323690Z",
     "shell.execute_reply": "2023-05-31T08:20:30.321996Z",
     "shell.execute_reply.started": "2023-05-31T08:20:30.314678Z"
    }
   },
   "outputs": [
    {
     "name": "stdout",
     "output_type": "stream",
     "text": [
      "chemicals = {'Potassium', 'Hydrogen', 'Carbon', 'Aluminum', 'Sodium', 'Calcium', 'Oxygen', 'Nitrogen', 'Magnesium'}\n",
      "chemicals_2 = {'Calcium', 'Aluminum', 'Carbon'}\n",
      "False\n"
     ]
    }
   ],
   "source": [
    "chemicals_2 = {'Aluminum', 'Calcium', 'Carbon'}\n",
    "print('chemicals =', chemicals)\n",
    "print('chemicals_2 =', chemicals_2)\n",
    "print(chemicals_2 == chemicals)"
   ]
  },
  {
   "cell_type": "markdown",
   "metadata": {},
   "source": [
    "As expected, `chemicals_2` is not equal to `chemicals` because they do not have the same elements."
   ]
  },
  {
   "cell_type": "markdown",
   "metadata": {},
   "source": [
    "We say that subset A is a **proper subset** of set B if all elements of A are contained in B, but not all elements of B are contained in A. In other words, A and B are not equal, but B contains all elements of A. To check if A is a proper subset of B we can use the `<` (strictly less than) operator. The `<` operator checks whether the set on its left is a proper subset of the set on the right."
   ]
  },
  {
   "cell_type": "code",
   "execution_count": 16,
   "metadata": {
    "execution": {
     "iopub.execute_input": "2023-05-31T09:22:48.165860Z",
     "iopub.status.busy": "2023-05-31T09:22:48.161209Z",
     "iopub.status.idle": "2023-05-31T09:22:48.182343Z",
     "shell.execute_reply": "2023-05-31T09:22:48.181306Z",
     "shell.execute_reply.started": "2023-05-31T09:22:48.165753Z"
    }
   },
   "outputs": [
    {
     "name": "stdout",
     "output_type": "stream",
     "text": [
      "True\n",
      "False\n"
     ]
    }
   ],
   "source": [
    "a = {1,2,3}\n",
    "b = {1,2,3,4,5}\n",
    "print(a < b)\n",
    "print(b < a)"
   ]
  },
  {
   "cell_type": "markdown",
   "metadata": {},
   "source": [
    "We say that subset A is an **improper subset** of set B if all elements of A are contained in B, and all elements of B may be in A. In other words, A and B can be equal, but surely B contains all elements of A. To check if A is a improper subset of B we can use the `<=` (strictly less than or equal to) operator. The `<=` operator checks whether the set on its left is an improper subset of the set on the right."
   ]
  },
  {
   "cell_type": "code",
   "execution_count": 17,
   "metadata": {
    "execution": {
     "iopub.execute_input": "2023-05-31T09:23:22.473657Z",
     "iopub.status.busy": "2023-05-31T09:23:22.473233Z",
     "iopub.status.idle": "2023-05-31T09:23:22.482710Z",
     "shell.execute_reply": "2023-05-31T09:23:22.481882Z",
     "shell.execute_reply.started": "2023-05-31T09:23:22.473623Z"
    }
   },
   "outputs": [
    {
     "data": {
      "text/plain": [
       "True"
      ]
     },
     "execution_count": 17,
     "metadata": {},
     "output_type": "execute_result"
    }
   ],
   "source": [
    "a = {2,3,1}\n",
    "b = {1,2,3,4,5}\n",
    "a <= b"
   ]
  },
  {
   "cell_type": "code",
   "execution_count": 18,
   "metadata": {
    "execution": {
     "iopub.execute_input": "2023-05-31T09:23:22.844416Z",
     "iopub.status.busy": "2023-05-31T09:23:22.844040Z",
     "iopub.status.idle": "2023-05-31T09:23:22.850240Z",
     "shell.execute_reply": "2023-05-31T09:23:22.849350Z",
     "shell.execute_reply.started": "2023-05-31T09:23:22.844386Z"
    }
   },
   "outputs": [
    {
     "name": "stdout",
     "output_type": "stream",
     "text": [
      "True\n",
      "True\n"
     ]
    }
   ],
   "source": [
    "c = {1,2,3}\n",
    "print(a <= c)\n",
    "print(c <= a)"
   ]
  },
  {
   "cell_type": "markdown",
   "metadata": {},
   "source": [
    "As you see from the examples above, in case that the sets are equal, the `<=` is commutative. Also, a proper subset is an improper subset as well, but not the other way round."
   ]
  },
  {
   "cell_type": "markdown",
   "metadata": {},
   "source": [
    "Equivalently there is the `issubset()` method to check for improper subsets:"
   ]
  },
  {
   "cell_type": "code",
   "execution_count": 19,
   "metadata": {
    "execution": {
     "iopub.execute_input": "2023-05-31T09:32:54.853450Z",
     "iopub.status.busy": "2023-05-31T09:32:54.852899Z",
     "iopub.status.idle": "2023-05-31T09:32:54.876597Z",
     "shell.execute_reply": "2023-05-31T09:32:54.875659Z",
     "shell.execute_reply.started": "2023-05-31T09:32:54.853406Z"
    }
   },
   "outputs": [
    {
     "data": {
      "text/plain": [
       "True"
      ]
     },
     "execution_count": 19,
     "metadata": {},
     "output_type": "execute_result"
    }
   ],
   "source": [
    "a.issubset(c)"
   ]
  },
  {
   "cell_type": "markdown",
   "metadata": {},
   "source": [
    "Symmetrically, we can find if set B is a **proper or improper superset** of A by using the `>` (greater than) or `>=` (greater than or equal to) operators, respectively. For clarity, B is a **proper superset** of A if all elements of A are part of B and A and B are *not* equal. While B is an **improper superset** of A, if all elements of A are part of B and A and B might be equal. We can also use the `issuperset()` method to check for an improper superset. "
   ]
  },
  {
   "cell_type": "markdown",
   "metadata": {},
   "source": [
    "### Set comprehension"
   ]
  },
  {
   "cell_type": "markdown",
   "metadata": {},
   "source": [
    "If you remember from the previous chapter, we defined list comprehensions using `[]`, since list elements were defined inside `[]`. For sets, we will define the set comprehension inside `{}`, since set elements are inside `{}`. In the next example, we will use a list that contains duplicate elements to create a set using list comprehension:"
   ]
  },
  {
   "cell_type": "code",
   "execution_count": 20,
   "metadata": {
    "execution": {
     "iopub.execute_input": "2023-05-31T09:44:29.180398Z",
     "iopub.status.busy": "2023-05-31T09:44:29.179722Z",
     "iopub.status.idle": "2023-05-31T09:44:29.206558Z",
     "shell.execute_reply": "2023-05-31T09:44:29.205325Z",
     "shell.execute_reply.started": "2023-05-31T09:44:29.180346Z"
    }
   },
   "outputs": [
    {
     "data": {
      "text/plain": [
       "{'Carbon', 'Hydrogen', 'Nitrogen', 'Oxygen'}"
      ]
     },
     "execution_count": 20,
     "metadata": {},
     "output_type": "execute_result"
    }
   ],
   "source": [
    "chemicals = [\n",
    "    'Oxygen', 'Hydrogen', 'Nitrogen', 'Oxygen', 'Hydrogen', 'Carbon'\n",
    "]\n",
    "set_from_list = {element for element in chemicals}\n",
    "set_from_list"
   ]
  },
  {
   "cell_type": "markdown",
   "metadata": {},
   "source": [
    "As you can see, the set does not contain duplicate elements anymore."
   ]
  },
  {
   "cell_type": "markdown",
   "metadata": {},
   "source": [
    "### Set operators (Optional)"
   ]
  },
  {
   "cell_type": "markdown",
   "metadata": {},
   "source": [
    "#### Set union"
   ]
  },
  {
   "cell_type": "markdown",
   "metadata": {},
   "source": [
    "```{figure} ../../images/5_sets_and_dicts/set_union.jpg\n",
    ":alt: set_union_illustration\n",
    ":name: set-union-assign\n",
    ":class: ch6\n",
    ":align: center\n",
    "\n",
    "Set Union\n",
    "```"
   ]
  },
  {
   "cell_type": "markdown",
   "metadata": {},
   "source": [
    "The union of two sets is another set that contains the elements of both sets. To find the union of two sets you can use the `|` operator or the `union()` method."
   ]
  },
  {
   "cell_type": "code",
   "execution_count": 10,
   "metadata": {
    "execution": {
     "iopub.execute_input": "2023-05-31T09:45:09.212430Z",
     "iopub.status.busy": "2023-05-31T09:45:09.211910Z",
     "iopub.status.idle": "2023-05-31T09:45:09.226440Z",
     "shell.execute_reply": "2023-05-31T09:45:09.223710Z",
     "shell.execute_reply.started": "2023-05-31T09:45:09.212385Z"
    }
   },
   "outputs": [
    {
     "name": "stdout",
     "output_type": "stream",
     "text": [
      "{1, 2, 3, 4, 5}\n",
      "{1, 2, 3, 4, 5}\n"
     ]
    }
   ],
   "source": [
    "a = {1,2,3,4}\n",
    "b = {1,2,3,4,5}\n",
    "print(a | b)\n",
    "print(a.union(b))"
   ]
  },
  {
   "cell_type": "markdown",
   "metadata": {},
   "source": [
    "```{note}\n",
    "The `union()` can take any iterable as argument. Before it applies the method, it will convert it to a set and then perform the operation on two sets.\n",
    "```"
   ]
  },
  {
   "cell_type": "markdown",
   "metadata": {},
   "source": [
    "#### Set intersection"
   ]
  },
  {
   "cell_type": "markdown",
   "metadata": {},
   "source": [
    "```{figure} ../../images/5_sets_and_dicts/intersection.png\n",
    ":alt: set_intersection_illustration\n",
    ":name: set-intersection-assign\n",
    ":class: ch6\n",
    ":align: center\n",
    "\n",
    "Set Intersection\n",
    "```"
   ]
  },
  {
   "cell_type": "markdown",
   "metadata": {},
   "source": [
    "Similarly, you can use the `&` or the `intersection()` method to find the common elements of two sets:"
   ]
  },
  {
   "cell_type": "code",
   "execution_count": 9,
   "metadata": {
    "execution": {
     "iopub.execute_input": "2023-05-31T09:45:41.757073Z",
     "iopub.status.busy": "2023-05-31T09:45:41.756418Z",
     "iopub.status.idle": "2023-05-31T09:45:41.766415Z",
     "shell.execute_reply": "2023-05-31T09:45:41.762935Z",
     "shell.execute_reply.started": "2023-05-31T09:45:41.757023Z"
    }
   },
   "outputs": [
    {
     "name": "stdout",
     "output_type": "stream",
     "text": [
      "{2, 3, 4}\n",
      "{2, 3, 4}\n"
     ]
    }
   ],
   "source": [
    "print(a & b)\n",
    "print(a.intersection(b))"
   ]
  },
  {
   "cell_type": "markdown",
   "metadata": {},
   "source": [
    "As you can see, both ways output the common elements of both sets."
   ]
  },
  {
   "cell_type": "markdown",
   "metadata": {},
   "source": [
    "#### Set difference"
   ]
  },
  {
   "cell_type": "markdown",
   "metadata": {},
   "source": [
    "```{figure} ../../images/5_sets_and_dicts/set_difference.jpg\n",
    ":alt: set_difference_illustration\n",
    ":name: set-difference-assign\n",
    ":class: ch6\n",
    ":align: center\n",
    "\n",
    "Set Difference\n",
    "```"
   ]
  },
  {
   "cell_type": "markdown",
   "metadata": {},
   "source": [
    "The set difference is another set that contains only the elements of the first set that are not part of the second set. To find the set difference we can use the `-` operator or the `difference()` method: "
   ]
  },
  {
   "cell_type": "code",
   "execution_count": 23,
   "metadata": {
    "execution": {
     "iopub.execute_input": "2023-05-31T09:45:58.363981Z",
     "iopub.status.busy": "2023-05-31T09:45:58.363424Z",
     "iopub.status.idle": "2023-05-31T09:45:58.371656Z",
     "shell.execute_reply": "2023-05-31T09:45:58.370170Z",
     "shell.execute_reply.started": "2023-05-31T09:45:58.363925Z"
    }
   },
   "outputs": [
    {
     "name": "stdout",
     "output_type": "stream",
     "text": [
      "set()\n",
      "set()\n"
     ]
    }
   ],
   "source": [
    "print(a - b)\n",
    "print(a.difference(b))"
   ]
  },
  {
   "cell_type": "markdown",
   "metadata": {},
   "source": [
    "As you can see, both ways return an empty set because there are no elements in `a` that are not in `b`. Let us check the difference between `b` and `a` now:"
   ]
  },
  {
   "cell_type": "code",
   "execution_count": 24,
   "metadata": {
    "execution": {
     "iopub.execute_input": "2023-05-31T09:46:05.354965Z",
     "iopub.status.busy": "2023-05-31T09:46:05.354459Z",
     "iopub.status.idle": "2023-05-31T09:46:05.362195Z",
     "shell.execute_reply": "2023-05-31T09:46:05.360830Z",
     "shell.execute_reply.started": "2023-05-31T09:46:05.354919Z"
    }
   },
   "outputs": [
    {
     "name": "stdout",
     "output_type": "stream",
     "text": [
      "{5}\n",
      "{5}\n"
     ]
    }
   ],
   "source": [
    "print(b - a)\n",
    "print(b.difference(a))"
   ]
  },
  {
   "cell_type": "markdown",
   "metadata": {},
   "source": [
    "In the second case, `5` is  the element that is in `b` but not in `a`."
   ]
  },
  {
   "cell_type": "markdown",
   "metadata": {},
   "source": [
    "```{figure} ../../images/5_sets_and_dicts/symmetric_set_difference.jpg\n",
    ":alt: symmetric_set_difference_illustration\n",
    ":name: symmetric-set-difference-assign\n",
    ":class: ch6\n",
    ":align: center\n",
    "\n",
    "Symmetric Set Difference\n",
    "```"
   ]
  },
  {
   "cell_type": "markdown",
   "metadata": {},
   "source": [
    "The symmetric set difference on the other hand, returns a set that the elements that are not common in any of the sets:"
   ]
  },
  {
   "cell_type": "code",
   "execution_count": 25,
   "metadata": {
    "execution": {
     "iopub.execute_input": "2023-05-31T09:46:21.697452Z",
     "iopub.status.busy": "2023-05-31T09:46:21.696948Z",
     "iopub.status.idle": "2023-05-31T09:46:21.704678Z",
     "shell.execute_reply": "2023-05-31T09:46:21.703374Z",
     "shell.execute_reply.started": "2023-05-31T09:46:21.697411Z"
    }
   },
   "outputs": [
    {
     "name": "stdout",
     "output_type": "stream",
     "text": [
      "{5}\n",
      "{5}\n"
     ]
    }
   ],
   "source": [
    "print(a^b)\n",
    "print(a.symmetric_difference(b))"
   ]
  },
  {
   "cell_type": "markdown",
   "metadata": {},
   "source": [
    "It is like taking the union of the two set differences `a-b` and `b-a`."
   ]
  },
  {
   "cell_type": "markdown",
   "metadata": {},
   "source": [
    "#### Disjoint sets"
   ]
  },
  {
   "cell_type": "markdown",
   "metadata": {},
   "source": [
    "```{figure} ../../images/5_sets_and_dicts/set_disjoint.png\n",
    ":alt: set_disjoint_illustration\n",
    ":name: set-disjoint-assign\n",
    ":class: ch6\n",
    ":align: center\n",
    "\n",
    "Disjoint Sets\n",
    "```"
   ]
  },
  {
   "cell_type": "markdown",
   "metadata": {},
   "source": [
    "Two sets are disjoint if they do not have any elements in common. To check whether to sets are disjoint or not we can use the `isdisjoint()` method:"
   ]
  },
  {
   "cell_type": "code",
   "execution_count": 26,
   "metadata": {
    "execution": {
     "iopub.execute_input": "2023-05-31T09:46:42.839287Z",
     "iopub.status.busy": "2023-05-31T09:46:42.838580Z",
     "iopub.status.idle": "2023-05-31T09:46:42.847406Z",
     "shell.execute_reply": "2023-05-31T09:46:42.846312Z",
     "shell.execute_reply.started": "2023-05-31T09:46:42.839233Z"
    }
   },
   "outputs": [
    {
     "data": {
      "text/plain": [
       "False"
      ]
     },
     "execution_count": 26,
     "metadata": {},
     "output_type": "execute_result"
    }
   ],
   "source": [
    "a.isdisjoint(b)"
   ]
  },
  {
   "cell_type": "markdown",
   "metadata": {},
   "source": [
    "It returns a boolean value that indicates if two sets are disjoint or not."
   ]
  },
  {
   "cell_type": "code",
   "execution_count": 27,
   "metadata": {
    "execution": {
     "iopub.execute_input": "2023-05-31T09:46:46.318615Z",
     "iopub.status.busy": "2023-05-31T09:46:46.318185Z",
     "iopub.status.idle": "2023-05-31T09:46:46.327635Z",
     "shell.execute_reply": "2023-05-31T09:46:46.326185Z",
     "shell.execute_reply.started": "2023-05-31T09:46:46.318573Z"
    }
   },
   "outputs": [
    {
     "data": {
      "text/plain": [
       "True"
      ]
     },
     "execution_count": 27,
     "metadata": {},
     "output_type": "execute_result"
    }
   ],
   "source": [
    "d = {10,20,30}\n",
    "a.isdisjoint(d)"
   ]
  },
  {
   "cell_type": "markdown",
   "metadata": {},
   "source": [
    "### Frozenset (Optional)"
   ]
  },
  {
   "cell_type": "markdown",
   "metadata": {},
   "source": [
    "Frozensets are immutable sets. As we have seen so far, sets are *mutable* since we can modify them by adding or removing elements. However, set elements **must be immutable**. This means that they cannot be modified. Thus, a frozenset is an **immutable** set. This means that once it is created, it cannot be modified. A frozenset can be created by using the built-in function `frozenset()` that takes as input any iterable and creates the frozen set from its elements."
   ]
  },
  {
   "cell_type": "markdown",
   "metadata": {},
   "source": [
    "Next on, we will explore dictionaries."
   ]
  }
 ],
 "metadata": {
  "kernelspec": {
   "display_name": "Python 3 (ipykernel)",
   "language": "python",
   "name": "python3"
  },
  "language_info": {
   "codemirror_mode": {
    "name": "ipython",
    "version": 3
   },
   "file_extension": ".py",
   "mimetype": "text/x-python",
   "name": "python",
   "nbconvert_exporter": "python",
   "pygments_lexer": "ipython3",
   "version": "3.8.16"
  },
  "vscode": {
   "interpreter": {
    "hash": "0c2f5c4fba51b93f19e499abfcc9ef4d6fee5bb503e49077d95162365c0a0cb3"
   }
  }
 },
 "nbformat": 4,
 "nbformat_minor": 4
}
