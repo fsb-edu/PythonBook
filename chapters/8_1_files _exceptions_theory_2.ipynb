{
 "cells": [
  {
   "attachments": {},
   "cell_type": "markdown",
   "metadata": {},
   "source": [
    "# Readings - Exceptions"
   ]
  },
  {
   "attachments": {},
   "cell_type": "markdown",
   "metadata": {},
   "source": [
    "## What are Exceptions?"
   ]
  },
  {
   "attachments": {},
   "cell_type": "markdown",
   "metadata": {},
   "source": [
    "In all the previous chapters we have seen a lot of errors. All this errors are called **exceptions**. Exceptions are raised when unexpected situations occur during program execution. Some of this situations include division by zero, input that does not match what the program is expecting, trying to use variables that were removed from the execution session, giving wrong input to functions, etc.\n",
    "\n",
    "Exceptions, if they are not handled, result in termination of program execution since the computer would  not know how to resolve the situation. To prevent the program from terminating unexpectedly, there are ways to handle or catch this exceptions, as we will see below."
   ]
  },
  {
   "attachments": {},
   "cell_type": "markdown",
   "metadata": {},
   "source": [
    "## Exception Handling"
   ]
  },
  {
   "attachments": {},
   "cell_type": "markdown",
   "metadata": {},
   "source": [
    "During exception handling, we instruct the computer what to do in case of an exception happens. The default behavior is for the computer to stop executing the program. But if we write code to handle the exception, then it will \n",
    "execute that code and will not terminate. The syntax to do this is as follows:\n",
    "\n",
    "```python\n",
    "try:\n",
    "    code that we suspect might throw an exception\n",
    "except Error:\n",
    "    code to be executed when error occurs\n",
    "```\n",
    "\n",
    "As you can see from above the code block has two parts: the `try` and the `except` part. The `try` part specifies the block that will potentially raise an error, while in the `except` part we instruct the computer what o do in case an error occurs."
   ]
  },
  {
   "attachments": {},
   "cell_type": "markdown",
   "metadata": {},
   "source": [
    "Let us have a look at the examples below. The code does the same thing: it divides a number with a list of numbers to find the quotients."
   ]
  },
  {
   "cell_type": "code",
   "execution_count": 6,
   "metadata": {},
   "outputs": [],
   "source": [
    "numerator = 15\n",
    "denominators = [0,3,5]"
   ]
  },
  {
   "cell_type": "code",
   "execution_count": 7,
   "metadata": {},
   "outputs": [
    {
     "ename": "ZeroDivisionError",
     "evalue": "division by zero",
     "output_type": "error",
     "traceback": [
      "\u001b[1;31m---------------------------------------------------------------------------\u001b[0m",
      "\u001b[1;31mZeroDivisionError\u001b[0m                         Traceback (most recent call last)",
      "\u001b[1;32m~\\AppData\\Local\\Temp\\ipykernel_15664\\79843341.py\u001b[0m in \u001b[0;36m<module>\u001b[1;34m\u001b[0m\n\u001b[0;32m      1\u001b[0m \u001b[1;32mfor\u001b[0m \u001b[0mdenominator\u001b[0m \u001b[1;32min\u001b[0m \u001b[0mdenominators\u001b[0m\u001b[1;33m:\u001b[0m\u001b[1;33m\u001b[0m\u001b[1;33m\u001b[0m\u001b[0m\n\u001b[1;32m----> 2\u001b[1;33m         \u001b[0mprint\u001b[0m\u001b[1;33m(\u001b[0m\u001b[0mnumerator\u001b[0m\u001b[1;33m/\u001b[0m\u001b[0mdenominator\u001b[0m\u001b[1;33m)\u001b[0m\u001b[1;33m\u001b[0m\u001b[1;33m\u001b[0m\u001b[0m\n\u001b[0m",
      "\u001b[1;31mZeroDivisionError\u001b[0m: division by zero"
     ]
    }
   ],
   "source": [
    "for denominator in denominators:\n",
    "        print(numerator/denominator)"
   ]
  },
  {
   "attachments": {},
   "cell_type": "markdown",
   "metadata": {},
   "source": [
    "Since division by 0 does not make any sense, the program throws a `ZeroDivisionError` and exits immediately."
   ]
  },
  {
   "cell_type": "code",
   "execution_count": 8,
   "metadata": {},
   "outputs": [
    {
     "name": "stdout",
     "output_type": "stream",
     "text": [
      "Oops, you attempted to divide by zero! Program terminating...\n"
     ]
    }
   ],
   "source": [
    "try:\n",
    "    for denominator in denominators:\n",
    "        print(numerator/denominator)\n",
    "except ZeroDivisionError:\n",
    "    print('Oops, you attempted to divide by zero! Program terminating...')"
   ]
  },
  {
   "attachments": {},
   "cell_type": "markdown",
   "metadata": {},
   "source": [
    "Here as you can see, the error again was raised but this time the execution did  not stop but went inside the `except` clause and executed the statement in the `print()` function. In this scenario it is usually said that the program finished executing *gracefully*."
   ]
  },
  {
   "attachments": {},
   "cell_type": "markdown",
   "metadata": {},
   "source": [
    "```{note}\n",
    "In case you that you expect different types of errors to occur, then you can list them in `except` clauses one after the other. Also, in case you are not sure what type of error is thrown, you can specify `BaseError` in the `except` clause and it will catch any type of error thrown. However, this is not usually a good practice in case you would like to distinguish between different types of errors occurring.\n",
    "```"
   ]
  },
  {
   "attachments": {},
   "cell_type": "markdown",
   "metadata": {},
   "source": [
    "Let's see an example:"
   ]
  },
  {
   "cell_type": "code",
   "execution_count": 9,
   "metadata": {},
   "outputs": [
    {
     "name": "stdout",
     "output_type": "stream",
     "text": [
      "15.0\n",
      "7.5\n",
      "Oops, an error has occurred!\n"
     ]
    }
   ],
   "source": [
    "denominators_1 = [1, 2, 'hello']\n",
    "try:\n",
    "    for denominator in denominators_1:\n",
    "        print(numerator/denominator)\n",
    "except ZeroDivisionError:\n",
    "    print('Oops, you attempted to divide by zero! Program terminating...')\n",
    "except BaseException:\n",
    "    print('Oops, an error has occurred!')"
   ]
  },
  {
   "attachments": {},
   "cell_type": "markdown",
   "metadata": {},
   "source": [
    "In this example, the error happened when the program tried to divide `15` by `hello`. Since this is not a `ZeroDivisionError`, the first `except` clause is ignored and the second one `BaseException` catches the error. As we mentioned above the `BaseException` can catch **any** exception type. "
   ]
  },
  {
   "attachments": {},
   "cell_type": "markdown",
   "metadata": {},
   "source": [
    "```{note}\n",
    "If in a list of `except` clauses, you always put the `BaseException` first, then the other exceptions will always be ignored. Imagine `BaseException` as the set that contains all possible exceptions that can occur. Look at the example below. The code snippet in `ZeroDivisionError` can never be reached.\n",
    "```"
   ]
  },
  {
   "cell_type": "code",
   "execution_count": 11,
   "metadata": {},
   "outputs": [
    {
     "name": "stdout",
     "output_type": "stream",
     "text": [
      "Oops, an error has occurred!\n"
     ]
    }
   ],
   "source": [
    "try:\n",
    "    for denominator in denominators:\n",
    "        print(numerator/denominator)\n",
    "except BaseException:\n",
    "    print('Oops, an error has occurred!')\n",
    "except ZeroDivisionError:\n",
    "    print('Oops, you attempted to divide by zero! Program terminating...')"
   ]
  },
  {
   "attachments": {},
   "cell_type": "markdown",
   "metadata": {},
   "source": [
    "## `finally` Clause"
   ]
  },
  {
   "attachments": {},
   "cell_type": "markdown",
   "metadata": {},
   "source": [
    "The `finally` clause may be placed in a `try` block after the `except` statements. The code within the `finally` clause always executes regardless of whether an exception executes or not. The syntax looks like this:\n",
    "```python\n",
    "try:\n",
    "    code that we suspect might throw an exception\n",
    "except ErrorType:\n",
    "    code that handles the exception\n",
    "finally:\n",
    "    code to execute regardless of an exception happening\n",
    "```\n",
    "Usually, the `finally` clause contains code that would release resources so that they can be used later, even if an exception occurs. An example would be:"
   ]
  },
  {
   "cell_type": "code",
   "execution_count": 13,
   "metadata": {},
   "outputs": [
    {
     "name": "stdout",
     "output_type": "stream",
     "text": [
      "Oops, you attempted to divide by zero!\n",
      "Program terminating...\n"
     ]
    }
   ],
   "source": [
    "try:\n",
    "    for denominator in denominators:\n",
    "        print(numerator/denominator)\n",
    "except ZeroDivisionError:\n",
    "    print('Oops, you attempted to divide by zero!')\n",
    "finally:\n",
    "    print('Program terminating...')"
   ]
  },
  {
   "attachments": {},
   "cell_type": "markdown",
   "metadata": {},
   "source": [
    "In this example, the exception was raised, so the print statement in the `except` block was executed and afterwards the control flow went in the `finally` block that will execute the `print()` statement there."
   ]
  },
  {
   "cell_type": "code",
   "execution_count": 14,
   "metadata": {},
   "outputs": [
    {
     "name": "stdout",
     "output_type": "stream",
     "text": [
      "15.0\n",
      "5.0\n",
      "3.0\n",
      "Program terminating...\n"
     ]
    }
   ],
   "source": [
    "denominators_2 = [1,3,5]\n",
    "try:\n",
    "    for denominator in denominators_2:\n",
    "        print(numerator/denominator)\n",
    "except ZeroDivisionError:\n",
    "    print('Oops, you attempted to divide by zero!')\n",
    "finally:\n",
    "    print('Program terminating...')"
   ]
  },
  {
   "attachments": {},
   "cell_type": "markdown",
   "metadata": {},
   "source": [
    "In this case, no exception was raised, as a result the code block in the `try` statement was executed successfully. After it was finished, the control went to the `finally` block, printing the statement and terminating."
   ]
  },
  {
   "attachments": {},
   "cell_type": "markdown",
   "metadata": {},
   "source": [
    "````{margin}\n",
    "```{note}\n",
    "For the sake of completeness, you can create your own exception as well. In that case, to throw that exception from a `try` block you can use the `raise exception_name` statement and handle it in a corresponding `except` statement. However, usually it is recommended that you use the already built-in exceptions in Python. You can find more information about them [in the documentation](https://docs.python.org/3/library/exceptions.html). \n",
    "```\n",
    "````\n"
   ]
  }
 ],
 "metadata": {
  "kernelspec": {
   "display_name": "python-jb",
   "language": "python",
   "name": "python3"
  },
  "language_info": {
   "codemirror_mode": {
    "name": "ipython",
    "version": 3
   },
   "file_extension": ".py",
   "mimetype": "text/x-python",
   "name": "python",
   "nbconvert_exporter": "python",
   "pygments_lexer": "ipython3",
   "version": "3.7.13"
  },
  "orig_nbformat": 4,
  "vscode": {
   "interpreter": {
    "hash": "0c2f5c4fba51b93f19e499abfcc9ef4d6fee5bb503e49077d95162365c0a0cb3"
   }
  }
 },
 "nbformat": 4,
 "nbformat_minor": 2
}
