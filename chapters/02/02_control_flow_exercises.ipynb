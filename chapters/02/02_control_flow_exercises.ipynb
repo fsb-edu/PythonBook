{
 "cells": [
  {
   "attachments": {},
   "cell_type": "markdown",
   "metadata": {},
   "source": [
    "# Exercises"
   ]
  },
  {
   "attachments": {},
   "cell_type": "markdown",
   "metadata": {},
   "source": [
    "## Exercise 1"
   ]
  },
  {
   "attachments": {},
   "cell_type": "markdown",
   "metadata": {},
   "source": [
    "Write an expression that will find the value of this arithmetic expression:\n",
    "```{math}\n",
    "2\\times(5+3)+4\\times \\dfrac{128}{ (\\dfrac{16}{8})}-3^2\\times (5\\%2)\n",
    "```"
   ]
  },
  {
   "cell_type": "code",
   "execution_count": null,
   "metadata": {},
   "outputs": [],
   "source": [
    "# write your code here"
   ]
  },
  {
   "attachments": {},
   "cell_type": "markdown",
   "metadata": {},
   "source": [
    "## Exercise 2"
   ]
  },
  {
   "attachments": {},
   "cell_type": "markdown",
   "metadata": {},
   "source": [
    "Write an expression that given the following values of `x = True`, `y = False` and `z = False` will find out the value of the following logical expression:\n",
    "\n",
    "```{math}\n",
    "x \\; AND \\; (y \\; OR \\; z \\; OR \\; (x \\; AND \\; z))\n",
    "```"
   ]
  },
  {
   "cell_type": "code",
   "execution_count": null,
   "metadata": {},
   "outputs": [],
   "source": [
    "# write your code here"
   ]
  },
  {
   "attachments": {},
   "cell_type": "markdown",
   "metadata": {},
   "source": [
    "## Exercise 3"
   ]
  },
  {
   "attachments": {},
   "cell_type": "markdown",
   "metadata": {},
   "source": [
    "Now we will modify the code from the {ref}`Readings section 3.1.2.3 <if-elseif-else-label>`. The user will input a grade and based on the ETH grading table you have to output the corresponding description. Find the details [here](https://ethz.ch/content/dam/ethz/main/education/rechtliches-abschluesse/grading.pdf). If the user inputs a number outside of the specified range then print this statement: `Incorrect grade!`."
   ]
  },
  {
   "cell_type": "code",
   "execution_count": 1,
   "metadata": {},
   "outputs": [],
   "source": [
    "grade = input('Enter the grade here: ')\n",
    "\n",
    "# write your code here"
   ]
  },
  {
   "attachments": {},
   "cell_type": "markdown",
   "metadata": {},
   "source": [
    "## Exercise 4"
   ]
  },
  {
   "attachments": {},
   "cell_type": "markdown",
   "metadata": {},
   "source": [
    "We have a list of fermented food, but we do not like everything that is there. More precisely, the list contains the following items: milk, yoghurt, beer, cider, tempeh, sauerkraut and kefir. We do not like: milk, cider and kefir. So we need to print everything except of these 3 foods. Write a program to accomplish this using a **while** loop."
   ]
  },
  {
   "cell_type": "code",
   "execution_count": null,
   "metadata": {},
   "outputs": [],
   "source": [
    "fermented_food = ['milk', 'yoghurt', 'beer', 'cider', 'tempeh', 'sauerkraut', 'kefir']\n",
    "\n",
    "# write your code here"
   ]
  },
  {
   "attachments": {},
   "cell_type": "markdown",
   "metadata": {},
   "source": [
    "## Exercise 5"
   ]
  },
  {
   "attachments": {},
   "cell_type": "markdown",
   "metadata": {},
   "source": [
    "Repeat exercise 4 using a **for** loop this time but when we encounter `sauerkraut` we do not want to continue looping anymore."
   ]
  },
  {
   "cell_type": "code",
   "execution_count": 2,
   "metadata": {},
   "outputs": [],
   "source": [
    "# write your code here"
   ]
  },
  {
   "attachments": {},
   "cell_type": "markdown",
   "metadata": {},
   "source": [
    "(ch2-ex6-label)=\n",
    "## Exercise 6 (Optional - Bonus)"
   ]
  },
  {
   "attachments": {},
   "cell_type": "markdown",
   "metadata": {},
   "source": [
    "Using a loop structure (either **for** or **while**) draw a Christmas tree with a base of 5 stars using asterisks(*). The output should look like this:\n",
    "```{figure} ../../images/2_control_flow/christmas_tree.jpg\n",
    ":alt: christmas_tree_illustration\n",
    ":name: ch-t-pseudo\n",
    ":class: ch3\n",
    ":align: center\n",
    "```"
   ]
  },
  {
   "cell_type": "code",
   "execution_count": null,
   "metadata": {},
   "outputs": [],
   "source": [
    "# write your code here"
   ]
  }
 ],
 "metadata": {
  "kernelspec": {
   "display_name": "python-jb",
   "language": "python",
   "name": "python3"
  },
  "language_info": {
   "codemirror_mode": {
    "name": "ipython",
    "version": 3
   },
   "file_extension": ".py",
   "mimetype": "text/x-python",
   "name": "python",
   "nbconvert_exporter": "python",
   "pygments_lexer": "ipython3",
   "version": "3.7.13 (default, Oct 19 2022, 10:19:43) [MSC v.1916 64 bit (AMD64)]"
  },
  "orig_nbformat": 4,
  "vscode": {
   "interpreter": {
    "hash": "0c2f5c4fba51b93f19e499abfcc9ef4d6fee5bb503e49077d95162365c0a0cb3"
   }
  }
 },
 "nbformat": 4,
 "nbformat_minor": 2
}
