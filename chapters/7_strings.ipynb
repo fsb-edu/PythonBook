{
 "cells": [
  {
   "attachments": {},
   "cell_type": "markdown",
   "metadata": {},
   "source": [
    "# Strings"
   ]
  },
  {
   "attachments": {},
   "cell_type": "markdown",
   "metadata": {},
   "source": [
    "In this chapter we are going to have a look at strings, one of the most used data types. We will see different ways to format and manipulate them."
   ]
  },
  {
   "attachments": {},
   "cell_type": "markdown",
   "metadata": {},
   "source": [
    "```{admonition} Chapter Summary\n",
    "- What are string?\n",
    "- Formatting strings:\n",
    "    - format specification\n",
    "    - space and alignment\n",
    "    - number formatting options\n",
    "    - **format()** method\n",
    "    - escape characters\n",
    "- Subtstrings:\n",
    "    - search for substrings\n",
    "    - counting occurrences\n",
    "    - replace substrings\n",
    "- Other string methods\n",
    "    - joining strings\n",
    "    - splitting strings\n",
    "    - **split()**, **lstrp()**, **rstrip()**\n",
    "    - **lower()**, **upper()**, **capitalzie()**, **title()**, **swapcase()**\n",
    "```"
   ]
  }
 ],
 "metadata": {
  "kernelspec": {
   "display_name": "python-jb",
   "language": "python",
   "name": "python3"
  },
  "language_info": {
   "codemirror_mode": {
    "name": "ipython",
    "version": 3
   },
   "file_extension": ".py",
   "mimetype": "text/x-python",
   "name": "python",
   "nbconvert_exporter": "python",
   "pygments_lexer": "ipython3",
   "version": "3.7.13"
  },
  "orig_nbformat": 4,
  "vscode": {
   "interpreter": {
    "hash": "0c2f5c4fba51b93f19e499abfcc9ef4d6fee5bb503e49077d95162365c0a0cb3"
   }
  }
 },
 "nbformat": 4,
 "nbformat_minor": 2
}
