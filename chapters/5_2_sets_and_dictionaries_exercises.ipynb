{
 "cells": [
  {
   "attachments": {},
   "cell_type": "markdown",
   "metadata": {},
   "source": [
    "# Exercises"
   ]
  },
  {
   "attachments": {},
   "cell_type": "markdown",
   "metadata": {},
   "source": [
    "## Exercise 1"
   ]
  },
  {
   "attachments": {},
   "cell_type": "markdown",
   "metadata": {},
   "source": [
    "Given the following dictionary, create a list of its keys and check whether the list contains a view of the keys or a copy of the keys.\n",
    "**Hint:** Try adding/removing entries and check what happens with the list."
   ]
  },
  {
   "cell_type": "code",
   "execution_count": 22,
   "metadata": {},
   "outputs": [],
   "source": [
    "dictionary_of_cars = {'Ferrari': 1939, 'Mercedes-Benz': 1926, \n",
    "                      'Volkswagen': 1937, 'Audi':1909, \n",
    "                      'BMW': 1916}\n",
    "\n",
    "# write your code here\n"
   ]
  },
  {
   "attachments": {},
   "cell_type": "markdown",
   "metadata": {},
   "source": [
    "## Exercise 2"
   ]
  },
  {
   "attachments": {},
   "cell_type": "markdown",
   "metadata": {},
   "source": [
    "Below you are given a list of names and a list of lists that contain the grades of some students. These lists are parallel. This means that the item at position 0 in the `list_of_grades` corresponds to `John` in the `student` list and so on. Assuming that student names are *unique*, create a dictionary of student names and grades."
   ]
  },
  {
   "cell_type": "code",
   "execution_count": 23,
   "metadata": {},
   "outputs": [],
   "source": [
    "students = ['John', 'Joe', 'Alisson', 'Ann']\n",
    "list_of_grades = [[4.5,5,4.75], [4.75, 5.25, 5.5], \n",
    "                  [4, 4.25, 5.75], [5.5, 5.5, 5.75]]\n",
    "\n",
    "# write your code here"
   ]
  },
  {
   "attachments": {},
   "cell_type": "markdown",
   "metadata": {},
   "source": [
    "## Exercise 3"
   ]
  },
  {
   "attachments": {},
   "cell_type": "markdown",
   "metadata": {},
   "source": [
    "Below you are given a list of names and a list of lists that contain the grades of some students. These lists are parallel just as in the previous exercise. Assuming that student names are *unique*, create a dictionary of student names and their corresponding Grade Point Average (GPA). **Hint:** Consider the *zip()* function."
   ]
  },
  {
   "cell_type": "code",
   "execution_count": 24,
   "metadata": {},
   "outputs": [],
   "source": [
    "students = ['John', 'Joe', 'Alisson', 'Ann']\n",
    "list_of_grades = [[4.5,5,4.75], [4.75, 5.25, 5], \n",
    "                  [4, 4.25, 6], [5.25, 5.5, 5.75]]\n",
    "\n",
    "# write your code here"
   ]
  },
  {
   "attachments": {},
   "cell_type": "markdown",
   "metadata": {},
   "source": [
    "## Exercise 4"
   ]
  },
  {
   "attachments": {},
   "cell_type": "markdown",
   "metadata": {},
   "source": [
    "Find out if A is a superset of B using the `issuperset()` method or the `>` and `>=`  operators."
   ]
  },
  {
   "cell_type": "code",
   "execution_count": 25,
   "metadata": {},
   "outputs": [],
   "source": [
    "A = {1,2,3,4,5,6}\n",
    "B = {2, 4, 6}\n",
    "\n",
    "# write your code here"
   ]
  },
  {
   "attachments": {},
   "cell_type": "markdown",
   "metadata": {},
   "source": [
    "## Exercise 5 (Optional)"
   ]
  },
  {
   "attachments": {},
   "cell_type": "markdown",
   "metadata": {},
   "source": [
    "Can a frozenset contain sets as its elements? What about sets? Can they contain frozensets as elements?"
   ]
  },
  {
   "cell_type": "code",
   "execution_count": 26,
   "metadata": {},
   "outputs": [],
   "source": [
    "# write your answer here as a comment"
   ]
  },
  {
   "cell_type": "code",
   "execution_count": 28,
   "metadata": {},
   "outputs": [],
   "source": [
    "# write your code here if you want to test your reasoning\n"
   ]
  },
  {
   "attachments": {},
   "cell_type": "markdown",
   "metadata": {},
   "source": [
    "(ch5-exercise6-label)= \n",
    "## Exercise 6 (Optional)"
   ]
  },
  {
   "attachments": {},
   "cell_type": "markdown",
   "metadata": {},
   "source": [
    "Given the text below, build a dictionary to map a word to the number of times it appears in the text. Then print only the characters that appear more than once. Also remove any empty character. Hint: Check the [split() method](https://www.w3schools.com/python/ref_string_split.asp). Source of text: [\"To be or not to be\" soliloquy from Hamlet by Shakespeare](https://en.wikipedia.org/wiki/To_be,_or_not_to_be#:~:text=%22To%20be%2C%20or%20not%20to,alternative%2C%20which%20might%20be%20worse.)."
   ]
  },
  {
   "cell_type": "code",
   "execution_count": 1,
   "metadata": {},
   "outputs": [],
   "source": [
    "text = 'To be, or not to be, that is the question: \\\n",
    "        Whether tis nobler in the mind to suffer \\\n",
    "        The slings and arrows of outrageous fortune, \\\n",
    "        Or to take Arms against a Sea of troubles, \\\n",
    "        And by opposing end them: to die, to sleep \\\n",
    "        No more; and by a sleep, to say we end.'"
   ]
  },
  {
   "cell_type": "code",
   "execution_count": 12,
   "metadata": {},
   "outputs": [],
   "source": [
    "# write your code here"
   ]
  }
 ],
 "metadata": {
  "kernelspec": {
   "display_name": "python-jb",
   "language": "python",
   "name": "python3"
  },
  "language_info": {
   "codemirror_mode": {
    "name": "ipython",
    "version": 3
   },
   "file_extension": ".py",
   "mimetype": "text/x-python",
   "name": "python",
   "nbconvert_exporter": "python",
   "pygments_lexer": "ipython3",
   "version": "3.7.13"
  },
  "orig_nbformat": 4,
  "vscode": {
   "interpreter": {
    "hash": "0c2f5c4fba51b93f19e499abfcc9ef4d6fee5bb503e49077d95162365c0a0cb3"
   }
  }
 },
 "nbformat": 4,
 "nbformat_minor": 2
}
