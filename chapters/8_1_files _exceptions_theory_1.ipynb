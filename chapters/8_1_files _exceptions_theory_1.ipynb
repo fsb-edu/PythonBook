{
 "cells": [
  {
   "attachments": {},
   "cell_type": "markdown",
   "metadata": {},
   "source": [
    "# Readings - Files"
   ]
  },
  {
   "attachments": {},
   "cell_type": "markdown",
   "metadata": {},
   "source": [
    "## Why are files useful?"
   ]
  },
  {
   "attachments": {},
   "cell_type": "markdown",
   "metadata": {},
   "source": [
    "Until now, all the data we have dealt with was created on the fly and resided in the memory for the duration of the execution of the program. If we close the browser window and reopen it again to run the program, the data will be recreated from the beginning in the computer that will run the code. But what if we spend a lot of time to create the data each time we need it? This is not an efficient way. For that reason, we can create the data once, save it in a file and each time we need it, we simply read it from the file. This saves a lot of time. "
   ]
  },
  {
   "attachments": {},
   "cell_type": "markdown",
   "metadata": {},
   "source": [
    "From Python's perspective, a file is nothing more than a sequence of *elements*. Elements can be of different types. For example, in the case of text files the *elements* that make the sequence are nothing more than characters, whiles in the case of images, videos, etc these elements are simply bytes. As all sequences, even these are 0-index based. At the end of teh file is an end-of-file marker that sends a signal to the method that reads the file, that its end was reached. But this is nothing that concerns us as programmers as this process is entirely handled by the methods themselves."
   ]
  },
  {
   "attachments": {},
   "cell_type": "markdown",
   "metadata": {},
   "source": [
    "## Writing Data to a File"
   ]
  },
  {
   "attachments": {},
   "cell_type": "markdown",
   "metadata": {},
   "source": [
    "In this section we will see how we can create a file and write content to it. The general syntax is:\n",
    "\n",
    "```python\n",
    "with open(file_name, mode='w') as object_name:\n",
    "    object_name.write(data_to_be_written)\n",
    "```\n",
    "\n",
    "The `with` keyword is used to acquire the resource specified by the `file_name` argument in the `opne()` function. In other words, at this moment our program will get exclusive access to the file specified by the `file_name`.  The `mode='w'`, tells the `open()` function the reason why the program is accessing the file. There are different modes that we can pass as arguments that we list below:\n",
    "- `r` (read) - opens a file for *reading it*.\n",
    "- `w` (write) - opens a file for *writing to it*. If the file does not exist it will be created and if it already exists, its contents will be overwritten.\n",
    "- `a` (append) - opens a file for *writing to it*, but the difference is that it will not overwrite the contents of the file if it already exists. Otherwise it is the same as the `w` mode.\n",
    "- `x` (exclusive creation) - this mode will try to create the file from scratch and if the file exists it will raise an error.\n",
    "- `r+` - opens a file to read and write from/to it and contents will be overridden.\n",
    "- `w+` - opens a file to read and write from/to it but any existing content will be deleted.\n",
    "- `a+` - opens a text file to read and append to it at the end of the file. \n",
    "\n",
    "Each time we deal with a file, be it for reading or writing purposes the interpreter will assign a file object to it, to handle all the underlying tasks like opening the file and actually reading/writing from/to it. In the above syntax we refer to this object as `object_name`. Then, in the case of writing to a file we use the `write()` method of the `object_name` to write the actual content to the file.\n",
    "Let us look at an example:"
   ]
  },
  {
   "cell_type": "code",
   "execution_count": 8,
   "metadata": {},
   "outputs": [],
   "source": [
    "path = '../files/'"
   ]
  },
  {
   "attachments": {},
   "cell_type": "markdown",
   "metadata": {},
   "source": [
    "````{margin}\n",
    "```{note}\n",
    "`\\n` is an escape character which is equivalent to a new line. When in a string, the interpreter will understand it as a new line.\n",
    "```\n",
    "````"
   ]
  },
  {
   "cell_type": "code",
   "execution_count": 11,
   "metadata": {},
   "outputs": [],
   "source": [
    "with open(path + 'file.txt', mode='w') as file_object:\n",
    "    file_object.write('Welcome to Food Science!\\n')"
   ]
  },
  {
   "attachments": {},
   "cell_type": "markdown",
   "metadata": {},
   "source": [
    "The above code will create the `file.txt` file in the *files* folder, which is located in the same directory as this notebook. After the file is created, then the corresponding object that manages the access to the file will write the sentence `Welcome to Food Science!` inside the file."
   ]
  },
  {
   "attachments": {},
   "cell_type": "markdown",
   "metadata": {},
   "source": [
    "```{important}\n",
    "If the file that we are trying to open in `w` mode already exists, then its contents will be overwritten by the new content. If you would like to append to the file then the `a` mode should be used instead.\n",
    "```"
   ]
  },
  {
   "attachments": {},
   "cell_type": "markdown",
   "metadata": {},
   "source": [
    "When the code inside the `with` clause finishes executing, then the resource (the file) is automatically released and as such other programs that might want to access is are free to do so. It is very important to release resources as soon as possible in order not to create bottlenecks."
   ]
  },
  {
   "attachments": {},
   "cell_type": "markdown",
   "metadata": {},
   "source": [
    "If later during the program we would like to add some more text to the file, then we need to open it using the **append** method in order not to overwrite anything:"
   ]
  },
  {
   "cell_type": "code",
   "execution_count": 12,
   "metadata": {},
   "outputs": [],
   "source": [
    "with open(path + 'file.txt', mode='a') as file_object:\n",
    "    file_object.write('Are you excited to learn more about food science and programming?')"
   ]
  },
  {
   "attachments": {},
   "cell_type": "markdown",
   "metadata": {},
   "source": [
    "If you open the file, you will see that the content was added to a new line and did not overwrite the previous message."
   ]
  },
  {
   "attachments": {},
   "cell_type": "markdown",
   "metadata": {},
   "source": [
    "```{warning}\n",
    "In case you want to modify some content that was already written to a file, then most likely if the new and old content will not have the same length, the process will create a mess. In case of updates, it is better to write everything from the beginning, since there is no direct, built-in method to do so.\n",
    "```"
   ]
  },
  {
   "attachments": {},
   "cell_type": "markdown",
   "metadata": {},
   "source": [
    "## Reading Data from a File"
   ]
  },
  {
   "attachments": {},
   "cell_type": "markdown",
   "metadata": {},
   "source": [
    "Reading a file is similar to writing or appending to a file, the only thing we need to do is to change the value of the `mode` parameter to `r`, to indicate that we want the resource for reading purposes. Also, we need to call the `read()` method of the `file_object` so that it will read the contents of the file. Let us read the contents of the `file.txt` that we wrote in the previous section."
   ]
  },
  {
   "cell_type": "code",
   "execution_count": 14,
   "metadata": {},
   "outputs": [
    {
     "name": "stdout",
     "output_type": "stream",
     "text": [
      "Welcome to Food Science!\n",
      "Are you exited to learn more about food science and programming?\n"
     ]
    }
   ],
   "source": [
    "with open(path + 'file.txt', mode='r') as file_object:\n",
    "    text = file_object.read()\n",
    "\n",
    "print(text)"
   ]
  },
  {
   "attachments": {},
   "cell_type": "markdown",
   "metadata": {},
   "source": [
    "As you saw from above, the `read()` method read the entire content of the file and assigned it to the `text` variable. We can also read the lines of the file separately and get instead a list of strings, where each line is a separate string, using the `readlines()` method:"
   ]
  },
  {
   "cell_type": "code",
   "execution_count": 15,
   "metadata": {},
   "outputs": [
    {
     "name": "stdout",
     "output_type": "stream",
     "text": [
      "['Welcome to Food Science!\\n', 'Are you exited to learn more about food science and programming?']\n"
     ]
    }
   ],
   "source": [
    "with open(path + 'file.txt', mode='r') as file_object:\n",
    "    list_of_lines = file_object.readlines()\n",
    "\n",
    "print(list_of_lines)"
   ]
  },
  {
   "attachments": {},
   "cell_type": "markdown",
   "metadata": {},
   "source": [
    "```{warning}\n",
    "It is not recommended using the `readlines()` method for large files that contain a lot of lines since it is time-consuming.\n",
    "```"
   ]
  }
 ],
 "metadata": {
  "kernelspec": {
   "display_name": "python-jb",
   "language": "python",
   "name": "python3"
  },
  "language_info": {
   "codemirror_mode": {
    "name": "ipython",
    "version": 3
   },
   "file_extension": ".py",
   "mimetype": "text/x-python",
   "name": "python",
   "nbconvert_exporter": "python",
   "pygments_lexer": "ipython3",
   "version": "3.7.13"
  },
  "orig_nbformat": 4,
  "vscode": {
   "interpreter": {
    "hash": "0c2f5c4fba51b93f19e499abfcc9ef4d6fee5bb503e49077d95162365c0a0cb3"
   }
  }
 },
 "nbformat": 4,
 "nbformat_minor": 2
}
