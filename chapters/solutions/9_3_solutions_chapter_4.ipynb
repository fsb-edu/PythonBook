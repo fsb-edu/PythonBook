{
 "cells": [
  {
   "attachments": {},
   "cell_type": "markdown",
   "metadata": {},
   "source": [
    "(ch4-exercises)=\n",
    "# Solutions to Chapter 5 Exercises"
   ]
  },
  {
   "attachments": {},
   "cell_type": "markdown",
   "metadata": {},
   "source": [
    "## Exercise 1"
   ]
  },
  {
   "attachments": {},
   "cell_type": "markdown",
   "metadata": {},
   "source": [
    "Suppose that we have the following list of numbers: `list_of_numbers = [1,2,3]`. Then we want to insert a list of numbers at position 1. For this we execute: `list_of_numbers.insert(1, [30,40])`. Do you think this is valid? Will this code produce any errors?  What will happen after executing it? You can use the cell below to check your answer."
   ]
  },
  {
   "cell_type": "code",
   "execution_count": 1,
   "metadata": {},
   "outputs": [
    {
     "data": {
      "text/plain": [
       "[1, [30, 40], 2, 3]"
      ]
     },
     "execution_count": 1,
     "metadata": {},
     "output_type": "execute_result"
    }
   ],
   "source": [
    "# write your code here\n",
    "list_of_numbers = [1,2,3]\n",
    "list_of_numbers.insert(1,[30,40])\n",
    "list_of_numbers"
   ]
  },
  {
   "attachments": {},
   "cell_type": "markdown",
   "metadata": {},
   "source": [
    "As you can see, the code is correct and runs. But instead of adding these two elements separately in the list it adds the list as a single element at position 1."
   ]
  },
  {
   "attachments": {},
   "cell_type": "markdown",
   "metadata": {},
   "source": [
    "## Exercise 2"
   ]
  },
  {
   "attachments": {},
   "cell_type": "markdown",
   "metadata": {},
   "source": [
    "Suppose that someone has given us the following list of wrongly mixed fermented food and drinks: `fermented_food = ['milk', 'yoghurt', 'beer', 'cider', 'tempeh', 'sauerkraut', 'kefir']`. Our task is to have the food in one list and the drinks in another one. Find a way to separate them by using list comprehension."
   ]
  },
  {
   "cell_type": "code",
   "execution_count": 2,
   "metadata": {},
   "outputs": [
    {
     "data": {
      "text/plain": [
       "['yoghurt', 'tempeh', 'sauerkraut']"
      ]
     },
     "execution_count": 2,
     "metadata": {},
     "output_type": "execute_result"
    }
   ],
   "source": [
    "# write your code here\n",
    "fermented_food = ['milk', 'yoghurt', 'beer', 'cider', 'tempeh', 'sauerkraut', 'kefir']\n",
    "fermented_drinks = ['beer', 'milk', 'cider', 'kefir']\n",
    "fermented_food = [x for x in fermented_food if x not in fermented_drinks]\n",
    "fermented_food"
   ]
  },
  {
   "attachments": {},
   "cell_type": "markdown",
   "metadata": {},
   "source": [
    "## Exercise 3"
   ]
  },
  {
   "attachments": {},
   "cell_type": "markdown",
   "metadata": {},
   "source": [
    "You are given the following list of numbers: `[10,20,24,45,30,10,32,20,14,8,9,12,24,20,12,3]`.\n",
    "Write a function to find the first and last indices of a given key value (passed as argument) in a list.\n",
    "**Hint**: use loops and your own variables."
   ]
  },
  {
   "cell_type": "code",
   "execution_count": 6,
   "metadata": {},
   "outputs": [],
   "source": [
    "# write function here\n",
    "def find_key(key, list_of_numbers):\n",
    "    first_index = -1\n",
    "    last_index = -1\n",
    "    for index, element in enumerate(list_of_numbers):\n",
    "        # first occurrences of element\n",
    "        if element==key and first_index==-1:\n",
    "            first_index = index\n",
    "            last_index = index\n",
    "        # other occurrences of the element\n",
    "        elif element==key and first_index>=0:\n",
    "            last_index=index\n",
    "    return (first_index, last_index)\n"
   ]
  },
  {
   "cell_type": "code",
   "execution_count": 31,
   "metadata": {},
   "outputs": [
    {
     "name": "stdout",
     "output_type": "stream",
     "text": [
      "(0, 5)\n"
     ]
    }
   ],
   "source": [
    "# write function calls here\n",
    "list_of_numbers_2 = [10,20,24,45,30,10,32,20,14,8,9,12,24,20,12,3]\n",
    "print(find_key(10, list_of_numbers_2))"
   ]
  },
  {
   "attachments": {},
   "cell_type": "markdown",
   "metadata": {},
   "source": [
    "## Exercise 4"
   ]
  },
  {
   "attachments": {},
   "cell_type": "markdown",
   "metadata": {},
   "source": [
    "You are given the following list of numbers: `[10,20,24,45,30,10,32,20,14,8,9,12,24,20,12,3]`.\n",
    "Write a function to find the first and last indices of a given key value (passed as argument) in a list this time using the `index()` method."
   ]
  },
  {
   "cell_type": "code",
   "execution_count": 21,
   "metadata": {},
   "outputs": [],
   "source": [
    "# write function here\n",
    "def find_key_2(key, list):\n",
    "    first_index = list.index(key)\n",
    "    #remember that lists are passed by reference\n",
    "    #if we reverse it, the original one will be reversed\n",
    "    #for this reason we create a deep copy\n",
    "    list_copy = list.copy()\n",
    "    list_copy.reverse()\n",
    "    second_index = len(list) - list_copy.index(key) - 1\n",
    "    return (first_index, second_index)"
   ]
  },
  {
   "cell_type": "code",
   "execution_count": 34,
   "metadata": {},
   "outputs": [
    {
     "name": "stdout",
     "output_type": "stream",
     "text": [
      "(0, 5)\n"
     ]
    }
   ],
   "source": [
    "# write code here\n",
    "list_of_numbers_3 = [10,20,24,45,30,10,32,20,14,8,9,12,24,20,12,3]\n",
    "print(find_key_2(10, list_of_numbers_3))"
   ]
  },
  {
   "attachments": {},
   "cell_type": "markdown",
   "metadata": {},
   "source": [
    "## Exercise 5"
   ]
  },
  {
   "attachments": {},
   "cell_type": "markdown",
   "metadata": {},
   "source": [
    "Variables `a` and `b` mistakenly were assigned values `a = 3` and `b = 5`. The correct version would be: `a = 5` and `b = 3`. Use sequence unpacking to correct this. "
   ]
  },
  {
   "cell_type": "code",
   "execution_count": 35,
   "metadata": {},
   "outputs": [
    {
     "name": "stdout",
     "output_type": "stream",
     "text": [
      "a = 5\n",
      "b = 3\n"
     ]
    }
   ],
   "source": [
    "# write your code here\n",
    "a = 3\n",
    "b = 5\n",
    "b, a = (a,b)\n",
    "print('a =',a)\n",
    "print('b =',b)"
   ]
  },
  {
   "attachments": {},
   "cell_type": "markdown",
   "metadata": {},
   "source": [
    "## Exercise 6"
   ]
  },
  {
   "attachments": {},
   "cell_type": "markdown",
   "metadata": {},
   "source": [
    "What happens when you make a shallow copy of a tuple and then add elements to one of the tuples? Where will the changes be reflected?"
   ]
  },
  {
   "cell_type": "code",
   "execution_count": 27,
   "metadata": {},
   "outputs": [
    {
     "name": "stdout",
     "output_type": "stream",
     "text": [
      "Tuples before changes: \n",
      "tuple_1 (1, 2, 3)\n",
      "tuple_2 (1, 2, 3)\n",
      "Tuples after changes: \n",
      "tuple_1 (1, 2, 3, 4, 5)\n",
      "tuple_2 (1, 2, 3)\n"
     ]
    }
   ],
   "source": [
    "# write answer here - you can write code to test your reasoning as well\n",
    "tuple_1 = (1,2,3)\n",
    "tuple_2 = tuple_1 # tuple 2 points to the same memory space as tuple_1\n",
    "\n",
    "print('Tuples before changes: ')\n",
    "print('tuple_1', tuple_1)\n",
    "print('tuple_2', tuple_2)\n",
    "tuple_1+=(4,5)\n",
    "\n",
    "print('Tuples after changes: ')\n",
    "print('tuple_1', tuple_1)\n",
    "print('tuple_2', tuple_2)\n"
   ]
  },
  {
   "attachments": {},
   "cell_type": "markdown",
   "metadata": {},
   "source": [
    "Recall that tuples are immutable, so when we add elements to it a new tuple is created in memory. So when we create a shallow copy of a tuple, we will have two identifiers pointing to the same memory space. If one of this tuples changes, then a new tuple is created and the identifier will point to the new memory space. But the other identifier will remain unchanged and will continue to point in the old tuple."
   ]
  },
  {
   "attachments": {},
   "cell_type": "markdown",
   "metadata": {},
   "source": [
    "## Exercise 7 (Optional)"
   ]
  },
  {
   "attachments": {},
   "cell_type": "markdown",
   "metadata": {},
   "source": [
    "You are given a list of values: `[1,2,3,4,5,6,7,8,9]` and need to find which of the squares of any of the values are divisible by 2. Use a lambda expression to find out. **Hint**: the iterable of the `map()` function has to be used as  input to the `filter()` function."
   ]
  },
  {
   "cell_type": "code",
   "execution_count": 28,
   "metadata": {},
   "outputs": [
    {
     "data": {
      "text/plain": [
       "[4, 16, 36, 64]"
      ]
     },
     "execution_count": 28,
     "metadata": {},
     "output_type": "execute_result"
    }
   ],
   "source": [
    "# write your code here\n",
    "numbers=[1,2,3,4,5,6,7,8,9]\n",
    "list(filter(lambda x: x%2==0, map(lambda x: x*x, numbers)))"
   ]
  },
  {
   "attachments": {},
   "cell_type": "markdown",
   "metadata": {},
   "source": [
    "The `map()` function returns an iterable. In our case this iterable will have the squares of the elements in the `numbers` list. Each squared element is then checked against the lambda expression of the `filter()` function to single out the squares that are even."
   ]
  }
 ],
 "metadata": {
  "kernelspec": {
   "display_name": "python-jb",
   "language": "python",
   "name": "python3"
  },
  "language_info": {
   "codemirror_mode": {
    "name": "ipython",
    "version": 3
   },
   "file_extension": ".py",
   "mimetype": "text/x-python",
   "name": "python",
   "nbconvert_exporter": "python",
   "pygments_lexer": "ipython3",
   "version": "3.7.13"
  },
  "orig_nbformat": 4,
  "vscode": {
   "interpreter": {
    "hash": "0c2f5c4fba51b93f19e499abfcc9ef4d6fee5bb503e49077d95162365c0a0cb3"
   }
  }
 },
 "nbformat": 4,
 "nbformat_minor": 2
}
