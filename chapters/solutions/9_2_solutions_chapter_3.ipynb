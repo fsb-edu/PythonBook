{
 "cells": [
  {
   "attachments": {},
   "cell_type": "markdown",
   "metadata": {},
   "source": [
    "# Solutions to Chapter 4 Exercises"
   ]
  },
  {
   "attachments": {},
   "cell_type": "markdown",
   "metadata": {},
   "source": [
    "## Exercise 1"
   ]
  },
  {
   "attachments": {},
   "cell_type": "markdown",
   "metadata": {},
   "source": [
    "In this exercise we want to determine if a number is positive (>0) or not. Write a function that will return a value based on whether the number is positive or not. Then try it out with different arguments."
   ]
  },
  {
   "cell_type": "code",
   "execution_count": 2,
   "metadata": {},
   "outputs": [],
   "source": [
    "def is_positive(x):\n",
    "    is_positive = False\n",
    "    if(x>0):\n",
    "        is_positive = True\n",
    "    return is_positive"
   ]
  },
  {
   "cell_type": "code",
   "execution_count": 3,
   "metadata": {},
   "outputs": [
    {
     "name": "stdout",
     "output_type": "stream",
     "text": [
      "True\n",
      "False\n"
     ]
    }
   ],
   "source": [
    "print(is_positive(5))\n",
    "print(is_positive(-5))"
   ]
  },
  {
   "attachments": {},
   "cell_type": "markdown",
   "metadata": {},
   "source": [
    "## Exercise 2"
   ]
  },
  {
   "attachments": {},
   "cell_type": "markdown",
   "metadata": {},
   "source": [
    "Write a function that will receive arbitrary many integer arguments and will compute their average. Test it with different number of arguments."
   ]
  },
  {
   "cell_type": "code",
   "execution_count": 13,
   "metadata": {},
   "outputs": [],
   "source": [
    "def find_average(*args):\n",
    "    sum = 0\n",
    "    no_elements = 0\n",
    "    for no in args:\n",
    "        sum = sum + no\n",
    "        no_elements = no_elements + 1\n",
    "    return sum / no_elements"
   ]
  },
  {
   "cell_type": "code",
   "execution_count": 12,
   "metadata": {},
   "outputs": [
    {
     "name": "stdout",
     "output_type": "stream",
     "text": [
      "2.0\n",
      "3.0\n"
     ]
    }
   ],
   "source": [
    "print(find_average(1,2,3))\n",
    "print(find_average(1,2,3,4,5))"
   ]
  },
  {
   "attachments": {},
   "cell_type": "markdown",
   "metadata": {},
   "source": [
    "## Exercise 3"
   ]
  },
  {
   "attachments": {},
   "cell_type": "markdown",
   "metadata": {},
   "source": [
    "Suppose that we have the following piece of code:\n",
    "\n",
    "```python\n",
    "def find_square(x):\n",
    "return x**2\n",
    "\n",
    "print(find_square(2))\n",
    "```\n",
    "\n",
    "Do you think it will run? Explain your reasoning."
   ]
  },
  {
   "attachments": {},
   "cell_type": "markdown",
   "metadata": {},
   "source": [
    "These code snippet is violating the indentation rules. When trying to run it, it will give an `IndentationError` because the `return` statement is at the same indentation level as the function definition, thus it is not inside the function."
   ]
  },
  {
   "attachments": {},
   "cell_type": "markdown",
   "metadata": {},
   "source": [
    "## Exercise 4"
   ]
  },
  {
   "attachments": {},
   "cell_type": "markdown",
   "metadata": {},
   "source": [
    "Suppose that we have the following piece of code:\n",
    "\n",
    "```python\n",
    "def function_xyz(x,y,z):\n",
    "    x = 5\n",
    "    \n",
    "    if(y>0):\n",
    "        a = x*3\n",
    "    else:\n",
    "        b = z*2\n",
    "    \n",
    "    return a*b\n",
    "\n",
    "\n",
    "print(function_xyz(1,2,3))\n",
    "print(function_xyz(1,-2,3))\n",
    "print(function_xyz(1,0,3))\n",
    "```\n",
    "\n",
    "Do you think any of the function calls will execute correctly? Explain your reasoning."
   ]
  },
  {
   "attachments": {},
   "cell_type": "markdown",
   "metadata": {},
   "source": [
    "In this case, none of the function calls will be able to execute correctly because either `a` or `b` will not have been initialized. In the first case, `x=1`, `y=2` and `z=3`. The first statement in the function block is executed and it *shadows* argument `x`. So `x` will have the value 5. Then `y=2` implies that `y>0` is true, so `a` will be 15. `b` will not be initialized since the `else` block  is skipped. When it comes to the return statement, an error will be thrown because we are trying to access `b` without ever initializing it in any part of the code. In the second case, the same logic follows, but instead of `b` now `a` will not be initialized because the condition `y>0` will fail since `y=-2`. So the code will fail trying to access `a` in the return statement. The second and the third cases have the same failure reasoning."
   ]
  },
  {
   "attachments": {},
   "cell_type": "markdown",
   "metadata": {},
   "source": [
    "## Exercise 5"
   ]
  },
  {
   "attachments": {},
   "cell_type": "markdown",
   "metadata": {},
   "source": [
    "Suppose that we have the following piece of code:\n",
    "\n",
    "```python\n",
    "def function_xyz(x,y,z):\n",
    "    x = 5\n",
    "    \n",
    "    if(y>0):\n",
    "        a = x*3\n",
    "    if(z>0):\n",
    "        b = z*2\n",
    "    \n",
    "    return a*b\n",
    "\n",
    "\n",
    "print(function_xyz(1,2,3))\n",
    "print(function_xyz(1,-2,-3))\n",
    "```\n",
    "\n",
    "Do you think any of the function calls will execute correctly? Explain your reasoning."
   ]
  },
  {
   "attachments": {},
   "cell_type": "markdown",
   "metadata": {},
   "source": [
    "This is similar to the previous exercise. However, note that now we are checking for the value of `z` as well. In the first function call, we are passing arguments: `x=1`, `y=2` and `z=3`. The value of `x` does not have any effect since we are changing it to 5 in the first statement in the function block. Then we go and check  if `y>0`, which is true, thus `a` is initialized to 15. Next, we go and check if `z>0`, which is true, thus `b` is initialized to 6. In the end we return the product of `15*6 = 90`. Note how we are able to access variables declared within `if` blocs outside of these blocks but inside the function.\n",
    "In the second case, both `y` and `z` are negative, so both condition is the `if` statements fail, so none of `a` and `b` will be initialized. In the return statement, when the interpreter will try to access `a`, since it will not have been initialized an error will be thrown and the execution will stop."
   ]
  },
  {
   "attachments": {},
   "cell_type": "markdown",
   "metadata": {},
   "source": [
    "## Exercise 6"
   ]
  },
  {
   "attachments": {},
   "cell_type": "markdown",
   "metadata": {},
   "source": [
    "Remember the Christmas Tree we were trying to build on the previous exercise session? Now we want to be more flexible and based on our available space build different-sized Christmas trees, not only with 5 starts. Modify the following code so that it takes different numbers, and using them builds Christmas trees of different sizes."
   ]
  },
  {
   "cell_type": "code",
   "execution_count": 16,
   "metadata": {},
   "outputs": [],
   "source": [
    "def build_christmas_tree(length):\n",
    "    for i in range(0,length):\n",
    "        for j in range(0,(i+length)):\n",
    "            if j>=(length-(i+1)):\n",
    "                if (j%2==0 and i%2==0) or (j%2==1 and i%2==1):\n",
    "                    print('*', end='')\n",
    "                else:\n",
    "                    print(' ', end='')\n",
    "            else:\n",
    "                print(' ', end='')\n",
    "        print(' ')"
   ]
  },
  {
   "cell_type": "code",
   "execution_count": 19,
   "metadata": {
    "tags": [
     "output_scroll"
    ]
   },
   "outputs": [
    {
     "name": "stdout",
     "output_type": "stream",
     "text": [
      "                     \n",
      "                   *  \n",
      "                  * *  \n",
      "                 * * *  \n",
      "                * * * *  \n",
      "               * * * * *  \n",
      "              * * * * * *  \n",
      "             * * * * * * *  \n",
      "            * * * * * * * *  \n",
      "           * * * * * * * * *  \n",
      "          * * * * * * * * * *  \n",
      "         * * * * * * * * * * *  \n",
      "        * * * * * * * * * * * *  \n",
      "       * * * * * * * * * * * * *  \n",
      "      * * * * * * * * * * * * * *  \n",
      "     * * * * * * * * * * * * * * *  \n",
      "    * * * * * * * * * * * * * * * *  \n",
      "   * * * * * * * * * * * * * * * * *  \n",
      "  * * * * * * * * * * * * * * * * * *  \n",
      " * * * * * * * * * * * * * * * * * * *  \n"
     ]
    }
   ],
   "source": [
    "length_of_christmas_tree = 20\n",
    "build_christmas_tree(length_of_christmas_tree)"
   ]
  }
 ],
 "metadata": {
  "kernelspec": {
   "display_name": "python-jb",
   "language": "python",
   "name": "python3"
  },
  "language_info": {
   "codemirror_mode": {
    "name": "ipython",
    "version": 3
   },
   "file_extension": ".py",
   "mimetype": "text/x-python",
   "name": "python",
   "nbconvert_exporter": "python",
   "pygments_lexer": "ipython3",
   "version": "3.7.13"
  },
  "orig_nbformat": 4,
  "vscode": {
   "interpreter": {
    "hash": "0c2f5c4fba51b93f19e499abfcc9ef4d6fee5bb503e49077d95162365c0a0cb3"
   }
  }
 },
 "nbformat": 4,
 "nbformat_minor": 2
}
