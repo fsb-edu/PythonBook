{
 "cells": [
  {
   "attachments": {},
   "cell_type": "markdown",
   "metadata": {},
   "source": [
    "# Solutions to Chapter 5 Exercises"
   ]
  },
  {
   "attachments": {},
   "cell_type": "markdown",
   "metadata": {},
   "source": [
    "## Exercise 1"
   ]
  },
  {
   "attachments": {},
   "cell_type": "markdown",
   "metadata": {},
   "source": [
    "Given the following dictionary, create a list of its keys and check whether the list contains a view of the keys or a copy of the keys.\n",
    "**Hint:** Try adding/removing entries and check what happens with the list."
   ]
  },
  {
   "cell_type": "code",
   "execution_count": 6,
   "metadata": {},
   "outputs": [
    {
     "name": "stdout",
     "output_type": "stream",
     "text": [
      "List of keys before: ['Ferrari', 'Mercedes-Benz', 'Volkswagen', 'Audi', 'BMW']\n",
      "List of keys after: ['Ferrari', 'Mercedes-Benz', 'Volkswagen', 'Audi', 'BMW']\n",
      "Dictionary: {'Mercedes-Benz': 1926, 'Volkswagen': 1937, 'Audi': 1909, 'BMW': 1916}\n"
     ]
    }
   ],
   "source": [
    "dictionary_of_cars = {'Ferrari': 1939, 'Mercedes-Benz': 1926, \n",
    "                      'Volkswagen': 1937, 'Audi':1909, \n",
    "                      'BMW': 1916}\n",
    "\n",
    "# write your code here\n",
    "list_of_keys = list(dictionary_of_cars.keys())\n",
    "print('List of keys before:', list_of_keys)\n",
    "dictionary_of_cars.pop('Ferrari')\n",
    "print('List of keys after:', list_of_keys)\n",
    "print('Dictionary:', dictionary_of_cars)"
   ]
  },
  {
   "attachments": {},
   "cell_type": "markdown",
   "metadata": {},
   "source": [
    "As you can see, the list did not change although we removed the pair `Ferrari:1939` from the dictionary. This implies that the list contains a copy of the keys and not a view of them."
   ]
  },
  {
   "attachments": {},
   "cell_type": "markdown",
   "metadata": {},
   "source": [
    "## Exercise 2"
   ]
  },
  {
   "attachments": {},
   "cell_type": "markdown",
   "metadata": {},
   "source": [
    "Below you are given a list of names and a list of lists that contain the grades of some students. These lists are parallel. This means that the item at position 0 in the `list_of_grades` corresponds to `John` in the `student` list and so on. Assuming that student names are *unique*, create a dictionary of student names and grades."
   ]
  },
  {
   "cell_type": "code",
   "execution_count": 8,
   "metadata": {},
   "outputs": [],
   "source": [
    "students = ['John', 'Joe', 'Alisson', 'Ann']\n",
    "list_of_grades = [[4.5,5,4.75], [4.75, 5.25, 5.5], \n",
    "                  [4, 4.25, 5.75], [5.5, 5.5, 5.75]]"
   ]
  },
  {
   "cell_type": "code",
   "execution_count": 9,
   "metadata": {},
   "outputs": [
    {
     "data": {
      "text/plain": [
       "{'John': [4.5, 5, 4.75],\n",
       " 'Joe': [4.75, 5.25, 5.5],\n",
       " 'Alisson': [4, 4.25, 5.75],\n",
       " 'Ann': [5.5, 5.5, 5.75]}"
      ]
     },
     "execution_count": 9,
     "metadata": {},
     "output_type": "execute_result"
    }
   ],
   "source": [
    "# write your code here\n",
    "students_and_grades_dict = {name:list_of_grades for name, list_of_grades in zip(students, list_of_grades)}\n",
    "students_and_grades_dict"
   ]
  },
  {
   "attachments": {},
   "cell_type": "markdown",
   "metadata": {},
   "source": [
    "## Exercise 3"
   ]
  },
  {
   "attachments": {},
   "cell_type": "markdown",
   "metadata": {},
   "source": [
    "Below you are given a list of names and a list of lists that contain the grades of some students. These lists are parallel just as in the previous exercise. Assuming that student names are *unique*, create a dictionary of student names and their corresponding Grade Point Average (GPA)."
   ]
  },
  {
   "cell_type": "code",
   "execution_count": 11,
   "metadata": {},
   "outputs": [],
   "source": [
    "students = ['John', 'Joe', 'Alisson', 'Ann']\n",
    "list_of_grades = [[4.5,5,4.75], [4.75, 5.25, 5], \n",
    "                  [4, 4.25, 6], [5.25, 5.5, 5.75]]"
   ]
  },
  {
   "cell_type": "code",
   "execution_count": 12,
   "metadata": {},
   "outputs": [
    {
     "data": {
      "text/plain": [
       "{'John': 4.75, 'Joe': 5.0, 'Alisson': 4.75, 'Ann': 5.5}"
      ]
     },
     "execution_count": 12,
     "metadata": {},
     "output_type": "execute_result"
    }
   ],
   "source": [
    "# write your code here\n",
    "students_and_grades_dict = {name:sum(list_of_grades)/len(list_of_grades) \n",
    "                            for name, list_of_grades in zip(students, list_of_grades)}\n",
    "students_and_grades_dict"
   ]
  },
  {
   "attachments": {},
   "cell_type": "markdown",
   "metadata": {},
   "source": [
    "## Exercise 4"
   ]
  },
  {
   "attachments": {},
   "cell_type": "markdown",
   "metadata": {},
   "source": [
    "Find out if A is a superset of B using the `issuperset()` method or the `>` and `>=`  operators."
   ]
  },
  {
   "cell_type": "code",
   "execution_count": 17,
   "metadata": {},
   "outputs": [],
   "source": [
    "A = {1,2,3,4,5,6}\n",
    "B = {2,4,6}"
   ]
  },
  {
   "cell_type": "code",
   "execution_count": 18,
   "metadata": {},
   "outputs": [
    {
     "name": "stdout",
     "output_type": "stream",
     "text": [
      "True\n",
      "True\n",
      "True\n"
     ]
    }
   ],
   "source": [
    "# write your code here\n",
    "print(A.issuperset(B))\n",
    "print(A > B)\n",
    "print(A >= B)"
   ]
  },
  {
   "attachments": {},
   "cell_type": "markdown",
   "metadata": {},
   "source": [
    "## Exercise 5 (Optional)"
   ]
  },
  {
   "attachments": {},
   "cell_type": "markdown",
   "metadata": {},
   "source": [
    "Can a frozenset contain sets as its elements? What about sets? Can they contain frozensets as elements?"
   ]
  },
  {
   "cell_type": "code",
   "execution_count": null,
   "metadata": {},
   "outputs": [],
   "source": [
    "# write your answer here as a comment"
   ]
  },
  {
   "cell_type": "code",
   "execution_count": 14,
   "metadata": {},
   "outputs": [
    {
     "ename": "TypeError",
     "evalue": "unhashable type: 'set'",
     "output_type": "error",
     "traceback": [
      "\u001b[1;31m---------------------------------------------------------------------------\u001b[0m",
      "\u001b[1;31mTypeError\u001b[0m                                 Traceback (most recent call last)",
      "\u001b[1;32m~\\AppData\\Local\\Temp\\ipykernel_432\\3606589992.py\u001b[0m in \u001b[0;36m<module>\u001b[1;34m\u001b[0m\n\u001b[0;32m      1\u001b[0m \u001b[1;31m#write your code here if you want to test your reasoning\u001b[0m\u001b[1;33m\u001b[0m\u001b[1;33m\u001b[0m\u001b[1;33m\u001b[0m\u001b[0m\n\u001b[1;32m----> 2\u001b[1;33m \u001b[0mfr_set\u001b[0m \u001b[1;33m=\u001b[0m \u001b[0mfrozenset\u001b[0m\u001b[1;33m(\u001b[0m\u001b[1;33m[\u001b[0m\u001b[1;33m{\u001b[0m\u001b[1;36m1\u001b[0m\u001b[1;33m,\u001b[0m\u001b[1;36m2\u001b[0m\u001b[1;33m,\u001b[0m\u001b[1;36m3\u001b[0m\u001b[1;33m,\u001b[0m\u001b[1;36m4\u001b[0m\u001b[1;33m,\u001b[0m\u001b[1;36m5\u001b[0m\u001b[1;33m,\u001b[0m\u001b[1;36m1\u001b[0m\u001b[1;33m}\u001b[0m\u001b[1;33m,\u001b[0m \u001b[1;33m{\u001b[0m\u001b[1;36m2\u001b[0m\u001b[1;33m,\u001b[0m\u001b[1;36m3\u001b[0m\u001b[1;33m,\u001b[0m\u001b[1;36m4\u001b[0m\u001b[1;33m,\u001b[0m\u001b[1;36m5\u001b[0m\u001b[1;33m}\u001b[0m\u001b[1;33m]\u001b[0m\u001b[1;33m)\u001b[0m\u001b[1;33m\u001b[0m\u001b[1;33m\u001b[0m\u001b[0m\n\u001b[0m",
      "\u001b[1;31mTypeError\u001b[0m: unhashable type: 'set'"
     ]
    }
   ],
   "source": [
    "# write your code here if you want to test your reasoning\n",
    "fr_set = frozenset([{1,2,3,4,5,1}, {2,3,4,5}])"
   ]
  },
  {
   "cell_type": "code",
   "execution_count": 16,
   "metadata": {},
   "outputs": [
    {
     "data": {
      "text/plain": [
       "{frozenset({1, 2, 3, 4}), frozenset({1, 2, 3, 4, 5})}"
      ]
     },
     "execution_count": 16,
     "metadata": {},
     "output_type": "execute_result"
    }
   ],
   "source": [
    "# normal set contains frozen sets as elements\n",
    "normal_set = {frozenset({1,2,3,4}), frozenset([1,2,3,4,5])}\n",
    "normal_set"
   ]
  },
  {
   "attachments": {},
   "cell_type": "markdown",
   "metadata": {},
   "source": [
    "Using the definitions of sets and frozensets we conclude that sets can contain frozensets as elements because elements of sets **must be** immutable, which is the case for frozensets. But, on the other hand, sets are **mutable** which means that they cannot be elements of a frozenset since frozensets cannot are entirely **immutable** (we cannot add/remove elements once they are created and also its elements cannot change). You get a `TypeError` if you try to create a frozenset from a list of sets."
   ]
  },
  {
   "attachments": {},
   "cell_type": "markdown",
   "metadata": {},
   "source": [
    "## Exercise 6 (Optional)"
   ]
  },
  {
   "attachments": {},
   "cell_type": "markdown",
   "metadata": {},
   "source": [
    "Given the text below, build a dictionary to map a word to the number of times it appears in the text. Then print only the characters that appear more than once. Also remove any empty character. Hint: Check the [split() method](https://www.w3schools.com/python/ref_string_split.asp). Source of text: [\"To be or not to be\" soliloquy from Hamlet by Shakespeare](https://en.wikipedia.org/wiki/To_be,_or_not_to_be#:~:text=%22To%20be%2C%20or%20not%20to,alternative%2C%20which%20might%20be%20worse.)."
   ]
  },
  {
   "cell_type": "code",
   "execution_count": 1,
   "metadata": {},
   "outputs": [],
   "source": [
    "text = 'To be, or not to be, that is the question: \\\n",
    "        Whether tis nobler in the mind to suffer \\\n",
    "        The slings and arrows of outrageous fortune, \\\n",
    "        Or to take Arms against a Sea of troubles, \\\n",
    "        And by opposing end them: to die, to sleep \\\n",
    "        No more; and by a sleep, to say we end.'"
   ]
  },
  {
   "cell_type": "code",
   "execution_count": 2,
   "metadata": {},
   "outputs": [
    {
     "name": "stdout",
     "output_type": "stream",
     "text": [
      "('be,', 2) ('the', 2) ('by', 2) ('of', 2) ('a', 2) ('and', 2) ('to', 6)\n"
     ]
    }
   ],
   "source": [
    "# write your code here\n",
    "list_of_words = list(filter(lambda word: word != '', text.split(' ')))\n",
    "set_of_words = set(list_of_words)\n",
    "dict_of_words = {}\n",
    "\n",
    "for word in set_of_words:\n",
    "    dict_of_words[word] = list_of_words.count(word)\n",
    "\n",
    "print(*((word, counter) for word, counter in dict_of_words.items() if counter > 1))"
   ]
  },
  {
   "attachments": {},
   "cell_type": "markdown",
   "metadata": {},
   "source": [
    "An example of a possible solution is shown above. If you have used another way and reached the same conclusion well done!"
   ]
  }
 ],
 "metadata": {
  "kernelspec": {
   "display_name": "python-jb",
   "language": "python",
   "name": "python3"
  },
  "language_info": {
   "codemirror_mode": {
    "name": "ipython",
    "version": 3
   },
   "file_extension": ".py",
   "mimetype": "text/x-python",
   "name": "python",
   "nbconvert_exporter": "python",
   "pygments_lexer": "ipython3",
   "version": "3.7.13"
  },
  "orig_nbformat": 4,
  "vscode": {
   "interpreter": {
    "hash": "0c2f5c4fba51b93f19e499abfcc9ef4d6fee5bb503e49077d95162365c0a0cb3"
   }
  }
 },
 "nbformat": 4,
 "nbformat_minor": 2
}
