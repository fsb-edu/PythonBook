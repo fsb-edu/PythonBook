{
 "cells": [
  {
   "attachments": {},
   "cell_type": "markdown",
   "metadata": {},
   "source": [
    "# Solutions to Chapter 8 Exercises"
   ]
  },
  {
   "attachments": {},
   "cell_type": "markdown",
   "metadata": {},
   "source": [
    "## Exercise 1"
   ]
  },
  {
   "attachments": {},
   "cell_type": "markdown",
   "metadata": {},
   "source": [
    "Which one of the following modes of opening a file will overwrite all the contents of the file?\n",
    " 1. `'w'`\n",
    " 2. `'a'`\n",
    " 3. `'r+'`\n"
   ]
  },
  {
   "attachments": {},
   "cell_type": "markdown",
   "metadata": {},
   "source": [
    "The correct answer is `'w'` (option 1). "
   ]
  },
  {
   "attachments": {},
   "cell_type": "markdown",
   "metadata": {},
   "source": [
    "## Exercise 2"
   ]
  },
  {
   "attachments": {},
   "cell_type": "markdown",
   "metadata": {},
   "source": [
    "What mode  of opening would you use for reading a file?\n",
    " 1. `'r'`\n",
    " 2. `'a'`\n",
    " 3. `'r+'`"
   ]
  },
  {
   "attachments": {},
   "cell_type": "markdown",
   "metadata": {},
   "source": [
    "The correct answer is `'r'`. We can use even `'r+'`, but as we saw in the theoretical part it is used to open a file for reading and writing. In this case we want to open it for explicitly reading he file."
   ]
  },
  {
   "attachments": {},
   "cell_type": "markdown",
   "metadata": {},
   "source": [
    "## Exercise 3"
   ]
  },
  {
   "attachments": {},
   "cell_type": "markdown",
   "metadata": {},
   "source": [
    "What mode  of opening would you use for reading a file?\n",
    " 1. `'BaseError'`\n",
    " 2. `'ValueError'`\n",
    " 3. `'TypeError'`"
   ]
  },
  {
   "attachments": {},
   "cell_type": "markdown",
   "metadata": {},
   "source": [
    "The correct answer is `ValueError`. Usually this error is raised when the actual value of the argument does not match with its type."
   ]
  },
  {
   "attachments": {},
   "cell_type": "markdown",
   "metadata": {},
   "source": [
    "## Exercise 4"
   ]
  },
  {
   "attachments": {},
   "cell_type": "markdown",
   "metadata": {},
   "source": [
    "Write the following content into a file called `'exercise4.txt'`:\n",
    "\n",
    "*\"In this case, no exception was raised, as a result the code block in the try statement was executed successfully. After it was finished, the control went to the finally block, printing the statement and terminating.\"*"
   ]
  },
  {
   "cell_type": "code",
   "execution_count": 4,
   "metadata": {},
   "outputs": [],
   "source": [
    "# write your code here\n",
    "file_path='../../files/exercise4.txt'\n",
    "with open(file=file_path, mode='w') as writer_object:\n",
    "    writer_object.write('In this case, no exception was raised, ' \\\n",
    "                        'as a result the code block in the try statement \\n'\\\n",
    "                        'was executed successfully. After it was finished, '\\\n",
    "                        'the control went to the finally block, printing the \\n'\\\n",
    "                        'statement and terminating.')"
   ]
  },
  {
   "attachments": {},
   "cell_type": "markdown",
   "metadata": {},
   "source": [
    "</pre>"
   ]
  },
  {
   "attachments": {},
   "cell_type": "markdown",
   "metadata": {},
   "source": [
    "Note that you can choose another path where to store the file. In this case, the file is stored in the `files` folder."
   ]
  },
  {
   "attachments": {},
   "cell_type": "markdown",
   "metadata": {},
   "source": [
    "## Exercise 5"
   ]
  },
  {
   "attachments": {},
   "cell_type": "markdown",
   "metadata": {},
   "source": [
    "Try to  read and print in the screen the contents of the file you created in Exercise 4."
   ]
  },
  {
   "cell_type": "code",
   "execution_count": 5,
   "metadata": {},
   "outputs": [
    {
     "name": "stdout",
     "output_type": "stream",
     "text": [
      "In this case, no exception was raised, as a result the code block in the try statement \n",
      "was executed successfully. After it was finished, the control went to the finally block, printing the \n",
      "statement and terminating.\n"
     ]
    }
   ],
   "source": [
    "# write your code here\n",
    "file_path='../../files/exercise4.txt'\n",
    "with open(file=file_path, mode='r') as reader_object:\n",
    "    print(reader_object.read())"
   ]
  }
 ],
 "metadata": {
  "kernelspec": {
   "display_name": "python-jb",
   "language": "python",
   "name": "python3"
  },
  "language_info": {
   "codemirror_mode": {
    "name": "ipython",
    "version": 3
   },
   "file_extension": ".py",
   "mimetype": "text/x-python",
   "name": "python",
   "nbconvert_exporter": "python",
   "pygments_lexer": "ipython3",
   "version": "3.7.13"
  },
  "orig_nbformat": 4,
  "vscode": {
   "interpreter": {
    "hash": "0c2f5c4fba51b93f19e499abfcc9ef4d6fee5bb503e49077d95162365c0a0cb3"
   }
  }
 },
 "nbformat": 4,
 "nbformat_minor": 2
}
