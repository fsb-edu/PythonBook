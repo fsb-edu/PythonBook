{
 "cells": [
  {
   "cell_type": "markdown",
   "metadata": {},
   "source": [
    "# Solutions to Chapter 8 Exercises"
   ]
  },
  {
   "cell_type": "markdown",
   "metadata": {},
   "source": [
    "## Exercise 1"
   ]
  },
  {
   "cell_type": "markdown",
   "metadata": {},
   "source": [
    "What would be the output of the following code?\n",
    "```python\n",
    "'{age:d}, {name}, {name}'.format(age=28, name='John')\n",
    "```"
   ]
  },
  {
   "cell_type": "code",
   "execution_count": 1,
   "metadata": {},
   "outputs": [
    {
     "data": {
      "text/plain": [
       "'28, John, John'"
      ]
     },
     "execution_count": 1,
     "metadata": {},
     "output_type": "execute_result"
    }
   ],
   "source": [
    "'{age:d}, {name}, {name}'.format(age=28, name='John')"
   ]
  },
  {
   "cell_type": "markdown",
   "metadata": {},
   "source": [
    "## Exercise 2"
   ]
  },
  {
   "cell_type": "markdown",
   "metadata": {},
   "source": [
    "What would the following code display? \n",
    "```python\n",
    "'{0:d}, {1}, {1}'.format(28, 'John')\n",
    "```"
   ]
  },
  {
   "cell_type": "code",
   "execution_count": 2,
   "metadata": {},
   "outputs": [
    {
     "data": {
      "text/plain": [
       "'28, John, John'"
      ]
     },
     "execution_count": 2,
     "metadata": {},
     "output_type": "execute_result"
    }
   ],
   "source": [
    "'{0:d}, {1}, {1}'.format(28, 'John')"
   ]
  },
  {
   "cell_type": "markdown",
   "metadata": {},
   "source": [
    "Starting from left to right, just like in indexing, the arguments are given implicitly indices. In this case, `0` corresponds to `28` and `1` to `John`."
   ]
  },
  {
   "cell_type": "markdown",
   "metadata": {},
   "source": [
    "## Exercise 3"
   ]
  },
  {
   "cell_type": "markdown",
   "metadata": {},
   "source": [
    "Create the following string and print it:\n",
    "```python\n",
    "------------------------\n",
    "Welcome to Food Science!\n",
    "------------------------\n",
    "```"
   ]
  },
  {
   "cell_type": "code",
   "execution_count": 1,
   "metadata": {},
   "outputs": [
    {
     "name": "stdout",
     "output_type": "stream",
     "text": [
      "-------------------------\n",
      "Welcome to Food Science!\n",
      "-------------------------\n"
     ]
    }
   ],
   "source": [
    "upper_part = '-'*25\n",
    "text = 'Welcome to Food Science!'\n",
    "bottom_part = '-'*25\n",
    "banner = '\\n'.join([upper_part, text, bottom_part])\n",
    "print(banner)"
   ]
  },
  {
   "cell_type": "markdown",
   "metadata": {},
   "source": [
    "## Exercise 4"
   ]
  },
  {
   "cell_type": "markdown",
   "metadata": {},
   "source": [
    "What will be the output of the following statements:\n",
    " - `'apple'.replace('pp', 'nk')`\n",
    " - `'orange'[3:]`\n",
    " - `'pear'.replace('p', 'b').title()`"
   ]
  },
  {
   "cell_type": "code",
   "execution_count": 5,
   "metadata": {},
   "outputs": [
    {
     "name": "stdout",
     "output_type": "stream",
     "text": [
      "ankle\n",
      "nge\n",
      "Bear\n"
     ]
    }
   ],
   "source": [
    "print('apple'.replace('pp', 'nk'))\n",
    "print('orange'[3:])\n",
    "print('pear'.replace('p', 'b').title())"
   ]
  },
  {
   "cell_type": "markdown",
   "metadata": {},
   "source": [
    "## Exercise 5"
   ]
  },
  {
   "cell_type": "markdown",
   "metadata": {},
   "source": [
    "What will be the output of the following statements:\n",
    "- `'elc ' in 'Welcome to Food Science!'`\n",
    "- `'welcome' in 'Welcome to Food Science!'`"
   ]
  },
  {
   "cell_type": "code",
   "execution_count": 33,
   "metadata": {},
   "outputs": [
    {
     "name": "stdout",
     "output_type": "stream",
     "text": [
      "False\n",
      "False\n"
     ]
    }
   ],
   "source": [
    "print('elc ' in 'Welcome to Food Science!')\n",
    "print('welcome' in 'Welcome to Food Science!')"
   ]
  },
  {
   "cell_type": "markdown",
   "metadata": {},
   "source": [
    "`elc ` contains a space after `c`, that is why that substring is not part of the string. While, in the case of `welcome`, it starts with a lowercase letter."
   ]
  },
  {
   "cell_type": "markdown",
   "metadata": {},
   "source": [
    "## Exercise 6"
   ]
  },
  {
   "cell_type": "markdown",
   "metadata": {},
   "source": [
    "Given the text below, build a dictionary to map a word to the number of times it appears in the text. Then print only the characters that appear more than once. Also remove any empty character. You have to use the *splitline()* method.\n",
    "**NOTE**: This is the same exercise as {ref}`Exercise 6 in Sets and Dictionaries <ch5-exercise6-label>` but here you are required to use `splitline()` to solve it."
   ]
  },
  {
   "cell_type": "code",
   "execution_count": 43,
   "metadata": {},
   "outputs": [],
   "source": [
    "text = \"\"\"To be, or not to be, that is the question: \n",
    "Whether tis nobler in the mind to suffer \n",
    "The slings and arrows of outrageous fortune,\n",
    "Or to take Arms against a Sea of troubles,\n",
    "And by opposing end them: to die, to sleep\n",
    "No more; and by a sleep, to say we end.\"\"\""
   ]
  },
  {
   "cell_type": "code",
   "execution_count": 45,
   "metadata": {},
   "outputs": [
    {
     "name": "stdout",
     "output_type": "stream",
     "text": [
      "('by', 2) ('to', 6) ('be,', 2) ('and', 2) ('the', 2) ('of', 2) ('a', 2)\n"
     ]
    }
   ],
   "source": [
    "list_of_lines = text.splitlines()\n",
    "list_of_words = []\n",
    "dict_of_words = {}\n",
    "\n",
    "for line in list_of_lines:\n",
    "    for word in line.split():\n",
    "        if word!='':\n",
    "            list_of_words.append(word)\n",
    "\n",
    "set_of_words = set(list_of_words)\n",
    "for word in set_of_words:\n",
    "    dict_of_words[word] = list_of_words.count(word)\n",
    "\n",
    "print(*((word, counter) for word, counter in dict_of_words.items() if counter > 1))"
   ]
  }
 ],
 "metadata": {
  "kernelspec": {
   "display_name": "Python 3 (ipykernel)",
   "language": "python",
   "name": "python3"
  },
  "language_info": {
   "codemirror_mode": {
    "name": "ipython",
    "version": 3
   },
   "file_extension": ".py",
   "mimetype": "text/x-python",
   "name": "python",
   "nbconvert_exporter": "python",
   "pygments_lexer": "ipython3",
   "version": "3.7.13"
  },
  "vscode": {
   "interpreter": {
    "hash": "0c2f5c4fba51b93f19e499abfcc9ef4d6fee5bb503e49077d95162365c0a0cb3"
   }
  }
 },
 "nbformat": 4,
 "nbformat_minor": 2
}
