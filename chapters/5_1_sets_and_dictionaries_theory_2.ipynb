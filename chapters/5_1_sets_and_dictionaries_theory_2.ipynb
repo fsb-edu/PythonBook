{
 "cells": [
  {
   "attachments": {},
   "cell_type": "markdown",
   "metadata": {},
   "source": [
    "# Readings - Dictionaries"
   ]
  },
  {
   "attachments": {},
   "cell_type": "markdown",
   "metadata": {},
   "source": [
    "## Dictionaries"
   ]
  },
  {
   "attachments": {},
   "cell_type": "markdown",
   "metadata": {},
   "source": [
    "Dictionaries hold collections of values in *key-value* pairs. In a dictionary each key **must** be *unique*, but values can be repeated. An example of a dictionary might be a *map* between a chemical element letter and the chemical element's name. The corresponding data-type in Python is `dict`.\n",
    "````{margin}\n",
    "```{note}\n",
    "Dictionaries are also ordered from Python version 3.6.x and onwards. This means that the order items are stored in memory, depends on how the items are added.\n",
    "```\n",
    "````"
   ]
  },
  {
   "attachments": {},
   "cell_type": "markdown",
   "metadata": {},
   "source": [
    "### Create a dictionary"
   ]
  },
  {
   "attachments": {},
   "cell_type": "markdown",
   "metadata": {},
   "source": [
    "````{margin}\n",
    "```{important}\n",
    "Keys must be unique and immutable.\n",
    "```\n",
    "````\n",
    "````{margin}\n",
    "```{important}\n",
    "String keys are case sensitive: `abc` is different from `aBc`.\n",
    "```\n",
    "````\n",
    "\n",
    "\n",
    "The syntax for creating a dictionary is as follows:\n",
    "```python\n",
    "dictionary_name = {key1:value1, key2:value2....}\n",
    "```\n",
    "As stated previously, keys have to be unique and immutable. This means that we can use as key data-types such as strings, integers, floats, tuples, etc. While values can be of any type and can repeat as well. \n",
    "For example:"
   ]
  },
  {
   "cell_type": "code",
   "execution_count": 1,
   "metadata": {},
   "outputs": [
    {
     "data": {
      "text/plain": [
       "{'O': 'Oxygen', 'C': 'Carbon', 'Na': 'Sodium', 'H': 'Hydrogen'}"
      ]
     },
     "execution_count": 1,
     "metadata": {},
     "output_type": "execute_result"
    }
   ],
   "source": [
    "chemical_elements = {'O': 'Oxygen', 'C': 'Carbon', 'Na': 'Sodium', 'H':'Hydrogen'}\n",
    "chemical_elements"
   ]
  },
  {
   "attachments": {},
   "cell_type": "markdown",
   "metadata": {},
   "source": [
    "````{margin}\n",
    "```{note}\n",
    "As always, we can use the `len()` function to find the number of elements in a dictionary.\n",
    "```\n",
    "````\n",
    "\n",
    "As you can see, `chemical_elements` is an example of a dictionary that *maps* the chemical symbol to the name of the element. The keys are strings and are *immutable*. In this case the values happen to be strings and as a result they are *immutable*, but this is not necessarily always the case.\n",
    "Consider a parabola. As you might now, it is symmetric with respect to the y-axis. So for the same value of the function, there will be two values of x. The keys of our dictionary will be the x-values and the values will be the y-values. Here is an example:"
   ]
  },
  {
   "cell_type": "code",
   "execution_count": 2,
   "metadata": {},
   "outputs": [
    {
     "data": {
      "text/plain": [
       "{0: 0, 1: 1, -1: 1, 2: 4, -2: 4}"
      ]
     },
     "execution_count": 2,
     "metadata": {},
     "output_type": "execute_result"
    }
   ],
   "source": [
    "parabola_dictionary = {0:0, 1:1, -1:1, 2:4, -2:4}\n",
    "parabola_dictionary"
   ]
  },
  {
   "attachments": {},
   "cell_type": "markdown",
   "metadata": {},
   "source": [
    "To access a single element we need to use the key. The syntax is as follows:\n",
    "```python\n",
    "dictionary_name[key]\n",
    "```\n",
    "For example:"
   ]
  },
  {
   "cell_type": "code",
   "execution_count": 3,
   "metadata": {},
   "outputs": [
    {
     "name": "stdout",
     "output_type": "stream",
     "text": [
      "Oxygen\n",
      "1\n"
     ]
    }
   ],
   "source": [
    "print(chemical_elements['O'])\n",
    "print(parabola_dictionary[1])"
   ]
  },
  {
   "attachments": {},
   "cell_type": "markdown",
   "metadata": {},
   "source": [
    "```{note}\n",
    "If we try to access the value of a key that does not exist, we are going to get a `KeyError`.\n",
    "```"
   ]
  },
  {
   "cell_type": "code",
   "execution_count": 4,
   "metadata": {},
   "outputs": [
    {
     "ename": "KeyError",
     "evalue": "'Ca'",
     "output_type": "error",
     "traceback": [
      "\u001b[1;31m---------------------------------------------------------------------------\u001b[0m",
      "\u001b[1;31mKeyError\u001b[0m                                  Traceback (most recent call last)",
      "\u001b[1;32m~\\AppData\\Local\\Temp\\ipykernel_11184\\525199925.py\u001b[0m in \u001b[0;36m<module>\u001b[1;34m\u001b[0m\n\u001b[1;32m----> 1\u001b[1;33m \u001b[0mchemical_elements\u001b[0m\u001b[1;33m[\u001b[0m\u001b[1;34m'Ca'\u001b[0m\u001b[1;33m]\u001b[0m\u001b[1;33m\u001b[0m\u001b[1;33m\u001b[0m\u001b[0m\n\u001b[0m",
      "\u001b[1;31mKeyError\u001b[0m: 'Ca'"
     ]
    }
   ],
   "source": [
    "chemical_elements['Ca']"
   ]
  },
  {
   "attachments": {},
   "cell_type": "markdown",
   "metadata": {},
   "source": [
    "To prevent such errors, it is desirable to use the `get()` method of dictionaries. If the key exists, it returns the value associated with that key, otherwise it returns `None`. To return another message we can pass the message as a second argument to the `get()` method:"
   ]
  },
  {
   "cell_type": "code",
   "execution_count": 5,
   "metadata": {},
   "outputs": [
    {
     "data": {
      "text/plain": [
       "'Not present'"
      ]
     },
     "execution_count": 5,
     "metadata": {},
     "output_type": "execute_result"
    }
   ],
   "source": [
    "chemical_elements.get('Ca', 'Not present')"
   ]
  },
  {
   "attachments": {},
   "cell_type": "markdown",
   "metadata": {},
   "source": [
    "### Adding key-value pairs"
   ]
  },
  {
   "attachments": {},
   "cell_type": "markdown",
   "metadata": {},
   "source": [
    "We can add a key-value pair for a key that does not already exist in a dictionary as follows:\n",
    "```python\n",
    "dictionary_name[new_key]=value\n",
    "```\n",
    "For example, if we want to add `Potassium` to the `chemical_elements` dictionary then we would write:"
   ]
  },
  {
   "cell_type": "code",
   "execution_count": 6,
   "metadata": {},
   "outputs": [
    {
     "data": {
      "text/plain": [
       "{'O': 'Oxygen',\n",
       " 'C': 'Carbon',\n",
       " 'Na': 'Sodium',\n",
       " 'H': 'Hydrogen',\n",
       " 'K': 'Potassium'}"
      ]
     },
     "execution_count": 6,
     "metadata": {},
     "output_type": "execute_result"
    }
   ],
   "source": [
    "chemical_elements['K'] = 'Potassium'\n",
    "chemical_elements"
   ]
  },
  {
   "attachments": {},
   "cell_type": "markdown",
   "metadata": {},
   "source": [
    "If the key `'K'` was present and we try to add it again., it will simply override the existing entry."
   ]
  },
  {
   "cell_type": "code",
   "execution_count": 7,
   "metadata": {},
   "outputs": [
    {
     "data": {
      "text/plain": [
       "{'O': 'Oxygen',\n",
       " 'C': 'Carbon',\n",
       " 'Na': 'Sodium',\n",
       " 'H': 'Hydrogen',\n",
       " 'K': 'Potassium'}"
      ]
     },
     "execution_count": 7,
     "metadata": {},
     "output_type": "execute_result"
    }
   ],
   "source": [
    "chemical_elements['K']='Potassium'\n",
    "chemical_elements"
   ]
  },
  {
   "attachments": {},
   "cell_type": "markdown",
   "metadata": {},
   "source": [
    "### Removing key-value pairs"
   ]
  },
  {
   "attachments": {},
   "cell_type": "markdown",
   "metadata": {},
   "source": [
    "In order to remove a key-value pair from a dictionary we need to use the **del** operator:\n",
    "```python\n",
    "del dictionary_name[key]\n",
    "```"
   ]
  },
  {
   "cell_type": "code",
   "execution_count": 8,
   "metadata": {},
   "outputs": [
    {
     "data": {
      "text/plain": [
       "{'O': 'Oxygen', 'C': 'Carbon', 'Na': 'Sodium', 'H': 'Hydrogen'}"
      ]
     },
     "execution_count": 8,
     "metadata": {},
     "output_type": "execute_result"
    }
   ],
   "source": [
    "del chemical_elements['K']\n",
    "chemical_elements"
   ]
  },
  {
   "attachments": {},
   "cell_type": "markdown",
   "metadata": {},
   "source": [
    "Another way to remove key-value pairs is by using the `pop(key_name)` or `popitem()` methods. The first one removes key-value pair that corresponds to the passed `key_name` argument, while the second one removes the last inserted key-value pair. "
   ]
  },
  {
   "cell_type": "code",
   "execution_count": 26,
   "metadata": {},
   "outputs": [
    {
     "data": {
      "text/plain": [
       "{'O': 'Oxygen',\n",
       " 'C': 'Carbon',\n",
       " 'Na': 'Sodium',\n",
       " 'H': 'Hydrogen',\n",
       " 'N': 'Nitrogen',\n",
       " 'Ca': 'Calcium',\n",
       " 'K': 'Sodium'}"
      ]
     },
     "execution_count": 26,
     "metadata": {},
     "output_type": "execute_result"
    }
   ],
   "source": [
    "chemical_elements['Ca']= 'Calcium'\n",
    "chemical_elements['K'] = 'Sodium'\n",
    "chemical_elements"
   ]
  },
  {
   "cell_type": "code",
   "execution_count": 27,
   "metadata": {},
   "outputs": [
    {
     "data": {
      "text/plain": [
       "'Calcium'"
      ]
     },
     "execution_count": 27,
     "metadata": {},
     "output_type": "execute_result"
    }
   ],
   "source": [
    "chemical_elements.pop('Ca')\n",
    "chemical_elements"
   ]
  },
  {
   "cell_type": "code",
   "execution_count": 29,
   "metadata": {},
   "outputs": [
    {
     "data": {
      "text/plain": [
       "{'O': 'Oxygen',\n",
       " 'C': 'Carbon',\n",
       " 'Na': 'Sodium',\n",
       " 'H': 'Hydrogen',\n",
       " 'N': 'Nitrogen'}"
      ]
     },
     "execution_count": 29,
     "metadata": {},
     "output_type": "execute_result"
    }
   ],
   "source": [
    "chemical_elements.popitem()\n",
    "chemical_elements"
   ]
  },
  {
   "attachments": {},
   "cell_type": "markdown",
   "metadata": {},
   "source": [
    "While, if we want to empty the dictionary we can use the `clear()` method. Mind that this will not delete the dictionary, but it will delete all key value pairs."
   ]
  },
  {
   "cell_type": "code",
   "execution_count": 31,
   "metadata": {},
   "outputs": [
    {
     "name": "stdout",
     "output_type": "stream",
     "text": [
      "Before clearing: {0: 0, 1: 1, -1: 1, 2: 4, -2: 4}\n",
      "After clearing: {}\n"
     ]
    }
   ],
   "source": [
    "print('Before clearing:', parabola_dictionary)\n",
    "parabola_dictionary.clear()\n",
    "print('After clearing:', parabola_dictionary)"
   ]
  },
  {
   "attachments": {},
   "cell_type": "markdown",
   "metadata": {},
   "source": [
    "### Updating key-value pairs"
   ]
  },
  {
   "attachments": {},
   "cell_type": "markdown",
   "metadata": {},
   "source": [
    "In order to update a value related to a key we just access the value corresponding to that key and assign a new value. The syntax is as follows:\n",
    "```python\n",
    "dictionary_names[key] = new_value\n",
    "```\n",
    "For example, we can add again 'Potasium' to the list, misspelled, and then change it to the correct version:"
   ]
  },
  {
   "cell_type": "code",
   "execution_count": 25,
   "metadata": {},
   "outputs": [
    {
     "data": {
      "text/plain": [
       "{'O': 'Oxygen',\n",
       " 'C': 'Carbon',\n",
       " 'Na': 'Sodium',\n",
       " 'H': 'Hydrogen',\n",
       " 'K': 'Potasium'}"
      ]
     },
     "execution_count": 25,
     "metadata": {},
     "output_type": "execute_result"
    }
   ],
   "source": [
    "chemical_elements['K'] = 'Potasium' # adding Potassium again\n",
    "chemical_elements"
   ]
  },
  {
   "cell_type": "code",
   "execution_count": 26,
   "metadata": {},
   "outputs": [
    {
     "data": {
      "text/plain": [
       "{'O': 'Oxygen',\n",
       " 'C': 'Carbon',\n",
       " 'Na': 'Sodium',\n",
       " 'H': 'Hydrogen',\n",
       " 'K': 'Potassium'}"
      ]
     },
     "execution_count": 26,
     "metadata": {},
     "output_type": "execute_result"
    }
   ],
   "source": [
    "chemical_elements['K'] = 'Potassium' # change to the correct spelled version\n",
    "chemical_elements"
   ]
  },
  {
   "attachments": {},
   "cell_type": "markdown",
   "metadata": {},
   "source": [
    "### Accessing keys, values and key-value pairs"
   ]
  },
  {
   "attachments": {},
   "cell_type": "markdown",
   "metadata": {},
   "source": [
    "In order to get keys, values and key-value pairs of a dictionary we need to use the respective methods: `keys()`, `values()` and  `items()`. All this methods return *views* of the items retrieved. This means that each time we invoke them, the values from the dictionary will be returned and the return is not saved anywhere. To better understand this, look at this example:"
   ]
  },
  {
   "attachments": {},
   "cell_type": "markdown",
   "metadata": {},
   "source": [
    "#### Accessing keys"
   ]
  },
  {
   "cell_type": "code",
   "execution_count": 9,
   "metadata": {},
   "outputs": [
    {
     "data": {
      "text/plain": [
       "dict_keys(['O', 'C', 'Na', 'H'])"
      ]
     },
     "execution_count": 9,
     "metadata": {},
     "output_type": "execute_result"
    }
   ],
   "source": [
    "chemical_keys = chemical_elements.keys()\n",
    "chemical_keys"
   ]
  },
  {
   "cell_type": "code",
   "execution_count": 10,
   "metadata": {},
   "outputs": [
    {
     "data": {
      "text/plain": [
       "dict_keys(['O', 'C', 'Na', 'H', 'Ca'])"
      ]
     },
     "execution_count": 10,
     "metadata": {},
     "output_type": "execute_result"
    }
   ],
   "source": [
    "chemical_elements['Ca'] = 'Calcium'\n",
    "chemical_keys"
   ]
  },
  {
   "attachments": {},
   "cell_type": "markdown",
   "metadata": {},
   "source": [
    "````{margin}\n",
    "```{note}\n",
    "In order to sort the keys, we can use the `sorted()` method.\n",
    "```\n",
    "````\n",
    "First of all, as you can see the return type is `dict_keys`. The second thing to note is that, despite that we do not update the values of the variable `chemical_keys`, it implicitly is updated and contains the new value. This is the role of a view, it gives a view of the keys and it **does not keep a copy** of the keys."
   ]
  },
  {
   "attachments": {},
   "cell_type": "markdown",
   "metadata": {},
   "source": [
    "#### Accessing values"
   ]
  },
  {
   "attachments": {},
   "cell_type": "markdown",
   "metadata": {},
   "source": [
    "Similarly, to  access the values we can use the `values()` method. Again it will return a view of the dictionary values:"
   ]
  },
  {
   "cell_type": "code",
   "execution_count": 11,
   "metadata": {},
   "outputs": [
    {
     "data": {
      "text/plain": [
       "dict_values(['Oxygen', 'Carbon', 'Sodium', 'Hydrogen', 'Calcium'])"
      ]
     },
     "execution_count": 11,
     "metadata": {},
     "output_type": "execute_result"
    }
   ],
   "source": [
    "chemical_values = chemical_elements.values()\n",
    "chemical_values"
   ]
  },
  {
   "attachments": {},
   "cell_type": "markdown",
   "metadata": {},
   "source": [
    "Again, it returns a `dict_values` type.\n",
    "\n",
    "To ensure that there is no copy of data saved in `chemical_values`, we will delete `Calcium`:"
   ]
  },
  {
   "cell_type": "code",
   "execution_count": 12,
   "metadata": {},
   "outputs": [
    {
     "data": {
      "text/plain": [
       "dict_values(['Oxygen', 'Carbon', 'Sodium', 'Hydrogen'])"
      ]
     },
     "execution_count": 12,
     "metadata": {},
     "output_type": "execute_result"
    }
   ],
   "source": [
    "del chemical_elements['Ca']\n",
    "chemical_values"
   ]
  },
  {
   "attachments": {},
   "cell_type": "markdown",
   "metadata": {},
   "source": [
    "As you can see, there is no `Calcium` anymore in the values of the dictionary."
   ]
  },
  {
   "attachments": {},
   "cell_type": "markdown",
   "metadata": {},
   "source": [
    "#### Accessing key-value pairs"
   ]
  },
  {
   "attachments": {},
   "cell_type": "markdown",
   "metadata": {},
   "source": [
    "To access `key-value` pairs we can use the `items()` method. Again it will return a view."
   ]
  },
  {
   "cell_type": "code",
   "execution_count": 13,
   "metadata": {},
   "outputs": [
    {
     "data": {
      "text/plain": [
       "dict_items([('O', 'Oxygen'), ('C', 'Carbon'), ('Na', 'Sodium'), ('H', 'Hydrogen')])"
      ]
     },
     "execution_count": 13,
     "metadata": {},
     "output_type": "execute_result"
    }
   ],
   "source": [
    "chemical_pairs = chemical_elements.items()\n",
    "chemical_pairs"
   ]
  },
  {
   "attachments": {},
   "cell_type": "markdown",
   "metadata": {},
   "source": [
    "### Searching dictionaries for specific keys"
   ]
  },
  {
   "attachments": {},
   "cell_type": "markdown",
   "metadata": {},
   "source": [
    "In order to check whether a certain key is in the dictionary we can use the `in` or `not in` operators:"
   ]
  },
  {
   "cell_type": "code",
   "execution_count": 14,
   "metadata": {},
   "outputs": [
    {
     "data": {
      "text/plain": [
       "False"
      ]
     },
     "execution_count": 14,
     "metadata": {},
     "output_type": "execute_result"
    }
   ],
   "source": [
    "'Ca' in chemical_elements"
   ]
  },
  {
   "cell_type": "code",
   "execution_count": 15,
   "metadata": {},
   "outputs": [
    {
     "data": {
      "text/plain": [
       "True"
      ]
     },
     "execution_count": 15,
     "metadata": {},
     "output_type": "execute_result"
    }
   ],
   "source": [
    "'Ca' not in chemical_elements"
   ]
  },
  {
   "attachments": {},
   "cell_type": "markdown",
   "metadata": {},
   "source": [
    "As you can see, since there is no entry in the dictionary whose key is `Ca`, the output is `False`. If the key is present then it would output `True`."
   ]
  },
  {
   "cell_type": "code",
   "execution_count": 16,
   "metadata": {},
   "outputs": [
    {
     "data": {
      "text/plain": [
       "True"
      ]
     },
     "execution_count": 16,
     "metadata": {},
     "output_type": "execute_result"
    }
   ],
   "source": [
    "'Na' in chemical_elements"
   ]
  },
  {
   "cell_type": "code",
   "execution_count": 17,
   "metadata": {},
   "outputs": [
    {
     "data": {
      "text/plain": [
       "False"
      ]
     },
     "execution_count": 17,
     "metadata": {},
     "output_type": "execute_result"
    }
   ],
   "source": [
    "'Na' not in chemical_elements"
   ]
  },
  {
   "attachments": {},
   "cell_type": "markdown",
   "metadata": {},
   "source": [
    "### **update()** method"
   ]
  },
  {
   "attachments": {},
   "cell_type": "markdown",
   "metadata": {},
   "source": [
    "To add or update a key-value pair in a dictionary the `update()` method of dictionaries can be used as well. The syntax is:\n",
    "```python\n",
    "dictionary_names.update({key:value})\n",
    "```\n",
    "As previously, if the key does not exist in the dictionary, then the key-value pair is added, otherwise the value is simply updated."
   ]
  },
  {
   "cell_type": "code",
   "execution_count": 20,
   "metadata": {},
   "outputs": [
    {
     "data": {
      "text/plain": [
       "{'O': 'Oxygen', 'C': 'Carbon', 'Na': 'Sodium', 'H': 'Hydrogen', 'N': 'Nitrog.'}"
      ]
     },
     "execution_count": 20,
     "metadata": {},
     "output_type": "execute_result"
    }
   ],
   "source": [
    "chemical_elements.update({'N':'Nitrog.'})\n",
    "chemical_elements"
   ]
  },
  {
   "attachments": {},
   "cell_type": "markdown",
   "metadata": {},
   "source": [
    "As you can see from above, method `update()` added `Nitrog.` to the dictionary. Now if the key existed, it will update the value:"
   ]
  },
  {
   "cell_type": "code",
   "execution_count": 21,
   "metadata": {},
   "outputs": [
    {
     "data": {
      "text/plain": [
       "{'O': 'Oxygen',\n",
       " 'C': 'Carbon',\n",
       " 'Na': 'Sodium',\n",
       " 'H': 'Hydrogen',\n",
       " 'N': 'Nitrogen'}"
      ]
     },
     "execution_count": 21,
     "metadata": {},
     "output_type": "execute_result"
    }
   ],
   "source": [
    "chemical_elements.update({'N':'Nitrogen'})\n",
    "chemical_elements"
   ]
  },
  {
   "attachments": {},
   "cell_type": "markdown",
   "metadata": {},
   "source": [
    "### Dictionary comprehension"
   ]
  },
  {
   "attachments": {},
   "cell_type": "markdown",
   "metadata": {},
   "source": [
    "Dictionary comprehensions, just like list comprehensions, are a shorthand and quick way to create a dictionary. The syntax is:\n",
    "\n",
    "```python\n",
    "dictionary_name = {key_name: value_name for key_name, value_name in dictionary_2.items()}\n",
    "```\n",
    "Notice that, the syntax above will create a dictionary that is the same as the one we are using (`dictionary_2`). You can use lists, or any other iterable to create the dictionary from the comprehension.\n",
    "\n",
    "One use case of dictionary comprehension is when we want to reverse a dictionary given that the values are also *unique*."
   ]
  },
  {
   "cell_type": "code",
   "execution_count": 22,
   "metadata": {},
   "outputs": [
    {
     "data": {
      "text/plain": [
       "{'Oxygen': 'O',\n",
       " 'Carbon': 'C',\n",
       " 'Sodium': 'Na',\n",
       " 'Hydrogen': 'H',\n",
       " 'Nitrogen': 'N'}"
      ]
     },
     "execution_count": 22,
     "metadata": {},
     "output_type": "execute_result"
    }
   ],
   "source": [
    "chemical_elements_reverse = {name:symbol for symbol, name in chemical_elements.items()}\n",
    "chemical_elements_reverse"
   ]
  },
  {
   "attachments": {},
   "cell_type": "markdown",
   "metadata": {},
   "source": [
    "As you can see, we used dictionary comprehension to reverse the dictionary by making keys values and values keys.\n",
    "```{note}\n",
    "Note that if values are not unique, then the dictionary will simply update the value of the duplicate key.\n",
    "```"
   ]
  },
  {
   "attachments": {},
   "cell_type": "markdown",
   "metadata": {},
   "source": [
    "Let us look at another example. We are going to use a list of tuples to create a dictionary:"
   ]
  },
  {
   "cell_type": "code",
   "execution_count": 23,
   "metadata": {},
   "outputs": [
    {
     "data": {
      "text/plain": [
       "{'January': 31, 'February': 28, 'March': 31, 'April': 30, 'May': 31}"
      ]
     },
     "execution_count": 23,
     "metadata": {},
     "output_type": "execute_result"
    }
   ],
   "source": [
    "list_of_months = [('January', 31), ('February', 28), ('March',31), ('April', 30), ('May', 31)]\n",
    "months_dictionary =  {month: days for month, days in list_of_months}\n",
    "months_dictionary"
   ]
  },
  {
   "attachments": {},
   "cell_type": "markdown",
   "metadata": {},
   "source": [
    "As you can see, the dictionary was created by unpacking each of the tuples in the `list_of_months`. Note that the keys and values can be modified as well."
   ]
  },
  {
   "attachments": {},
   "cell_type": "markdown",
   "metadata": {},
   "source": [
    "### Comparing dictionaries"
   ]
  },
  {
   "attachments": {},
   "cell_type": "markdown",
   "metadata": {},
   "source": [
    "Unlike lists, two dictionaries are equal if they have the same elements, no matter their order. For example:"
   ]
  },
  {
   "cell_type": "code",
   "execution_count": 24,
   "metadata": {},
   "outputs": [
    {
     "data": {
      "text/plain": [
       "True"
      ]
     },
     "execution_count": 24,
     "metadata": {},
     "output_type": "execute_result"
    }
   ],
   "source": [
    "chemical_elements_1 = {'O': 'Oxygen', 'C': 'Carbon', 'Na': 'Sodium', 'H': 'Hydrogen', 'N': 'Nitrogen'}\n",
    "chemical_elements_2 = {'O': 'Oxygen', 'C': 'Carbon', 'N': 'Nitrogen', 'Na': 'Sodium', 'H': 'Hydrogen'}\n",
    "chemical_elements_1 == chemical_elements_2"
   ]
  },
  {
   "attachments": {},
   "cell_type": "markdown",
   "metadata": {},
   "source": [
    "### Copying dictionaries"
   ]
  },
  {
   "attachments": {},
   "cell_type": "markdown",
   "metadata": {},
   "source": [
    "The idea of {ref}`shallow- and deep-copy from Chapter 5 <ch04-copying-label>` appears here again. If we do: `dict1 = dict2`, then we are doing a shallow copy because we are simply adding a second pointer to the memory space of the first dictionary. If we make any changes to `dict1` or `dict2`, then they will appear in the other one as well."
   ]
  },
  {
   "cell_type": "code",
   "execution_count": 32,
   "metadata": {},
   "outputs": [
    {
     "name": "stdout",
     "output_type": "stream",
     "text": [
      "chemical_elements_1 {'O': 'Oxygen', 'C': 'Carbon', 'Na': 'Sodium', 'H': 'Hydrogen', 'N': 'Nitrogen'}\n",
      "chemical_elements_2 {'O': 'Oxygen', 'C': 'Carbon', 'Na': 'Sodium', 'H': 'Hydrogen', 'N': 'Nitrogen'}\n"
     ]
    }
   ],
   "source": [
    "chemical_elements_1 = {'O': 'Oxygen', 'C': 'Carbon', 'Na': 'Sodium', 'H': 'Hydrogen', 'N': 'Nitrogen'}\n",
    "chemical_elements_2 = chemical_elements_1\n",
    "print('chemical_elements_1', chemical_elements_1)\n",
    "print('chemical_elements_2', chemical_elements_2)"
   ]
  },
  {
   "attachments": {},
   "cell_type": "markdown",
   "metadata": {},
   "source": [
    "Now let us change one of the elements in `chemical_elements_1` and `chemical_elements_2` and see what happens:"
   ]
  },
  {
   "cell_type": "code",
   "execution_count": 34,
   "metadata": {},
   "outputs": [
    {
     "name": "stdout",
     "output_type": "stream",
     "text": [
      "chemical_elements_1 {'O': 'Oxygen', 'C': 'Carbon', 'Na': 'Sodium', 'H': 'Hydrogen', 'N': 'Nitrogen', 'Ag': 'Silver', 'Au': 'Gold'}\n",
      "chemical_elements_2 {'O': 'Oxygen', 'C': 'Carbon', 'Na': 'Sodium', 'H': 'Hydrogen', 'N': 'Nitrogen', 'Ag': 'Silver', 'Au': 'Gold'}\n"
     ]
    }
   ],
   "source": [
    "chemical_elements_1['Ag'] = 'Silver'\n",
    "chemical_elements_2['Au'] = 'Gold'\n",
    "print('chemical_elements_1', chemical_elements_1)\n",
    "print('chemical_elements_2', chemical_elements_2)"
   ]
  },
  {
   "attachments": {},
   "cell_type": "markdown",
   "metadata": {},
   "source": [
    "As you can see, both elements are added in both dictionaries, although each addition was added to only one of them."
   ]
  },
  {
   "attachments": {},
   "cell_type": "markdown",
   "metadata": {},
   "source": [
    "````{margin}\n",
    "```{important}\n",
    "`list()` and `tuple()` were also constructors for lists and tuples respectively.\n",
    "```\n",
    "````\n",
    "To circumvent this, we can use the `dictionary1.copy()` method or the the `dict(dictionary1)` function. The first method will copy the original dictionary's data into another memory location and will add the pointer to that location. The second method will create a new dictionary from scratch by using the values of the original dictionary. In other words, `dict()` is called a constructor for dictionaries. It is a function that can build/construct dictionaries. "
   ]
  },
  {
   "cell_type": "code",
   "execution_count": 35,
   "metadata": {},
   "outputs": [
    {
     "name": "stdout",
     "output_type": "stream",
     "text": [
      "chemical_elements_1 {'O': 'Oxygen', 'C': 'Carbon', 'Na': 'Sodium', 'H': 'Hydrogen', 'N': 'Nitrogen', 'Ag': 'Silver', 'Au': 'Gold'}\n",
      "chemical_elements_2 {'O': 'Oxygen', 'C': 'Carbon', 'Na': 'Sodium', 'H': 'Hydrogen', 'N': 'Nitrogen', 'Ag': 'Silver'}\n"
     ]
    }
   ],
   "source": [
    "chemical_elements_2 = chemical_elements_1.copy()\n",
    "chemical_elements_2.popitem() # remove last element\n",
    "print('chemical_elements_1', chemical_elements_1)\n",
    "print('chemical_elements_2', chemical_elements_2)"
   ]
  },
  {
   "attachments": {},
   "cell_type": "markdown",
   "metadata": {},
   "source": [
    "As you can see, the `Au: Gold` key-value pair is removed only from the second dictionary. The original one is not affected."
   ]
  },
  {
   "cell_type": "code",
   "execution_count": 36,
   "metadata": {},
   "outputs": [
    {
     "name": "stdout",
     "output_type": "stream",
     "text": [
      "chemical_elements_1 {'O': 'Oxygen', 'C': 'Carbon', 'Na': 'Sodium', 'H': 'Hydrogen', 'N': 'Nitrogen', 'Ag': 'Silver', 'Au': 'Gold'}\n",
      "chemical_elements_2 {'O': 'Oxygen', 'C': 'Carbon', 'Na': 'Sodium', 'H': 'Hydrogen', 'N': 'Nitrogen', 'Ag': 'Silver'}\n"
     ]
    }
   ],
   "source": [
    "chemical_elements_2 = dict(chemical_elements_1)\n",
    "chemical_elements_2.popitem() # remove last element\n",
    "print('chemical_elements_1', chemical_elements_1)\n",
    "print('chemical_elements_2', chemical_elements_2)"
   ]
  },
  {
   "attachments": {},
   "cell_type": "markdown",
   "metadata": {},
   "source": [
    "The same happens above, but this time using `dict()`."
   ]
  }
 ],
 "metadata": {
  "kernelspec": {
   "display_name": "python-jb",
   "language": "python",
   "name": "python3"
  },
  "language_info": {
   "codemirror_mode": {
    "name": "ipython",
    "version": 3
   },
   "file_extension": ".py",
   "mimetype": "text/x-python",
   "name": "python",
   "nbconvert_exporter": "python",
   "pygments_lexer": "ipython3",
   "version": "3.7.13"
  },
  "orig_nbformat": 4,
  "vscode": {
   "interpreter": {
    "hash": "0c2f5c4fba51b93f19e499abfcc9ef4d6fee5bb503e49077d95162365c0a0cb3"
   }
  }
 },
 "nbformat": 4,
 "nbformat_minor": 2
}
