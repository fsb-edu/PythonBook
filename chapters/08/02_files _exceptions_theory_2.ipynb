{
 "cells": [
  {
   "cell_type": "markdown",
   "metadata": {},
   "source": [
    "# Readings: exceptions"
   ]
  },
  {
   "cell_type": "markdown",
   "metadata": {},
   "source": [
    "## What are exceptions?"
   ]
  },
  {
   "cell_type": "markdown",
   "metadata": {},
   "source": [
    "In all the previous chapters we have seen a lot of errors. All these errors are called **exceptions**. Exceptions are raised when unexpected situations occur during program execution. Some of these situations include division by zero, input that does not match what the program is expecting, trying to use variables that were removed from the execution session, giving wrong input to functions, etc.\n",
    "\n",
    "Exceptions, if not handled, result in termination of program execution since the computer would  not know how to resolve the situation. To prevent the program from terminating unexpectedly, there are ways to handle or catch those exceptions, as we will see below."
   ]
  },
  {
   "cell_type": "markdown",
   "metadata": {},
   "source": [
    "## Exception Handling"
   ]
  },
  {
   "cell_type": "markdown",
   "metadata": {},
   "source": [
    "During exception handling, we instruct the computer what to do in case an exception happens. The default behavior is for the computer to stop executing the program. But if we write code to handle the exception, then it will \n",
    "execute that code and will not terminate. The syntax to do this is as follows:\n",
    "\n",
    "```python\n",
    "try:\n",
    "    code that we suspect might throw an exception\n",
    "except Error:\n",
    "    code to be executed when error occurs\n",
    "```\n",
    "\n",
    "As you can see from above the code block has two parts: the `try` and the `except` part. The `try` part specifies the block that will potentially raise an error, while in the `except` part we instruct the computer what o do in case an error occurs."
   ]
  },
  {
   "cell_type": "markdown",
   "metadata": {},
   "source": [
    "Let us have a look at the examples below. The code does the same thing: it divides a number with a list of numbers to find the quotients."
   ]
  },
  {
   "cell_type": "code",
   "execution_count": 2,
   "metadata": {
    "execution": {
     "iopub.execute_input": "2023-05-31T13:06:57.326395Z",
     "iopub.status.busy": "2023-05-31T13:06:57.324739Z",
     "iopub.status.idle": "2023-05-31T13:06:57.336291Z",
     "shell.execute_reply": "2023-05-31T13:06:57.334635Z",
     "shell.execute_reply.started": "2023-05-31T13:06:57.326320Z"
    }
   },
   "outputs": [],
   "source": [
    "numerator = 15\n",
    "denominators = [0,3,5]"
   ]
  },
  {
   "cell_type": "code",
   "execution_count": 3,
   "metadata": {
    "execution": {
     "iopub.execute_input": "2023-05-31T13:06:57.667481Z",
     "iopub.status.busy": "2023-05-31T13:06:57.666958Z",
     "iopub.status.idle": "2023-05-31T13:06:57.677585Z",
     "shell.execute_reply": "2023-05-31T13:06:57.676325Z",
     "shell.execute_reply.started": "2023-05-31T13:06:57.667449Z"
    },
    "tags": []
   },
   "outputs": [
    {
     "ename": "ZeroDivisionError",
     "evalue": "division by zero",
     "output_type": "error",
     "traceback": [
      "\u001b[0;31m---------------------------------------------------------------------------\u001b[0m",
      "\u001b[0;31mZeroDivisionError\u001b[0m                         Traceback (most recent call last)",
      "\u001b[0;32m/var/folders/7f/7nw_x13n5q965rss_qz6061m0000gq/T/ipykernel_71993/2551192876.py\u001b[0m in \u001b[0;36m<module>\u001b[0;34m\u001b[0m\n\u001b[1;32m      1\u001b[0m \u001b[0;32mfor\u001b[0m \u001b[0mdenominator\u001b[0m \u001b[0;32min\u001b[0m \u001b[0mdenominators\u001b[0m\u001b[0;34m:\u001b[0m\u001b[0;34m\u001b[0m\u001b[0;34m\u001b[0m\u001b[0m\n\u001b[0;32m----> 2\u001b[0;31m     \u001b[0mprint\u001b[0m\u001b[0;34m(\u001b[0m\u001b[0mnumerator\u001b[0m\u001b[0;34m/\u001b[0m\u001b[0mdenominator\u001b[0m\u001b[0;34m)\u001b[0m\u001b[0;34m\u001b[0m\u001b[0;34m\u001b[0m\u001b[0m\n\u001b[0m",
      "\u001b[0;31mZeroDivisionError\u001b[0m: division by zero"
     ]
    }
   ],
   "source": [
    "for denominator in denominators:\n",
    "    print(numerator/denominator)"
   ]
  },
  {
   "cell_type": "markdown",
   "metadata": {},
   "source": [
    "Since division by 0 does not make any sense, the program throws a `ZeroDivisionError` and exits immediately."
   ]
  },
  {
   "cell_type": "code",
   "execution_count": 4,
   "metadata": {
    "execution": {
     "iopub.execute_input": "2023-05-31T13:07:09.706450Z",
     "iopub.status.busy": "2023-05-31T13:07:09.705841Z",
     "iopub.status.idle": "2023-05-31T13:07:09.718207Z",
     "shell.execute_reply": "2023-05-31T13:07:09.715737Z",
     "shell.execute_reply.started": "2023-05-31T13:07:09.706397Z"
    }
   },
   "outputs": [
    {
     "name": "stdout",
     "output_type": "stream",
     "text": [
      "Oops, you attempted to divide by zero! Program terminating...\n"
     ]
    }
   ],
   "source": [
    "try:\n",
    "    for denominator in denominators:\n",
    "        print(numerator/denominator)\n",
    "except ZeroDivisionError:\n",
    "    print('Oops, you attempted to divide by zero! Program terminating...')"
   ]
  },
  {
   "cell_type": "markdown",
   "metadata": {},
   "source": [
    "The error was raised again but this time the execution did  not stop but went inside the `except` clause and executed the statement in the `print()` function. In this scenario it is usually said that the program finished executing *gracefully*."
   ]
  },
  {
   "cell_type": "markdown",
   "metadata": {},
   "source": [
    "Let's see an example:"
   ]
  },
  {
   "cell_type": "code",
   "execution_count": 5,
   "metadata": {
    "execution": {
     "iopub.execute_input": "2023-05-31T13:07:51.128126Z",
     "iopub.status.busy": "2023-05-31T13:07:51.126850Z",
     "iopub.status.idle": "2023-05-31T13:07:51.136204Z",
     "shell.execute_reply": "2023-05-31T13:07:51.134767Z",
     "shell.execute_reply.started": "2023-05-31T13:07:51.128064Z"
    }
   },
   "outputs": [
    {
     "name": "stdout",
     "output_type": "stream",
     "text": [
      "15.0\n",
      "7.5\n",
      "Oops, an error has occurred!\n"
     ]
    }
   ],
   "source": [
    "denominators_1 = [1, 2, 'hello']\n",
    "try:\n",
    "    for denominator in denominators_1:\n",
    "        print(numerator/denominator)\n",
    "except ZeroDivisionError:\n",
    "    print('Oops, you attempted to divide by zero! Program terminating...')\n",
    "except TypeError:\n",
    "    print('Oops, an error has occurred!')"
   ]
  },
  {
   "cell_type": "markdown",
   "metadata": {},
   "source": [
    "In this example, the error happened when the program tried to divide `15` by `hello`. Since this is not a `ZeroDivisionError`, the first `except` clause is ignored and the second one `TypeException` catches the error."
   ]
  },
  {
   "cell_type": "markdown",
   "metadata": {},
   "source": [
    "```{note}\n",
    "In case you that you expect different types of errors to occur, then you can list them in `except` clauses one after the other. Also, in case you are not sure what type of error is thrown, you can specify `Exception` in the `except` clause and it will catch (nearly) any type of error thrown. However, this is not usually a good practice in case you would like to distinguish between different types of errors.\n",
    "```"
   ]
  },
  {
   "cell_type": "markdown",
   "metadata": {},
   "source": [
    "```{note}\n",
    "If in a list of `except` clauses, you always put the `Exception` first, then the other exceptions will always be ignored. Imagine `Exception` as the set that contains most of the exceptions that can occur. Look at the example below. The code snippet in `ZeroDivisionError` can never be reached.\n",
    "```"
   ]
  },
  {
   "cell_type": "code",
   "execution_count": 7,
   "metadata": {
    "execution": {
     "iopub.execute_input": "2023-05-31T13:11:09.542631Z",
     "iopub.status.busy": "2023-05-31T13:11:09.542042Z",
     "iopub.status.idle": "2023-05-31T13:11:09.550377Z",
     "shell.execute_reply": "2023-05-31T13:11:09.549196Z",
     "shell.execute_reply.started": "2023-05-31T13:11:09.542581Z"
    },
    "tags": []
   },
   "outputs": [
    {
     "name": "stdout",
     "output_type": "stream",
     "text": [
      "Oops, an error has occurred!\n"
     ]
    }
   ],
   "source": [
    "try:\n",
    "    for denominator in denominators:\n",
    "        print(numerator/denominator)\n",
    "except Exception:\n",
    "    print('Oops, an error has occurred!')\n",
    "except ZeroDivisionError:\n",
    "    print('Oops, you attempted to divide by zero! Program terminating...')"
   ]
  },
  {
   "cell_type": "markdown",
   "metadata": {},
   "source": [
    "```{warning}\n",
    "It is **never** a good idea to catch an `Exception` since it gives little information on what error occurred.\n",
    "```"
   ]
  },
  {
   "cell_type": "markdown",
   "metadata": {},
   "source": [
    "## `finally` Clause"
   ]
  },
  {
   "cell_type": "markdown",
   "metadata": {},
   "source": [
    "The `finally` clause may be placed in a `try` block after the `except` statements. The code within the `finally` clause always executes regardless of whether an exception executes or not. The syntax looks like this:\n",
    "```python\n",
    "try:\n",
    "    code that we suspect might throw an exception\n",
    "except ErrorType:\n",
    "    code that handles the exception\n",
    "finally:\n",
    "    code to execute regardless of an exception happening\n",
    "```\n",
    "Usually, the `finally` clause contains code that would release resources so that they can be used later, even if an exception occurs. An example would be:"
   ]
  },
  {
   "cell_type": "code",
   "execution_count": 8,
   "metadata": {
    "execution": {
     "iopub.execute_input": "2023-05-31T13:12:09.685234Z",
     "iopub.status.busy": "2023-05-31T13:12:09.684514Z",
     "iopub.status.idle": "2023-05-31T13:12:09.695006Z",
     "shell.execute_reply": "2023-05-31T13:12:09.693460Z",
     "shell.execute_reply.started": "2023-05-31T13:12:09.685166Z"
    }
   },
   "outputs": [
    {
     "name": "stdout",
     "output_type": "stream",
     "text": [
      "Oops, you attempted to divide by zero!\n",
      "Program terminating...\n"
     ]
    }
   ],
   "source": [
    "try:\n",
    "    for denominator in denominators:\n",
    "        print(numerator/denominator)\n",
    "except ZeroDivisionError:\n",
    "    print('Oops, you attempted to divide by zero!')\n",
    "finally:\n",
    "    print('Program terminating...')"
   ]
  },
  {
   "cell_type": "markdown",
   "metadata": {},
   "source": [
    "In this example, the exception was raised, so the print statement in the `except` block was executed and afterwards the control flow went in the `finally` block that will execute the `print()` statement there."
   ]
  },
  {
   "cell_type": "code",
   "execution_count": 9,
   "metadata": {
    "execution": {
     "iopub.execute_input": "2023-05-31T13:12:13.579336Z",
     "iopub.status.busy": "2023-05-31T13:12:13.578772Z",
     "iopub.status.idle": "2023-05-31T13:12:13.587609Z",
     "shell.execute_reply": "2023-05-31T13:12:13.586048Z",
     "shell.execute_reply.started": "2023-05-31T13:12:13.579287Z"
    }
   },
   "outputs": [
    {
     "name": "stdout",
     "output_type": "stream",
     "text": [
      "15.0\n",
      "5.0\n",
      "3.0\n",
      "Program terminating...\n"
     ]
    }
   ],
   "source": [
    "denominators_2 = [1,3,5]\n",
    "try:\n",
    "    for denominator in denominators_2:\n",
    "        print(numerator/denominator)\n",
    "except ZeroDivisionError:\n",
    "    print('Oops, you attempted to divide by zero!')\n",
    "finally:\n",
    "    print('Program terminating...')"
   ]
  },
  {
   "cell_type": "markdown",
   "metadata": {},
   "source": [
    "In this case, no exception was raised, as a result the code block in the `try` statement was executed successfully. After it was finished, the control went to the `finally` block, printing the statement and terminating."
   ]
  },
  {
   "cell_type": "markdown",
   "metadata": {},
   "source": [
    "```{note}\n",
    "You can create your own exceptions as well. In that case, to throw that exception from a `try` block you can use the `raise exception_name` statement and handle it in a corresponding `except` statement. However, usually it is recommended that you use the already built-in exceptions in Python. You can find more information about them [in the documentation](https://docs.python.org/3/library/exceptions.html). \n",
    "```"
   ]
  },
  {
   "cell_type": "code",
   "execution_count": null,
   "metadata": {},
   "outputs": [],
   "source": []
  }
 ],
 "metadata": {
  "kernelspec": {
   "display_name": "Python 3 (ipykernel)",
   "language": "python",
   "name": "python3"
  },
  "language_info": {
   "codemirror_mode": {
    "name": "ipython",
    "version": 3
   },
   "file_extension": ".py",
   "mimetype": "text/x-python",
   "name": "python",
   "nbconvert_exporter": "python",
   "pygments_lexer": "ipython3",
   "version": "3.7.12"
  },
  "vscode": {
   "interpreter": {
    "hash": "0c2f5c4fba51b93f19e499abfcc9ef4d6fee5bb503e49077d95162365c0a0cb3"
   }
  }
 },
 "nbformat": 4,
 "nbformat_minor": 4
}
