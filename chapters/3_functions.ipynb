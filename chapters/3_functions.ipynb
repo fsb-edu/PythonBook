{
 "cells": [
  {
   "attachments": {},
   "cell_type": "markdown",
   "metadata": {},
   "source": [
    "# Functions"
   ]
  },
  {
   "attachments": {},
   "cell_type": "markdown",
   "metadata": {},
   "source": [
    "In {ref}`Chapter 2 <chapter1-label>`, we printed a lot variables and their types. For each of these 'jobs' we had to write the print statement explicitly. Likewise, in {ref}`Chapter 3 <chapter2-label>`, there were many repeating code blocks. The result: we ended up with many copy-pasted statements that look almost the same. If you think of this, given that programs may grow to be really large, copy-pasted code is not a good idea at all. That is when **functions** come to help. They are code blocks that help avoid code repetition."
   ]
  }
 ],
 "metadata": {
  "kernelspec": {
   "display_name": "python-jb",
   "language": "python",
   "name": "python3"
  },
  "language_info": {
   "codemirror_mode": {
    "name": "ipython",
    "version": 3
   },
   "file_extension": ".py",
   "mimetype": "text/x-python",
   "name": "python",
   "nbconvert_exporter": "python",
   "pygments_lexer": "ipython3",
   "version": "3.7.13 (default, Oct 19 2022, 10:19:43) [MSC v.1916 64 bit (AMD64)]"
  },
  "orig_nbformat": 4,
  "vscode": {
   "interpreter": {
    "hash": "0c2f5c4fba51b93f19e499abfcc9ef4d6fee5bb503e49077d95162365c0a0cb3"
   }
  }
 },
 "nbformat": 4,
 "nbformat_minor": 2
}
