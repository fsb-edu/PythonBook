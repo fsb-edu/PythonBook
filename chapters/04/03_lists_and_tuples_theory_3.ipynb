{
 "cells": [
  {
   "cell_type": "markdown",
   "metadata": {},
   "source": [
    "# Readings: functions and methods for lists and tuples"
   ]
  },
  {
   "cell_type": "markdown",
   "metadata": {},
   "source": [
    "## Unpacking sequences of variables"
   ]
  },
  {
   "cell_type": "markdown",
   "metadata": {},
   "source": [
    "So far we have seen how to group different variables or values into a single variable. By doing unpacking we reverse this process, we move from one sequence of variables to multiple variables. The syntax for unpacking looks like this:\n",
    "```python\n",
    "var1, var2, var3, .... = sequence_name\n",
    "```\n",
    "On the left-hand side there should be as many variable names as there are elements in the sequence in the right-hand side. For example:"
   ]
  },
  {
   "cell_type": "code",
   "execution_count": 1,
   "metadata": {
    "execution": {
     "iopub.execute_input": "2023-05-31T07:39:45.148374Z",
     "iopub.status.busy": "2023-05-31T07:39:45.147859Z",
     "iopub.status.idle": "2023-05-31T07:39:45.164497Z",
     "shell.execute_reply": "2023-05-31T07:39:45.163296Z",
     "shell.execute_reply.started": "2023-05-31T07:39:45.148331Z"
    }
   },
   "outputs": [],
   "source": [
    "fermented_drinks = ['wine', 'beer', 'cider', 'yoghurt']"
   ]
  },
  {
   "cell_type": "code",
   "execution_count": 3,
   "metadata": {
    "execution": {
     "iopub.execute_input": "2023-05-31T07:40:10.312681Z",
     "iopub.status.busy": "2023-05-31T07:40:10.311825Z",
     "iopub.status.idle": "2023-05-31T07:40:10.319015Z",
     "shell.execute_reply": "2023-05-31T07:40:10.317998Z",
     "shell.execute_reply.started": "2023-05-31T07:40:10.312597Z"
    },
    "tags": []
   },
   "outputs": [
    {
     "name": "stdout",
     "output_type": "stream",
     "text": [
      "wine beer cider yoghurt\n"
     ]
    }
   ],
   "source": [
    "drink1, drink2, drink3, drink4 = fermented_drinks\n",
    "print(drink1, drink2, drink3, drink4)"
   ]
  },
  {
   "cell_type": "markdown",
   "metadata": {},
   "source": [
    "As you can see, each variable is assigned a value from the list. The same can happen with tuples:"
   ]
  },
  {
   "cell_type": "code",
   "execution_count": 6,
   "metadata": {
    "execution": {
     "iopub.execute_input": "2023-05-31T07:40:49.377533Z",
     "iopub.status.busy": "2023-05-31T07:40:49.375775Z",
     "iopub.status.idle": "2023-05-31T07:40:49.394779Z",
     "shell.execute_reply": "2023-05-31T07:40:49.389058Z",
     "shell.execute_reply.started": "2023-05-31T07:40:49.377441Z"
    }
   },
   "outputs": [],
   "source": [
    "fermented_foods = ('kimchi', 'sauerkraut', 'kefir')"
   ]
  },
  {
   "cell_type": "code",
   "execution_count": 7,
   "metadata": {
    "execution": {
     "iopub.execute_input": "2023-05-31T07:40:49.596831Z",
     "iopub.status.busy": "2023-05-31T07:40:49.596467Z",
     "iopub.status.idle": "2023-05-31T07:40:49.602220Z",
     "shell.execute_reply": "2023-05-31T07:40:49.601205Z",
     "shell.execute_reply.started": "2023-05-31T07:40:49.596802Z"
    },
    "tags": []
   },
   "outputs": [
    {
     "name": "stdout",
     "output_type": "stream",
     "text": [
      "kimchi sauerkraut kefir\n"
     ]
    }
   ],
   "source": [
    "food1, food2, food3 = fermented_foods\n",
    "print(food1, food2, food3)"
   ]
  },
  {
   "cell_type": "markdown",
   "metadata": {},
   "source": [
    "To avoid the need to declare as many variables as there are elements in a list or tuple, you can declare variables for the values you need and then declare other variables with a preceding asterisk (`*`) that will collect all the remaining elements in a list:"
   ]
  },
  {
   "cell_type": "code",
   "execution_count": 8,
   "metadata": {
    "execution": {
     "iopub.execute_input": "2023-05-31T07:41:39.233790Z",
     "iopub.status.busy": "2023-05-31T07:41:39.233243Z",
     "iopub.status.idle": "2023-05-31T07:41:39.238969Z",
     "shell.execute_reply": "2023-05-31T07:41:39.237485Z",
     "shell.execute_reply.started": "2023-05-31T07:41:39.233760Z"
    }
   },
   "outputs": [
    {
     "name": "stdout",
     "output_type": "stream",
     "text": [
      "wine ['beer', 'cider', 'yoghurt']\n"
     ]
    }
   ],
   "source": [
    "drink1, *the_rest = fermented_drinks\n",
    "print(drink1, the_rest)"
   ]
  },
  {
   "cell_type": "markdown",
   "metadata": {},
   "source": [
    "As you can see, all the remaining elements are collected into a list. This can be applied to tuples as well:"
   ]
  },
  {
   "cell_type": "code",
   "execution_count": 9,
   "metadata": {
    "execution": {
     "iopub.execute_input": "2023-05-31T07:41:58.171909Z",
     "iopub.status.busy": "2023-05-31T07:41:58.171440Z",
     "iopub.status.idle": "2023-05-31T07:41:58.180585Z",
     "shell.execute_reply": "2023-05-31T07:41:58.177042Z",
     "shell.execute_reply.started": "2023-05-31T07:41:58.171881Z"
    }
   },
   "outputs": [
    {
     "name": "stdout",
     "output_type": "stream",
     "text": [
      "kimchi ['sauerkraut', 'kefir']\n"
     ]
    }
   ],
   "source": [
    "food1, *the_other = fermented_foods\n",
    "print(food1, the_other)"
   ]
  },
  {
   "cell_type": "markdown",
   "metadata": {},
   "source": [
    "Depending on the position of items we want to single out and save in a variable, we should specify where the variable with the asterisk should stand. For example, if we would like to save the first and last elements of the `fermented_drinks` list then we would do:"
   ]
  },
  {
   "cell_type": "code",
   "execution_count": 10,
   "metadata": {
    "execution": {
     "iopub.execute_input": "2023-05-31T07:42:49.351464Z",
     "iopub.status.busy": "2023-05-31T07:42:49.350687Z",
     "iopub.status.idle": "2023-05-31T07:42:49.359889Z",
     "shell.execute_reply": "2023-05-31T07:42:49.358487Z",
     "shell.execute_reply.started": "2023-05-31T07:42:49.351399Z"
    }
   },
   "outputs": [
    {
     "name": "stdout",
     "output_type": "stream",
     "text": [
      "wine ['beer', 'cider'] yoghurt\n"
     ]
    }
   ],
   "source": [
    "drink1, *the_rest, drink4 = fermented_drinks\n",
    "print(drink1, the_rest, drink4)"
   ]
  },
  {
   "cell_type": "markdown",
   "metadata": {},
   "source": [
    "Also, if we would like to store only the last element, then we would write:"
   ]
  },
  {
   "cell_type": "code",
   "execution_count": 11,
   "metadata": {
    "execution": {
     "iopub.execute_input": "2023-05-31T07:43:09.355869Z",
     "iopub.status.busy": "2023-05-31T07:43:09.354681Z",
     "iopub.status.idle": "2023-05-31T07:43:09.365233Z",
     "shell.execute_reply": "2023-05-31T07:43:09.362852Z",
     "shell.execute_reply.started": "2023-05-31T07:43:09.355812Z"
    }
   },
   "outputs": [
    {
     "name": "stdout",
     "output_type": "stream",
     "text": [
      "['wine', 'beer', 'cider'] yoghurt\n"
     ]
    }
   ],
   "source": [
    "*the_rest, drink4 = fermented_drinks\n",
    "print(the_rest, drink4)"
   ]
  },
  {
   "cell_type": "markdown",
   "metadata": {},
   "source": [
    "Similarly, if we would like to single out only the last two values we would write:"
   ]
  },
  {
   "cell_type": "code",
   "execution_count": 12,
   "metadata": {
    "execution": {
     "iopub.execute_input": "2023-05-31T07:43:24.834218Z",
     "iopub.status.busy": "2023-05-31T07:43:24.833538Z",
     "iopub.status.idle": "2023-05-31T07:43:24.840304Z",
     "shell.execute_reply": "2023-05-31T07:43:24.838862Z",
     "shell.execute_reply.started": "2023-05-31T07:43:24.834018Z"
    }
   },
   "outputs": [
    {
     "name": "stdout",
     "output_type": "stream",
     "text": [
      "['wine', 'beer'] cider yoghurt\n"
     ]
    }
   ],
   "source": [
    "*the_rest, drink3, drink4 = fermented_drinks\n",
    "print(the_rest, drink3, drink4)"
   ]
  },
  {
   "cell_type": "markdown",
   "metadata": {},
   "source": [
    "As you can see, the position of `the_rest` variable is flexible based on what we need to isolate."
   ]
  },
  {
   "cell_type": "markdown",
   "metadata": {},
   "source": [
    "### **enumerate()** function"
   ]
  },
  {
   "cell_type": "markdown",
   "metadata": {},
   "source": [
    "The **enumerate()** function is a built-in function in Python used to iterate over sequences of values. It is a more elegant way then the previously used `range()` function since it avoids any `IndexError`s. It receives as argument a sequence of values (*iterable*) and for each element in the list it returns a tuple consisting of **(key, value)** pairs where the **key** is the index and the **value** is the element in an iterable corresponding to that index. The function itself produces an object of type `enumerate`. If we directly use the `print()` function on it, then it will print the memory location of this object. To print its contents element-by-element, we need to add `*` before the enumerate call:"
   ]
  },
  {
   "cell_type": "code",
   "execution_count": 13,
   "metadata": {
    "execution": {
     "iopub.execute_input": "2023-05-31T07:44:57.202503Z",
     "iopub.status.busy": "2023-05-31T07:44:57.200935Z",
     "iopub.status.idle": "2023-05-31T07:44:57.210214Z",
     "shell.execute_reply": "2023-05-31T07:44:57.208439Z",
     "shell.execute_reply.started": "2023-05-31T07:44:57.202445Z"
    }
   },
   "outputs": [
    {
     "name": "stdout",
     "output_type": "stream",
     "text": [
      "(0, 'wine') (1, 'beer') (2, 'cider') (3, 'yoghurt')\n"
     ]
    }
   ],
   "source": [
    "print(*enumerate(fermented_drinks))"
   ]
  },
  {
   "cell_type": "markdown",
   "metadata": {},
   "source": [
    "````{margin}\n",
    "```{note}\n",
    "The syntax `print(f'{string_1}, {string_2}')` is a formatted string. `f` in the beginning indicates that we are going to print a string using the format specified by the string that comes after `f`.\n",
    "```\n",
    "````"
   ]
  },
  {
   "cell_type": "markdown",
   "metadata": {},
   "source": [
    "Similarly we can iterate over the tuples using a `for`-loop:"
   ]
  },
  {
   "cell_type": "code",
   "execution_count": 14,
   "metadata": {
    "execution": {
     "iopub.execute_input": "2023-05-31T07:45:01.866811Z",
     "iopub.status.busy": "2023-05-31T07:45:01.866199Z",
     "iopub.status.idle": "2023-05-31T07:45:01.874072Z",
     "shell.execute_reply": "2023-05-31T07:45:01.872552Z",
     "shell.execute_reply.started": "2023-05-31T07:45:01.866757Z"
    }
   },
   "outputs": [
    {
     "name": "stdout",
     "output_type": "stream",
     "text": [
      "Index: 0 ->\tdrink: wine\n",
      "Index: 1 ->\tdrink: beer\n",
      "Index: 2 ->\tdrink: cider\n",
      "Index: 3 ->\tdrink: yoghurt\n"
     ]
    }
   ],
   "source": [
    "for i, tuple_i in enumerate(fermented_drinks):\n",
    "    print(f'Index: {i} ->\\tdrink: {tuple_i}')"
   ]
  },
  {
   "cell_type": "markdown",
   "metadata": {},
   "source": [
    "(ch04-slicing-label)=\n",
    "## Slicing"
   ]
  },
  {
   "cell_type": "markdown",
   "metadata": {},
   "source": [
    "As we saw in {ref}`Accessing elements in lists <ch4-access-lists-label>` and {ref}`Accessing elements in tuples <ch4-access-tuples-label>`, we can use **slicing** to access a range of values. Here we will see some more specific cases of slicing."
   ]
  },
  {
   "cell_type": "markdown",
   "metadata": {},
   "source": [
    "````{margin}\n",
    "```{hint}\n",
    "Slicing with [:] will select all the elements of a sequence.\n",
    "```\n",
    "````"
   ]
  },
  {
   "cell_type": "markdown",
   "metadata": {},
   "source": [
    "### Slicing with step size"
   ]
  },
  {
   "cell_type": "code",
   "execution_count": 72,
   "metadata": {},
   "outputs": [
    {
     "data": {
      "text/plain": [
       "['beer', 'yoghurt']"
      ]
     },
     "execution_count": 72,
     "metadata": {},
     "output_type": "execute_result"
    }
   ],
   "source": [
    "fermented_drinks = ['wine', 'beer', 'cider', 'yoghurt']\n",
    "fermented_drinks[1:4:2]"
   ]
  },
  {
   "cell_type": "markdown",
   "metadata": {},
   "source": [
    "The third number says that we are going to select only every second index. For example, in this case, since we are interested in the range [1:4) with a step size of 2, from {1,2,3} we are going to select only {1,3}."
   ]
  },
  {
   "cell_type": "markdown",
   "metadata": {},
   "source": [
    "We can also use negative indices and step sizes. Look at the example below:"
   ]
  },
  {
   "cell_type": "code",
   "execution_count": 73,
   "metadata": {},
   "outputs": [
    {
     "data": {
      "text/plain": [
       "['yoghurt', 'beer']"
      ]
     },
     "execution_count": 73,
     "metadata": {},
     "output_type": "execute_result"
    }
   ],
   "source": [
    "fermented_drinks[-1:-4:-2]"
   ]
  },
  {
   "cell_type": "markdown",
   "metadata": {},
   "source": [
    "Here we process the list of `fermented_drinks` in reverse order from the last item indexed at position `-1` until the first item indexed at position `-4` (for a visual explanation on how negative indices work check {numref}`indexing-neg`) going backward 1 element each time."
   ]
  },
  {
   "cell_type": "markdown",
   "metadata": {},
   "source": [
    "### Modifying lists using slicing"
   ]
  },
  {
   "cell_type": "markdown",
   "metadata": {},
   "source": [
    "We can modify many list elements in one go using slicing as well. "
   ]
  },
  {
   "cell_type": "code",
   "execution_count": 15,
   "metadata": {
    "execution": {
     "iopub.execute_input": "2023-05-31T07:48:42.985907Z",
     "iopub.status.busy": "2023-05-31T07:48:42.985364Z",
     "iopub.status.idle": "2023-05-31T07:48:42.993472Z",
     "shell.execute_reply": "2023-05-31T07:48:42.991806Z",
     "shell.execute_reply.started": "2023-05-31T07:48:42.985868Z"
    }
   },
   "outputs": [
    {
     "name": "stdout",
     "output_type": "stream",
     "text": [
      "Before: ['wine', 'beer', 'cider', 'yoghurt']\n",
      "After: ['wine', 'wine', 'wine', 'wine']\n"
     ]
    }
   ],
   "source": [
    "print('Before:', fermented_drinks)\n",
    "fermented_drinks[1:4] = ['wine','wine','wine']\n",
    "print('After:', fermented_drinks)"
   ]
  },
  {
   "cell_type": "markdown",
   "metadata": {},
   "source": [
    "As you can see, all elements from positions {1,2,3} were substituted with the elements of the new list (3 `wine`)."
   ]
  },
  {
   "cell_type": "markdown",
   "metadata": {},
   "source": [
    "## **zip()** function"
   ]
  },
  {
   "cell_type": "markdown",
   "metadata": {},
   "source": [
    "The **zip()** function allows us to concatenate elements from different iterables into tuples. For example, if we have a list of chemical elements and another one of their respective atomic numbers, then we can use the **zip()** function to form tuples containing the chemical elements and their atomic number:"
   ]
  },
  {
   "cell_type": "code",
   "execution_count": 75,
   "metadata": {},
   "outputs": [
    {
     "name": "stdout",
     "output_type": "stream",
     "text": [
      "('O', 8) ('Ca', 20) ('C', 6) ('Na', 11) ('K', 19)\n"
     ]
    }
   ],
   "source": [
    "chemical_elements = ['O', 'Ca', 'C', 'Na', 'K']\n",
    "atomic_numbers = [8, 20, 6, 11, 19]\n",
    "\n",
    "print(*zip(chemical_elements, atomic_numbers))"
   ]
  },
  {
   "cell_type": "markdown",
   "metadata": {},
   "source": [
    "Or we can iterate over the two lists simultaneously:"
   ]
  },
  {
   "cell_type": "code",
   "execution_count": 76,
   "metadata": {},
   "outputs": [
    {
     "name": "stdout",
     "output_type": "stream",
     "text": [
      "('O', 8)\n",
      "('Ca', 20)\n",
      "('C', 6)\n",
      "('Na', 11)\n",
      "('K', 19)\n"
     ]
    }
   ],
   "source": [
    "for element in zip(chemical_elements, atomic_numbers):\n",
    "    print(element)"
   ]
  },
  {
   "cell_type": "markdown",
   "metadata": {},
   "source": [
    "```{important}\n",
    "If the lists we are trying to zip do not have the same number of elements, then the zipped sequence will have as many tuples as the number of elements of the smallest list.\n",
    "```"
   ]
  },
  {
   "cell_type": "markdown",
   "metadata": {},
   "source": [
    "## **del** statement"
   ]
  },
  {
   "cell_type": "markdown",
   "metadata": {},
   "source": [
    "The **del** keyword can be used to delete any variables from the workspace or to delete any elements in lists. For example:"
   ]
  },
  {
   "cell_type": "code",
   "execution_count": 16,
   "metadata": {
    "execution": {
     "iopub.execute_input": "2023-05-31T07:50:05.318877Z",
     "iopub.status.busy": "2023-05-31T07:50:05.317981Z",
     "iopub.status.idle": "2023-05-31T07:50:05.336690Z",
     "shell.execute_reply": "2023-05-31T07:50:05.334893Z",
     "shell.execute_reply.started": "2023-05-31T07:50:05.318808Z"
    }
   },
   "outputs": [
    {
     "data": {
      "text/plain": [
       "['sauerkraut', 'kefir', 'kimchi', 'kombucha', 'yoghurt']"
      ]
     },
     "execution_count": 16,
     "metadata": {},
     "output_type": "execute_result"
    }
   ],
   "source": [
    "fermented_foods = [\n",
    "    'sauerkraut', 'kefir', 'kimchi', 'kombucha', 'yoghurt', 'cheese'\n",
    "]\n",
    "\n",
    "#delete the last element\n",
    "del fermented_foods[-1]\n",
    "fermented_foods"
   ]
  },
  {
   "cell_type": "markdown",
   "metadata": {},
   "source": [
    "````{margin}\n",
    "```{note}\n",
    "What happens if we run `del fermented_foods[:]`? We will end up with an empty `fermented_foods` list.\n",
    "```\n",
    "````"
   ]
  },
  {
   "cell_type": "code",
   "execution_count": 17,
   "metadata": {
    "execution": {
     "iopub.execute_input": "2023-05-31T07:50:30.716504Z",
     "iopub.status.busy": "2023-05-31T07:50:30.715509Z",
     "iopub.status.idle": "2023-05-31T07:50:30.727572Z",
     "shell.execute_reply": "2023-05-31T07:50:30.725475Z",
     "shell.execute_reply.started": "2023-05-31T07:50:30.716458Z"
    }
   },
   "outputs": [
    {
     "data": {
      "text/plain": [
       "['sauerkraut', 'kefir']"
      ]
     },
     "execution_count": 17,
     "metadata": {},
     "output_type": "execute_result"
    }
   ],
   "source": [
    "# delete a range of values\n",
    "del fermented_foods[2:5] # 5 non-inclusive\n",
    "fermented_foods"
   ]
  },
  {
   "cell_type": "code",
   "execution_count": 18,
   "metadata": {
    "execution": {
     "iopub.execute_input": "2023-05-31T07:50:37.245525Z",
     "iopub.status.busy": "2023-05-31T07:50:37.244999Z",
     "iopub.status.idle": "2023-05-31T07:50:37.261212Z",
     "shell.execute_reply": "2023-05-31T07:50:37.258935Z",
     "shell.execute_reply.started": "2023-05-31T07:50:37.245474Z"
    }
   },
   "outputs": [
    {
     "ename": "NameError",
     "evalue": "name 'fermented_foods' is not defined",
     "output_type": "error",
     "traceback": [
      "\u001b[0;31m---------------------------------------------------------------------------\u001b[0m",
      "\u001b[0;31mNameError\u001b[0m                                 Traceback (most recent call last)",
      "\u001b[0;32m/var/folders/7f/7nw_x13n5q965rss_qz6061m0000gq/T/ipykernel_53847/3365628814.py\u001b[0m in \u001b[0;36m<module>\u001b[0;34m\u001b[0m\n\u001b[1;32m      1\u001b[0m \u001b[0;31m# delete the list completely\u001b[0m\u001b[0;34m\u001b[0m\u001b[0;34m\u001b[0m\u001b[0;34m\u001b[0m\u001b[0m\n\u001b[1;32m      2\u001b[0m \u001b[0;32mdel\u001b[0m \u001b[0mfermented_foods\u001b[0m\u001b[0;34m\u001b[0m\u001b[0;34m\u001b[0m\u001b[0m\n\u001b[0;32m----> 3\u001b[0;31m \u001b[0mfermented_foods\u001b[0m\u001b[0;34m\u001b[0m\u001b[0;34m\u001b[0m\u001b[0m\n\u001b[0m",
      "\u001b[0;31mNameError\u001b[0m: name 'fermented_foods' is not defined"
     ]
    }
   ],
   "source": [
    "# delete the list completely\n",
    "del fermented_foods\n",
    "fermented_foods"
   ]
  },
  {
   "cell_type": "markdown",
   "metadata": {},
   "source": [
    "After trying to execute the last statement to print the `fermented_foods` list, we will get a `NameError` since the variable does not exist anymore in the workspace."
   ]
  },
  {
   "cell_type": "markdown",
   "metadata": {},
   "source": [
    "```{important}\n",
    "We **cannot** use **del** keyword to remove an item or a range of items from a tuple because tuples are **immutable**. However, the **del** keyword can be used to remove the tuple entirely from the workspace by deleting it.\n",
    "```"
   ]
  },
  {
   "cell_type": "markdown",
   "metadata": {},
   "source": [
    "## Passing lists and tuples to functions"
   ]
  },
  {
   "cell_type": "markdown",
   "metadata": {},
   "source": [
    "All arguments passed to functions are passed by reference. This means that the function can access directly the memory locations of the passed arguments, thus any changes done to the arguments will be reflected anywhere in the program when the arguments will be accessed after the function call."
   ]
  },
  {
   "cell_type": "markdown",
   "metadata": {},
   "source": [
    "### Passing tuples to functions"
   ]
  },
  {
   "cell_type": "markdown",
   "metadata": {},
   "source": [
    "Passing tuples to functions as arguments means that the function is accessing directly the memory space of the tuple. If you refer to {numref}`modifying-tuples`, the function will have access directly to the space enclosed in the red rounded square. As we saw in the previous section, tuples are immutable so no changes can happen to this area. If the tuple elements are undergoing changes inside a function then an error will be thrown and the program will stop executing.\n",
    "```{important}\n",
    "Keep in mind that if inside the function we try to modify *mutable* objects of the tuple, then no errors will occur for the same reasons as explained in {ref}`Modifying elements of a tuple <ch04-tuples-modifying-elements-label>`.\n",
    "```"
   ]
  },
  {
   "cell_type": "markdown",
   "metadata": {},
   "source": [
    "Let us look at an example:"
   ]
  },
  {
   "cell_type": "code",
   "execution_count": 19,
   "metadata": {
    "execution": {
     "iopub.execute_input": "2023-05-31T07:54:33.857637Z",
     "iopub.status.busy": "2023-05-31T07:54:33.856805Z",
     "iopub.status.idle": "2023-05-31T07:54:33.865736Z",
     "shell.execute_reply": "2023-05-31T07:54:33.864251Z",
     "shell.execute_reply.started": "2023-05-31T07:54:33.857586Z"
    }
   },
   "outputs": [],
   "source": [
    "def subtract_two(sequence_of_values):\n",
    "    for index, value in enumerate(sequence_of_values):\n",
    "        sequence_of_values[index] -= 2"
   ]
  },
  {
   "cell_type": "code",
   "execution_count": 20,
   "metadata": {
    "execution": {
     "iopub.execute_input": "2023-05-31T07:54:35.189845Z",
     "iopub.status.busy": "2023-05-31T07:54:35.189301Z",
     "iopub.status.idle": "2023-05-31T07:54:35.203868Z",
     "shell.execute_reply": "2023-05-31T07:54:35.202429Z",
     "shell.execute_reply.started": "2023-05-31T07:54:35.189797Z"
    }
   },
   "outputs": [
    {
     "ename": "TypeError",
     "evalue": "'tuple' object does not support item assignment",
     "output_type": "error",
     "traceback": [
      "\u001b[0;31m---------------------------------------------------------------------------\u001b[0m",
      "\u001b[0;31mTypeError\u001b[0m                                 Traceback (most recent call last)",
      "\u001b[0;32m/var/folders/7f/7nw_x13n5q965rss_qz6061m0000gq/T/ipykernel_53847/2895445588.py\u001b[0m in \u001b[0;36m<module>\u001b[0;34m\u001b[0m\n\u001b[1;32m      1\u001b[0m \u001b[0mtuple_of_numbers\u001b[0m \u001b[0;34m=\u001b[0m \u001b[0;34m(\u001b[0m\u001b[0;36m0\u001b[0m\u001b[0;34m,\u001b[0m\u001b[0;36m1\u001b[0m\u001b[0;34m,\u001b[0m\u001b[0;36m2\u001b[0m\u001b[0;34m,\u001b[0m\u001b[0;36m3\u001b[0m\u001b[0;34m,\u001b[0m\u001b[0;36m4\u001b[0m\u001b[0;34m,\u001b[0m\u001b[0;36m5\u001b[0m\u001b[0;34m)\u001b[0m\u001b[0;34m\u001b[0m\u001b[0;34m\u001b[0m\u001b[0m\n\u001b[0;32m----> 2\u001b[0;31m \u001b[0msubtract_two\u001b[0m\u001b[0;34m(\u001b[0m\u001b[0mtuple_of_numbers\u001b[0m\u001b[0;34m)\u001b[0m\u001b[0;34m\u001b[0m\u001b[0;34m\u001b[0m\u001b[0m\n\u001b[0m",
      "\u001b[0;32m/var/folders/7f/7nw_x13n5q965rss_qz6061m0000gq/T/ipykernel_53847/631423467.py\u001b[0m in \u001b[0;36msubtract_two\u001b[0;34m(sequence_of_values)\u001b[0m\n\u001b[1;32m      1\u001b[0m \u001b[0;32mdef\u001b[0m \u001b[0msubtract_two\u001b[0m\u001b[0;34m(\u001b[0m\u001b[0msequence_of_values\u001b[0m\u001b[0;34m)\u001b[0m\u001b[0;34m:\u001b[0m\u001b[0;34m\u001b[0m\u001b[0;34m\u001b[0m\u001b[0m\n\u001b[1;32m      2\u001b[0m     \u001b[0;32mfor\u001b[0m \u001b[0mindex\u001b[0m\u001b[0;34m,\u001b[0m \u001b[0mvalue\u001b[0m \u001b[0;32min\u001b[0m \u001b[0menumerate\u001b[0m\u001b[0;34m(\u001b[0m\u001b[0msequence_of_values\u001b[0m\u001b[0;34m)\u001b[0m\u001b[0;34m:\u001b[0m\u001b[0;34m\u001b[0m\u001b[0;34m\u001b[0m\u001b[0m\n\u001b[0;32m----> 3\u001b[0;31m         \u001b[0msequence_of_values\u001b[0m\u001b[0;34m[\u001b[0m\u001b[0mindex\u001b[0m\u001b[0;34m]\u001b[0m \u001b[0;34m-=\u001b[0m \u001b[0;36m2\u001b[0m\u001b[0;34m\u001b[0m\u001b[0;34m\u001b[0m\u001b[0m\n\u001b[0m",
      "\u001b[0;31mTypeError\u001b[0m: 'tuple' object does not support item assignment"
     ]
    }
   ],
   "source": [
    "tuple_of_numbers = (0,1,2,3,4,5)\n",
    "subtract_two(tuple_of_numbers)"
   ]
  },
  {
   "cell_type": "markdown",
   "metadata": {},
   "source": [
    "As you can see, the above code throws a `TypeError` since it is impossible to modify tuple elements. So we should be careful when we access tuples inside a function. We can use its values in calculations but we cannot change them."
   ]
  },
  {
   "cell_type": "markdown",
   "metadata": {},
   "source": [
    "### Passing lists to functions"
   ]
  },
  {
   "cell_type": "markdown",
   "metadata": {},
   "source": [
    "Passing lists as arguments to functions does not make any difference in terms of what the function sees. Again the list is passed by reference so the function has direct access to the memory space of the list. This means that any changes that happen to the list elements inside the function will be reflected in the original list after the flow of control returns from the function call. Note that since lists are *mutable* there are no problems with modifying elements residing on the list memory space. (Again, for clarity on the memory space refer to {numref}`modifying-tuples`.) \n",
    "We will provide an example by using the `subtract_two` function defined above:"
   ]
  },
  {
   "cell_type": "code",
   "execution_count": 21,
   "metadata": {
    "execution": {
     "iopub.execute_input": "2023-05-31T07:56:54.612780Z",
     "iopub.status.busy": "2023-05-31T07:56:54.612295Z",
     "iopub.status.idle": "2023-05-31T07:56:54.620759Z",
     "shell.execute_reply": "2023-05-31T07:56:54.619182Z",
     "shell.execute_reply.started": "2023-05-31T07:56:54.612740Z"
    }
   },
   "outputs": [
    {
     "data": {
      "text/plain": [
       "[-2, -1, 0, 1, 2, 3]"
      ]
     },
     "execution_count": 21,
     "metadata": {},
     "output_type": "execute_result"
    }
   ],
   "source": [
    "list_of_numbers = [0,1,2,3,4,5]\n",
    "subtract_two(list_of_numbers)\n",
    "list_of_numbers"
   ]
  },
  {
   "cell_type": "markdown",
   "metadata": {},
   "source": [
    "As you can see, the changes are directly applied to the original elements of the list. This is something that should be considered carefully when writing code because it is one of the most common logical mistakes that might be difficult to notice."
   ]
  },
  {
   "cell_type": "markdown",
   "metadata": {},
   "source": [
    "(ch04-copying-label)=\n",
    "### Copying lists (Shallow vs Deep Copying)"
   ]
  },
  {
   "cell_type": "markdown",
   "metadata": {},
   "source": [
    "In order to avoid any mistakes introduced in the code when we pass lists to functions we might create a copy of the list and work with the copy instead of the original list. However, there are two types of copies of a list: a *shallow* copy and a *deep* copy. A *shallow* copy of a list is another list that points to the same memory space as the original one. All the changes that happen to the original or to the shallow copy will be seen by the other. On the other hand, a *deep* copy of the list consist of creating a completely new list from an existing one. The elements of the old list will be copied into the memory space of the new list. Changes made to any of the lists are not reflected in the other. "
   ]
  },
  {
   "cell_type": "markdown",
   "metadata": {},
   "source": [
    "{numref}`shallow-copy-lists` shows the memory changes when a shallow copy of a list is created. As you can see, elements are not copied but the copy will just point to the same address as the original one. Any changes that will be made to the original or the copy will be reflected in the other one.\n",
    " \n",
    "```{figure} ../../images/4_lists_and_tuples/shallow_copy_lists.jpg\n",
    ":alt: shallow_copy_lists_illustration\n",
    ":name: shallow-copy-lists\n",
    ":class: ch5\n",
    ":align: center\n",
    "\n",
    "Shallow copy of lists\n",
    "```"
   ]
  },
  {
   "cell_type": "markdown",
   "metadata": {},
   "source": [
    "The example below illustrates a shallow copy of a list:"
   ]
  },
  {
   "cell_type": "code",
   "execution_count": 22,
   "metadata": {
    "execution": {
     "iopub.execute_input": "2023-05-31T08:01:33.905434Z",
     "iopub.status.busy": "2023-05-31T08:01:33.904859Z",
     "iopub.status.idle": "2023-05-31T08:01:33.916016Z",
     "shell.execute_reply": "2023-05-31T08:01:33.913964Z",
     "shell.execute_reply.started": "2023-05-31T08:01:33.905376Z"
    }
   },
   "outputs": [
    {
     "name": "stdout",
     "output_type": "stream",
     "text": [
      "Original: [0, 1, 2, 3, 4, 5]\n",
      "Copy: [0, 1, 2, 3, 4, 5]\n",
      "Original after changes: [0, 2, 2, 6, 4, 5]\n",
      "Copy after changes: [0, 2, 2, 6, 4, 5]\n"
     ]
    }
   ],
   "source": [
    "numbers = [0,1,2,3,4,5]\n",
    "numbers_copy = numbers\n",
    "\n",
    "print('Original:', numbers)\n",
    "print('Copy:', numbers_copy)\n",
    "\n",
    "#changing some elements\n",
    "numbers[1]=2\n",
    "numbers_copy[3] = 6\n",
    "\n",
    "print('Original after changes:', numbers)\n",
    "print('Copy after changes:', numbers_copy)\n"
   ]
  },
  {
   "cell_type": "markdown",
   "metadata": {},
   "source": [
    "As you can see, although changes happened in only one of the lists, they were reflected in the other one, too. This is a side effect of sharing the same area in memory."
   ]
  },
  {
   "cell_type": "markdown",
   "metadata": {},
   "source": [
    "{numref}`deep-copy-lists` shows what happens when we do a deep copy of a list. As you can see, the lists are completely uncoupled and distinct. The only thing that they have in common are the element values. But they have their own space in memory. If one of the lists changes, *the other one remains unchanged*.\n",
    "\n",
    "```{figure} ../../images/4_lists_and_tuples/deep_copy_lists.jpg\n",
    ":alt: deep_copy_lists_illustration\n",
    ":name: deep-copy-lists\n",
    ":class: ch5\n",
    ":align: center\n",
    "\n",
    "Deep copy of lists\n",
    "```"
   ]
  },
  {
   "cell_type": "markdown",
   "metadata": {},
   "source": [
    "The example below shows a deep copy of a list:"
   ]
  },
  {
   "cell_type": "markdown",
   "metadata": {},
   "source": [
    "````{margin}\n",
    "```{hint}\n",
    "By using the function `list()` we create a completely new list using the value of the `list_numbers` that we pass as argument to it. Another way to copy a list is by calling the `copy()` method on the original `list_numbers`, this will create a deep copy of the original list as well.\n",
    "```\n",
    "````"
   ]
  },
  {
   "cell_type": "code",
   "execution_count": 23,
   "metadata": {
    "execution": {
     "iopub.execute_input": "2023-05-31T08:03:08.176629Z",
     "iopub.status.busy": "2023-05-31T08:03:08.176136Z",
     "iopub.status.idle": "2023-05-31T08:03:08.184642Z",
     "shell.execute_reply": "2023-05-31T08:03:08.183107Z",
     "shell.execute_reply.started": "2023-05-31T08:03:08.176588Z"
    }
   },
   "outputs": [
    {
     "name": "stdout",
     "output_type": "stream",
     "text": [
      "Original: [0, 1, 2, 3, 4, 5]\n",
      "Copy: [0, 1, 2, 3, 4, 5]\n",
      "Original after changes: [0, 2, 2, 3, 4, 5]\n",
      "Copy after changes: [0, 1, 2, 6, 4, 5]\n"
     ]
    }
   ],
   "source": [
    "numbers = [0,1,2,3,4,5]\n",
    "numbers_copy = list(numbers)\n",
    "\n",
    "print('Original:', numbers)\n",
    "print('Copy:', numbers_copy)\n",
    "\n",
    "#changing some elements\n",
    "numbers[1]=2\n",
    "numbers_copy[3] = 6\n",
    "\n",
    "print('Original after changes:', numbers)\n",
    "print('Copy after changes:', numbers_copy)"
   ]
  },
  {
   "cell_type": "markdown",
   "metadata": {},
   "source": [
    "As you can see, changes now are localized and they affect only the list where they are applied. This enforces the idea that the two lists do not share the same memory space."
   ]
  },
  {
   "cell_type": "markdown",
   "metadata": {},
   "source": [
    "## 2D lists"
   ]
  },
  {
   "cell_type": "markdown",
   "metadata": {},
   "source": [
    "2D lists are nothing more than lists of lists: each element of a list is a list. For example:"
   ]
  },
  {
   "cell_type": "code",
   "execution_count": 25,
   "metadata": {
    "execution": {
     "iopub.execute_input": "2023-05-31T08:04:23.023649Z",
     "iopub.status.busy": "2023-05-31T08:04:23.022577Z",
     "iopub.status.idle": "2023-05-31T08:04:23.035450Z",
     "shell.execute_reply": "2023-05-31T08:04:23.032465Z",
     "shell.execute_reply.started": "2023-05-31T08:04:23.023571Z"
    }
   },
   "outputs": [],
   "source": [
    "two_dim_list = [[1,2,3], # first row \n",
    "                [4,5,6], # second row\n",
    "                [7,8,9]] # third row"
   ]
  },
  {
   "cell_type": "markdown",
   "metadata": {},
   "source": [
    "A 2D dimensional list's elements (which are lists themselves) can have the same number of elements or different number of elements."
   ]
  },
  {
   "cell_type": "markdown",
   "metadata": {},
   "source": [
    "````{margin}\n",
    "```{note}\n",
    "Lists can have more than two dimensions. In this case more than two variables would be needed to access their elements. These are called *multidimensional lists*.\n",
    "```\n",
    "````\n",
    "\n",
    "To access the elements of a 2D list we use two indices: the first one for the row and the second one for the column. To understand this, let us look at a tabular representation of the `two_dim_list`:\n",
    "\n",
    "```{figure} ../../images/4_lists_and_tuples/2dlists.jpg\n",
    ":alt: 2D_lists_illustration\n",
    ":name: 2d-lists\n",
    ":class: ch5\n",
    ":align: center\n",
    "\n",
    "Two dimensional lists\n",
    "```\n",
    "Usually the row index is indicated by `i` and the column index by `j`."
   ]
  },
  {
   "cell_type": "markdown",
   "metadata": {},
   "source": [
    "To print element 5 from the `two_dim_list` we would write:"
   ]
  },
  {
   "cell_type": "code",
   "execution_count": 26,
   "metadata": {
    "execution": {
     "iopub.execute_input": "2023-05-31T08:04:24.998796Z",
     "iopub.status.busy": "2023-05-31T08:04:24.997954Z",
     "iopub.status.idle": "2023-05-31T08:04:25.006292Z",
     "shell.execute_reply": "2023-05-31T08:04:25.004412Z",
     "shell.execute_reply.started": "2023-05-31T08:04:24.998760Z"
    },
    "tags": []
   },
   "outputs": [
    {
     "data": {
      "text/plain": [
       "5"
      ]
     },
     "execution_count": 26,
     "metadata": {},
     "output_type": "execute_result"
    }
   ],
   "source": [
    "two_dim_list[1][1]"
   ]
  },
  {
   "cell_type": "markdown",
   "metadata": {},
   "source": [
    "To print all the values in a tabular format we can use two nested for-loops:"
   ]
  },
  {
   "cell_type": "code",
   "execution_count": 27,
   "metadata": {
    "execution": {
     "iopub.execute_input": "2023-05-31T08:04:32.760401Z",
     "iopub.status.busy": "2023-05-31T08:04:32.759742Z",
     "iopub.status.idle": "2023-05-31T08:04:32.769719Z",
     "shell.execute_reply": "2023-05-31T08:04:32.767839Z",
     "shell.execute_reply.started": "2023-05-31T08:04:32.760362Z"
    }
   },
   "outputs": [
    {
     "name": "stdout",
     "output_type": "stream",
     "text": [
      "1 2 3 \n",
      "4 5 6 \n",
      "7 8 9 \n"
     ]
    }
   ],
   "source": [
    "for i in range(0, len(two_dim_list)):\n",
    "    for j in range(0, len(two_dim_list[i])):\n",
    "        print(two_dim_list[i][j], end=' ')\n",
    "    print()"
   ]
  },
  {
   "cell_type": "markdown",
   "metadata": {},
   "source": [
    "The outer for-loop is responsible for iterating over the rows while the inner for-loop for iterating over the columns of each row."
   ]
  },
  {
   "cell_type": "markdown",
   "metadata": {},
   "source": [
    "## Functional style programming (Optional)"
   ]
  },
  {
   "cell_type": "markdown",
   "metadata": {},
   "source": [
    "*Functional style programming* refers to programming practices where the programmer specifies via code what the computer should run, but how the task will be accomplished is determined by the computer. On the other hand in *imperative style programming*, the programmer explicitly specifies the steps that a program should follow in order to accomplish a certain task.\n",
    "An example of *functional style programming* is list-comprehension. Below we will see two more examples related to `filter()` and `map()` built-in functions. A distinct feature of functional-style programming is the ability to pass functions as arguments to functions."
   ]
  },
  {
   "cell_type": "markdown",
   "metadata": {},
   "source": [
    "### Lambda expressions"
   ]
  },
  {
   "cell_type": "markdown",
   "metadata": {},
   "source": [
    "*Lambda* expressions are in-line functions. Otherwise they are called *anonymous functions* since they do not have a name. The syntax for a lambda expression is:\n",
    "\n",
    "```python\n",
    "lambda parameters: expression\n",
    "```\n",
    "\n",
    "This is equivalent to specifying a function like:\n",
    "```python\n",
    "def function(parameters):\n",
    "    return expression\n",
    "```"
   ]
  },
  {
   "cell_type": "markdown",
   "metadata": {},
   "source": [
    "For example, we can define a function that will receive a number and will determine if it is a multiple of 3 or not:"
   ]
  },
  {
   "cell_type": "code",
   "execution_count": 88,
   "metadata": {},
   "outputs": [],
   "source": [
    "def is_divisible_by_3(num):\n",
    "    return num%3==0"
   ]
  },
  {
   "cell_type": "markdown",
   "metadata": {},
   "source": [
    "Using lambda expression this would be written as:\n",
    "```python\n",
    "lambda num: num%3==0\n",
    "```"
   ]
  },
  {
   "cell_type": "markdown",
   "metadata": {},
   "source": [
    "However, lambda expressions as standalone expressions are of no help. That's why they are used inside other functions, for example those used to do filtering or mapping."
   ]
  },
  {
   "cell_type": "markdown",
   "metadata": {},
   "source": [
    "### Filter"
   ]
  },
  {
   "cell_type": "markdown",
   "metadata": {},
   "source": [
    "Suppose that we have a list of numbers and we want to find which values are multiples of 3. One way to do this is by explicitly using the `is_divisible_by_3()` function defined above in a list comprehension:"
   ]
  },
  {
   "cell_type": "code",
   "execution_count": 89,
   "metadata": {},
   "outputs": [],
   "source": [
    "numbers = [1,2,3,4,5,6,7,8,9]"
   ]
  },
  {
   "cell_type": "code",
   "execution_count": 90,
   "metadata": {},
   "outputs": [
    {
     "data": {
      "text/plain": [
       "[3, 6, 9]"
      ]
     },
     "execution_count": 90,
     "metadata": {},
     "output_type": "execute_result"
    }
   ],
   "source": [
    "[mult_3 for mult_3 in numbers if is_divisible_by_3(mult_3)]"
   ]
  },
  {
   "cell_type": "markdown",
   "metadata": {},
   "source": [
    "A second way is to use the built-in `filter()` function and pass there as first argument the function that will be used for filtering and as second argument the list that we are going to filter. The `filter()` function returns a sequence of values. For example:"
   ]
  },
  {
   "cell_type": "code",
   "execution_count": 92,
   "metadata": {},
   "outputs": [
    {
     "data": {
      "text/plain": [
       "[3, 6, 9]"
      ]
     },
     "execution_count": 92,
     "metadata": {},
     "output_type": "execute_result"
    }
   ],
   "source": [
    "list(filter(is_divisible_by_3, numbers))"
   ]
  },
  {
   "cell_type": "markdown",
   "metadata": {},
   "source": [
    "In English this means: go over each element of the `numbers` list and save the element if `is_divisible_by_3` evaluates to `True`, otherwise ignore it."
   ]
  },
  {
   "cell_type": "markdown",
   "metadata": {},
   "source": [
    "Another way is to use a lambda expression with the built-in `filter()` function:"
   ]
  },
  {
   "cell_type": "code",
   "execution_count": 93,
   "metadata": {},
   "outputs": [
    {
     "data": {
      "text/plain": [
       "[3, 6, 9]"
      ]
     },
     "execution_count": 93,
     "metadata": {},
     "output_type": "execute_result"
    }
   ],
   "source": [
    "list(filter(lambda num: num%3==0, numbers))"
   ]
  },
  {
   "cell_type": "markdown",
   "metadata": {},
   "source": [
    "As you can see, the first argument which was the function value is now substituted by the `lambda expression`. Here we specify what we want the program to do, but not how it should be executed. We do not determine any looping strategy for going over the list - we only specify the condition of filtering and the list that we want to filter, the rest is in the computer's hands. What happens is this: the `numbers` list is iterated once and each element is checked against the condition in the lambda expression, if the condition evaluates to `True` then that element is saved in the list, otherwise it is ignored."
   ]
  },
  {
   "cell_type": "markdown",
   "metadata": {},
   "source": [
    "### Map"
   ]
  },
  {
   "cell_type": "markdown",
   "metadata": {},
   "source": [
    "Similarly to the built-in `filter()` function is the `map()` function. It maps a sequence of values to another sequence of values. For example, if we want to create a list of the doubles of the `numbers` list from the previous section then we would write:"
   ]
  },
  {
   "cell_type": "code",
   "execution_count": 94,
   "metadata": {},
   "outputs": [
    {
     "data": {
      "text/plain": [
       "[2, 4, 6, 8, 10, 12, 14, 16, 18]"
      ]
     },
     "execution_count": 94,
     "metadata": {},
     "output_type": "execute_result"
    }
   ],
   "source": [
    "list(map(lambda x: x*2, numbers))"
   ]
  },
  {
   "cell_type": "markdown",
   "metadata": {},
   "source": [
    "Just like with the `filter()` function, it takes two arguments: a function or the equivalent lambda expression and a sequence of values. Then it applies the lambda expression to the sequence of values and everything is collected in a list."
   ]
  },
  {
   "cell_type": "markdown",
   "metadata": {},
   "source": [
    "It is possible to chain `filter()` and `map()` outputs and to produce a result. See {ref}`Exercises <ch4-exercises>`."
   ]
  }
 ],
 "metadata": {
  "kernelspec": {
   "display_name": "Python 3 (ipykernel)",
   "language": "python",
   "name": "python3"
  },
  "language_info": {
   "codemirror_mode": {
    "name": "ipython",
    "version": 3
   },
   "file_extension": ".py",
   "mimetype": "text/x-python",
   "name": "python",
   "nbconvert_exporter": "python",
   "pygments_lexer": "ipython3",
   "version": "3.7.12"
  },
  "vscode": {
   "interpreter": {
    "hash": "0c2f5c4fba51b93f19e499abfcc9ef4d6fee5bb503e49077d95162365c0a0cb3"
   }
  }
 },
 "nbformat": 4,
 "nbformat_minor": 4
}
