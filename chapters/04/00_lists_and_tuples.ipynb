{
 "cells": [
  {
   "cell_type": "markdown",
   "metadata": {},
   "source": [
    "# Lists and tuples"
   ]
  },
  {
   "cell_type": "markdown",
   "metadata": {},
   "source": [
    "Sometimes we do not have only a single value to deal with but a collection of values. We cannot hard code a single variable for each of the values as there are situations when we do not even know the number of values we would have to deal with. **Lists** and **tuples** are helpful in these situations because they allow us to enclose multiple values in the same variable. In the following chapter, we are going to explore these two data types."
   ]
  },
  {
   "cell_type": "markdown",
   "metadata": {},
   "source": [
    "```{admonition} Chapter Summary\n",
    "- Lists:\n",
    "    - number of elements in a list\n",
    "    - accessing elements of a list\n",
    "    - add/remove elements to/from a list\n",
    "    - list comprehensions\n",
    "    - sort lists\n",
    "    - search lists\n",
    "- Tuples:\n",
    "    - number of elements in a tuple\n",
    "    - accessing elements of a tuple\n",
    "    - add/remove elements to/from a tuple\n",
    "    - search lists\n",
    "    - counting elements in a tuple\n",
    "- Unpacking variables\n",
    "- **zip()** function\n",
    "- **del** statement\n",
    "- Passing lists/tuples to functions\n",
    "- 2D lists\n",
    "- Functional-style programming\n",
    "```"
   ]
  }
 ],
 "metadata": {
  "kernelspec": {
   "display_name": "Python 3 (ipykernel)",
   "language": "python",
   "name": "python3"
  },
  "language_info": {
   "codemirror_mode": {
    "name": "ipython",
    "version": 3
   },
   "file_extension": ".py",
   "mimetype": "text/x-python",
   "name": "python",
   "nbconvert_exporter": "python",
   "pygments_lexer": "ipython3",
   "version": "3.7.12"
  },
  "vscode": {
   "interpreter": {
    "hash": "0c2f5c4fba51b93f19e499abfcc9ef4d6fee5bb503e49077d95162365c0a0cb3"
   }
  }
 },
 "nbformat": 4,
 "nbformat_minor": 4
}
