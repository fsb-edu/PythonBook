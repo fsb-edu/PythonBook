{
 "cells": [
  {
   "cell_type": "markdown",
   "metadata": {},
   "source": [
    "# Readings: tuples"
   ]
  },
  {
   "cell_type": "markdown",
   "metadata": {},
   "source": [
    "## Tuples"
   ]
  },
  {
   "cell_type": "markdown",
   "metadata": {},
   "source": [
    "Tuples, just like lists, are sequences of values. However, unlike lists, they are **immutable**. This means that they cannot be modified during program execution: you cannot add or remove elements or modify any of the individual items (like integers, floats, etc). Just like lists, they can have heterogenous or homogenous data. Everything enclosed in parentheses () is a tuple. Also, tuples are ordered, this means that the items in the tuple have an order defined at the time they are created, which cannot change. Some examples of tuples:"
   ]
  },
  {
   "cell_type": "code",
   "execution_count": 1,
   "metadata": {
    "execution": {
     "iopub.execute_input": "2023-05-31T07:16:06.623806Z",
     "iopub.status.busy": "2023-05-31T07:16:06.621445Z",
     "iopub.status.idle": "2023-05-31T07:16:06.787176Z",
     "shell.execute_reply": "2023-05-31T07:16:06.785474Z",
     "shell.execute_reply.started": "2023-05-31T07:16:06.622073Z"
    }
   },
   "outputs": [
    {
     "data": {
      "text/plain": [
       "('kombucha', 'wine')"
      ]
     },
     "execution_count": 1,
     "metadata": {},
     "output_type": "execute_result"
    }
   ],
   "source": [
    "fermented_drinks = ('kombucha', 'wine')\n",
    "fermented_drinks"
   ]
  },
  {
   "cell_type": "markdown",
   "metadata": {},
   "source": [
    "Other examples of tuples:"
   ]
  },
  {
   "cell_type": "code",
   "execution_count": 2,
   "metadata": {
    "execution": {
     "iopub.execute_input": "2023-05-31T07:16:20.964157Z",
     "iopub.status.busy": "2023-05-31T07:16:20.963588Z",
     "iopub.status.idle": "2023-05-31T07:16:20.978906Z",
     "shell.execute_reply": "2023-05-31T07:16:20.977111Z",
     "shell.execute_reply.started": "2023-05-31T07:16:20.964110Z"
    }
   },
   "outputs": [
    {
     "name": "stdout",
     "output_type": "stream",
     "text": [
      "(1, 2, 3, 4, 5)\n",
      "(1, 'a', 2, 'b', 3, 'c')\n",
      "()\n",
      "(1,)\n"
     ]
    }
   ],
   "source": [
    "tuple_1 = (1,2,3,4,5)\n",
    "tuple_2 = (1, 'a', 2, 'b', 3, 'c')\n",
    "empty_tuple = ()\n",
    "singleton_tuple = (1, )\n",
    "\n",
    "print(tuple_1)\n",
    "print(tuple_2)\n",
    "print(empty_tuple)\n",
    "print(singleton_tuple)"
   ]
  },
  {
   "cell_type": "markdown",
   "metadata": {},
   "source": [
    "```{note}\n",
    "Notice the comma `(, )` after the singleton tuple. If we omitted it, then we would just have an integer and not a tuple anymore, although it would have been inside `()`. See the two exmaples below.\n",
    "```"
   ]
  },
  {
   "cell_type": "code",
   "execution_count": 3,
   "metadata": {
    "execution": {
     "iopub.execute_input": "2023-05-31T07:17:05.137789Z",
     "iopub.status.busy": "2023-05-31T07:17:05.136916Z",
     "iopub.status.idle": "2023-05-31T07:17:05.151846Z",
     "shell.execute_reply": "2023-05-31T07:17:05.149513Z",
     "shell.execute_reply.started": "2023-05-31T07:17:05.137715Z"
    }
   },
   "outputs": [],
   "source": [
    "a = (1) # no comma after the integer\n",
    "b = (1,)"
   ]
  },
  {
   "cell_type": "code",
   "execution_count": 5,
   "metadata": {
    "execution": {
     "iopub.execute_input": "2023-05-31T07:19:11.660022Z",
     "iopub.status.busy": "2023-05-31T07:19:11.659419Z",
     "iopub.status.idle": "2023-05-31T07:19:11.667580Z",
     "shell.execute_reply": "2023-05-31T07:19:11.666384Z",
     "shell.execute_reply.started": "2023-05-31T07:19:11.659973Z"
    },
    "tags": []
   },
   "outputs": [
    {
     "name": "stdout",
     "output_type": "stream",
     "text": [
      "The contents of \"a\" is 1 and its type is <class 'int'>\n",
      "The contents of \"b\" is (1,) and its type is <class 'tuple'>\n"
     ]
    }
   ],
   "source": [
    "print('The contents of \"a\" is', a, 'and its type is', type(a))\n",
    "print('The contents of \"b\" is', b, 'and its type is', type(b))"
   ]
  },
  {
   "cell_type": "markdown",
   "metadata": {},
   "source": [
    "We can also define a tuple without using parentheses:"
   ]
  },
  {
   "cell_type": "code",
   "execution_count": 6,
   "metadata": {
    "execution": {
     "iopub.execute_input": "2023-05-31T07:19:38.416468Z",
     "iopub.status.busy": "2023-05-31T07:19:38.415497Z",
     "iopub.status.idle": "2023-05-31T07:19:38.426687Z",
     "shell.execute_reply": "2023-05-31T07:19:38.425555Z",
     "shell.execute_reply.started": "2023-05-31T07:19:38.416407Z"
    }
   },
   "outputs": [
    {
     "data": {
      "text/plain": [
       "(1, 2, 3, 4, 5, 6)"
      ]
     },
     "execution_count": 6,
     "metadata": {},
     "output_type": "execute_result"
    }
   ],
   "source": [
    "tuple_3 = 1,2,3,4,5,6\n",
    "tuple_3"
   ]
  },
  {
   "cell_type": "markdown",
   "metadata": {},
   "source": [
    "### Number of elements in a tuple"
   ]
  },
  {
   "cell_type": "markdown",
   "metadata": {},
   "source": [
    "Just like with lists, we can use the `len()` function to find the number of elements in a tuple. For example:"
   ]
  },
  {
   "cell_type": "code",
   "execution_count": 7,
   "metadata": {
    "execution": {
     "iopub.execute_input": "2023-05-31T07:19:51.590359Z",
     "iopub.status.busy": "2023-05-31T07:19:51.589470Z",
     "iopub.status.idle": "2023-05-31T07:19:51.600071Z",
     "shell.execute_reply": "2023-05-31T07:19:51.598743Z",
     "shell.execute_reply.started": "2023-05-31T07:19:51.590306Z"
    }
   },
   "outputs": [
    {
     "data": {
      "text/plain": [
       "4"
      ]
     },
     "execution_count": 7,
     "metadata": {},
     "output_type": "execute_result"
    }
   ],
   "source": [
    "fermented_drinks = ('wine', 'beer', 'kefir', 'kombucha')\n",
    "len(fermented_drinks)"
   ]
  },
  {
   "cell_type": "markdown",
   "metadata": {},
   "source": [
    "(ch4-access-tuples-label)=\n",
    "### Accessing elements of a tuple"
   ]
  },
  {
   "cell_type": "markdown",
   "metadata": {},
   "source": [
    "Again, the same patterns used for accessing elements in a list can be used with tuples. Negative indexing holds here as well. All indices in Python are 0-based, so the index of the first element in a tuple is 0."
   ]
  },
  {
   "cell_type": "code",
   "execution_count": 8,
   "metadata": {
    "execution": {
     "iopub.execute_input": "2023-05-31T07:20:22.582243Z",
     "iopub.status.busy": "2023-05-31T07:20:22.580952Z",
     "iopub.status.idle": "2023-05-31T07:20:22.592357Z",
     "shell.execute_reply": "2023-05-31T07:20:22.591084Z",
     "shell.execute_reply.started": "2023-05-31T07:20:22.582103Z"
    }
   },
   "outputs": [
    {
     "data": {
      "text/plain": [
       "'beer'"
      ]
     },
     "execution_count": 8,
     "metadata": {},
     "output_type": "execute_result"
    }
   ],
   "source": [
    "fermented_drinks[1]"
   ]
  },
  {
   "cell_type": "markdown",
   "metadata": {},
   "source": [
    "The above code will print the element at position `1` of the tuple. We can select a range of values, as well, using slicing:"
   ]
  },
  {
   "cell_type": "code",
   "execution_count": 10,
   "metadata": {
    "execution": {
     "iopub.execute_input": "2023-05-31T07:21:38.451210Z",
     "iopub.status.busy": "2023-05-31T07:21:38.450848Z",
     "iopub.status.idle": "2023-05-31T07:21:38.457213Z",
     "shell.execute_reply": "2023-05-31T07:21:38.455955Z",
     "shell.execute_reply.started": "2023-05-31T07:21:38.451186Z"
    },
    "tags": []
   },
   "outputs": [
    {
     "name": "stdout",
     "output_type": "stream",
     "text": [
      "Fermented drinks at positions 1-3: ('beer', 'kefir', 'kombucha')\n",
      "Fermented drinks until position 4: ('wine', 'beer', 'kefir', 'kombucha')\n",
      "Fermented drinks from position 1 until the end: beer\n"
     ]
    }
   ],
   "source": [
    "print('Fermented drinks at positions 1-3:', fermented_drinks[1:4])\n",
    "print('Fermented drinks until position 4:', fermented_drinks[:4])\n",
    "print('Fermented drinks from position 1 until the end:', fermented_drinks[1])"
   ]
  },
  {
   "cell_type": "markdown",
   "metadata": {},
   "source": [
    "### Adding/Removing elements to/from a tuple"
   ]
  },
  {
   "cell_type": "markdown",
   "metadata": {},
   "source": [
    "````{margin}\n",
    "```{note}\n",
    "Each time an object is created in Python, it is assigned an `id` that does not change until the object is garbage collected. To retrieve this id we simply pass the object as an argument to  the `id()` function: `id(object_name)`.\n",
    "```\n",
    "````\n",
    "````{margin}\n",
    "```{note}\n",
    "**Garbage collection** is the process of freeing up memory from objects that are not referenced (i.e. used) anymore, so that it can be used during the execution of the program. It is like cleaning the memory from dirt.\n",
    "```\n",
    "````\n",
    "This is where the idea of tuples becoming immutable becomes evident. In the beginning of this section we emphasized the fact that tuples are **immutable** objects. This means that they cannot be modified. If this was not the case, then nothing would set them apart from lists. But what does this mean practically?\n",
    "Each time we add/remove an element in/from a tuple a new tuple would be created behind the scenes. We will use the `id()` function to confirm this."
   ]
  },
  {
   "cell_type": "markdown",
   "metadata": {},
   "source": [
    "(ch04-tuples-modifying-elements-label)=\n",
    "#### Modifying elements of a tuple"
   ]
  },
  {
   "cell_type": "markdown",
   "metadata": {},
   "source": [
    "Since tuples are **immutable** we cannot modify their elements, but we can modify elements of mutable objects that a tuple may contain. For example, we can modify elements of a list that a tuple may contain but we cannot substitute the whole list with a new one. For example:"
   ]
  },
  {
   "cell_type": "code",
   "execution_count": 51,
   "metadata": {},
   "outputs": [
    {
     "ename": "TypeError",
     "evalue": "'tuple' object does not support item assignment",
     "output_type": "error",
     "traceback": [
      "\u001b[1;31m---------------------------------------------------------------------------\u001b[0m",
      "\u001b[1;31mTypeError\u001b[0m                                 Traceback (most recent call last)",
      "\u001b[1;32m~\\AppData\\Local\\Temp\\ipykernel_19188\\2671686010.py\u001b[0m in \u001b[0;36m<module>\u001b[1;34m\u001b[0m\n\u001b[0;32m      1\u001b[0m \u001b[0mmixed_tuple\u001b[0m \u001b[1;33m=\u001b[0m \u001b[1;33m(\u001b[0m\u001b[1;36m1\u001b[0m\u001b[1;33m,\u001b[0m \u001b[1;34m'a'\u001b[0m\u001b[1;33m,\u001b[0m \u001b[1;33m[\u001b[0m\u001b[1;36m2\u001b[0m\u001b[1;33m,\u001b[0m \u001b[1;34m'c'\u001b[0m\u001b[1;33m,\u001b[0m \u001b[1;34m'd'\u001b[0m\u001b[1;33m]\u001b[0m\u001b[1;33m)\u001b[0m\u001b[1;33m\u001b[0m\u001b[1;33m\u001b[0m\u001b[0m\n\u001b[1;32m----> 2\u001b[1;33m \u001b[0mmixed_tuple\u001b[0m\u001b[1;33m[\u001b[0m\u001b[1;36m1\u001b[0m\u001b[1;33m]\u001b[0m \u001b[1;33m=\u001b[0m \u001b[1;36m3\u001b[0m\u001b[1;33m\u001b[0m\u001b[1;33m\u001b[0m\u001b[0m\n\u001b[0m",
      "\u001b[1;31mTypeError\u001b[0m: 'tuple' object does not support item assignment"
     ]
    }
   ],
   "source": [
    "mixed_tuple = (1, 'a', [2, 'c', 'd'])\n",
    "mixed_tuple[1] = 3"
   ]
  },
  {
   "cell_type": "markdown",
   "metadata": {},
   "source": [
    "The above piece of code gives a `TypeError` because we are trying to modify an item from the tuple. However, we can modify the list that is the third item in `mixed_tuple`:"
   ]
  },
  {
   "cell_type": "code",
   "execution_count": 52,
   "metadata": {},
   "outputs": [
    {
     "data": {
      "text/plain": [
       "(1, 'a', [3, 'c', 'd'])"
      ]
     },
     "execution_count": 52,
     "metadata": {},
     "output_type": "execute_result"
    }
   ],
   "source": [
    "mixed_tuple[2][0] = 3\n",
    "mixed_tuple"
   ]
  },
  {
   "cell_type": "markdown",
   "metadata": {},
   "source": [
    "In the code block above, we accessed the element at position 2 (i.e., the third item) of the tuple, which is a list. Next, we accessed the element at position 0 of this list and re-assigned this element from `2` to `3`. Since a list is mutable the operation was successful. Meanwhile if we try to substitute a list with another one, we are going to get a `TypeError` again since we are trying to modify an element of a tuple:"
   ]
  },
  {
   "cell_type": "code",
   "execution_count": 53,
   "metadata": {},
   "outputs": [
    {
     "ename": "TypeError",
     "evalue": "'tuple' object does not support item assignment",
     "output_type": "error",
     "traceback": [
      "\u001b[1;31m---------------------------------------------------------------------------\u001b[0m",
      "\u001b[1;31mTypeError\u001b[0m                                 Traceback (most recent call last)",
      "\u001b[1;32m~\\AppData\\Local\\Temp\\ipykernel_19188\\1303170592.py\u001b[0m in \u001b[0;36m<module>\u001b[1;34m\u001b[0m\n\u001b[1;32m----> 1\u001b[1;33m \u001b[0mmixed_tuple\u001b[0m\u001b[1;33m[\u001b[0m\u001b[1;36m2\u001b[0m\u001b[1;33m]\u001b[0m \u001b[1;33m=\u001b[0m \u001b[1;33m[\u001b[0m\u001b[1;36m1\u001b[0m\u001b[1;33m,\u001b[0m\u001b[1;36m2\u001b[0m\u001b[1;33m,\u001b[0m\u001b[1;36m3\u001b[0m\u001b[1;33m,\u001b[0m\u001b[1;36m4\u001b[0m\u001b[1;33m]\u001b[0m\u001b[1;33m\u001b[0m\u001b[1;33m\u001b[0m\u001b[0m\n\u001b[0m\u001b[0;32m      2\u001b[0m \u001b[0mmixed_tuple\u001b[0m\u001b[1;33m\u001b[0m\u001b[1;33m\u001b[0m\u001b[0m\n",
      "\u001b[1;31mTypeError\u001b[0m: 'tuple' object does not support item assignment"
     ]
    }
   ],
   "source": [
    "mixed_tuple[2] = [1,2,3,4]\n",
    "mixed_tuple"
   ]
  },
  {
   "cell_type": "markdown",
   "metadata": {},
   "source": [
    "````{margin}\n",
    "```{note}\n",
    "**Remainder**: `int`, `float` and `string` are immutable data types.\n",
    "```\n",
    "````\n",
    "To understand this better have a look at {numref}`modifying-tuples`:\n",
    "\n",
    "```{figure} ../../images/4_lists_and_tuples/modifying-tuple.jpg\n",
    ":alt: modifying_elements_of_a_tuple_illustration\n",
    ":name: modifying-tuples\n",
    ":class: ch5\n",
    ":align: center\n",
    "\n",
    "Modifying elements of a tuple\n",
    "```\n",
    "As you can see, changes cannot happen in the memory space of the tuple, but they can happen in the memory space of elements of a tuple that are *mutable*. Since the tuple stores only a pointer to the memory location of the list, from the tuple's perspective nothing changes with respect to the list as long as the memory address of the list remains the same. When we try to assign a different list to the tuple element at position 2, we are changing the pointer, since the new list will be in a different location from the existing one. This consists of making a change in the memory space of the tuple, thus it raises a `TypeError`."
   ]
  },
  {
   "cell_type": "markdown",
   "metadata": {},
   "source": [
    "#### Adding elements to a tuple"
   ]
  },
  {
   "cell_type": "code",
   "execution_count": 12,
   "metadata": {
    "execution": {
     "iopub.execute_input": "2023-05-31T07:33:50.832464Z",
     "iopub.status.busy": "2023-05-31T07:33:50.831752Z",
     "iopub.status.idle": "2023-05-31T07:33:50.841105Z",
     "shell.execute_reply": "2023-05-31T07:33:50.839994Z",
     "shell.execute_reply.started": "2023-05-31T07:33:50.832410Z"
    },
    "tags": []
   },
   "outputs": [
    {
     "name": "stdout",
     "output_type": "stream",
     "text": [
      "ID of numbers_1 before adding new elements: 140693547998192\n",
      "ID of numbers_1 after adding new elements: 140693541171392\n"
     ]
    }
   ],
   "source": [
    "numbers_1 = (1,2,3,4)\n",
    "print('ID of numbers_1 before adding new elements:', id(numbers_1))\n",
    "numbers_1 += (6,8)\n",
    "print('ID of numbers_1 after adding new elements:', id(numbers_1))"
   ]
  },
  {
   "cell_type": "markdown",
   "metadata": {},
   "source": [
    "````{margin}\n",
    "```{important}\n",
    "The same happens with `strings` when we try to modify them, a new `string` object is created.\n",
    "```\n",
    "````\n",
    "\n",
    "{numref}`adding-tuple-comprehension` illustrates what actually happens in memory when we try to add elements to a tuple.\n",
    "\n",
    "```{figure} ../../images/4_lists_and_tuples/adding_tuple_1.jpg\n",
    ":alt: adding_elements_to_a_tuple_illustration\n",
    ":name: adding-tuple-comprehension\n",
    ":class: ch5\n",
    ":align: center\n",
    "\n",
    "Adding elements to a tuple\n",
    "```"
   ]
  },
  {
   "cell_type": "markdown",
   "metadata": {},
   "source": [
    "As you can see, the ID has changed, although we are referring to the same variable `numbers_1`. This does not happen in any case for a `list`. For example:"
   ]
  },
  {
   "cell_type": "code",
   "execution_count": 13,
   "metadata": {
    "execution": {
     "iopub.execute_input": "2023-05-31T07:34:37.638818Z",
     "iopub.status.busy": "2023-05-31T07:34:37.638001Z",
     "iopub.status.idle": "2023-05-31T07:34:37.653803Z",
     "shell.execute_reply": "2023-05-31T07:34:37.652252Z",
     "shell.execute_reply.started": "2023-05-31T07:34:37.638689Z"
    }
   },
   "outputs": [
    {
     "name": "stdout",
     "output_type": "stream",
     "text": [
      "ID of numbers_list_1 before adding new elements: 140693548117440\n",
      "ID of numbers_list_1 after adding new elements: 140693548117440\n"
     ]
    }
   ],
   "source": [
    "numbers_list_1 = [1,2,3,4]\n",
    "print('ID of numbers_list_1 before adding new elements:', id(numbers_list_1))\n",
    "numbers_list_1 += (6,8) # adding a tuple to a list\n",
    "print('ID of numbers_list_1 after adding new elements:', id(numbers_list_1))"
   ]
  },
  {
   "cell_type": "markdown",
   "metadata": {},
   "source": [
    "As you can see, the ID has not changed."
   ]
  },
  {
   "cell_type": "markdown",
   "metadata": {},
   "source": [
    "#### Removing elements from a tuple"
   ]
  },
  {
   "cell_type": "markdown",
   "metadata": {},
   "source": [
    "To **remove** values from a tuple we first need to convert the tuple to a list. Then we can remove values using one of the ways explained in {ref}` Removing elements from a list <ch4-remove-elements-from-list-label>`. After that, we can convert the list back to a tuple. This will result in a new tuple being created. "
   ]
  },
  {
   "cell_type": "markdown",
   "metadata": {},
   "source": [
    "````{margin}\n",
    "```{hint}\n",
    "Note that even for adding elements to a tuple we can use a similar approach. We can convert the tuple to a list, add the new elements and then convert back to a tuple.\n",
    "```\n",
    "````"
   ]
  },
  {
   "cell_type": "code",
   "execution_count": 14,
   "metadata": {
    "execution": {
     "iopub.execute_input": "2023-05-31T07:35:46.475737Z",
     "iopub.status.busy": "2023-05-31T07:35:46.474806Z",
     "iopub.status.idle": "2023-05-31T07:35:46.494259Z",
     "shell.execute_reply": "2023-05-31T07:35:46.491823Z",
     "shell.execute_reply.started": "2023-05-31T07:35:46.475674Z"
    }
   },
   "outputs": [
    {
     "name": "stdout",
     "output_type": "stream",
     "text": [
      "Tuple at the beginning: (1, 2, 3, 4, 6, 8)\n",
      "ID of numbers_1 after adding new elements: 140693541171392\n",
      "Tuple after removing 8: (1, 2, 3, 4, 6)\n",
      "ID of numbers_1 after removing 8: 140693547995696\n"
     ]
    }
   ],
   "source": [
    "print('Tuple at the beginning:', numbers_1)\n",
    "print('ID of numbers_1 after adding new elements:', id(numbers_1))\n",
    "\n",
    "#convert tuple to list\n",
    "list_from_tuple = list(numbers_1)\n",
    "#remove element 8 from list\n",
    "list_from_tuple.remove(8)\n",
    "#convert list back to tuple\n",
    "numbers_1 = tuple(list_from_tuple)\n",
    "\n",
    "print('Tuple after removing 8:', numbers_1)\n",
    "print('ID of numbers_1 after removing 8:', id(numbers_1))"
   ]
  },
  {
   "cell_type": "markdown",
   "metadata": {},
   "source": [
    "Here the creation of the new tuple object is more evident since we are using the `tuple()` function to create a new tuple from a given list. You can confirm this by checking the changed IDs. In memory, the process is similar to what is depicted in {numref}`adding-tuple-comprehension`, except that now we copy only the elements that we need."
   ]
  },
  {
   "cell_type": "markdown",
   "metadata": {},
   "source": [
    "### Searching tuples"
   ]
  },
  {
   "cell_type": "markdown",
   "metadata": {},
   "source": [
    "There is also an `index()` method for searching for specific elements in tuples. Just like in the case of lists, it will return the index of the first occurrence of the element passed as an argument to the method or `ValueError` if the value we are searching for is not in the tuple."
   ]
  },
  {
   "cell_type": "code",
   "execution_count": 15,
   "metadata": {
    "execution": {
     "iopub.execute_input": "2023-05-31T07:37:03.012812Z",
     "iopub.status.busy": "2023-05-31T07:37:03.012118Z",
     "iopub.status.idle": "2023-05-31T07:37:03.023926Z",
     "shell.execute_reply": "2023-05-31T07:37:03.022409Z",
     "shell.execute_reply.started": "2023-05-31T07:37:03.012753Z"
    }
   },
   "outputs": [
    {
     "data": {
      "text/plain": [
       "1"
      ]
     },
     "execution_count": 15,
     "metadata": {},
     "output_type": "execute_result"
    }
   ],
   "source": [
    "numbers_1.index(2)"
   ]
  },
  {
   "cell_type": "code",
   "execution_count": 16,
   "metadata": {
    "execution": {
     "iopub.execute_input": "2023-05-31T07:37:11.278080Z",
     "iopub.status.busy": "2023-05-31T07:37:11.277114Z",
     "iopub.status.idle": "2023-05-31T07:37:11.832614Z",
     "shell.execute_reply": "2023-05-31T07:37:11.831050Z",
     "shell.execute_reply.started": "2023-05-31T07:37:11.278004Z"
    }
   },
   "outputs": [
    {
     "ename": "ValueError",
     "evalue": "tuple.index(x): x not in tuple",
     "output_type": "error",
     "traceback": [
      "\u001b[0;31m---------------------------------------------------------------------------\u001b[0m",
      "\u001b[0;31mValueError\u001b[0m                                Traceback (most recent call last)",
      "\u001b[0;32m/var/folders/7f/7nw_x13n5q965rss_qz6061m0000gq/T/ipykernel_47389/3137910176.py\u001b[0m in \u001b[0;36m<module>\u001b[0;34m\u001b[0m\n\u001b[0;32m----> 1\u001b[0;31m \u001b[0mnumbers_1\u001b[0m\u001b[0;34m.\u001b[0m\u001b[0mindex\u001b[0m\u001b[0;34m(\u001b[0m\u001b[0;36m100\u001b[0m\u001b[0;34m)\u001b[0m \u001b[0;31m# 100 is not present in the tuple\u001b[0m\u001b[0;34m\u001b[0m\u001b[0;34m\u001b[0m\u001b[0m\n\u001b[0m",
      "\u001b[0;31mValueError\u001b[0m: tuple.index(x): x not in tuple"
     ]
    }
   ],
   "source": [
    "numbers_1.index(100) # 100 is not present in the tuple"
   ]
  },
  {
   "cell_type": "markdown",
   "metadata": {},
   "source": [
    "### Counting elements in tuples"
   ]
  },
  {
   "cell_type": "markdown",
   "metadata": {},
   "source": [
    "By using the `count()` method we can find the number of occurrences of the elements passed as an argument to the method. For example:\n",
    "\n",
    "````{margin}\n",
    "```{note}\n",
    "The `count()` method can be applied to lists as well, to serve the same purpose.\n",
    "```\n",
    "````"
   ]
  },
  {
   "cell_type": "code",
   "execution_count": 18,
   "metadata": {
    "execution": {
     "iopub.execute_input": "2023-05-31T07:37:48.931933Z",
     "iopub.status.busy": "2023-05-31T07:37:48.931308Z",
     "iopub.status.idle": "2023-05-31T07:37:48.941320Z",
     "shell.execute_reply": "2023-05-31T07:37:48.939942Z",
     "shell.execute_reply.started": "2023-05-31T07:37:48.931893Z"
    },
    "tags": []
   },
   "outputs": [
    {
     "data": {
      "text/plain": [
       "1"
      ]
     },
     "execution_count": 18,
     "metadata": {},
     "output_type": "execute_result"
    }
   ],
   "source": [
    "numbers_1.count(6)"
   ]
  },
  {
   "cell_type": "markdown",
   "metadata": {},
   "source": [
    "Next on, we will see some methods and functions that apply to both lists and tuples."
   ]
  }
 ],
 "metadata": {
  "kernelspec": {
   "display_name": "Python 3 (ipykernel)",
   "language": "python",
   "name": "python3"
  },
  "language_info": {
   "codemirror_mode": {
    "name": "ipython",
    "version": 3
   },
   "file_extension": ".py",
   "mimetype": "text/x-python",
   "name": "python",
   "nbconvert_exporter": "python",
   "pygments_lexer": "ipython3",
   "version": "3.8.16"
  },
  "vscode": {
   "interpreter": {
    "hash": "0c2f5c4fba51b93f19e499abfcc9ef4d6fee5bb503e49077d95162365c0a0cb3"
   }
  }
 },
 "nbformat": 4,
 "nbformat_minor": 4
}
