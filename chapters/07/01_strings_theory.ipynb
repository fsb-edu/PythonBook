{
 "cells": [
  {
   "cell_type": "markdown",
   "metadata": {},
   "source": [
    "# Readings"
   ]
  },
  {
   "cell_type": "markdown",
   "metadata": {},
   "source": [
    "## What are strings?"
   ]
  },
  {
   "cell_type": "markdown",
   "metadata": {},
   "source": [
    "````{margin}\n",
    "```{note}\n",
    "Strings are lists of letters and are immutable.\n",
    "```\n",
    "````\n",
    "We have used strings extensively throughout this books but now is finally the time to introduce them more formally and thoroughly. Strings are one of the most important built-in data-types in Python. They stand somewhere in between lists and tuples. They are similar to tuples because they are **immutable**, while they are similar to lists because they can be viewed as a **list of letters**."
   ]
  },
  {
   "cell_type": "markdown",
   "metadata": {},
   "source": [
    "## Formatting string outputs"
   ]
  },
  {
   "cell_type": "markdown",
   "metadata": {},
   "source": [
    "### Format specification"
   ]
  },
  {
   "cell_type": "markdown",
   "metadata": {},
   "source": [
    "Previously, we have seen strings of the form `f'{...}'`. These are called *formatted strings* or *f-strings* and hold placeholders inside the `{}` part, so that their values can be formatted according to users specifications. One usage example would be:"
   ]
  },
  {
   "cell_type": "code",
   "execution_count": 1,
   "metadata": {
    "execution": {
     "iopub.execute_input": "2023-05-31T10:50:56.688427Z",
     "iopub.status.busy": "2023-05-31T10:50:56.687836Z",
     "iopub.status.idle": "2023-05-31T10:50:56.701967Z",
     "shell.execute_reply": "2023-05-31T10:50:56.700913Z",
     "shell.execute_reply.started": "2023-05-31T10:50:56.688398Z"
    }
   },
   "outputs": [
    {
     "data": {
      "text/plain": [
       "'10'"
      ]
     },
     "execution_count": 1,
     "metadata": {},
     "output_type": "execute_result"
    }
   ],
   "source": [
    "f'{10:d}'"
   ]
  },
  {
   "cell_type": "markdown",
   "metadata": {},
   "source": [
    "This code formats the integer value 10 as a string. `d` is the **presentation type** of an integer. It tells the *underlying function* that the value that should be formatted as a string (which in our case is an 10), is an integer. After running the code, you can see that `10` is not anymore an integer, but a string since it has the `''` around the value. We can also check with the `type()` function."
   ]
  },
  {
   "cell_type": "code",
   "execution_count": 2,
   "metadata": {
    "execution": {
     "iopub.execute_input": "2023-05-31T10:50:57.725418Z",
     "iopub.status.busy": "2023-05-31T10:50:57.724261Z",
     "iopub.status.idle": "2023-05-31T10:50:57.734018Z",
     "shell.execute_reply": "2023-05-31T10:50:57.733014Z",
     "shell.execute_reply.started": "2023-05-31T10:50:57.725373Z"
    }
   },
   "outputs": [
    {
     "data": {
      "text/plain": [
       "str"
      ]
     },
     "execution_count": 2,
     "metadata": {},
     "output_type": "execute_result"
    }
   ],
   "source": [
    "type(f'{10:d}')"
   ]
  },
  {
   "cell_type": "markdown",
   "metadata": {},
   "source": [
    "In {numref}`presentation-types-table`, you will find some of the data types and their corresponding presentation types for string formatting.\n",
    "\n",
    "```{list-table} Presentation types\n",
    ":header-rows: 1\n",
    ":name: presentation-types-table\n",
    "\n",
    "* - Variable Type\n",
    "  - Presentation Type\n",
    "* - integer\n",
    "  - `d`\n",
    "* - float\n",
    "  - `f`\n",
    "* - string\n",
    "  - `s`\n",
    "* - character\n",
    "  - `c`\n",
    "```"
   ]
  },
  {
   "cell_type": "markdown",
   "metadata": {},
   "source": [
    "Below we will look at some usage examples for them:"
   ]
  },
  {
   "cell_type": "code",
   "execution_count": 3,
   "metadata": {
    "execution": {
     "iopub.execute_input": "2023-05-31T10:51:39.851441Z",
     "iopub.status.busy": "2023-05-31T10:51:39.850992Z",
     "iopub.status.idle": "2023-05-31T10:51:39.858613Z",
     "shell.execute_reply": "2023-05-31T10:51:39.857679Z",
     "shell.execute_reply.started": "2023-05-31T10:51:39.851401Z"
    }
   },
   "outputs": [
    {
     "data": {
      "text/plain": [
       "'2.59'"
      ]
     },
     "execution_count": 3,
     "metadata": {},
     "output_type": "execute_result"
    }
   ],
   "source": [
    "f'{2.589:.2f}'"
   ]
  },
  {
   "cell_type": "markdown",
   "metadata": {},
   "source": [
    "As you can see, the format specification gives us the possibility to not only represent floating-point values as strings but at the same time to print them rounded. In this case, the `.2` before the presentation type indicates that we want the value to be rounded to `2` decimal points, while `f` says that the value to be printed as a string will be a float."
   ]
  },
  {
   "cell_type": "markdown",
   "metadata": {},
   "source": [
    "Another interesting example would be the usage of format specification with characters:"
   ]
  },
  {
   "cell_type": "code",
   "execution_count": 4,
   "metadata": {
    "execution": {
     "iopub.execute_input": "2023-05-31T10:51:43.197384Z",
     "iopub.status.busy": "2023-05-31T10:51:43.196794Z",
     "iopub.status.idle": "2023-05-31T10:51:43.207056Z",
     "shell.execute_reply": "2023-05-31T10:51:43.205368Z",
     "shell.execute_reply.started": "2023-05-31T10:51:43.197337Z"
    }
   },
   "outputs": [
    {
     "data": {
      "text/plain": [
       "'C'"
      ]
     },
     "execution_count": 4,
     "metadata": {},
     "output_type": "execute_result"
    }
   ],
   "source": [
    "f'{67:c}'"
   ]
  },
  {
   "cell_type": "markdown",
   "metadata": {},
   "source": [
    "````{margin}\n",
    "```{note}\n",
    "Python provides the `ord()` function to check the underlying numeric value of a character. You can pass the character to it and it will show the corresponding ASCII value.\n",
    "```\n",
    "````\n",
    "In this example, we print the uppercase letter `C`, by using its corresponding ASCII code. You can find more information on ASCII codes [here](https://www.ascii-code.com/), but they are essentially the numbers that the computer uses for understanding characters. In this example, `c` tells the interpreter that it should print the character version of the number `67`. Then the interpreter will use the ASCII table to convert it to the letter C, that is printed as string in the end."
   ]
  },
  {
   "cell_type": "markdown",
   "metadata": {},
   "source": [
    "### Spacing and alignment"
   ]
  },
  {
   "cell_type": "markdown",
   "metadata": {},
   "source": [
    "By default, Python aligns numbers to the right of the printing space and other data-types to the left. "
   ]
  },
  {
   "cell_type": "code",
   "execution_count": 5,
   "metadata": {
    "execution": {
     "iopub.execute_input": "2023-05-31T10:52:19.538248Z",
     "iopub.status.busy": "2023-05-31T10:52:19.537777Z",
     "iopub.status.idle": "2023-05-31T10:52:19.554425Z",
     "shell.execute_reply": "2023-05-31T10:52:19.549936Z",
     "shell.execute_reply.started": "2023-05-31T10:52:19.538200Z"
    }
   },
   "outputs": [
    {
     "data": {
      "text/plain": [
       "'   10'"
      ]
     },
     "execution_count": 5,
     "metadata": {},
     "output_type": "execute_result"
    }
   ],
   "source": [
    "f'{10:5d}'"
   ]
  },
  {
   "cell_type": "markdown",
   "metadata": {},
   "source": [
    "As you can see above, value `10` is right-aligned in a printing space of 5, which means that before it has 3 space characters (try selecting after `'` and before `10`). Number `5` after the colon `:`, tells the interpreter to use a printing space of 5 characters. Since by default numbers are right aligned in Python, number 10 will be printed in the place of the last 2 spaces, hence the reason of the 3 spaces in front of 10."
   ]
  },
  {
   "cell_type": "markdown",
   "metadata": {},
   "source": [
    "````{margin}\n",
    "```{important}\n",
    "In case a string needs to be enclosed inside a string, e.g `f'{\"Food Science\":15s}'`, the inner quotes have to be double and outer ones single, or vice-versa, otherwise we will get an error.\n",
    "```\n",
    "````\n",
    "Strings on the other hand are left-aligned:"
   ]
  },
  {
   "cell_type": "code",
   "execution_count": 6,
   "metadata": {
    "execution": {
     "iopub.execute_input": "2023-05-31T10:53:28.957141Z",
     "iopub.status.busy": "2023-05-31T10:53:28.956624Z",
     "iopub.status.idle": "2023-05-31T10:53:28.964918Z",
     "shell.execute_reply": "2023-05-31T10:53:28.963371Z",
     "shell.execute_reply.started": "2023-05-31T10:53:28.957096Z"
    }
   },
   "outputs": [
    {
     "data": {
      "text/plain": [
       "'Food Science   '"
      ]
     },
     "execution_count": 6,
     "metadata": {},
     "output_type": "execute_result"
    }
   ],
   "source": [
    "f'{\"Food Science\":15s}'"
   ]
  },
  {
   "cell_type": "markdown",
   "metadata": {},
   "source": [
    "As you can see, `Food Science` is in the left of the printing field and is trailed by 3 spaces (15-12=3)."
   ]
  },
  {
   "cell_type": "markdown",
   "metadata": {},
   "source": [
    "In case we want to print data-types different from what the default alignment implies, then we can use `<` (left-alignment), `>` (right-alignment) and `^` (justified-text). These signes are put just after the colon (:)."
   ]
  },
  {
   "cell_type": "code",
   "execution_count": 7,
   "metadata": {
    "execution": {
     "iopub.execute_input": "2023-05-31T10:53:52.616280Z",
     "iopub.status.busy": "2023-05-31T10:53:52.615489Z",
     "iopub.status.idle": "2023-05-31T10:53:52.622612Z",
     "shell.execute_reply": "2023-05-31T10:53:52.621545Z",
     "shell.execute_reply.started": "2023-05-31T10:53:52.616236Z"
    }
   },
   "outputs": [
    {
     "data": {
      "text/plain": [
       "'10   '"
      ]
     },
     "execution_count": 7,
     "metadata": {},
     "output_type": "execute_result"
    }
   ],
   "source": [
    "f'{10:<5d}' "
   ]
  },
  {
   "cell_type": "code",
   "execution_count": 8,
   "metadata": {
    "execution": {
     "iopub.execute_input": "2023-05-31T10:53:54.075736Z",
     "iopub.status.busy": "2023-05-31T10:53:54.075226Z",
     "iopub.status.idle": "2023-05-31T10:53:54.084898Z",
     "shell.execute_reply": "2023-05-31T10:53:54.083523Z",
     "shell.execute_reply.started": "2023-05-31T10:53:54.075691Z"
    }
   },
   "outputs": [
    {
     "data": {
      "text/plain": [
       "'   Food Science'"
      ]
     },
     "execution_count": 8,
     "metadata": {},
     "output_type": "execute_result"
    }
   ],
   "source": [
    "f'{\"Food Science\":>15s}'"
   ]
  },
  {
   "cell_type": "code",
   "execution_count": 9,
   "metadata": {
    "execution": {
     "iopub.execute_input": "2023-05-31T10:53:55.560155Z",
     "iopub.status.busy": "2023-05-31T10:53:55.559570Z",
     "iopub.status.idle": "2023-05-31T10:53:55.575611Z",
     "shell.execute_reply": "2023-05-31T10:53:55.574373Z",
     "shell.execute_reply.started": "2023-05-31T10:53:55.560109Z"
    }
   },
   "outputs": [
    {
     "data": {
      "text/plain": [
       "' 10  '"
      ]
     },
     "execution_count": 9,
     "metadata": {},
     "output_type": "execute_result"
    }
   ],
   "source": [
    "f'{10:^5d}'"
   ]
  },
  {
   "cell_type": "markdown",
   "metadata": {},
   "source": [
    "### Further number formatting options"
   ]
  },
  {
   "cell_type": "markdown",
   "metadata": {},
   "source": [
    "If we would like to explicitly put a positive sign to a number, then we can do so by adding the plus (`+`) sign after the `:`."
   ]
  },
  {
   "cell_type": "code",
   "execution_count": 10,
   "metadata": {
    "execution": {
     "iopub.execute_input": "2023-05-31T10:54:15.108467Z",
     "iopub.status.busy": "2023-05-31T10:54:15.107821Z",
     "iopub.status.idle": "2023-05-31T10:54:15.119581Z",
     "shell.execute_reply": "2023-05-31T10:54:15.116781Z",
     "shell.execute_reply.started": "2023-05-31T10:54:15.108431Z"
    }
   },
   "outputs": [
    {
     "data": {
      "text/plain": [
       "'  +10'"
      ]
     },
     "execution_count": 10,
     "metadata": {},
     "output_type": "execute_result"
    }
   ],
   "source": [
    "f'{10:+5d}' "
   ]
  },
  {
   "cell_type": "markdown",
   "metadata": {},
   "source": [
    "For negative numbers, the sign goes directly to the number:"
   ]
  },
  {
   "cell_type": "code",
   "execution_count": 12,
   "metadata": {
    "execution": {
     "iopub.execute_input": "2023-05-31T12:41:27.764190Z",
     "iopub.status.busy": "2023-05-31T12:41:27.763635Z",
     "iopub.status.idle": "2023-05-31T12:41:27.773006Z",
     "shell.execute_reply": "2023-05-31T12:41:27.770931Z",
     "shell.execute_reply.started": "2023-05-31T12:41:27.764143Z"
    },
    "tags": []
   },
   "outputs": [
    {
     "data": {
      "text/plain": [
       "'  -10'"
      ]
     },
     "execution_count": 12,
     "metadata": {},
     "output_type": "execute_result"
    }
   ],
   "source": [
    "f'{-10:5d}' "
   ]
  },
  {
   "cell_type": "markdown",
   "metadata": {},
   "source": [
    "In addition, for positive numbers, if we add a space where the plus sign would appear (unless we want the plus sign) then they will easily be aligned with negative ones:"
   ]
  },
  {
   "cell_type": "code",
   "execution_count": 13,
   "metadata": {
    "execution": {
     "iopub.execute_input": "2023-05-31T12:41:45.405724Z",
     "iopub.status.busy": "2023-05-31T12:41:45.405304Z",
     "iopub.status.idle": "2023-05-31T12:41:45.416335Z",
     "shell.execute_reply": "2023-05-31T12:41:45.413427Z",
     "shell.execute_reply.started": "2023-05-31T12:41:45.405677Z"
    }
   },
   "outputs": [
    {
     "name": "stdout",
     "output_type": "stream",
     "text": [
      "   10\n",
      "  -10\n"
     ]
    }
   ],
   "source": [
    "print(f'{10: 5d}' )\n",
    "print(f'{-10:5d}') "
   ]
  },
  {
   "cell_type": "markdown",
   "metadata": {},
   "source": [
    "Something useful is the usage of *the thousands separator or comma (,)* when dealing with big numbers (notice, how you can also use the \"_\" sign to type out the number in an easier way):"
   ]
  },
  {
   "cell_type": "code",
   "execution_count": 16,
   "metadata": {
    "execution": {
     "iopub.execute_input": "2023-05-31T12:42:53.109754Z",
     "iopub.status.busy": "2023-05-31T12:42:53.109371Z",
     "iopub.status.idle": "2023-05-31T12:42:53.114498Z",
     "shell.execute_reply": "2023-05-31T12:42:53.113488Z",
     "shell.execute_reply.started": "2023-05-31T12:42:53.109717Z"
    },
    "tags": []
   },
   "outputs": [
    {
     "name": "stdout",
     "output_type": "stream",
     "text": [
      " 1,000,000,000.00\n"
     ]
    }
   ],
   "source": [
    "print(f'{1_000_000_000: ,.2f}' )"
   ]
  },
  {
   "cell_type": "markdown",
   "metadata": {},
   "source": [
    "As you can see, the above code rounds the number to 2 decimal places and at the same time adds the thousands separator every 3 digits starting from the right to the left of the integer that will be formatted."
   ]
  },
  {
   "cell_type": "markdown",
   "metadata": {},
   "source": [
    "### `format()` method"
   ]
  },
  {
   "cell_type": "markdown",
   "metadata": {},
   "source": [
    "All of the above can be achieved using the `format()` method as well, although nowadays the formatted-string `f{...}` syntax is preferred. "
   ]
  },
  {
   "cell_type": "code",
   "execution_count": 17,
   "metadata": {
    "execution": {
     "iopub.execute_input": "2023-05-31T12:43:12.161669Z",
     "iopub.status.busy": "2023-05-31T12:43:12.160635Z",
     "iopub.status.idle": "2023-05-31T12:43:12.170399Z",
     "shell.execute_reply": "2023-05-31T12:43:12.169399Z",
     "shell.execute_reply.started": "2023-05-31T12:43:12.161612Z"
    }
   },
   "outputs": [
    {
     "data": {
      "text/plain": [
       "'12.46'"
      ]
     },
     "execution_count": 17,
     "metadata": {},
     "output_type": "execute_result"
    }
   ],
   "source": [
    "'{:.2f}'.format(12.45778)"
   ]
  },
  {
   "cell_type": "markdown",
   "metadata": {},
   "source": [
    "This is equivalent to previously writing:"
   ]
  },
  {
   "cell_type": "code",
   "execution_count": 18,
   "metadata": {
    "execution": {
     "iopub.execute_input": "2023-05-31T12:43:15.880675Z",
     "iopub.status.busy": "2023-05-31T12:43:15.880132Z",
     "iopub.status.idle": "2023-05-31T12:43:15.888778Z",
     "shell.execute_reply": "2023-05-31T12:43:15.887426Z",
     "shell.execute_reply.started": "2023-05-31T12:43:15.880629Z"
    }
   },
   "outputs": [
    {
     "data": {
      "text/plain": [
       "'12.46'"
      ]
     },
     "execution_count": 18,
     "metadata": {},
     "output_type": "execute_result"
    }
   ],
   "source": [
    "f'{12.45778:.2f}'"
   ]
  },
  {
   "cell_type": "markdown",
   "metadata": {},
   "source": [
    "We can also use multiple placeholders with the `format()` method. Each placeholder will correspond to the arguments passed to the `format()` method from left to right."
   ]
  },
  {
   "cell_type": "code",
   "execution_count": 19,
   "metadata": {
    "execution": {
     "iopub.execute_input": "2023-05-31T12:43:28.123669Z",
     "iopub.status.busy": "2023-05-31T12:43:28.123121Z",
     "iopub.status.idle": "2023-05-31T12:43:28.132854Z",
     "shell.execute_reply": "2023-05-31T12:43:28.131779Z",
     "shell.execute_reply.started": "2023-05-31T12:43:28.123624Z"
    }
   },
   "outputs": [
    {
     "data": {
      "text/plain": [
       "'12.46, 14.66'"
      ]
     },
     "execution_count": 19,
     "metadata": {},
     "output_type": "execute_result"
    }
   ],
   "source": [
    "'{0:.2f}, {1:.2f}'.format(12.45778, 14.6587)"
   ]
  },
  {
   "cell_type": "markdown",
   "metadata": {},
   "source": [
    "`0` before the `:` specifies that we are referencing the first argument passed to the `format()` method, while `1` that we are referencing the second argument."
   ]
  },
  {
   "cell_type": "markdown",
   "metadata": {},
   "source": [
    "In addition, we can specify even keyword placeholders:"
   ]
  },
  {
   "cell_type": "code",
   "execution_count": 20,
   "metadata": {
    "execution": {
     "iopub.execute_input": "2023-05-31T12:43:36.463392Z",
     "iopub.status.busy": "2023-05-31T12:43:36.462864Z",
     "iopub.status.idle": "2023-05-31T12:43:36.472922Z",
     "shell.execute_reply": "2023-05-31T12:43:36.471700Z",
     "shell.execute_reply.started": "2023-05-31T12:43:36.463347Z"
    }
   },
   "outputs": [
    {
     "data": {
      "text/plain": [
       "'28, John'"
      ]
     },
     "execution_count": 20,
     "metadata": {},
     "output_type": "execute_result"
    }
   ],
   "source": [
    "'{age:d}, {name}'.format(age=28, name='John')"
   ]
  },
  {
   "cell_type": "markdown",
   "metadata": {},
   "source": [
    "### Escape characters"
   ]
  },
  {
   "cell_type": "markdown",
   "metadata": {},
   "source": [
    "Escape characters are preceded by a backslash character (`\\`). They usually include characters that will cause an error in  a string literal such as double quotes inside double quotes, backslash itself, etc. Escape characters can be used to adjust white spaces in strings as well. For example, to add a new line we can use `\\n` or to add a tab space `\\t`. In {numref}`escape-characters-table`, you will find some of the escape characters and a description of their functionality:.\n",
    "\n",
    "```{list-table} Presentation types\n",
    ":header-rows: 1\n",
    ":name: escape-characters-table\n",
    "\n",
    "* - Escape Character\n",
    "  - Description\n",
    "* - `\\n`\n",
    "  - add a new line, the text that comes after it will be added in a new line\n",
    "* - `\\t`\n",
    "  - add a tab separator\n",
    "* - `\\\\`\n",
    "  - the backslash will be printed in the string\n",
    "* - `\\\"`\n",
    "  - the double quote will be printed together with the string, even if it is enclosed in double quotes\n",
    "* - `\\'`\n",
    "  - the single quote will be printed together with the string, even if it is enclosed in single quotes\n",
    "```\n",
    "Let us look at some usage examples below:"
   ]
  },
  {
   "cell_type": "code",
   "execution_count": 21,
   "metadata": {
    "execution": {
     "iopub.execute_input": "2023-05-31T12:44:47.680007Z",
     "iopub.status.busy": "2023-05-31T12:44:47.679649Z",
     "iopub.status.idle": "2023-05-31T12:44:47.693020Z",
     "shell.execute_reply": "2023-05-31T12:44:47.689543Z",
     "shell.execute_reply.started": "2023-05-31T12:44:47.679981Z"
    }
   },
   "outputs": [
    {
     "ename": "SyntaxError",
     "evalue": "invalid syntax (4283870187.py, line 1)",
     "output_type": "error",
     "traceback": [
      "\u001b[0;36m  File \u001b[0;32m\"/var/folders/7f/7nw_x13n5q965rss_qz6061m0000gq/T/ipykernel_67164/4283870187.py\"\u001b[0;36m, line \u001b[0;32m1\u001b[0m\n\u001b[0;31m    print('Welcome to 'Food Science'!')\u001b[0m\n\u001b[0m                          ^\u001b[0m\n\u001b[0;31mSyntaxError\u001b[0m\u001b[0;31m:\u001b[0m invalid syntax\n"
     ]
    }
   ],
   "source": [
    "print('Welcome to 'Food Science'!')"
   ]
  },
  {
   "cell_type": "markdown",
   "metadata": {},
   "source": [
    "The above code throws a `SyntaxError` because we are enclosing some text in a string with single quotes, when the string itself is enclosed in single quotes. To circumvent this, we must escape the single quotes with the `\\` character. As a result, the single quotes will be printed as well.\n",
    "\n",
    "````{margin}\n",
    "```{tip}\n",
    "Another way to avoid this error and have the same results is by simply enclosing the whole string in double quotes (`\"`).\n",
    "```\n",
    "````"
   ]
  },
  {
   "cell_type": "code",
   "execution_count": 2,
   "metadata": {},
   "outputs": [
    {
     "name": "stdout",
     "output_type": "stream",
     "text": [
      "Welcome to 'Food Science'!\n"
     ]
    }
   ],
   "source": [
    "print('Welcome to \\'Food Science\\'!')"
   ]
  },
  {
   "cell_type": "markdown",
   "metadata": {},
   "source": [
    "An example of the tab and new line escape characters would be:"
   ]
  },
  {
   "cell_type": "code",
   "execution_count": 5,
   "metadata": {},
   "outputs": [
    {
     "name": "stdout",
     "output_type": "stream",
     "text": [
      "Welcome \t to \n",
      " Food Science!\n"
     ]
    }
   ],
   "source": [
    "print('Welcome \\t to \\n Food Science!')"
   ]
  },
  {
   "cell_type": "markdown",
   "metadata": {},
   "source": [
    "As you can see, multiple spaces (equivalent to a tab space) where added after *welcome* and and after *to* a newline was added."
   ]
  },
  {
   "cell_type": "markdown",
   "metadata": {},
   "source": [
    "## Substrings"
   ]
  },
  {
   "cell_type": "markdown",
   "metadata": {},
   "source": [
    "Substrings are part of a strings. More precisely, a substring is formed by some consecutive letters of a string. E.g: if `'hello'` is the string, then some of the substrings would be `'he', 'h', 'hel', 'ello'`, etc."
   ]
  },
  {
   "cell_type": "markdown",
   "metadata": {},
   "source": [
    "### Searching for substrings"
   ]
  },
  {
   "cell_type": "markdown",
   "metadata": {},
   "source": [
    "#### `in` operator"
   ]
  },
  {
   "cell_type": "markdown",
   "metadata": {},
   "source": [
    "We can use the `in` operator to search for a substring in a string:"
   ]
  },
  {
   "cell_type": "code",
   "execution_count": 22,
   "metadata": {
    "execution": {
     "iopub.execute_input": "2023-05-31T12:46:26.433754Z",
     "iopub.status.busy": "2023-05-31T12:46:26.433091Z",
     "iopub.status.idle": "2023-05-31T12:46:26.444078Z",
     "shell.execute_reply": "2023-05-31T12:46:26.442318Z",
     "shell.execute_reply.started": "2023-05-31T12:46:26.433701Z"
    }
   },
   "outputs": [
    {
     "data": {
      "text/plain": [
       "True"
      ]
     },
     "execution_count": 22,
     "metadata": {},
     "output_type": "execute_result"
    }
   ],
   "source": [
    "food_science_message = 'Welcome to Food Science!'\n",
    "'Food' in food_science_message"
   ]
  },
  {
   "cell_type": "markdown",
   "metadata": {},
   "source": [
    "#### `startswith()` and `endswith()`"
   ]
  },
  {
   "cell_type": "markdown",
   "metadata": {},
   "source": [
    "In order to check if a string starts with a specific substring we can use the `startswith()` method:"
   ]
  },
  {
   "cell_type": "code",
   "execution_count": 23,
   "metadata": {
    "execution": {
     "iopub.execute_input": "2023-05-31T12:46:44.048232Z",
     "iopub.status.busy": "2023-05-31T12:46:44.047258Z",
     "iopub.status.idle": "2023-05-31T12:46:44.060190Z",
     "shell.execute_reply": "2023-05-31T12:46:44.058629Z",
     "shell.execute_reply.started": "2023-05-31T12:46:44.048183Z"
    }
   },
   "outputs": [
    {
     "data": {
      "text/plain": [
       "False"
      ]
     },
     "execution_count": 23,
     "metadata": {},
     "output_type": "execute_result"
    }
   ],
   "source": [
    "food_science_message.startswith('we')"
   ]
  },
  {
   "cell_type": "markdown",
   "metadata": {},
   "source": [
    "As you can see, we get `False` because `w` has a different underlying numerical value then `W`."
   ]
  },
  {
   "cell_type": "markdown",
   "metadata": {},
   "source": [
    "Similarly, we can check if a string ends with a specific substring using the `endswith()` method."
   ]
  },
  {
   "cell_type": "code",
   "execution_count": 24,
   "metadata": {
    "execution": {
     "iopub.execute_input": "2023-05-31T12:46:51.830197Z",
     "iopub.status.busy": "2023-05-31T12:46:51.829696Z",
     "iopub.status.idle": "2023-05-31T12:46:51.836727Z",
     "shell.execute_reply": "2023-05-31T12:46:51.835810Z",
     "shell.execute_reply.started": "2023-05-31T12:46:51.830160Z"
    }
   },
   "outputs": [
    {
     "data": {
      "text/plain": [
       "True"
      ]
     },
     "execution_count": 24,
     "metadata": {},
     "output_type": "execute_result"
    }
   ],
   "source": [
    "food_science_message.endswith('ence!')"
   ]
  },
  {
   "cell_type": "markdown",
   "metadata": {},
   "source": [
    "#### `index()` and  `rindex()` vs `find()` and `rfind()`"
   ]
  },
  {
   "cell_type": "markdown",
   "metadata": {},
   "source": [
    "Methods `index()` and `rindex()` will search for the substring passed as argument in the string where they are called and will return the first index where the substring is found. If the substring is not found a `ValueError` will be raised. The difference between `index()` and `rindex()` is that `index()` starts the search from the beginning of the string, while `rindex()` from the end of the string. "
   ]
  },
  {
   "cell_type": "code",
   "execution_count": 25,
   "metadata": {
    "execution": {
     "iopub.execute_input": "2023-05-31T12:47:28.930358Z",
     "iopub.status.busy": "2023-05-31T12:47:28.929878Z",
     "iopub.status.idle": "2023-05-31T12:47:28.939917Z",
     "shell.execute_reply": "2023-05-31T12:47:28.938666Z",
     "shell.execute_reply.started": "2023-05-31T12:47:28.930319Z"
    }
   },
   "outputs": [
    {
     "data": {
      "text/plain": [
       "8"
      ]
     },
     "execution_count": 25,
     "metadata": {},
     "output_type": "execute_result"
    }
   ],
   "source": [
    "food_science_message.index('to')"
   ]
  },
  {
   "cell_type": "code",
   "execution_count": 26,
   "metadata": {
    "execution": {
     "iopub.execute_input": "2023-05-31T12:47:35.531356Z",
     "iopub.status.busy": "2023-05-31T12:47:35.530780Z",
     "iopub.status.idle": "2023-05-31T12:47:35.539103Z",
     "shell.execute_reply": "2023-05-31T12:47:35.538015Z",
     "shell.execute_reply.started": "2023-05-31T12:47:35.531305Z"
    }
   },
   "outputs": [
    {
     "data": {
      "text/plain": [
       "8"
      ]
     },
     "execution_count": 26,
     "metadata": {},
     "output_type": "execute_result"
    }
   ],
   "source": [
    "food_science_message.rindex('to')"
   ]
  },
  {
   "cell_type": "markdown",
   "metadata": {},
   "source": [
    "Despite of starting the search from the end, it still will return the index where the first match from the end occurs from the beginning of the string. Let us look at another example:"
   ]
  },
  {
   "cell_type": "code",
   "execution_count": 27,
   "metadata": {
    "execution": {
     "iopub.execute_input": "2023-05-31T12:48:27.464899Z",
     "iopub.status.busy": "2023-05-31T12:48:27.464225Z",
     "iopub.status.idle": "2023-05-31T12:48:27.473166Z",
     "shell.execute_reply": "2023-05-31T12:48:27.471691Z",
     "shell.execute_reply.started": "2023-05-31T12:48:27.464849Z"
    }
   },
   "outputs": [
    {
     "data": {
      "text/plain": [
       "4"
      ]
     },
     "execution_count": 27,
     "metadata": {},
     "output_type": "execute_result"
    }
   ],
   "source": [
    "food_science_message.index('o')"
   ]
  },
  {
   "cell_type": "code",
   "execution_count": 28,
   "metadata": {
    "execution": {
     "iopub.execute_input": "2023-05-31T12:48:27.727467Z",
     "iopub.status.busy": "2023-05-31T12:48:27.726900Z",
     "iopub.status.idle": "2023-05-31T12:48:27.735345Z",
     "shell.execute_reply": "2023-05-31T12:48:27.733747Z",
     "shell.execute_reply.started": "2023-05-31T12:48:27.727429Z"
    }
   },
   "outputs": [
    {
     "data": {
      "text/plain": [
       "13"
      ]
     },
     "execution_count": 28,
     "metadata": {},
     "output_type": "execute_result"
    }
   ],
   "source": [
    "food_science_message.rindex('o')"
   ]
  },
  {
   "cell_type": "markdown",
   "metadata": {},
   "source": [
    "{numref}`index-rindex` illustrates the results of both methods.\n",
    "\n",
    "```{figure} ../../images/7_strings/index_rindex.jpg\n",
    ":alt: index-rindex-illustration\n",
    ":name: index-rindex\n",
    ":class: ch7\n",
    ":align: center\n",
    "\n",
    "Illustration of `index()` and `rindex()`\n",
    "```"
   ]
  },
  {
   "cell_type": "code",
   "execution_count": 29,
   "metadata": {
    "execution": {
     "iopub.execute_input": "2023-05-31T12:48:37.937898Z",
     "iopub.status.busy": "2023-05-31T12:48:37.937391Z",
     "iopub.status.idle": "2023-05-31T12:48:38.364198Z",
     "shell.execute_reply": "2023-05-31T12:48:38.363185Z",
     "shell.execute_reply.started": "2023-05-31T12:48:37.937858Z"
    }
   },
   "outputs": [
    {
     "ename": "ValueError",
     "evalue": "substring not found",
     "output_type": "error",
     "traceback": [
      "\u001b[0;31m---------------------------------------------------------------------------\u001b[0m",
      "\u001b[0;31mValueError\u001b[0m                                Traceback (most recent call last)",
      "\u001b[0;32m/var/folders/7f/7nw_x13n5q965rss_qz6061m0000gq/T/ipykernel_67164/1873182247.py\u001b[0m in \u001b[0;36m<module>\u001b[0;34m\u001b[0m\n\u001b[0;32m----> 1\u001b[0;31m \u001b[0mfood_science_message\u001b[0m\u001b[0;34m.\u001b[0m\u001b[0mindex\u001b[0m\u001b[0;34m(\u001b[0m\u001b[0;34m'x'\u001b[0m\u001b[0;34m)\u001b[0m\u001b[0;34m\u001b[0m\u001b[0;34m\u001b[0m\u001b[0m\n\u001b[0m",
      "\u001b[0;31mValueError\u001b[0m: substring not found"
     ]
    }
   ],
   "source": [
    "food_science_message.index('x')"
   ]
  },
  {
   "cell_type": "markdown",
   "metadata": {},
   "source": [
    "As you can see, a `ValueError` with *substring not found* message is raised."
   ]
  },
  {
   "cell_type": "markdown",
   "metadata": {},
   "source": [
    "On the other hand, `find()` and `rfind()` serve exactly the same purpose but instead of raising a `ValueError` when the substring is not found, they just return `-1`."
   ]
  },
  {
   "cell_type": "code",
   "execution_count": 30,
   "metadata": {
    "execution": {
     "iopub.execute_input": "2023-05-31T12:48:49.425820Z",
     "iopub.status.busy": "2023-05-31T12:48:49.425223Z",
     "iopub.status.idle": "2023-05-31T12:48:49.433878Z",
     "shell.execute_reply": "2023-05-31T12:48:49.432060Z",
     "shell.execute_reply.started": "2023-05-31T12:48:49.425774Z"
    }
   },
   "outputs": [
    {
     "data": {
      "text/plain": [
       "4"
      ]
     },
     "execution_count": 30,
     "metadata": {},
     "output_type": "execute_result"
    }
   ],
   "source": [
    "food_science_message.find('o')"
   ]
  },
  {
   "cell_type": "code",
   "execution_count": 31,
   "metadata": {
    "execution": {
     "iopub.execute_input": "2023-05-31T12:48:49.875713Z",
     "iopub.status.busy": "2023-05-31T12:48:49.875180Z",
     "iopub.status.idle": "2023-05-31T12:48:49.884430Z",
     "shell.execute_reply": "2023-05-31T12:48:49.882936Z",
     "shell.execute_reply.started": "2023-05-31T12:48:49.875668Z"
    }
   },
   "outputs": [
    {
     "data": {
      "text/plain": [
       "13"
      ]
     },
     "execution_count": 31,
     "metadata": {},
     "output_type": "execute_result"
    }
   ],
   "source": [
    "food_science_message.rfind('o')"
   ]
  },
  {
   "cell_type": "code",
   "execution_count": 32,
   "metadata": {
    "execution": {
     "iopub.execute_input": "2023-05-31T12:48:50.839113Z",
     "iopub.status.busy": "2023-05-31T12:48:50.838559Z",
     "iopub.status.idle": "2023-05-31T12:48:50.847419Z",
     "shell.execute_reply": "2023-05-31T12:48:50.846295Z",
     "shell.execute_reply.started": "2023-05-31T12:48:50.839067Z"
    }
   },
   "outputs": [
    {
     "data": {
      "text/plain": [
       "-1"
      ]
     },
     "execution_count": 32,
     "metadata": {},
     "output_type": "execute_result"
    }
   ],
   "source": [
    "food_science_message.find('x')"
   ]
  },
  {
   "cell_type": "markdown",
   "metadata": {},
   "source": [
    "Here we do not get an error anymore, just -1 to indicate that the substring was not found."
   ]
  },
  {
   "cell_type": "markdown",
   "metadata": {},
   "source": [
    "### Counting occurrences"
   ]
  },
  {
   "cell_type": "markdown",
   "metadata": {},
   "source": [
    "To see how many times a substring appears in a string we can use the `count()` method that we have seen in lists and tuples as well."
   ]
  },
  {
   "cell_type": "code",
   "execution_count": 33,
   "metadata": {
    "execution": {
     "iopub.execute_input": "2023-05-31T12:49:07.653755Z",
     "iopub.status.busy": "2023-05-31T12:49:07.652552Z",
     "iopub.status.idle": "2023-05-31T12:49:07.662176Z",
     "shell.execute_reply": "2023-05-31T12:49:07.660899Z",
     "shell.execute_reply.started": "2023-05-31T12:49:07.653703Z"
    }
   },
   "outputs": [
    {
     "data": {
      "text/plain": [
       "1"
      ]
     },
     "execution_count": 33,
     "metadata": {},
     "output_type": "execute_result"
    }
   ],
   "source": [
    "food_science_message.count('el')"
   ]
  },
  {
   "cell_type": "markdown",
   "metadata": {},
   "source": [
    "We see that `el` appears only once in the `Welcome to Food Science!` string."
   ]
  },
  {
   "cell_type": "code",
   "execution_count": 34,
   "metadata": {
    "execution": {
     "iopub.execute_input": "2023-05-31T12:49:10.579033Z",
     "iopub.status.busy": "2023-05-31T12:49:10.578495Z",
     "iopub.status.idle": "2023-05-31T12:49:10.587753Z",
     "shell.execute_reply": "2023-05-31T12:49:10.586332Z",
     "shell.execute_reply.started": "2023-05-31T12:49:10.578988Z"
    }
   },
   "outputs": [
    {
     "data": {
      "text/plain": [
       "4"
      ]
     },
     "execution_count": 34,
     "metadata": {},
     "output_type": "execute_result"
    }
   ],
   "source": [
    "food_science_message.count('e')"
   ]
  },
  {
   "cell_type": "markdown",
   "metadata": {},
   "source": [
    "While the substring `e`, 4 times."
   ]
  },
  {
   "cell_type": "markdown",
   "metadata": {},
   "source": [
    "### Replacing substrings"
   ]
  },
  {
   "cell_type": "markdown",
   "metadata": {},
   "source": [
    "```{important}\n",
    "All the methods discussed in the subsequent sections work on deep copies of the original string. This means that the changes introduced by the methods do not modify the original string, instead they just return a modified copy of the original string.\n",
    "```"
   ]
  },
  {
   "cell_type": "markdown",
   "metadata": {},
   "source": [
    "Python provides the `replace()` string method that allows us to replace a substring with another one. "
   ]
  },
  {
   "cell_type": "code",
   "execution_count": 35,
   "metadata": {
    "execution": {
     "iopub.execute_input": "2023-05-31T12:50:05.525863Z",
     "iopub.status.busy": "2023-05-31T12:50:05.525208Z",
     "iopub.status.idle": "2023-05-31T12:50:05.534547Z",
     "shell.execute_reply": "2023-05-31T12:50:05.533436Z",
     "shell.execute_reply.started": "2023-05-31T12:50:05.525735Z"
    }
   },
   "outputs": [
    {
     "data": {
      "text/plain": [
       "'Welcome, to, Food, Science!'"
      ]
     },
     "execution_count": 35,
     "metadata": {},
     "output_type": "execute_result"
    }
   ],
   "source": [
    "food_science_message_1 = food_science_message.replace(' ', ', ')\n",
    "food_science_message_1"
   ]
  },
  {
   "cell_type": "markdown",
   "metadata": {},
   "source": [
    "This method replaces every occurrence of the first substring with the second substring provided as argument. "
   ]
  },
  {
   "cell_type": "markdown",
   "metadata": {},
   "source": [
    "## Other string methods"
   ]
  },
  {
   "cell_type": "markdown",
   "metadata": {},
   "source": [
    "### Joining strings"
   ]
  },
  {
   "cell_type": "markdown",
   "metadata": {},
   "source": [
    "````{margin}\n",
    "```{note}\n",
    "You can join strings either by the concatenation operator (`+`) or the `join()` method.\n",
    "```\n",
    "````\n",
    "To join two or more strings we can either use the concatenation operator (`+`) or the `join()` method."
   ]
  },
  {
   "cell_type": "code",
   "execution_count": 36,
   "metadata": {
    "execution": {
     "iopub.execute_input": "2023-05-31T12:50:41.473154Z",
     "iopub.status.busy": "2023-05-31T12:50:41.472580Z",
     "iopub.status.idle": "2023-05-31T12:50:41.478381Z",
     "shell.execute_reply": "2023-05-31T12:50:41.476619Z",
     "shell.execute_reply.started": "2023-05-31T12:50:41.473105Z"
    }
   },
   "outputs": [],
   "source": [
    "welcome = 'Welcome'\n",
    "to = 'to'\n",
    "food_science = 'Food Science!'"
   ]
  },
  {
   "cell_type": "code",
   "execution_count": 37,
   "metadata": {
    "execution": {
     "iopub.execute_input": "2023-05-31T12:50:41.786073Z",
     "iopub.status.busy": "2023-05-31T12:50:41.785537Z",
     "iopub.status.idle": "2023-05-31T12:50:41.794526Z",
     "shell.execute_reply": "2023-05-31T12:50:41.793394Z",
     "shell.execute_reply.started": "2023-05-31T12:50:41.786029Z"
    }
   },
   "outputs": [
    {
     "data": {
      "text/plain": [
       "'Welcome to Food Science!'"
      ]
     },
     "execution_count": 37,
     "metadata": {},
     "output_type": "execute_result"
    }
   ],
   "source": [
    "message_1 = welcome + ' ' + to + ' '+ food_science\n",
    "message_1"
   ]
  },
  {
   "cell_type": "code",
   "execution_count": 38,
   "metadata": {
    "execution": {
     "iopub.execute_input": "2023-05-31T12:50:42.293625Z",
     "iopub.status.busy": "2023-05-31T12:50:42.293125Z",
     "iopub.status.idle": "2023-05-31T12:50:42.302170Z",
     "shell.execute_reply": "2023-05-31T12:50:42.301046Z",
     "shell.execute_reply.started": "2023-05-31T12:50:42.293583Z"
    }
   },
   "outputs": [
    {
     "data": {
      "text/plain": [
       "'Welcome to Food Science!'"
      ]
     },
     "execution_count": 38,
     "metadata": {},
     "output_type": "execute_result"
    }
   ],
   "source": [
    "message_2 = ' '.join([welcome, to, food_science])\n",
    "message_2"
   ]
  },
  {
   "cell_type": "markdown",
   "metadata": {},
   "source": [
    "The `join()` method is more multi-purpose. In our case, it concatenates all strings we provided as a list together by adding the white space character that we have called the method on. In the place of the white space we can use any other character:"
   ]
  },
  {
   "cell_type": "code",
   "execution_count": 39,
   "metadata": {
    "execution": {
     "iopub.execute_input": "2023-05-31T12:51:07.490700Z",
     "iopub.status.busy": "2023-05-31T12:51:07.490182Z",
     "iopub.status.idle": "2023-05-31T12:51:07.500132Z",
     "shell.execute_reply": "2023-05-31T12:51:07.498907Z",
     "shell.execute_reply.started": "2023-05-31T12:51:07.490659Z"
    }
   },
   "outputs": [
    {
     "data": {
      "text/plain": [
       "'Welcome, to, Food Science!'"
      ]
     },
     "execution_count": 39,
     "metadata": {},
     "output_type": "execute_result"
    }
   ],
   "source": [
    "', '.join([welcome, to, food_science])"
   ]
  },
  {
   "cell_type": "markdown",
   "metadata": {},
   "source": [
    "As you can see now, instead of space the words are separated by a comma (`,`) and a space."
   ]
  },
  {
   "cell_type": "markdown",
   "metadata": {},
   "source": [
    "````{tip}\n",
    "Ever wondered what happens if you multiply a string with a number? Check here:\n",
    "```{code-cell} ipython3\n",
    "'*'*5\n",
    "```\n",
    "````"
   ]
  },
  {
   "cell_type": "code",
   "execution_count": 40,
   "metadata": {
    "execution": {
     "iopub.execute_input": "2023-05-31T12:51:24.427896Z",
     "iopub.status.busy": "2023-05-31T12:51:24.427519Z",
     "iopub.status.idle": "2023-05-31T12:51:24.433856Z",
     "shell.execute_reply": "2023-05-31T12:51:24.432860Z",
     "shell.execute_reply.started": "2023-05-31T12:51:24.427866Z"
    }
   },
   "outputs": [
    {
     "data": {
      "text/plain": [
       "'*****'"
      ]
     },
     "execution_count": 40,
     "metadata": {},
     "output_type": "execute_result"
    }
   ],
   "source": [
    "'*'*5"
   ]
  },
  {
   "cell_type": "markdown",
   "metadata": {},
   "source": [
    "### Splitting strings"
   ]
  },
  {
   "cell_type": "markdown",
   "metadata": {},
   "source": [
    "#### `split()`"
   ]
  },
  {
   "cell_type": "markdown",
   "metadata": {},
   "source": [
    "You can split two strings using the `split()` method. It takes as argument the character that will be used to split a string.  It returns a list of the substrings of the string. To better understand this let us look at an example:"
   ]
  },
  {
   "cell_type": "code",
   "execution_count": 42,
   "metadata": {
    "execution": {
     "iopub.execute_input": "2023-05-31T12:51:47.130412Z",
     "iopub.status.busy": "2023-05-31T12:51:47.129730Z",
     "iopub.status.idle": "2023-05-31T12:51:47.141011Z",
     "shell.execute_reply": "2023-05-31T12:51:47.138720Z",
     "shell.execute_reply.started": "2023-05-31T12:51:47.130363Z"
    },
    "tags": []
   },
   "outputs": [
    {
     "data": {
      "text/plain": [
       "['Welcome', 'to', 'Food', 'Science!']"
      ]
     },
     "execution_count": 42,
     "metadata": {},
     "output_type": "execute_result"
    }
   ],
   "source": [
    "tokens_1 = food_science_message.split(' ')\n",
    "tokens_1"
   ]
  },
  {
   "cell_type": "markdown",
   "metadata": {},
   "source": [
    "In this example, the splitting character was the space `' '`. The method goes over the string and cuts it at all places where it finds a space. All the remaining parts are put in a list afterwards. In our case there were 3 spaces, as a result we have 4 tokens in the list, which are substrings of the original string."
   ]
  },
  {
   "cell_type": "markdown",
   "metadata": {},
   "source": [
    "We can also call `split()` with two arguments, where the second one is an integer. In this case, the integer specifies the number of times that we are going to cut the original string in the specified split character. For example:"
   ]
  },
  {
   "cell_type": "code",
   "execution_count": 43,
   "metadata": {
    "execution": {
     "iopub.execute_input": "2023-05-31T12:52:41.383679Z",
     "iopub.status.busy": "2023-05-31T12:52:41.383175Z",
     "iopub.status.idle": "2023-05-31T12:52:41.391264Z",
     "shell.execute_reply": "2023-05-31T12:52:41.390167Z",
     "shell.execute_reply.started": "2023-05-31T12:52:41.383642Z"
    }
   },
   "outputs": [
    {
     "data": {
      "text/plain": [
       "['Welcome', 'to', 'Food Science!']"
      ]
     },
     "execution_count": 43,
     "metadata": {},
     "output_type": "execute_result"
    }
   ],
   "source": [
    "tokens_2 = food_science_message.split(' ', 2)\n",
    "tokens_2"
   ]
  },
  {
   "cell_type": "markdown",
   "metadata": {},
   "source": [
    "This time, we were interested in splitting only the parts of the first two spaces. The remaining substring will form a whole part of its own. The first and second spaces occurred after `Welcome` and `to`, so they are split and put into the list as separate elements. Since the method already found the 2 spaces we were looking for, it will stop and leave the other part as a whole and put it into the list."
   ]
  },
  {
   "cell_type": "markdown",
   "metadata": {},
   "source": [
    "#### `partition()` and `rpartition()`"
   ]
  },
  {
   "cell_type": "markdown",
   "metadata": {},
   "source": [
    "These methods have a similar function to the `split()` method, but they return a tuple with 3 elements instead. Again we provide our split character, based on which the split will happen, and the method returns a tuple that contains: the part of the string before the split, the split character itself and the part after the split character."
   ]
  },
  {
   "cell_type": "code",
   "execution_count": 68,
   "metadata": {},
   "outputs": [
    {
     "data": {
      "text/plain": [
       "('Welcome', ' ', 'to Food Science!')"
      ]
     },
     "execution_count": 68,
     "metadata": {},
     "output_type": "execute_result"
    }
   ],
   "source": [
    "food_science_message.partition(' ')"
   ]
  },
  {
   "cell_type": "markdown",
   "metadata": {},
   "source": [
    "As you can see, it finds the first occurrence of the splitting character and makes the split there."
   ]
  },
  {
   "cell_type": "markdown",
   "metadata": {},
   "source": [
    "A more useful case would be probably when we have to separate numerical content from text, like here:"
   ]
  },
  {
   "cell_type": "code",
   "execution_count": 44,
   "metadata": {
    "execution": {
     "iopub.execute_input": "2023-05-31T12:54:15.622734Z",
     "iopub.status.busy": "2023-05-31T12:54:15.622141Z",
     "iopub.status.idle": "2023-05-31T12:54:15.630941Z",
     "shell.execute_reply": "2023-05-31T12:54:15.629290Z",
     "shell.execute_reply.started": "2023-05-31T12:54:15.622687Z"
    }
   },
   "outputs": [
    {
     "data": {
      "text/plain": [
       "('John', ' - ', '25 years')"
      ]
     },
     "execution_count": 44,
     "metadata": {},
     "output_type": "execute_result"
    }
   ],
   "source": [
    "name_and_string = 'John - 25 years'\n",
    "name_and_string.partition(' - ')"
   ]
  },
  {
   "cell_type": "markdown",
   "metadata": {},
   "source": [
    "`rpartition()` does the same but starts the search from the end of the string."
   ]
  },
  {
   "cell_type": "code",
   "execution_count": 45,
   "metadata": {
    "execution": {
     "iopub.execute_input": "2023-05-31T12:54:24.518966Z",
     "iopub.status.busy": "2023-05-31T12:54:24.518436Z",
     "iopub.status.idle": "2023-05-31T12:54:24.528643Z",
     "shell.execute_reply": "2023-05-31T12:54:24.527594Z",
     "shell.execute_reply.started": "2023-05-31T12:54:24.518921Z"
    }
   },
   "outputs": [
    {
     "data": {
      "text/plain": [
       "('Welcome to Food', ' ', 'Science!')"
      ]
     },
     "execution_count": 45,
     "metadata": {},
     "output_type": "execute_result"
    }
   ],
   "source": [
    "food_science_message.rpartition(' ')"
   ]
  },
  {
   "cell_type": "markdown",
   "metadata": {},
   "source": [
    "In case where the splitting character is not present in the string we are trying to split, then the string will not be split, however a tuple with three elements will still be returned. Depending on whether we used `partition()` or `rpartition()` it will contain an empty character `''` in the last two or the first two entries."
   ]
  },
  {
   "cell_type": "code",
   "execution_count": 46,
   "metadata": {
    "execution": {
     "iopub.execute_input": "2023-05-31T12:55:11.964615Z",
     "iopub.status.busy": "2023-05-31T12:55:11.964091Z",
     "iopub.status.idle": "2023-05-31T12:55:11.976514Z",
     "shell.execute_reply": "2023-05-31T12:55:11.975115Z",
     "shell.execute_reply.started": "2023-05-31T12:55:11.964574Z"
    }
   },
   "outputs": [
    {
     "data": {
      "text/plain": [
       "('Welcome to Food Science!', '', '')"
      ]
     },
     "execution_count": 46,
     "metadata": {},
     "output_type": "execute_result"
    }
   ],
   "source": [
    "food_science_message.partition('hello')"
   ]
  },
  {
   "cell_type": "code",
   "execution_count": 47,
   "metadata": {
    "execution": {
     "iopub.execute_input": "2023-05-31T12:55:26.936362Z",
     "iopub.status.busy": "2023-05-31T12:55:26.935772Z",
     "iopub.status.idle": "2023-05-31T12:55:26.945478Z",
     "shell.execute_reply": "2023-05-31T12:55:26.944074Z",
     "shell.execute_reply.started": "2023-05-31T12:55:26.936316Z"
    }
   },
   "outputs": [
    {
     "data": {
      "text/plain": [
       "('', '', 'Welcome to Food Science!')"
      ]
     },
     "execution_count": 47,
     "metadata": {},
     "output_type": "execute_result"
    }
   ],
   "source": [
    "food_science_message.rpartition('hello')"
   ]
  },
  {
   "cell_type": "markdown",
   "metadata": {},
   "source": [
    "#### `splitlines()`"
   ]
  },
  {
   "cell_type": "markdown",
   "metadata": {},
   "source": [
    "This method splits large amounts of text, stored in strings, into a list of lines. This is done by splitting based on newline characters (`\\n`)."
   ]
  },
  {
   "cell_type": "code",
   "execution_count": 48,
   "metadata": {
    "execution": {
     "iopub.execute_input": "2023-05-31T12:55:28.609774Z",
     "iopub.status.busy": "2023-05-31T12:55:28.609017Z",
     "iopub.status.idle": "2023-05-31T12:55:28.617800Z",
     "shell.execute_reply": "2023-05-31T12:55:28.615869Z",
     "shell.execute_reply.started": "2023-05-31T12:55:28.609719Z"
    }
   },
   "outputs": [],
   "source": [
    "text = \"\"\"To be, or not to be, that is the question: \n",
    "Whether tis nobler in the mind to suffer \n",
    "The slings and arrows of outrageous fortune,\n",
    "Or to take Arms against a Sea of troubles,\n",
    "And by opposing end them: to die, to sleep\n",
    "No more; and by a sleep, to say we end.\"\"\""
   ]
  },
  {
   "cell_type": "code",
   "execution_count": 49,
   "metadata": {
    "execution": {
     "iopub.execute_input": "2023-05-31T12:55:29.065169Z",
     "iopub.status.busy": "2023-05-31T12:55:29.064591Z",
     "iopub.status.idle": "2023-05-31T12:55:29.072925Z",
     "shell.execute_reply": "2023-05-31T12:55:29.071879Z",
     "shell.execute_reply.started": "2023-05-31T12:55:29.065091Z"
    }
   },
   "outputs": [
    {
     "data": {
      "text/plain": [
       "['To be, or not to be, that is the question: ',\n",
       " 'Whether tis nobler in the mind to suffer ',\n",
       " 'The slings and arrows of outrageous fortune,',\n",
       " 'Or to take Arms against a Sea of troubles,',\n",
       " 'And by opposing end them: to die, to sleep',\n",
       " 'No more; and by a sleep, to say we end.']"
      ]
     },
     "execution_count": 49,
     "metadata": {},
     "output_type": "execute_result"
    }
   ],
   "source": [
    "text.splitlines()"
   ]
  },
  {
   "cell_type": "markdown",
   "metadata": {},
   "source": [
    "As you can see, the text is split in lines and each line is put in a list as a separate element."
   ]
  },
  {
   "cell_type": "markdown",
   "metadata": {},
   "source": [
    "### `strip()`, `lstrip()` and `rstrip()`"
   ]
  },
  {
   "cell_type": "markdown",
   "metadata": {},
   "source": [
    "These methods are used to remove white space (be it a simple space or a tab) from a string. The `strip()` method removes both the leading and trailing whitespace from a string. `rstrip()` removes only the trailing spaces while `lstrip()` only the leading spaces."
   ]
  },
  {
   "cell_type": "code",
   "execution_count": 50,
   "metadata": {
    "execution": {
     "iopub.execute_input": "2023-05-31T12:56:02.985953Z",
     "iopub.status.busy": "2023-05-31T12:56:02.984839Z",
     "iopub.status.idle": "2023-05-31T12:56:03.000532Z",
     "shell.execute_reply": "2023-05-31T12:56:02.998980Z",
     "shell.execute_reply.started": "2023-05-31T12:56:02.985896Z"
    }
   },
   "outputs": [
    {
     "data": {
      "text/plain": [
       "'   Welcome to Food Science!   '"
      ]
     },
     "execution_count": 50,
     "metadata": {},
     "output_type": "execute_result"
    }
   ],
   "source": [
    "food_science_message = '   Welcome to Food Science!   '\n",
    "food_science_message"
   ]
  },
  {
   "cell_type": "code",
   "execution_count": 51,
   "metadata": {
    "execution": {
     "iopub.execute_input": "2023-05-31T12:56:06.555407Z",
     "iopub.status.busy": "2023-05-31T12:56:06.554861Z",
     "iopub.status.idle": "2023-05-31T12:56:06.564340Z",
     "shell.execute_reply": "2023-05-31T12:56:06.563182Z",
     "shell.execute_reply.started": "2023-05-31T12:56:06.555360Z"
    }
   },
   "outputs": [
    {
     "data": {
      "text/plain": [
       "'Welcome to Food Science!'"
      ]
     },
     "execution_count": 51,
     "metadata": {},
     "output_type": "execute_result"
    }
   ],
   "source": [
    "food_science_message.strip()"
   ]
  },
  {
   "cell_type": "markdown",
   "metadata": {},
   "source": [
    "The `strip()` method removed both the leading and trailing spaces."
   ]
  },
  {
   "cell_type": "code",
   "execution_count": 52,
   "metadata": {
    "execution": {
     "iopub.execute_input": "2023-05-31T12:56:09.494387Z",
     "iopub.status.busy": "2023-05-31T12:56:09.493523Z",
     "iopub.status.idle": "2023-05-31T12:56:09.500599Z",
     "shell.execute_reply": "2023-05-31T12:56:09.499527Z",
     "shell.execute_reply.started": "2023-05-31T12:56:09.494340Z"
    }
   },
   "outputs": [
    {
     "name": "stdout",
     "output_type": "stream",
     "text": [
      "Welcome to Food Science!   \n",
      "   Welcome to Food Science!\n"
     ]
    }
   ],
   "source": [
    "print(food_science_message.lstrip()) # remove leading\n",
    "print(food_science_message.rstrip()) # remove trailing"
   ]
  },
  {
   "cell_type": "markdown",
   "metadata": {},
   "source": [
    "### `lower()`, `upper()`, `capitalize()`, `title()` and `swapcase()`"
   ]
  },
  {
   "cell_type": "markdown",
   "metadata": {},
   "source": [
    "The `lower()` method will convert all letters of the string in lowercase letters."
   ]
  },
  {
   "cell_type": "code",
   "execution_count": 53,
   "metadata": {
    "execution": {
     "iopub.execute_input": "2023-05-31T12:56:17.691873Z",
     "iopub.status.busy": "2023-05-31T12:56:17.691210Z",
     "iopub.status.idle": "2023-05-31T12:56:17.699989Z",
     "shell.execute_reply": "2023-05-31T12:56:17.698711Z",
     "shell.execute_reply.started": "2023-05-31T12:56:17.691824Z"
    }
   },
   "outputs": [],
   "source": [
    "food_science_message = 'Welcome to Food Science!'"
   ]
  },
  {
   "cell_type": "code",
   "execution_count": 54,
   "metadata": {
    "execution": {
     "iopub.execute_input": "2023-05-31T12:56:18.068473Z",
     "iopub.status.busy": "2023-05-31T12:56:18.068111Z",
     "iopub.status.idle": "2023-05-31T12:56:18.074134Z",
     "shell.execute_reply": "2023-05-31T12:56:18.073192Z",
     "shell.execute_reply.started": "2023-05-31T12:56:18.068446Z"
    }
   },
   "outputs": [
    {
     "data": {
      "text/plain": [
       "'welcome to food science!'"
      ]
     },
     "execution_count": 54,
     "metadata": {},
     "output_type": "execute_result"
    }
   ],
   "source": [
    "food_science_message.lower()"
   ]
  },
  {
   "cell_type": "markdown",
   "metadata": {},
   "source": [
    "The `upper()` method will convert all letters of the string in uppercase letters."
   ]
  },
  {
   "cell_type": "code",
   "execution_count": 55,
   "metadata": {
    "execution": {
     "iopub.execute_input": "2023-05-31T12:56:19.515252Z",
     "iopub.status.busy": "2023-05-31T12:56:19.514595Z",
     "iopub.status.idle": "2023-05-31T12:56:19.523438Z",
     "shell.execute_reply": "2023-05-31T12:56:19.522286Z",
     "shell.execute_reply.started": "2023-05-31T12:56:19.515203Z"
    }
   },
   "outputs": [
    {
     "data": {
      "text/plain": [
       "'WELCOME TO FOOD SCIENCE!'"
      ]
     },
     "execution_count": 55,
     "metadata": {},
     "output_type": "execute_result"
    }
   ],
   "source": [
    "food_science_message.upper()"
   ]
  },
  {
   "cell_type": "markdown",
   "metadata": {},
   "source": [
    "The `capitalize()` method will convert the string to sentence case. This means that only the first letter of the string will be capitalized."
   ]
  },
  {
   "cell_type": "code",
   "execution_count": 56,
   "metadata": {
    "execution": {
     "iopub.execute_input": "2023-05-31T12:56:23.091946Z",
     "iopub.status.busy": "2023-05-31T12:56:23.091114Z",
     "iopub.status.idle": "2023-05-31T12:56:23.098587Z",
     "shell.execute_reply": "2023-05-31T12:56:23.097523Z",
     "shell.execute_reply.started": "2023-05-31T12:56:23.091915Z"
    }
   },
   "outputs": [
    {
     "data": {
      "text/plain": [
       "'Welcome to food science!'"
      ]
     },
     "execution_count": 56,
     "metadata": {},
     "output_type": "execute_result"
    }
   ],
   "source": [
    "food_science_message.capitalize()"
   ]
  },
  {
   "cell_type": "markdown",
   "metadata": {},
   "source": [
    "The `title()` method will capitalize the first letter of all words in a string."
   ]
  },
  {
   "cell_type": "code",
   "execution_count": 57,
   "metadata": {
    "execution": {
     "iopub.execute_input": "2023-05-31T12:56:26.250402Z",
     "iopub.status.busy": "2023-05-31T12:56:26.249803Z",
     "iopub.status.idle": "2023-05-31T12:56:26.258783Z",
     "shell.execute_reply": "2023-05-31T12:56:26.257501Z",
     "shell.execute_reply.started": "2023-05-31T12:56:26.250357Z"
    }
   },
   "outputs": [
    {
     "data": {
      "text/plain": [
       "'Welcome To Food Science!'"
      ]
     },
     "execution_count": 57,
     "metadata": {},
     "output_type": "execute_result"
    }
   ],
   "source": [
    "food_science_message.title()"
   ]
  },
  {
   "cell_type": "markdown",
   "metadata": {},
   "source": [
    "The `swapcase()` method will convert all uppercase letters of the string to lowercase letters and vice-versa."
   ]
  },
  {
   "cell_type": "code",
   "execution_count": 58,
   "metadata": {
    "execution": {
     "iopub.execute_input": "2023-05-31T12:56:29.057730Z",
     "iopub.status.busy": "2023-05-31T12:56:29.057385Z",
     "iopub.status.idle": "2023-05-31T12:56:29.062560Z",
     "shell.execute_reply": "2023-05-31T12:56:29.061898Z",
     "shell.execute_reply.started": "2023-05-31T12:56:29.057705Z"
    }
   },
   "outputs": [
    {
     "data": {
      "text/plain": [
       "'wELCOME TO fOOD sCIENCE!'"
      ]
     },
     "execution_count": 58,
     "metadata": {},
     "output_type": "execute_result"
    }
   ],
   "source": [
    "food_science_message.swapcase()"
   ]
  }
 ],
 "metadata": {
  "kernelspec": {
   "display_name": "Python 3 (ipykernel)",
   "language": "python",
   "name": "python3"
  },
  "language_info": {
   "codemirror_mode": {
    "name": "ipython",
    "version": 3
   },
   "file_extension": ".py",
   "mimetype": "text/x-python",
   "name": "python",
   "nbconvert_exporter": "python",
   "pygments_lexer": "ipython3",
   "version": "3.7.12"
  },
  "vscode": {
   "interpreter": {
    "hash": "0c2f5c4fba51b93f19e499abfcc9ef4d6fee5bb503e49077d95162365c0a0cb3"
   }
  }
 },
 "nbformat": 4,
 "nbformat_minor": 4
}
