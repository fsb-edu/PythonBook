{
 "cells": [
  {
   "attachments": {},
   "cell_type": "markdown",
   "metadata": {},
   "source": [
    "# Introduction"
   ]
  },
  {
   "attachments": {},
   "cell_type": "markdown",
   "metadata": {},
   "source": [
    "Before we start with programming, it is helpful to set a common background so that you will understand the concepts of the following chapters better. In order to know how to program efficiently, it is good to have some background knowledge about computers and computer architecture."
   ]
  },
  {
   "attachments": {},
   "cell_type": "markdown",
   "metadata": {},
   "source": [
    "## Hardware vs Software"
   ]
  },
  {
   "attachments": {},
   "cell_type": "markdown",
   "metadata": {},
   "source": [
    "Let us begin with the essential distinguishment between software and hardware. By the term ***hardware***, people refer to the physical components that make up a computer, e.g: CPU, main memory, hard drive, keyboard, mouse, etc. On the other hand, the term ***software*** refers to computer programs, that are a sequence of instructions that a computer, or the hardware that makes a computer, can execute and output a result to the user. "
   ]
  },
  {
   "attachments": {},
   "cell_type": "markdown",
   "metadata": {},
   "source": [
    "```{figure} ../images/0_introduction/sw_hw.jpg\n",
    ":alt: sw_hw_illustration\n",
    ":name: sw-hw\n",
    ":class: ch1\n",
    ":align: center\n",
    "Software vs Hardware\n",
    "```"
   ]
  },
  {
   "attachments": {},
   "cell_type": "markdown",
   "metadata": {},
   "source": [
    "## What is programming?"
   ]
  },
  {
   "attachments": {},
   "cell_type": "markdown",
   "metadata": {},
   "source": [
    "***Programming*** is the process of writing code or software or computer programs. The people who write software are called programmers. As stated before, programs are sequences of instructions that can be interpreted by computers (more precisely hardware components of a computer). From the figure above, we can see how software and hardware are related in the programming context. So we see that the programmer writes code (software) and runs it in a computer (hardware) to get some results. "
   ]
  },
  {
   "attachments": {},
   "cell_type": "markdown",
   "metadata": {},
   "source": [
    "## Computer Architecture"
   ]
  },
  {
   "attachments": {},
   "cell_type": "markdown",
   "metadata": {},
   "source": [
    "But how is the hardware of a computer able to process the software and generate results? For this, it is important to have a high-level view of the main components that make a computer."
   ]
  },
  {
   "attachments": {},
   "cell_type": "markdown",
   "metadata": {},
   "source": [
    "```{figure} ../images/0_introduction/comp_arch.jpg\n",
    ":alt: comp_arch_illustration\n",
    ":name: comp_arch\n",
    ":class: ch1\n",
    ":align: center\n",
    "Computer Architecture\n",
    "```"
   ]
  },
  {
   "attachments": {},
   "cell_type": "markdown",
   "metadata": {},
   "source": [
    "````{margin}\n",
    "```{admonition} Main Components of a Computer:\n",
    "Input/Output, Main Memory, CPU, Secondary Storage\n",
    "```\n",
    "````\n",
    "We will interpret the above figure from left to right. We will start with the ***input devices***. They allow us to interact with the computer and give inputs. Examples of such devices include: keyboard, usb, mouse, CDs, etc. Then the middle part of the figure shows the most important components of a computer. This is where the magic happens. From the figure you can see the ***secondary storage***. This is where data is saved permanently or until you decide to delete it. Examples include Hard Disk Drives (HDD) and Solid State Drives (SSD). Then ***main memory*** or as it is otherwise know ***Random Access Memory*** is another type of storage, but it is volatile, meaning that once electricity is cut off, everything that resides there will be gone. ***Main memory*** communicates with the ***secondary storage*** to get data. This data will be sent to the ***CPU (Central Processing Unit)***, which as the name implies applies some instructions to this data to process them. Both data and instructions lie in memory. As far as ***main memory*** and ***secondary storage*** are concerned, there is no distinguishment between what is instructions and what is data, ***CPU*** is able to make these distinguishment since it applies instructions to the data that it gets from the memory. Also the figure shows ***ALU (Arithmetic and Logic Unit)*** that is part of the CPU. This is like the brain of the CPU, responsible for most of the operations taking place there. The last part of the figure shows the ***output devices***, which as the name suggests, are devices used to render output. Examples include the monitor, printer, etc."
   ]
  },
  {
   "attachments": {},
   "cell_type": "markdown",
   "metadata": {},
   "source": [
    "## Data Representation"
   ]
  },
  {
   "attachments": {},
   "cell_type": "markdown",
   "metadata": {},
   "source": [
    "````{margin}\n",
    "```{note}\n",
    "Computers can only understand 0s and 1s.\n",
    "```\n",
    "````\n",
    "It is intuitive for us to have everything organized in files that we can open, read and get a  meaning. However, the letters that we can distinguish perfectly do not make sense to a computer. Computers can only understand sequences of 0s and 1s. For this reason, there is a whole pipeline of code that translates files and data from human readable form to a sequence of 0s and 1s. Each of this 0s and 1s is called a ***bit***. Each buckets (cell) of the main memory can hold only a 0 or a 1. This sequence of 0s and 1s is then transferred to the CPU for processing. CPU is able to parse this sequence of 0s and 1s. In addition, in the secondary storage everything is stored as a sequence of 0s and 1s as well. In the diagram below you can see how a file is broken down in lines, each line in words, each word in characters, each character in a bit string and each bit string in bits which are ultimately processed by the components of the computer. "
   ]
  },
  {
   "attachments": {},
   "cell_type": "markdown",
   "metadata": {},
   "source": [
    "```{figure} ../images/0_introduction/data_representation.jpg\n",
    ":alt: data_rep_illustration\n",
    ":name: data_rep\n",
    ":class: ch1\n",
    ":align: center\n",
    "\n",
    "Data representation\n",
    "```"
   ]
  },
  {
   "attachments": {},
   "cell_type": "markdown",
   "metadata": {},
   "source": [
    "## IPython Interpreter, Python Environments and Python Libraries\n"
   ]
  },
  {
   "attachments": {},
   "cell_type": "markdown",
   "metadata": {},
   "source": [
    "````{margin}\n",
    "```{note}\n",
    "An object oriented programming language allows you to create and manipulate objects.\n",
    "```\n",
    "````\n",
    "\n",
    "As you already know by now, Python is an object oriented programming language. It was launched in 1991 by Guido van Rossum. Nowadays, Python is one of the most popular programming languages due to its wide capabilities and the plethora of libraries that it offers."
   ]
  },
  {
   "attachments": {},
   "cell_type": "markdown",
   "metadata": {},
   "source": [
    "The ***IPython Interpreter*** is a terminal window (like *cmd* in Windows, *terminal* in Mac and *bash* in Linux). There you can run code directly.\n",
    "\n",
    "````{margin}\n",
    "```{note} \n",
    "IPython Interpreter will not be needed throughout this book. We introduce it here for the sake of completeness.\n",
    "```\n",
    "````\n",
    "A ***Python environment*** is like a sandbox. It provides a list of packages needed for a project to be run. In this way, as long as together with the code, an *environment* file is shipped everyone can recreate the environment by downloading the packages listed there. This guarantees that the code will run across multiply devices without the normal problems caused by missing packages or different package versions.\n",
    "\n",
    "***Libraries*** in Python are very important because we do not have to *reinvent the wheel*. In other words, libraries contain code that is useful for our programs. It saves us a lot of coding time and testing time as well. *Libraries* are one of the strongest advantages of Python when compared to other programming languages. The **Python Standard Library**, as its name suggests is one of the libraries that contains modules that we will use throughout this book.\n",
    "\n",
    "```{warning}\n",
    "Python is a space sensitive programming language, this means that adding extra space at the beginning of a line or adding extra indentation would result in a compilation error.\n",
    "```"
   ]
  }
 ],
 "metadata": {
  "kernelspec": {
   "display_name": "python-jb",
   "language": "python",
   "name": "python3"
  },
  "language_info": {
   "codemirror_mode": {
    "name": "ipython",
    "version": 3
   },
   "file_extension": ".py",
   "mimetype": "text/x-python",
   "name": "python",
   "nbconvert_exporter": "python",
   "pygments_lexer": "ipython3",
   "version": "3.7.13 (default, Oct 19 2022, 10:19:43) [MSC v.1916 64 bit (AMD64)]"
  },
  "orig_nbformat": 4,
  "vscode": {
   "interpreter": {
    "hash": "0c2f5c4fba51b93f19e499abfcc9ef4d6fee5bb503e49077d95162365c0a0cb3"
   }
  }
 },
 "nbformat": 4,
 "nbformat_minor": 2
}
