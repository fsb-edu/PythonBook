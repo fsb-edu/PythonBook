{
 "cells": [
  {
   "attachments": {},
   "cell_type": "markdown",
   "metadata": {},
   "source": [
    "# Readings"
   ]
  },
  {
   "attachments": {},
   "cell_type": "markdown",
   "metadata": {},
   "source": [
    "## Sets"
   ]
  },
  {
   "attachments": {},
   "cell_type": "markdown",
   "metadata": {},
   "source": [
    "## Dictionaries"
   ]
  },
  {
   "attachments": {},
   "cell_type": "markdown",
   "metadata": {},
   "source": [
    "Dictionaries hold collections of values in *key-value* pairs. In a dictionary each key **must** be *unique*, but values can be repeated. An example of a dictionary might be a *map* between a chemical element letter and the chemical element's name."
   ]
  },
  {
   "attachments": {},
   "cell_type": "markdown",
   "metadata": {},
   "source": [
    "### Create a dictionary"
   ]
  },
  {
   "attachments": {},
   "cell_type": "markdown",
   "metadata": {},
   "source": [
    "````{margin}\n",
    "```{important}\n",
    "Keys must be unique and immutable.\n",
    "```\n",
    "````\n",
    "````{margin}\n",
    "```{important}\n",
    "String keys are case sensitive: `abc` is different from `aBc`.\n",
    "```\n",
    "````\n",
    "\n",
    "\n",
    "The syntax for creating a dictionary is as follows:\n",
    "```python\n",
    "dictionary_name = {key1:value1, key2:value2....}\n",
    "```\n",
    "As stated previously, keys have to be unique and immutable. This means that we can use as key data-types such as strings, integers, floats, tuples, etc. While values can be of any type and can repeat as well. \n",
    "For example:"
   ]
  },
  {
   "cell_type": "code",
   "execution_count": 17,
   "metadata": {},
   "outputs": [
    {
     "data": {
      "text/plain": [
       "{'O': 'Oxygen', 'C': 'Carbon', 'Na': 'Sodium', 'H': 'Hydrogen'}"
      ]
     },
     "execution_count": 17,
     "metadata": {},
     "output_type": "execute_result"
    }
   ],
   "source": [
    "chemical_elements = {'O': 'Oxygen', 'C': 'Carbon', 'Na': 'Sodium', 'H':'Hydrogen'}\n",
    "chemical_elements"
   ]
  },
  {
   "attachments": {},
   "cell_type": "markdown",
   "metadata": {},
   "source": [
    "As you can see, `chemical_elements` is an example of a dictionary that *maps* the chemical symbol to the name of the element. The keys are strings and are *immutable*. In this case the values happen to be strings and as a result they are *immutable*, but this is not necessarily always the case.\n",
    "Consider a parabola. As you might now, it is symmetric with respect to the y-axis. So for the same value of the function, there will be two values of x. The keys of our dictionary will be the x-values and the values will be the y-values. Here is an example:"
   ]
  },
  {
   "cell_type": "code",
   "execution_count": 18,
   "metadata": {},
   "outputs": [
    {
     "data": {
      "text/plain": [
       "{0: 0, 1: 1, -1: 1, 2: 4, -2: 4}"
      ]
     },
     "execution_count": 18,
     "metadata": {},
     "output_type": "execute_result"
    }
   ],
   "source": [
    "parabola_dictionary = {0:0, 1:1, -1:1, 2:4, -2:4}\n",
    "parabola_dictionary"
   ]
  },
  {
   "attachments": {},
   "cell_type": "markdown",
   "metadata": {},
   "source": [
    "To access a single element we need to use the key. The syntax is as follows:\n",
    "```python\n",
    "dictionary_name[key]\n",
    "```\n",
    "For example:"
   ]
  },
  {
   "cell_type": "code",
   "execution_count": 19,
   "metadata": {},
   "outputs": [
    {
     "name": "stdout",
     "output_type": "stream",
     "text": [
      "Oxygen\n",
      "1\n"
     ]
    }
   ],
   "source": [
    "print(chemical_elements['O'])\n",
    "print(parabola_dictionary[1])"
   ]
  },
  {
   "attachments": {},
   "cell_type": "markdown",
   "metadata": {},
   "source": [
    "```{note}\n",
    "If we try to access a the value of a key that does not exist, we are going to get a `KeyError`.\n",
    "```"
   ]
  },
  {
   "cell_type": "code",
   "execution_count": 20,
   "metadata": {},
   "outputs": [
    {
     "ename": "KeyError",
     "evalue": "'Ca'",
     "output_type": "error",
     "traceback": [
      "\u001b[1;31m---------------------------------------------------------------------------\u001b[0m",
      "\u001b[1;31mKeyError\u001b[0m                                  Traceback (most recent call last)",
      "\u001b[1;32m~\\AppData\\Local\\Temp\\ipykernel_12404\\525199925.py\u001b[0m in \u001b[0;36m<module>\u001b[1;34m\u001b[0m\n\u001b[1;32m----> 1\u001b[1;33m \u001b[0mchemical_elements\u001b[0m\u001b[1;33m[\u001b[0m\u001b[1;34m'Ca'\u001b[0m\u001b[1;33m]\u001b[0m\u001b[1;33m\u001b[0m\u001b[1;33m\u001b[0m\u001b[0m\n\u001b[0m",
      "\u001b[1;31mKeyError\u001b[0m: 'Ca'"
     ]
    }
   ],
   "source": [
    "chemical_elements['Ca']"
   ]
  },
  {
   "attachments": {},
   "cell_type": "markdown",
   "metadata": {},
   "source": [
    "To prevent such errors, it is desirable to use the `get()` method of dictionaries. If the key exists, it returns the value associated with that key, otherwise it returns `None`. To return another message we can pass the message as a second argument to the `get()` method:"
   ]
  },
  {
   "cell_type": "code",
   "execution_count": 21,
   "metadata": {},
   "outputs": [
    {
     "data": {
      "text/plain": [
       "'Not present'"
      ]
     },
     "execution_count": 21,
     "metadata": {},
     "output_type": "execute_result"
    }
   ],
   "source": [
    "chemical_elements.get('Ca', 'Not present')"
   ]
  },
  {
   "attachments": {},
   "cell_type": "markdown",
   "metadata": {},
   "source": [
    "### Adding key-value pairs"
   ]
  },
  {
   "attachments": {},
   "cell_type": "markdown",
   "metadata": {},
   "source": [
    "We can add a key-value pair for a key that does not already exist in a dictionary as follows:\n",
    "```python\n",
    "dictionary_name[new_key]=value\n",
    "```\n",
    "For example, if we want to add `Potassium` to the `chemical_elements` dictionary then we would write:"
   ]
  },
  {
   "cell_type": "code",
   "execution_count": 22,
   "metadata": {},
   "outputs": [
    {
     "data": {
      "text/plain": [
       "{'O': 'Oxygen',\n",
       " 'C': 'Carbon',\n",
       " 'Na': 'Sodium',\n",
       " 'H': 'Hydrogen',\n",
       " 'K': 'Potassium'}"
      ]
     },
     "execution_count": 22,
     "metadata": {},
     "output_type": "execute_result"
    }
   ],
   "source": [
    "chemical_elements['K'] = 'Potassium'\n",
    "chemical_elements"
   ]
  },
  {
   "attachments": {},
   "cell_type": "markdown",
   "metadata": {},
   "source": [
    "If the key `'K'` was present and we try to add it again., it will simply override the existing entry."
   ]
  },
  {
   "cell_type": "code",
   "execution_count": 23,
   "metadata": {},
   "outputs": [
    {
     "data": {
      "text/plain": [
       "{'O': 'Oxygen',\n",
       " 'C': 'Carbon',\n",
       " 'Na': 'Sodium',\n",
       " 'H': 'Hydrogen',\n",
       " 'K': 'Potassium'}"
      ]
     },
     "execution_count": 23,
     "metadata": {},
     "output_type": "execute_result"
    }
   ],
   "source": [
    "chemical_elements['K']='Potassium'\n",
    "chemical_elements"
   ]
  },
  {
   "attachments": {},
   "cell_type": "markdown",
   "metadata": {},
   "source": [
    "### Removing key-value pairs"
   ]
  },
  {
   "attachments": {},
   "cell_type": "markdown",
   "metadata": {},
   "source": [
    "In order to remove a key-value pair from a dictionary we need to use the **del** operator:\n",
    "```python\n",
    "del dictionary_name[key]\n",
    "```"
   ]
  },
  {
   "cell_type": "code",
   "execution_count": 24,
   "metadata": {},
   "outputs": [
    {
     "data": {
      "text/plain": [
       "{'O': 'Oxygen', 'C': 'Carbon', 'Na': 'Sodium', 'H': 'Hydrogen'}"
      ]
     },
     "execution_count": 24,
     "metadata": {},
     "output_type": "execute_result"
    }
   ],
   "source": [
    "del chemical_elements['K']\n",
    "chemical_elements"
   ]
  },
  {
   "attachments": {},
   "cell_type": "markdown",
   "metadata": {},
   "source": [
    "### Updating key-value pairs"
   ]
  },
  {
   "attachments": {},
   "cell_type": "markdown",
   "metadata": {},
   "source": [
    "In order to update a value related to a key we just access the value corresponding to that key and assign a new value. The syntax is as follows:\n",
    "```python\n",
    "dictionary_names[key] = new_value\n",
    "```\n",
    "For example, we can add again 'Potasium' to the list, misspelled and then change it to the correct version:"
   ]
  },
  {
   "cell_type": "code",
   "execution_count": 25,
   "metadata": {},
   "outputs": [
    {
     "data": {
      "text/plain": [
       "{'O': 'Oxygen',\n",
       " 'C': 'Carbon',\n",
       " 'Na': 'Sodium',\n",
       " 'H': 'Hydrogen',\n",
       " 'K': 'Potasium'}"
      ]
     },
     "execution_count": 25,
     "metadata": {},
     "output_type": "execute_result"
    }
   ],
   "source": [
    "chemical_elements['K'] = 'Potasium' # adding Potassium again\n",
    "chemical_elements"
   ]
  },
  {
   "cell_type": "code",
   "execution_count": 26,
   "metadata": {},
   "outputs": [
    {
     "data": {
      "text/plain": [
       "{'O': 'Oxygen',\n",
       " 'C': 'Carbon',\n",
       " 'Na': 'Sodium',\n",
       " 'H': 'Hydrogen',\n",
       " 'K': 'Potassium'}"
      ]
     },
     "execution_count": 26,
     "metadata": {},
     "output_type": "execute_result"
    }
   ],
   "source": [
    "chemical_elements['K'] = 'Potassium' # change to the correct spelled version\n",
    "chemical_elements"
   ]
  },
  {
   "attachments": {},
   "cell_type": "markdown",
   "metadata": {},
   "source": [
    "### Accessing keys, values and key-value pairs"
   ]
  },
  {
   "attachments": {},
   "cell_type": "markdown",
   "metadata": {},
   "source": [
    "In order to get keys, values and key-value pairs of a dictionary we need to use the respective methods: `keys()`, `values()` and  `items()`. All this methods return *views* of the items retrieved. This means that each time we invoke them, the values from the dictionary will be returned and the return is not saved anywhere. To better understand this, look at this example:"
   ]
  },
  {
   "attachments": {},
   "cell_type": "markdown",
   "metadata": {},
   "source": [
    "#### Accessing keys"
   ]
  },
  {
   "cell_type": "code",
   "execution_count": 33,
   "metadata": {},
   "outputs": [
    {
     "data": {
      "text/plain": [
       "dict_keys(['O', 'C', 'Na', 'H', 'K'])"
      ]
     },
     "execution_count": 33,
     "metadata": {},
     "output_type": "execute_result"
    }
   ],
   "source": [
    "chemical_keys = chemical_elements.keys()\n",
    "chemical_keys"
   ]
  },
  {
   "cell_type": "code",
   "execution_count": 34,
   "metadata": {},
   "outputs": [
    {
     "data": {
      "text/plain": [
       "dict_keys(['O', 'C', 'Na', 'H', 'K', 'Ca'])"
      ]
     },
     "execution_count": 34,
     "metadata": {},
     "output_type": "execute_result"
    }
   ],
   "source": [
    "chemical_elements['Ca'] = 'Calcium'\n",
    "chemical_keys"
   ]
  },
  {
   "attachments": {},
   "cell_type": "markdown",
   "metadata": {},
   "source": [
    "First of all, as you can see the return type is `dict_keys`. The second thing to note is that, despite that we do not update the values of the variable `chemical_keys`, it implicitly is updated and contains the new value. This is the role of a view, it gives a view of the keys and it **does not keep a copy** of the keys."
   ]
  },
  {
   "attachments": {},
   "cell_type": "markdown",
   "metadata": {},
   "source": [
    "#### Accessing values"
   ]
  },
  {
   "attachments": {},
   "cell_type": "markdown",
   "metadata": {},
   "source": [
    "Similarly, to  access the values we can use the `values()` method. Again it will return a view of the dictionary values:"
   ]
  },
  {
   "cell_type": "code",
   "execution_count": 35,
   "metadata": {},
   "outputs": [
    {
     "data": {
      "text/plain": [
       "dict_values(['Oxygen', 'Carbon', 'Sodium', 'Hydrogen', 'Potassium', 'Calcium'])"
      ]
     },
     "execution_count": 35,
     "metadata": {},
     "output_type": "execute_result"
    }
   ],
   "source": [
    "chemical_values = chemical_elements.values()\n",
    "chemical_values"
   ]
  },
  {
   "attachments": {},
   "cell_type": "markdown",
   "metadata": {},
   "source": [
    "Again, it returns a `dict_values` type.\n",
    "\n",
    "To ensure that there is no copy of data saved in `chemical_values`, we will delete `Calcium`:"
   ]
  },
  {
   "cell_type": "code",
   "execution_count": 36,
   "metadata": {},
   "outputs": [
    {
     "data": {
      "text/plain": [
       "dict_values(['Oxygen', 'Carbon', 'Sodium', 'Hydrogen', 'Potassium'])"
      ]
     },
     "execution_count": 36,
     "metadata": {},
     "output_type": "execute_result"
    }
   ],
   "source": [
    "del chemical_elements['Ca']\n",
    "chemical_values"
   ]
  },
  {
   "attachments": {},
   "cell_type": "markdown",
   "metadata": {},
   "source": [
    "As you can see, there is no `Calcium` anymore in the values of the dictionary."
   ]
  },
  {
   "attachments": {},
   "cell_type": "markdown",
   "metadata": {},
   "source": [
    "#### Accessing key-value pairs"
   ]
  },
  {
   "attachments": {},
   "cell_type": "markdown",
   "metadata": {},
   "source": [
    "To access `key-value` pairs we can use the `items()` method. Again it will return a view."
   ]
  },
  {
   "cell_type": "code",
   "execution_count": 37,
   "metadata": {},
   "outputs": [
    {
     "data": {
      "text/plain": [
       "dict_items([('O', 'Oxygen'), ('C', 'Carbon'), ('Na', 'Sodium'), ('H', 'Hydrogen'), ('K', 'Potassium')])"
      ]
     },
     "execution_count": 37,
     "metadata": {},
     "output_type": "execute_result"
    }
   ],
   "source": [
    "chemical_pairs = chemical_elements.items()\n",
    "chemical_pairs"
   ]
  },
  {
   "attachments": {},
   "cell_type": "markdown",
   "metadata": {},
   "source": [
    "### Searching dictionaries for specific keys"
   ]
  },
  {
   "attachments": {},
   "cell_type": "markdown",
   "metadata": {},
   "source": [
    "In order to check whether a certain key is in the dictionary we can use the `in` or `not in` operators:"
   ]
  },
  {
   "cell_type": "code",
   "execution_count": 27,
   "metadata": {},
   "outputs": [
    {
     "data": {
      "text/plain": [
       "False"
      ]
     },
     "execution_count": 27,
     "metadata": {},
     "output_type": "execute_result"
    }
   ],
   "source": [
    "'Ca' in chemical_elements"
   ]
  },
  {
   "cell_type": "code",
   "execution_count": 28,
   "metadata": {},
   "outputs": [
    {
     "data": {
      "text/plain": [
       "True"
      ]
     },
     "execution_count": 28,
     "metadata": {},
     "output_type": "execute_result"
    }
   ],
   "source": [
    "'Ca' not in chemical_elements"
   ]
  },
  {
   "attachments": {},
   "cell_type": "markdown",
   "metadata": {},
   "source": [
    "As you can see, since there is no entry in the dictionary whose key is `Ca`, the output is `False`. If the key is present then it would output `True`."
   ]
  },
  {
   "cell_type": "code",
   "execution_count": 29,
   "metadata": {},
   "outputs": [
    {
     "data": {
      "text/plain": [
       "True"
      ]
     },
     "execution_count": 29,
     "metadata": {},
     "output_type": "execute_result"
    }
   ],
   "source": [
    "'Na' in chemical_elements"
   ]
  },
  {
   "cell_type": "code",
   "execution_count": 30,
   "metadata": {},
   "outputs": [
    {
     "data": {
      "text/plain": [
       "False"
      ]
     },
     "execution_count": 30,
     "metadata": {},
     "output_type": "execute_result"
    }
   ],
   "source": [
    "'Na' not in chemical_elements"
   ]
  },
  {
   "attachments": {},
   "cell_type": "markdown",
   "metadata": {},
   "source": [
    "### **update()** method"
   ]
  },
  {
   "attachments": {},
   "cell_type": "markdown",
   "metadata": {},
   "source": [
    "### Dictionary Comprehensions"
   ]
  }
 ],
 "metadata": {
  "kernelspec": {
   "display_name": "python-jb",
   "language": "python",
   "name": "python3"
  },
  "language_info": {
   "codemirror_mode": {
    "name": "ipython",
    "version": 3
   },
   "file_extension": ".py",
   "mimetype": "text/x-python",
   "name": "python",
   "nbconvert_exporter": "python",
   "pygments_lexer": "ipython3",
   "version": "3.7.13"
  },
  "orig_nbformat": 4,
  "vscode": {
   "interpreter": {
    "hash": "0c2f5c4fba51b93f19e499abfcc9ef4d6fee5bb503e49077d95162365c0a0cb3"
   }
  }
 },
 "nbformat": 4,
 "nbformat_minor": 2
}
