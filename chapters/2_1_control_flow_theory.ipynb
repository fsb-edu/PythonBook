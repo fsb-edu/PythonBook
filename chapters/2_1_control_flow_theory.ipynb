{
 "cells": [
  {
   "attachments": {},
   "cell_type": "markdown",
   "metadata": {},
   "source": [
    "# Readings"
   ]
  },
  {
   "attachments": {},
   "cell_type": "markdown",
   "metadata": {},
   "source": [
    "(chapter2-label)=\n",
    "## Algorithms and Pseudocode"
   ]
  },
  {
   "attachments": {},
   "cell_type": "markdown",
   "metadata": {},
   "source": [
    "Before we sit down and write code to solve a problem, it is important to have a plan on how to solve the problem. This series of steps that will solve the problem is called an **algorithm**."
   ]
  },
  {
   "attachments": {},
   "cell_type": "markdown",
   "metadata": {},
   "source": [
    "Algorithms can be expressed in *pseudocode* or *flowcharts* before being actually written. *Pseudocode* is writing code but in normal, spoken language. On the other hand a *flowchart* is a graphical representation of the flow of control (order of steps) of an  algorithm."
   ]
  },
  {
   "attachments": {},
   "cell_type": "markdown",
   "metadata": {},
   "source": [
    "Let us look at an example. Suppose we want to see if a number is positive or negative. {numref}`fwch-pseudo` below shows an example of an algorithm's pseudocode and flowchart."
   ]
  },
  {
   "attachments": {},
   "cell_type": "markdown",
   "metadata": {},
   "source": [
    "```{figure} ../images/2_control_flow/flowchart_pseudocode.jpg\n",
    ":alt: flowchart_pseudocode_illustration\n",
    ":name: fwch-pseudo\n",
    ":class: ch3\n",
    ":align: center\n",
    "\n",
    "Pseudocode and Flowchart Example\n",
    "```"
   ]
  },
  {
   "attachments": {},
   "cell_type": "markdown",
   "metadata": {},
   "source": [
    "Here is the program from the flowchart and pseudocode."
   ]
  },
  {
   "cell_type": "code",
   "execution_count": 5,
   "metadata": {},
   "outputs": [
    {
     "name": "stdout",
     "output_type": "stream",
     "text": [
      "Negative number\n"
     ]
    }
   ],
   "source": [
    "x = -5\n",
    "if x > 0:\n",
    "    print('Positive number')\n",
    "if x < 0:\n",
    "    print('Negative number')"
   ]
  },
  {
   "attachments": {},
   "cell_type": "markdown",
   "metadata": {},
   "source": [
    "## Conditional Statements"
   ]
  },
  {
   "attachments": {},
   "cell_type": "markdown",
   "metadata": {},
   "source": [
    "Conditional statements are used to decide which part of the code should be executed based on whether a specific condition is fulfilled or not. "
   ]
  },
  {
   "attachments": {},
   "cell_type": "markdown",
   "metadata": {},
   "source": [
    "### if statements"
   ]
  },
  {
   "attachments": {},
   "cell_type": "markdown",
   "metadata": {},
   "source": [
    "The syntax for the one-way conditional statement is:\n",
    "\n",
    "```python\n",
    "if condition:\n",
    "    do something\n",
    "```\n",
    "The code inside the `if` block will be executed only if the condition in the `if` statement evaluates to `True`. Let us look at some examples."
   ]
  },
  {
   "cell_type": "code",
   "execution_count": 9,
   "metadata": {},
   "outputs": [
    {
     "name": "stdout",
     "output_type": "stream",
     "text": [
      "x is positive\n"
     ]
    }
   ],
   "source": [
    "x = 5\n",
    "if x > 0:\n",
    "    print('x is positive')"
   ]
  },
  {
   "attachments": {},
   "cell_type": "markdown",
   "metadata": {},
   "source": [
    "Since the condition of the `if` statement evaluates to `True`, the `print` statement is going to be executed and we see the printed result."
   ]
  },
  {
   "cell_type": "code",
   "execution_count": 7,
   "metadata": {},
   "outputs": [],
   "source": [
    "if x < 0:\n",
    "    print('x is negative')"
   ]
  },
  {
   "attachments": {},
   "cell_type": "markdown",
   "metadata": {},
   "source": [
    "As expected, the above code cell does not display anything because the condition `x > 0` evaluates to `False`, thus the code block inside the `if` statement does not execute."
   ]
  },
  {
   "attachments": {},
   "cell_type": "markdown",
   "metadata": {},
   "source": [
    "(if-else-label)=\n",
    "### if-else statements"
   ]
  },
  {
   "attachments": {},
   "cell_type": "markdown",
   "metadata": {},
   "source": [
    "if-else statements are also known as two-way conditional or selection statements. The syntax of the `if-else` statement is as follows:\n",
    "\n",
    "```python\n",
    "if condition:\n",
    "    do something\n",
    "else:\n",
    "    do something else\n",
    "```\n",
    "\n",
    "The control flow is: if the condition in  the `if` statement is `True`, then the block inside the `if` statement is going to get executed. If the condition fails, then the block in the `else` statement will be executed."
   ]
  },
  {
   "attachments": {},
   "cell_type": "markdown",
   "metadata": {},
   "source": [
    "To better understand this, let us look at some examples."
   ]
  },
  {
   "cell_type": "code",
   "execution_count": 13,
   "metadata": {},
   "outputs": [
    {
     "name": "stdout",
     "output_type": "stream",
     "text": [
      "Congratulations! You passed the level.\n"
     ]
    }
   ],
   "source": [
    "points = 100\n",
    "if points >= 85:\n",
    "    print('Congratulations! You passed the level.')\n",
    "else:\n",
    "    print('Try again.')"
   ]
  },
  {
   "attachments": {},
   "cell_type": "markdown",
   "metadata": {},
   "source": [
    "````{margin}\n",
    "```{note}\n",
    "It suffices that the *condition* is a boolean expression that evaluates to `True` or `False`.\n",
    "```\n",
    "````\n",
    "\n",
    "````{margin}\n",
    "```{note}\n",
    "All non-zero numerical values and all non-empty strings evaluate to `True`. A `0` or an empty string (`''`) evaluate to `False`.\n",
    "```\n",
    "````\n",
    "In this case, we are assigning the value `100` to the `point` variable. The condition in the `if` statement evaluates to `True`, so the `print` statement inside the `if` block is going to be executed. The block in the `else` statement is completely ignored and the execution would continue with whatever comes after the `if-else` block."
   ]
  },
  {
   "cell_type": "code",
   "execution_count": 1,
   "metadata": {},
   "outputs": [
    {
     "name": "stdout",
     "output_type": "stream",
     "text": [
      "No need for umbrella today.\n"
     ]
    }
   ],
   "source": [
    "is_rainning = False\n",
    "if is_rainning:\n",
    "    print('Take the umbrella with you.')\n",
    "else:\n",
    "    print('No need for umbrella today.')"
   ]
  },
  {
   "attachments": {},
   "cell_type": "markdown",
   "metadata": {},
   "source": [
    "In the above code snippet, `is_rainning` is set to `False`. This means that the condition in the `if` statement will be `False` so whatever is in the `else` block will be executed. Thus, in this case we see the `string` in the `else` block printed out."
   ]
  },
  {
   "attachments": {},
   "cell_type": "markdown",
   "metadata": {},
   "source": [
    "(if-elseif-else-label)=\n",
    "### if-elif-else statements"
   ]
  },
  {
   "attachments": {},
   "cell_type": "markdown",
   "metadata": {},
   "source": [
    "What happens if there are multiple conditions to check? Clearly the one-way and two-way selection statements are not enough. For this, the `if-elif-else` statements are useful. The syntax of the `if-elif-else` statements is:\n",
    "\n",
    "```python\n",
    "if condition_1:\n",
    "    do action_1\n",
    "elif condition_2:\n",
    "    do action_2\n",
    "else:\n",
    "    do action_3\n",
    "```\n",
    "\n",
    "We can chain as many conditions as we want in `elif` blocks, however the starting block is an `if` block and the end block is an `else` block to account for default cases."
   ]
  },
  {
   "attachments": {},
   "cell_type": "markdown",
   "metadata": {},
   "source": [
    "Let us see some examples below. We want to model the grading scale of ETH to the descriptions for each grade."
   ]
  },
  {
   "cell_type": "code",
   "execution_count": 34,
   "metadata": {},
   "outputs": [],
   "source": [
    "grade = 5"
   ]
  },
  {
   "cell_type": "code",
   "execution_count": 35,
   "metadata": {},
   "outputs": [
    {
     "name": "stdout",
     "output_type": "stream",
     "text": [
      "Good\n"
     ]
    }
   ],
   "source": [
    "if grade>=5.75 and grade<=6.0:\n",
    "    print('Excellent')\n",
    "elif grade>=5.25 and grade<=5.5:\n",
    "    print('Very Good')\n",
    "elif grade>=4.75 and grade<=5.0:\n",
    "    print('Good')\n",
    "elif grade>=4.25 and grade<=4.5:\n",
    "    print('Satisfactory')\n",
    "elif grade==4.0:\n",
    "    print('Sufficient')\n",
    "else:\n",
    "    print('Insufficient')"
   ]
  },
  {
   "attachments": {},
   "cell_type": "markdown",
   "metadata": {},
   "source": [
    "In this case, each condition will be evaluated from the beginning of the whole code snippet until the end. The first condition to be checked will the one in the `if` statement. If that evaluates to `True`, `Excellent` will be printed and the other statements skipped. If the condition fails, then the second one is checked. The same logic is used until either a condition evaluates to `True` or the `else` statement is reached. "
   ]
  },
  {
   "attachments": {},
   "cell_type": "markdown",
   "metadata": {},
   "source": [
    "It is not mandatory to include an `else` statement in the end. However, there will not be any action taken if all previous conditions have failed.\n",
    "````{margin}\n",
    "```{warning}\n",
    "Be careful not to confuse the **assignement** operator `=` with the equality **comparison** operator `==`.\n",
    "```\n",
    "````"
   ]
  },
  {
   "cell_type": "code",
   "execution_count": 40,
   "metadata": {},
   "outputs": [],
   "source": [
    "grade = 3\n",
    "if grade>=5.75 and grade<=6.0:\n",
    "    print('Excellent')\n",
    "elif grade>=5.25 and grade<=5.5:\n",
    "    print('Very Good')\n",
    "elif grade>=4.75 and grade<=5.0:\n",
    "    print('Good')\n",
    "elif grade>=4.25 and grade<=4.5:\n",
    "    print('Satisfactory')\n",
    "elif grade==4.0:\n",
    "    print('Sufficient')\n",
    "elif grade>6.0 or grade<1:\n",
    "    print('Wrong grade')"
   ]
  },
  {
   "attachments": {},
   "cell_type": "markdown",
   "metadata": {},
   "source": [
    "In this case, nothing is printed because no condition evaluates to `True` when `grade = 3`."
   ]
  },
  {
   "attachments": {},
   "cell_type": "markdown",
   "metadata": {},
   "source": [
    "```{note}\n",
    "It is also possible to nest `if` blocks inside an `if`, `else` or `elif` blocks. An example would be the following code snippet:\n",
    "```"
   ]
  },
  {
   "cell_type": "code",
   "execution_count": 37,
   "metadata": {},
   "outputs": [
    {
     "name": "stdout",
     "output_type": "stream",
     "text": [
      "Good or Satisfactory\n"
     ]
    }
   ],
   "source": [
    "grade = 5\n",
    "if grade>=5.25:\n",
    "    if grade>=5.75: # grade is already greater than 5.25, is it greater than 5.75 too?\n",
    "        print('Excellent')\n",
    "    else: #grade greater than 5.25 but less than 5.75\n",
    "        print('Very Good')\n",
    "else: # grade less than 5.25\n",
    "    print('Good or Satisfactory')"
   ]
  },
  {
   "attachments": {},
   "cell_type": "markdown",
   "metadata": {},
   "source": [
    "````{warning}\n",
    "It is important to pay attention to indentation in Python. Adding unnecessary indentation will lead to `IndentationError`. Indentation should be consistent inside code blocks. See the below code for an example of a situation that will cause this error.\n",
    "```python\n",
    "grade = 5\n",
    "if grade>=5.25:\n",
    "     if grade>=5.75: # added extra space at the beginning of this line\n",
    "         print('Excellent')\n",
    "    else: \n",
    "        print('Very Good')\n",
    " else: # adding extra space at the beginning of this line\n",
    "    print('Good or Satisfactory')\n",
    "```\n",
    "````"
   ]
  },
  {
   "attachments": {},
   "cell_type": "markdown",
   "metadata": {},
   "source": [
    "### Ternary Operator"
   ]
  },
  {
   "attachments": {},
   "cell_type": "markdown",
   "metadata": {},
   "source": [
    "The **ternary operator** offers a short-hand notation for an if-else statement. Its structure is:\n",
    "```python\n",
    "variable_name = value_1 if condition is True else value_2\n",
    "```\n",
    "The `variable_name` will be assigned `value_1` if the condition is `True`, otherwise it will be assigned the `value_2`. An example would be:"
   ]
  },
  {
   "cell_type": "code",
   "execution_count": 6,
   "metadata": {},
   "outputs": [
    {
     "name": "stdout",
     "output_type": "stream",
     "text": [
      "Number 5 is odd\n"
     ]
    }
   ],
   "source": [
    "number = 5\n",
    "value = 'odd' if number%2==1 else 'even'\n",
    "print('Number', number, 'is', value)"
   ]
  },
  {
   "attachments": {},
   "cell_type": "markdown",
   "metadata": {},
   "source": [
    "Thinking of the previous example in {ref}`if-else Section <if-else-label>`, it would be transformed to: "
   ]
  },
  {
   "cell_type": "code",
   "execution_count": 3,
   "metadata": {},
   "outputs": [
    {
     "name": "stdout",
     "output_type": "stream",
     "text": [
      "Take the umbrella with you.\n"
     ]
    }
   ],
   "source": [
    "is_rainning = True\n",
    "print('Take the umbrella with you.' if is_rainning else 'No need for umbrella today.')"
   ]
  },
  {
   "attachments": {},
   "cell_type": "markdown",
   "metadata": {},
   "source": [
    "## Loops"
   ]
  },
  {
   "attachments": {},
   "cell_type": "markdown",
   "metadata": {},
   "source": [
    "Sometimes some part of code needs to run repeatedly as long as a condition holds. In this cases, it is almost impossible to write sequential code to accomplish this because this would end up in a pile of copy-pasted statements that is very difficult to maintain later on. That's where *loops* are handy. Python has two built-in loop structures: ***while*** and ***for*** loops. Below we will see both of them in details."
   ]
  },
  {
   "attachments": {},
   "cell_type": "markdown",
   "metadata": {},
   "source": [
    "### **while** loop"
   ]
  },
  {
   "attachments": {},
   "cell_type": "markdown",
   "metadata": {},
   "source": [
    "The structure of a ***while*** loop is:\n",
    "\n",
    "```python\n",
    "while(condition is true):\n",
    "    do something\n",
    "```\n",
    "\n",
    "The ***while*** loop will run the block inside for as many times as the condition in the brackets () will hold. \n",
    "Let us see a classic example.\n"
   ]
  },
  {
   "cell_type": "code",
   "execution_count": 5,
   "metadata": {},
   "outputs": [
    {
     "name": "stdout",
     "output_type": "stream",
     "text": [
      "i = 5\n",
      "i = 4\n",
      "i = 3\n",
      "i = 2\n",
      "i = 1\n"
     ]
    }
   ],
   "source": [
    "i = 5\n",
    "while(i>0):\n",
    "    print('i =',i)\n",
    "    i=i-1"
   ]
  },
  {
   "attachments": {},
   "cell_type": "markdown",
   "metadata": {},
   "source": [
    "As you can see, the above loop will repeat the block\n",
    "\n",
    "```python\n",
    "    print('i = ', i)\n",
    "    i = i-1\n",
    "```\n",
    "until the condition `i>0` will be true. Each time the body of the loop gets executed, the value of i is printed and the next step is to decrease the value of i by 1. This process will repeat 5 times. After 1 has been printed, `i` becomes 0 and the condition that `i>0` fails, thus we get out of the loop. `i` is also called the **loop condition variable**. {numref}`while-fwch-pseudo` shows the flowchart for the above code snippet.\n",
    "\n",
    "In case we do not decrease the value of i then, the loop would run forever. This is otherwise known as **infinite loop**. Let us examine why would this happen. Since we never change the value of `i` anywhere, `i` in each iteration will be `5`. This means that the condition `i>0` will always be true and the body of the loop would run forever.\n",
    "\n",
    "```{warning}\n",
    "Do not forget to update the value of the **loop condition variable** in the body of the while loop, otherwise you might encounter an **infinite loop** that will never finish executing.\n",
    "```"
   ]
  },
  {
   "attachments": {},
   "cell_type": "markdown",
   "metadata": {},
   "source": [
    "```{figure} ../images/2_control_flow/while_fw_ch.jpg\n",
    ":alt: while_flowchart_illustration\n",
    ":name: while-fwch-pseudo\n",
    ":class: ch3\n",
    ":align: center\n",
    "\n",
    "While Loop Flowchart\n",
    "```"
   ]
  },
  {
   "attachments": {},
   "cell_type": "markdown",
   "metadata": {},
   "source": [
    "### **for** loop"
   ]
  },
  {
   "attachments": {},
   "cell_type": "markdown",
   "metadata": {},
   "source": [
    "The **for-loop** has the same purpose as the **while-loop** but it has a different structure, which looks like this:\n",
    "\n",
    "```python\n",
    "for(variable in sequence):\n",
    "    do something\n",
    "```\n",
    "\n",
    "```{note}\n",
    "As you can see from the structure above, when we use a **for-loop** we are more protected from an infinite loop than in **while-loops**.\n",
    "``` "
   ]
  },
  {
   "attachments": {},
   "cell_type": "markdown",
   "metadata": {},
   "source": [
    "The above **while-loop** written using a **for-loop** would look like this:"
   ]
  },
  {
   "attachments": {},
   "cell_type": "markdown",
   "metadata": {},
   "source": [
    "````{margin}\n",
    "```{note}\n",
    "Whatever is enclosed in [] is a list. We will see them in the upcoming chapters.\n",
    "```\n",
    "````"
   ]
  },
  {
   "cell_type": "code",
   "execution_count": 61,
   "metadata": {},
   "outputs": [
    {
     "name": "stdout",
     "output_type": "stream",
     "text": [
      "i = 5\n",
      "i = 4\n",
      "i = 3\n",
      "i = 2\n",
      "i = 1\n"
     ]
    }
   ],
   "source": [
    "for i in [5,4,3,2,1]:\n",
    "    print('i =', i)"
   ]
  },
  {
   "attachments": {},
   "cell_type": "markdown",
   "metadata": {},
   "source": [
    "We have a list of numbers `[5, 4, 3, 2, 1]`. The **for-loop** will iterate over this list of numbers and for each of the elements will run the statement `print('i = ', i)`. In each iteration one of the elements of the list is assigned to the variable `i`, which then is printed. Basically, the loop will finish the execution once there are no more elements on the list anymore. As you can see, here we do not need to explicitly change the value of the loop continuation variable."
   ]
  },
  {
   "attachments": {},
   "cell_type": "markdown",
   "metadata": {},
   "source": [
    "Just like iterating over a list of umber we can iterate over a string as well."
   ]
  },
  {
   "cell_type": "code",
   "execution_count": 11,
   "metadata": {},
   "outputs": [
    {
     "name": "stdout",
     "output_type": "stream",
     "text": [
      "W/e/l/c/o/m/e/ /t/o/ /P/y/t/h/o/n/ /P/r/o/g/r/a/m/m/i/n/g/!/"
     ]
    }
   ],
   "source": [
    "for c in 'Welcome to Python Programming!':\n",
    "    print(c, end='/')"
   ]
  },
  {
   "attachments": {},
   "cell_type": "markdown",
   "metadata": {},
   "source": [
    "In each iteration, one of the letters of the string `Welcome to Python Programming!` is assigned to the loop variable `c` which is printed. The `end` argument provided to the `print` function defines the character that will separate `c`s' values when they are printed. In this case, we are using a forward-slash(`/`). If we do not provide anything, like in the above code snippets, then the default value of the `end` parameter is the newline character (`\\n`). That is the reason why everything we have printed in the previous examples have been on a new line."
   ]
  },
  {
   "attachments": {},
   "cell_type": "markdown",
   "metadata": {},
   "source": [
    "#### for-loop with an **else** clause"
   ]
  },
  {
   "attachments": {},
   "cell_type": "markdown",
   "metadata": {},
   "source": [
    "````{margin}\n",
    "```{note}\n",
    "The same can be achieved even without introducing the **else** block after a **for** loop. Just put the last `print` statement in the same indentation level as the **for** loop (outside the for loop). \n",
    "````\n",
    "In Python it is possible to have an **else** block after a **for** loop. In this case, the **else** block will have a similar function to that in the **if-else** statements, it will do something after all elements are exhausted. See the example below."
   ]
  },
  {
   "cell_type": "code",
   "execution_count": 48,
   "metadata": {},
   "outputs": [
    {
     "name": "stdout",
     "output_type": "stream",
     "text": [
      "0\n",
      "1\n",
      "2\n",
      "Loop is done\n"
     ]
    }
   ],
   "source": [
    "for i in [0,1,2]:\n",
    "    print(i)\n",
    "else:\n",
    "    print('Loop is done')"
   ]
  },
  {
   "attachments": {},
   "cell_type": "markdown",
   "metadata": {},
   "source": [
    "### Nested loops"
   ]
  },
  {
   "attachments": {},
   "cell_type": "markdown",
   "metadata": {},
   "source": [
    "It is possible to nest a loop inside another one being them for- or while- loops. Let' us see this in action. We want to find out the best combination of a fermented food with a fermented drink. To do this, we first have to find out and print all combinations. Below you can see the list of `fermented_foods` and `fermented_drinks` available."
   ]
  },
  {
   "cell_type": "code",
   "execution_count": 62,
   "metadata": {},
   "outputs": [
    {
     "name": "stdout",
     "output_type": "stream",
     "text": [
      "kimchi - tequila\n",
      "kimchi - mezcal\n",
      "kimchi - wine\n",
      "sourdough - tequila\n",
      "sourdough - mezcal\n",
      "sourdough - wine\n",
      "cheese - tequila\n",
      "cheese - mezcal\n",
      "cheese - wine\n"
     ]
    }
   ],
   "source": [
    "fermented_foods = ['kimchi', 'sourdough', 'cheese']\n",
    "fermented_drinks = ['tequila', 'mezcal', 'wine']\n",
    "\n",
    "for food in fermented_foods:\n",
    "    for drink in fermented_drinks:\n",
    "        print(food,'-', drink)"
   ]
  },
  {
   "attachments": {},
   "cell_type": "markdown",
   "metadata": {},
   "source": [
    "So you can see all possible combinations of foods and drinks that we had in our lists. As you can see for each `food` in the outer list we iterate 3 times, since there are 3 drinks in the `fermented_drinks` list. So in total the whole block would iterate 9 times: 3 times the outer loop for each of the foods in the `fermented_foods` list and for each food it iterates 3 times over the list of drinks."
   ]
  },
  {
   "attachments": {},
   "cell_type": "markdown",
   "metadata": {},
   "source": [
    "````{margin}\n",
    "```{note}\n",
    "In Chapter 5 we will see how to access elements of a list in more details. Now assume that `fermented_foods[i]` accesses the element at position *i* of the `fermented_foods` list.\n",
    "```\n",
    "````{margin}\n",
    "```{important}\n",
    "Python uses 0-based indexing, this means that the first element in a list has position 0 and the last element will have position *number_of_elements-1*. We will see this in the upcoming chapters.\n",
    "```\n",
    "````\n",
    "```{note}\n",
    "It is also possible to nest a **for** with a **while** loop or vice versa. Try this out!\n",
    "```"
   ]
  },
  {
   "cell_type": "code",
   "execution_count": 63,
   "metadata": {},
   "outputs": [
    {
     "name": "stdout",
     "output_type": "stream",
     "text": [
      "kimchi - tequila\n",
      "kimchi - mezcal\n",
      "kimchi - wine\n",
      "sourdough - tequila\n",
      "sourdough - mezcal\n",
      "sourdough - wine\n",
      "cheese - tequila\n",
      "cheese - mezcal\n",
      "cheese - wine\n"
     ]
    }
   ],
   "source": [
    "i = 0\n",
    "while i<3:\n",
    "    for drink in fermented_drinks:\n",
    "        print(fermented_foods[i],'-', drink)\n",
    "    i = i + 1"
   ]
  },
  {
   "attachments": {},
   "cell_type": "markdown",
   "metadata": {},
   "source": [
    "### **range()** function "
   ]
  },
  {
   "attachments": {},
   "cell_type": "markdown",
   "metadata": {},
   "source": [
    "The **range()** function is another built-in function in Python. As its name suggests, it is useful to build ranges of values. For example, if we want to iterate over the range from 0 to 5 we would write:"
   ]
  },
  {
   "cell_type": "code",
   "execution_count": 51,
   "metadata": {},
   "outputs": [
    {
     "name": "stdout",
     "output_type": "stream",
     "text": [
      "0 1 2 3 4 5 "
     ]
    }
   ],
   "source": [
    "for i in range(0,6):\n",
    "    print(i, end=' ')"
   ]
  },
  {
   "attachments": {},
   "cell_type": "markdown",
   "metadata": {},
   "source": [
    "The general syntax for the **range()** function is: \n",
    "```python\n",
    "range(start, end, step)\n",
    "```\n",
    "The `start` value is inclusive while the `end` value is non-inclusive. That is why in the example above, we had to specify 6 as the end value. The `step` determines how much we should add to each value."
   ]
  },
  {
   "attachments": {},
   "cell_type": "markdown",
   "metadata": {},
   "source": [
    "If we want a decreasing range, we would write:"
   ]
  },
  {
   "cell_type": "code",
   "execution_count": 53,
   "metadata": {},
   "outputs": [
    {
     "name": "stdout",
     "output_type": "stream",
     "text": [
      "5 4 3 2 1 "
     ]
    }
   ],
   "source": [
    "for i in range(5, 0, -1):\n",
    "    print(i, end=' ')"
   ]
  },
  {
   "attachments": {},
   "cell_type": "markdown",
   "metadata": {},
   "source": [
    "When we provide a single argument to the `range()` function, the `start` value is assumed to be  `0` by default and the end value would be the one specified. "
   ]
  },
  {
   "cell_type": "code",
   "execution_count": 60,
   "metadata": {},
   "outputs": [
    {
     "name": "stdout",
     "output_type": "stream",
     "text": [
      "0 1 2 3 4 5 "
     ]
    }
   ],
   "source": [
    "for i in range(6):\n",
    "    print(i, end=' ')"
   ]
  },
  {
   "attachments": {},
   "cell_type": "markdown",
   "metadata": {},
   "source": [
    "### **continue** and **break** statements in loops"
   ]
  },
  {
   "attachments": {},
   "cell_type": "markdown",
   "metadata": {},
   "source": [
    "The **continue** statement is used to stop the current iteration of the loop and go to the next one if the condition would hold (*while loop*) or there would be more items to iterate over (*for loop*). For example: "
   ]
  },
  {
   "cell_type": "code",
   "execution_count": 64,
   "metadata": {},
   "outputs": [
    {
     "name": "stdout",
     "output_type": "stream",
     "text": [
      "sourdough\n",
      "cheese\n"
     ]
    }
   ],
   "source": [
    "for food in fermented_foods:\n",
    "    if food == 'kimchi':\n",
    "        continue\n",
    "    print(food)"
   ]
  },
  {
   "attachments": {},
   "cell_type": "markdown",
   "metadata": {},
   "source": [
    "What happens here is that when `food` is assigned `kimchi` from the list, the `print()` statement will be skipped and the `food` variable will assigned the next element in the list `sourdough` which is printed. The loop continues with the rest of the values in the list."
   ]
  },
  {
   "attachments": {},
   "cell_type": "markdown",
   "metadata": {},
   "source": [
    "The **break** statement breaks completely the loop and continues executing the statements after the loop. For example:"
   ]
  },
  {
   "cell_type": "code",
   "execution_count": 66,
   "metadata": {},
   "outputs": [
    {
     "name": "stdout",
     "output_type": "stream",
     "text": [
      "tequila\n"
     ]
    }
   ],
   "source": [
    "for drink in fermented_drinks:\n",
    "    if drink == 'mezcal':\n",
    "        break\n",
    "    print(drink)"
   ]
  },
  {
   "attachments": {},
   "cell_type": "markdown",
   "metadata": {},
   "source": [
    "In the above case, the loop will stop immediately without executing the `print()` when drink is assigned the value `mezcal`. As you can see, since `mezcal` is the second element in the list, only `tequila` is printed, the other 2 elements are skipped since the loop terminates."
   ]
  },
  {
   "attachments": {},
   "cell_type": "markdown",
   "metadata": {},
   "source": [
    "### **pass** statement"
   ]
  },
  {
   "attachments": {},
   "cell_type": "markdown",
   "metadata": {},
   "source": [
    "You **must** always provide a body for a loop, being it **while** or **for**. If you do not do so,you will get a `SyntaxError`. To circumvent this error and have a loop without a body you can use the **pass** statement as below. The loop will run as many times as the condition would allow it but it will not do anything. If you combine it with other statements in the body of the loop, then it will not have any effects. The control-flow will proceed as we have explained above."
   ]
  },
  {
   "attachments": {},
   "cell_type": "markdown",
   "metadata": {},
   "source": [
    "````{warning}\n",
    "A **while-loop** with a pass statement is likely to lead to an **infinite-loop**. This happens because we need to update the value of the loop condition variable inside the body of the while loop, which in this case is empty.\n",
    "Example:\n",
    "```python\n",
    "i=3\n",
    "while i>0:\n",
    "    pass\n",
    "```\n",
    "````"
   ]
  },
  {
   "cell_type": "code",
   "execution_count": 46,
   "metadata": {},
   "outputs": [],
   "source": [
    "for i in [0,1,2]:\n",
    "    pass"
   ]
  },
  {
   "attachments": {},
   "cell_type": "markdown",
   "metadata": {},
   "source": [
    "The above code will run 3 times but each time it will do nothing."
   ]
  }
 ],
 "metadata": {
  "kernelspec": {
   "display_name": "python-jb",
   "language": "python",
   "name": "python3"
  },
  "language_info": {
   "codemirror_mode": {
    "name": "ipython",
    "version": 3
   },
   "file_extension": ".py",
   "mimetype": "text/x-python",
   "name": "python",
   "nbconvert_exporter": "python",
   "pygments_lexer": "ipython3",
   "version": "3.7.13 (default, Oct 19 2022, 10:19:43) [MSC v.1916 64 bit (AMD64)]"
  },
  "orig_nbformat": 4,
  "vscode": {
   "interpreter": {
    "hash": "0c2f5c4fba51b93f19e499abfcc9ef4d6fee5bb503e49077d95162365c0a0cb3"
   }
  }
 },
 "nbformat": 4,
 "nbformat_minor": 2
}
