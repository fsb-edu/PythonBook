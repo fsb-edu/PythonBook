{
 "cells": [
  {
   "attachments": {},
   "cell_type": "markdown",
   "metadata": {},
   "source": [
    "# Sets and Dictionaries"
   ]
  },
  {
   "attachments": {},
   "cell_type": "markdown",
   "metadata": {},
   "source": [
    "After finishing with lists and tuples, now it is the turn of the two other built-in iterable data-types in Python: **sets** and **dictionaries**. As we will see, they are collection of values that are useful in different situations."
   ]
  },
  {
   "attachments": {},
   "cell_type": "markdown",
   "metadata": {},
   "source": [
    "```{admonition} Chapter Summary\n",
    "- Sets:\n",
    "    - creating a set\n",
    "    - adding elements in a set\n",
    "    - removing elements from a set\n",
    "    - searching for a value in a set\n",
    "    - set comparison\n",
    "    - set comprehension\n",
    "    - set operators\n",
    "    - frozensets\n",
    "- Dictionaries:\n",
    "    - create a dictionary\n",
    "    - add/remove/update key-value pairs\n",
    "    - access key-value pairs\n",
    "    - search dictionaries\n",
    "    - **update()** method\n",
    "    - dictionary comprehension\n",
    "    - compare dictionaries\n",
    "    - copy dictionaries\n",
    "```"
   ]
  }
 ],
 "metadata": {
  "kernelspec": {
   "display_name": "python-jb",
   "language": "python",
   "name": "python3"
  },
  "language_info": {
   "codemirror_mode": {
    "name": "ipython",
    "version": 3
   },
   "file_extension": ".py",
   "mimetype": "text/x-python",
   "name": "python",
   "nbconvert_exporter": "python",
   "pygments_lexer": "ipython3",
   "version": "3.7.13"
  },
  "orig_nbformat": 4,
  "vscode": {
   "interpreter": {
    "hash": "0c2f5c4fba51b93f19e499abfcc9ef4d6fee5bb503e49077d95162365c0a0cb3"
   }
  }
 },
 "nbformat": 4,
 "nbformat_minor": 2
}
