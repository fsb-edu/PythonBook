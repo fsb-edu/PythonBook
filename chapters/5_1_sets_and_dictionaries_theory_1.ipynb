{
 "cells": [
  {
   "attachments": {},
   "cell_type": "markdown",
   "metadata": {},
   "source": [
    "# Readings - Sets"
   ]
  },
  {
   "attachments": {},
   "cell_type": "markdown",
   "metadata": {},
   "source": [
    "## Sets"
   ]
  },
  {
   "attachments": {},
   "cell_type": "markdown",
   "metadata": {},
   "source": [
    "````{margin}\n",
    "```{note}\n",
    "Sets are *unchangeable*, *unordered* and cannot be *indexed*. They do not allow duplicate elements.\n",
    "```\n",
    "````\n",
    "Sets are collections of values. What sets them apart from lists and tuples, that we have seen so far, is that sets do not allow *duplicate* elements. In addition, sets are *unordered*, which means that we cannot access elements of a set by indexing. Also sets do not support slicing. In addition, they are *unchangeable*, since we cannot modify an element that is already added there, but we can add and remove elements.\n"
   ]
  },
  {
   "attachments": {},
   "cell_type": "markdown",
   "metadata": {},
   "source": [
    "### Creating a set"
   ]
  },
  {
   "attachments": {},
   "cell_type": "markdown",
   "metadata": {},
   "source": [
    "The syntax to define a set is:\n",
    "```python\n",
    "set_name = {element1, element2, element3,....}\n",
    "```\n",
    "For example:"
   ]
  },
  {
   "cell_type": "code",
   "execution_count": null,
   "metadata": {},
   "outputs": [],
   "source": [
    "set_of_chemicals = {'Oxygen', 'Hydrogen', 'Nitrogen', 'Potassium', 'Sodium', 'Oxygen'}\n",
    "set_of_chemicals"
   ]
  },
  {
   "attachments": {},
   "cell_type": "markdown",
   "metadata": {},
   "source": [
    "The order in which the items appear is not important, since sets are unordered."
   ]
  },
  {
   "attachments": {},
   "cell_type": "markdown",
   "metadata": {},
   "source": [
    "````{margin}\n",
    "```{note}\n",
    "We can use `len()` function to determine the number of elements in a set.\n",
    "```\n",
    "````\n",
    "As you can see, although `Oxygen` is specified twice in the creation of the set it is added only once."
   ]
  },
  {
   "attachments": {},
   "cell_type": "markdown",
   "metadata": {},
   "source": [
    "We can also create sets by using the `set()` function. This function receives a collection of values and builds a set from it. Otherwise `set()` is called a constructor since it is used to build/construct a set."
   ]
  },
  {
   "cell_type": "code",
   "execution_count": 2,
   "metadata": {},
   "outputs": [
    {
     "data": {
      "text/plain": [
       "{'Hydrogen', 'Nitrogen', 'Oxygen', 'Potassium', 'Sodium'}"
      ]
     },
     "execution_count": 2,
     "metadata": {},
     "output_type": "execute_result"
    }
   ],
   "source": [
    "list_of_values = ['Oxygen', 'Hydrogen', 'Nitrogen', 'Potassium', 'Sodium', 'Oxygen']\n",
    "set_of_chemicals_1 = set(list_of_values)\n",
    "set_of_chemicals_1"
   ]
  },
  {
   "attachments": {},
   "cell_type": "markdown",
   "metadata": {},
   "source": [
    "Again, `Oxygen` appears only once."
   ]
  },
  {
   "attachments": {},
   "cell_type": "markdown",
   "metadata": {},
   "source": [
    "Also, we can use a for-loop to iterate over the values of a set:"
   ]
  },
  {
   "cell_type": "code",
   "execution_count": 3,
   "metadata": {},
   "outputs": [
    {
     "name": "stdout",
     "output_type": "stream",
     "text": [
      "Nitrogen Sodium Hydrogen Potassium Oxygen "
     ]
    }
   ],
   "source": [
    "for el in set_of_chemicals:\n",
    "    print(el, end=' ')"
   ]
  },
  {
   "attachments": {},
   "cell_type": "markdown",
   "metadata": {},
   "source": [
    "### Adding elements in a set"
   ]
  },
  {
   "attachments": {},
   "cell_type": "markdown",
   "metadata": {},
   "source": [
    "There are two ways to add elements in a set: by using the `add()` and `update()` methods. `add()` is used to add a single value, while `update()` can add any iterable.\n",
    "\n",
    "````{margin}\n",
    "```{admonition} Adding elements in a set\n",
    "To add elements to a set use: `add()` or `update()`.\n",
    "```\n",
    "````\n",
    "For example:"
   ]
  },
  {
   "cell_type": "code",
   "execution_count": 4,
   "metadata": {},
   "outputs": [
    {
     "data": {
      "text/plain": [
       "{'Carbon', 'Hydrogen', 'Nitrogen', 'Oxygen', 'Potassium', 'Sodium'}"
      ]
     },
     "execution_count": 4,
     "metadata": {},
     "output_type": "execute_result"
    }
   ],
   "source": [
    "set_of_chemicals.add('Carbon')\n",
    "set_of_chemicals"
   ]
  },
  {
   "cell_type": "code",
   "execution_count": 5,
   "metadata": {},
   "outputs": [
    {
     "data": {
      "text/plain": [
       "{'Aluminum',\n",
       " 'Calcium',\n",
       " 'Carbon',\n",
       " 'Hydrogen',\n",
       " 'Magnesium',\n",
       " 'Nitrogen',\n",
       " 'Oxygen',\n",
       " 'Potassium',\n",
       " 'Sodium'}"
      ]
     },
     "execution_count": 5,
     "metadata": {},
     "output_type": "execute_result"
    }
   ],
   "source": [
    "set_of_chemicals.update(['Calcium','Magnesium','Aluminum'])\n",
    "set_of_chemicals"
   ]
  },
  {
   "attachments": {},
   "cell_type": "markdown",
   "metadata": {},
   "source": [
    "As you can see, the order in which elements are added is not important. In our case, the elements in the set are ordered alphabetically."
   ]
  },
  {
   "attachments": {},
   "cell_type": "markdown",
   "metadata": {},
   "source": [
    "### Removing elements from a set"
   ]
  },
  {
   "attachments": {},
   "cell_type": "markdown",
   "metadata": {},
   "source": [
    "For removing elements these methods can be used: `remove()`, `discard()` and `pop()`. `clear()` method can be used to delete all elements of the set but *not the set itself*."
   ]
  },
  {
   "attachments": {},
   "cell_type": "markdown",
   "metadata": {},
   "source": [
    "For example, `remove(element_name)` will remove the specified element and if that does not exist it will raise a `KeyError`."
   ]
  },
  {
   "attachments": {},
   "cell_type": "markdown",
   "metadata": {},
   "source": [
    "````{margin}\n",
    "```{admonition} Removing elements from a set\n",
    "Methods used to remove elements from a set: `remove()`, `discard()`, `pop()`, `clear()`. `del` deletes the set entirely.\n",
    "```\n",
    "````"
   ]
  },
  {
   "cell_type": "code",
   "execution_count": 6,
   "metadata": {},
   "outputs": [
    {
     "data": {
      "text/plain": [
       "{'Nitrogen', 'Oxygen', 'Potassium', 'Sodium'}"
      ]
     },
     "execution_count": 6,
     "metadata": {},
     "output_type": "execute_result"
    }
   ],
   "source": [
    "set_of_chemicals_1.remove('Hydrogen')\n",
    "set_of_chemicals_1"
   ]
  },
  {
   "cell_type": "code",
   "execution_count": 7,
   "metadata": {},
   "outputs": [
    {
     "ename": "KeyError",
     "evalue": "'Carbon'",
     "output_type": "error",
     "traceback": [
      "\u001b[1;31m---------------------------------------------------------------------------\u001b[0m",
      "\u001b[1;31mKeyError\u001b[0m                                  Traceback (most recent call last)",
      "\u001b[1;32m~\\AppData\\Local\\Temp\\ipykernel_6736\\30734440.py\u001b[0m in \u001b[0;36m<module>\u001b[1;34m\u001b[0m\n\u001b[1;32m----> 1\u001b[1;33m \u001b[0mset_of_chemicals_1\u001b[0m\u001b[1;33m.\u001b[0m\u001b[0mremove\u001b[0m\u001b[1;33m(\u001b[0m\u001b[1;34m'Carbon'\u001b[0m\u001b[1;33m)\u001b[0m\u001b[1;33m\u001b[0m\u001b[1;33m\u001b[0m\u001b[0m\n\u001b[0m\u001b[0;32m      2\u001b[0m \u001b[0mset_of_chemicals_1\u001b[0m\u001b[1;33m\u001b[0m\u001b[1;33m\u001b[0m\u001b[0m\n",
      "\u001b[1;31mKeyError\u001b[0m: 'Carbon'"
     ]
    }
   ],
   "source": [
    "set_of_chemicals_1.remove('Carbon')\n",
    "set_of_chemicals_1"
   ]
  },
  {
   "attachments": {},
   "cell_type": "markdown",
   "metadata": {},
   "source": [
    "The `discard(element_name)` does the same but if the element does not exist then it does not raise an error."
   ]
  },
  {
   "cell_type": "code",
   "execution_count": 8,
   "metadata": {},
   "outputs": [
    {
     "data": {
      "text/plain": [
       "{'Oxygen', 'Potassium', 'Sodium'}"
      ]
     },
     "execution_count": 8,
     "metadata": {},
     "output_type": "execute_result"
    }
   ],
   "source": [
    "set_of_chemicals_1.discard('Nitrogen')\n",
    "set_of_chemicals_1"
   ]
  },
  {
   "cell_type": "code",
   "execution_count": 9,
   "metadata": {},
   "outputs": [
    {
     "data": {
      "text/plain": [
       "{'Oxygen', 'Potassium', 'Sodium'}"
      ]
     },
     "execution_count": 9,
     "metadata": {},
     "output_type": "execute_result"
    }
   ],
   "source": [
    "set_of_chemicals_1.discard('Carbon')\n",
    "set_of_chemicals_1"
   ]
  },
  {
   "attachments": {},
   "cell_type": "markdown",
   "metadata": {},
   "source": [
    "The `pop()` method removes a random element from the set. Since sets are unordered, it will select an element (we as programmers cannot affect which element is selected) at random and will remove it."
   ]
  },
  {
   "cell_type": "code",
   "execution_count": 10,
   "metadata": {},
   "outputs": [
    {
     "name": "stdout",
     "output_type": "stream",
     "text": [
      "Sodium\n",
      "Set after popping an element:  {'Potassium', 'Oxygen'}\n"
     ]
    }
   ],
   "source": [
    "print(set_of_chemicals_1.pop())\n",
    "print('Set after popping an element: ', set_of_chemicals_1)"
   ]
  },
  {
   "attachments": {},
   "cell_type": "markdown",
   "metadata": {},
   "source": [
    "In order to clear a set from all the elements we can use the `clear()` method:"
   ]
  },
  {
   "cell_type": "code",
   "execution_count": 14,
   "metadata": {},
   "outputs": [
    {
     "data": {
      "text/plain": [
       "set()"
      ]
     },
     "execution_count": 14,
     "metadata": {},
     "output_type": "execute_result"
    }
   ],
   "source": [
    "set_of_chemicals_1.clear()\n",
    "set_of_chemicals_1"
   ]
  },
  {
   "attachments": {},
   "cell_type": "markdown",
   "metadata": {},
   "source": [
    "The **del** keyword deletes the set entirely from the runtime."
   ]
  },
  {
   "cell_type": "code",
   "execution_count": 15,
   "metadata": {},
   "outputs": [
    {
     "ename": "NameError",
     "evalue": "name 'set_of_chemicals_1' is not defined",
     "output_type": "error",
     "traceback": [
      "\u001b[1;31m---------------------------------------------------------------------------\u001b[0m",
      "\u001b[1;31mNameError\u001b[0m                                 Traceback (most recent call last)",
      "\u001b[1;32m~\\AppData\\Local\\Temp\\ipykernel_15264\\2185828215.py\u001b[0m in \u001b[0;36m<module>\u001b[1;34m\u001b[0m\n\u001b[0;32m      1\u001b[0m \u001b[1;32mdel\u001b[0m \u001b[0mset_of_chemicals_1\u001b[0m\u001b[1;33m\u001b[0m\u001b[1;33m\u001b[0m\u001b[0m\n\u001b[1;32m----> 2\u001b[1;33m \u001b[0mset_of_chemicals_1\u001b[0m\u001b[1;33m\u001b[0m\u001b[1;33m\u001b[0m\u001b[0m\n\u001b[0m",
      "\u001b[1;31mNameError\u001b[0m: name 'set_of_chemicals_1' is not defined"
     ]
    }
   ],
   "source": [
    "del set_of_chemicals_1\n",
    "set_of_chemicals_1"
   ]
  },
  {
   "attachments": {},
   "cell_type": "markdown",
   "metadata": {},
   "source": [
    "As you can see, there is no variable anymore in the runtime that is called `set_of_chemicals_1`, that is why we get a `NameError`."
   ]
  },
  {
   "attachments": {},
   "cell_type": "markdown",
   "metadata": {},
   "source": [
    "### Searching for a value in a set"
   ]
  },
  {
   "attachments": {},
   "cell_type": "markdown",
   "metadata": {},
   "source": [
    "To check whether a value is in the set we can use the `in` or `not in` operators. As we have seen even in the previous chapters, if the value is present, the `in` operator returns `True` and the `not in` operator returns `False`. If the value is not present, then `in` will return `False` and `not in` will return `True`."
   ]
  },
  {
   "cell_type": "code",
   "execution_count": 43,
   "metadata": {},
   "outputs": [
    {
     "name": "stdout",
     "output_type": "stream",
     "text": [
      "True\n",
      "False\n",
      "True\n",
      "False\n"
     ]
    }
   ],
   "source": [
    "print('Oxygen' in set_of_chemicals)\n",
    "print('Carbon' in set_of_chemicals)\n",
    "print('Carbon' not in set_of_chemicals)\n",
    "print('Oxygen' not in set_of_chemicals)"
   ]
  },
  {
   "attachments": {},
   "cell_type": "markdown",
   "metadata": {},
   "source": [
    "### Set Comparison"
   ]
  },
  {
   "attachments": {},
   "cell_type": "markdown",
   "metadata": {},
   "source": [
    "We can use comparison operators introduced in {ref}`Chapter 2 <comp-op-ch2-label>` to compare two sets. Two sets are equal (`==`) if they have the same elements no matter their order. Otherwise, they are not equal."
   ]
  },
  {
   "attachments": {},
   "cell_type": "markdown",
   "metadata": {},
   "source": [
    "Let us look at an example:"
   ]
  },
  {
   "cell_type": "code",
   "execution_count": 21,
   "metadata": {},
   "outputs": [
    {
     "name": "stdout",
     "output_type": "stream",
     "text": [
      "set_of_chemicals = {'Hydrogen', 'Oxygen', 'Nitrogen', 'Magnesium', 'Aluminum', 'Carbon', 'Potassium', 'Calcium', 'Sodium'}\n",
      "set_of_chemicals_1 = {'Hydrogen', 'Oxygen', 'Magnesium', 'Nitrogen', 'Aluminum', 'Carbon', 'Potassium', 'Calcium', 'Sodium'}\n",
      "True\n"
     ]
    }
   ],
   "source": [
    "set_of_chemicals_1 = {'Aluminum', 'Calcium', 'Carbon',\n",
    "                      'Hydrogen', 'Magnesium', 'Nitrogen',\n",
    "                      'Sodium', 'Oxygen', 'Potassium',\n",
    "                      }\n",
    "print('set_of_chemicals =', set_of_chemicals)\n",
    "print('set_of_chemicals_1 =', set_of_chemicals_1)\n",
    "print(set_of_chemicals_1 == set_of_chemicals)"
   ]
  },
  {
   "attachments": {},
   "cell_type": "markdown",
   "metadata": {},
   "source": [
    "````{margin}\n",
    "```{important}\n",
    "In contrast to the lists, two sets are equal if they have the same elements no matter their order.\n",
    "```\n",
    "````\n",
    "As you can see, elements in `set_of_chemicals_1` do not have the same order as `set_of_chemicals`. But they have the same elements, as a result both sets are equal. "
   ]
  },
  {
   "attachments": {},
   "cell_type": "markdown",
   "metadata": {},
   "source": [
    "On the other hand:"
   ]
  },
  {
   "cell_type": "code",
   "execution_count": 22,
   "metadata": {},
   "outputs": [
    {
     "name": "stdout",
     "output_type": "stream",
     "text": [
      "set_of_chemicals = {'Hydrogen', 'Oxygen', 'Nitrogen', 'Magnesium', 'Aluminum', 'Carbon', 'Potassium', 'Calcium', 'Sodium'}\n",
      "set_of_chemicals_2 = {'Carbon', 'Aluminum', 'Calcium'}\n",
      "False\n"
     ]
    }
   ],
   "source": [
    "set_of_chemicals_2 = {'Aluminum', 'Calcium', 'Carbon'}\n",
    "print('set_of_chemicals =', set_of_chemicals)\n",
    "print('set_of_chemicals_2 =', set_of_chemicals_2)\n",
    "print(set_of_chemicals_2 == set_of_chemicals)"
   ]
  },
  {
   "attachments": {},
   "cell_type": "markdown",
   "metadata": {},
   "source": [
    "As expected, `set_of_chemicals_2` is not equal to `set_of_chemicals` because they do not have the same elements."
   ]
  },
  {
   "attachments": {},
   "cell_type": "markdown",
   "metadata": {},
   "source": [
    "We say that subset A is a **proper subset** of set B if all elements of A are contained in B, but not all elements of B are contained in A. In other words, A and B are not equal, but B contains all elements of A. To check if A is a proper subset of B we can use the `<` (strictly less than) operator. The `<` operator checks whether the set on its left is a proper subset of the set on the right."
   ]
  },
  {
   "cell_type": "code",
   "execution_count": 25,
   "metadata": {},
   "outputs": [
    {
     "name": "stdout",
     "output_type": "stream",
     "text": [
      "True\n",
      "False\n"
     ]
    }
   ],
   "source": [
    "a = {1,2,3}\n",
    "b = {1,2,3,4,5}\n",
    "print(a < b)\n",
    "print(b < a)"
   ]
  },
  {
   "attachments": {},
   "cell_type": "markdown",
   "metadata": {},
   "source": [
    "We say that subset A is an **improper subset** of set B if all elements of A are contained in B, and all elements of B may be in A. In other words, A and B can be equal, but surely B contains all elements of A. To check if A is a improper subset of B we can use the `<=` (strictly less than or equal to) operator. The `<=` operator checks whether the set on its left is an improper subset of the set on the right."
   ]
  },
  {
   "cell_type": "code",
   "execution_count": 27,
   "metadata": {},
   "outputs": [
    {
     "data": {
      "text/plain": [
       "True"
      ]
     },
     "execution_count": 27,
     "metadata": {},
     "output_type": "execute_result"
    }
   ],
   "source": [
    "a = {2,3,1}\n",
    "b = {1,2,3,4,5}\n",
    "a <= b"
   ]
  },
  {
   "cell_type": "code",
   "execution_count": 30,
   "metadata": {},
   "outputs": [
    {
     "name": "stdout",
     "output_type": "stream",
     "text": [
      "True\n",
      "True\n"
     ]
    }
   ],
   "source": [
    "c = {1,2,3}\n",
    "print(a <= c)\n",
    "print(c <= a)"
   ]
  },
  {
   "attachments": {},
   "cell_type": "markdown",
   "metadata": {},
   "source": [
    "As you see from the examples above, in case that the sets are equal, then the `<=` is commutative. Also, an proper subset is an improper subset as well, but not the other way round."
   ]
  },
  {
   "attachments": {},
   "cell_type": "markdown",
   "metadata": {},
   "source": [
    "Equivalently there is the `issubset()` method to check for improper subsets as well:"
   ]
  },
  {
   "cell_type": "code",
   "execution_count": 31,
   "metadata": {},
   "outputs": [
    {
     "data": {
      "text/plain": [
       "True"
      ]
     },
     "execution_count": 31,
     "metadata": {},
     "output_type": "execute_result"
    }
   ],
   "source": [
    "a.issubset(c)"
   ]
  },
  {
   "attachments": {},
   "cell_type": "markdown",
   "metadata": {},
   "source": [
    "Symmetrically, we can find if set B is a **proper or improper superset** of A by using the `>` (greater than) or `>=` (greater than or equal to) operators respectively. For clarity, B is a **proper superset** of A if all elements of A are part of B and A and B are *not* equal. While B is an **improper superset** of A,if all elements of A are part of B and A and B might be equal. Also we can use the `issuperset()` method to check for improper superset. "
   ]
  },
  {
   "attachments": {},
   "cell_type": "markdown",
   "metadata": {},
   "source": [
    "### Set Comprehension"
   ]
  },
  {
   "attachments": {},
   "cell_type": "markdown",
   "metadata": {},
   "source": [
    "If you remember from the previous chapter, we defined list comprehensions using `[]`, since list elements were defined inside `[]`. For sets, we will define the set comprehension inside `{}`, since set elements are inside `{}`. In the next example, we will use a list that contains duplicate elements to create a set using list comprehension:"
   ]
  },
  {
   "cell_type": "code",
   "execution_count": 32,
   "metadata": {},
   "outputs": [
    {
     "data": {
      "text/plain": [
       "{'Carbon', 'Hydrogen', 'Nitrogen', 'Oxygen'}"
      ]
     },
     "execution_count": 32,
     "metadata": {},
     "output_type": "execute_result"
    }
   ],
   "source": [
    "list_of_chemicals = ['Oxygen', 'Hydrogen', 'Nitrogen', 'Oxygen', 'Hydrogen', 'Carbon']\n",
    "set_from_list = {element for element in list_of_chemicals}\n",
    "set_from_list"
   ]
  },
  {
   "attachments": {},
   "cell_type": "markdown",
   "metadata": {},
   "source": [
    "As you can see, the set does not contain duplicate elements anymore."
   ]
  },
  {
   "attachments": {},
   "cell_type": "markdown",
   "metadata": {},
   "source": [
    "### Set Operators (Optional)"
   ]
  },
  {
   "attachments": {},
   "cell_type": "markdown",
   "metadata": {},
   "source": [
    "#### Set union"
   ]
  },
  {
   "attachments": {},
   "cell_type": "markdown",
   "metadata": {},
   "source": [
    "```{figure} ../images/5_sets_and_dicts/set_union.jpg\n",
    ":alt: set_union_illustration\n",
    ":name: set-union-assign\n",
    ":class: ch6\n",
    ":align: center\n",
    "\n",
    "Set Union\n",
    "```"
   ]
  },
  {
   "attachments": {},
   "cell_type": "markdown",
   "metadata": {},
   "source": [
    "The union of two sets is another set that contains the elements of both sets. To find the union of two sets you can use the `|` operator or the `union()` method."
   ]
  },
  {
   "cell_type": "code",
   "execution_count": 33,
   "metadata": {},
   "outputs": [
    {
     "name": "stdout",
     "output_type": "stream",
     "text": [
      "{1, 2, 3, 4, 5}\n",
      "{1, 2, 3, 4, 5}\n"
     ]
    }
   ],
   "source": [
    "a = {1,2,3,4}\n",
    "b = {1,2,3,4,5}\n",
    "print(a | b)\n",
    "print(a.union(b))"
   ]
  },
  {
   "attachments": {},
   "cell_type": "markdown",
   "metadata": {},
   "source": [
    "```{note}\n",
    "The `union()` can take as argument any iterable. But before it applies the method, it will convert it to a set and then perform the operation on two sets.\n",
    "```"
   ]
  },
  {
   "attachments": {},
   "cell_type": "markdown",
   "metadata": {},
   "source": [
    "#### Set intersection"
   ]
  },
  {
   "attachments": {},
   "cell_type": "markdown",
   "metadata": {},
   "source": [
    "```{figure} ../images/5_sets_and_dicts/intersection.png\n",
    ":alt: set_intersection_illustration\n",
    ":name: set-intersection-assign\n",
    ":class: ch6\n",
    ":align: center\n",
    "\n",
    "Set Intersection\n",
    "```"
   ]
  },
  {
   "attachments": {},
   "cell_type": "markdown",
   "metadata": {},
   "source": [
    "Similarly, you can use the `&` or the `intersection()` method to find the common elements of two sets:"
   ]
  },
  {
   "cell_type": "code",
   "execution_count": 34,
   "metadata": {},
   "outputs": [
    {
     "name": "stdout",
     "output_type": "stream",
     "text": [
      "{1, 2, 3, 4}\n",
      "{1, 2, 3, 4}\n"
     ]
    }
   ],
   "source": [
    "print(a & b)\n",
    "print(a.intersection(b))"
   ]
  },
  {
   "attachments": {},
   "cell_type": "markdown",
   "metadata": {},
   "source": [
    "As you can see, both ways output the common elements of both sets."
   ]
  },
  {
   "attachments": {},
   "cell_type": "markdown",
   "metadata": {},
   "source": [
    "#### Set difference"
   ]
  },
  {
   "attachments": {},
   "cell_type": "markdown",
   "metadata": {},
   "source": [
    "```{figure} ../images/5_sets_and_dicts/set_difference.jpg\n",
    ":alt: set_difference_illustration\n",
    ":name: set-difference-assign\n",
    ":class: ch6\n",
    ":align: center\n",
    "\n",
    "Set Difference\n",
    "```"
   ]
  },
  {
   "attachments": {},
   "cell_type": "markdown",
   "metadata": {},
   "source": [
    "The set difference is another set that contains only the elements of the first set that are not part of the second set. To find the set difference we can use the `-` operator or the `difference()` method: "
   ]
  },
  {
   "cell_type": "code",
   "execution_count": 35,
   "metadata": {},
   "outputs": [
    {
     "name": "stdout",
     "output_type": "stream",
     "text": [
      "set()\n",
      "set()\n"
     ]
    }
   ],
   "source": [
    "print(a - b)\n",
    "print(a.difference(b))"
   ]
  },
  {
   "attachments": {},
   "cell_type": "markdown",
   "metadata": {},
   "source": [
    "As you can see, both ways return an empty set because there are no elements in `a` that are not in `b`. Let us check the difference between `b` and `a` now:"
   ]
  },
  {
   "cell_type": "code",
   "execution_count": 36,
   "metadata": {},
   "outputs": [
    {
     "name": "stdout",
     "output_type": "stream",
     "text": [
      "{5}\n",
      "{5}\n"
     ]
    }
   ],
   "source": [
    "print(b - a)\n",
    "print(b.difference(a))"
   ]
  },
  {
   "attachments": {},
   "cell_type": "markdown",
   "metadata": {},
   "source": [
    "In the second case, `5` is  the element that is in `b` but not in `a`."
   ]
  },
  {
   "attachments": {},
   "cell_type": "markdown",
   "metadata": {},
   "source": [
    "```{figure} ../images/5_sets_and_dicts/symmetric_set_difference.jpg\n",
    ":alt: symmetric_set_difference_illustration\n",
    ":name: symmetric-set-difference-assign\n",
    ":class: ch6\n",
    ":align: center\n",
    "\n",
    "Symmetric Set Difference\n",
    "```"
   ]
  },
  {
   "attachments": {},
   "cell_type": "markdown",
   "metadata": {},
   "source": [
    "The symmetric set difference on the other hand, returns a set that the elements that are not common in any of the sets:"
   ]
  },
  {
   "cell_type": "code",
   "execution_count": 37,
   "metadata": {},
   "outputs": [
    {
     "name": "stdout",
     "output_type": "stream",
     "text": [
      "{5}\n",
      "{5}\n"
     ]
    }
   ],
   "source": [
    "print(a^b)\n",
    "print(a.symmetric_difference(b))"
   ]
  },
  {
   "attachments": {},
   "cell_type": "markdown",
   "metadata": {},
   "source": [
    "It is like taking the union of the two set differences `a-b` and `b-a`."
   ]
  },
  {
   "attachments": {},
   "cell_type": "markdown",
   "metadata": {},
   "source": [
    "#### Disjoint sets"
   ]
  },
  {
   "attachments": {},
   "cell_type": "markdown",
   "metadata": {},
   "source": [
    "```{figure} ../images/5_sets_and_dicts/set_disjoint.png\n",
    ":alt: set_disjoint_illustration\n",
    ":name: set-disjoint-assign\n",
    ":class: ch6\n",
    ":align: center\n",
    "\n",
    "Disjoint Sets\n",
    "```"
   ]
  },
  {
   "attachments": {},
   "cell_type": "markdown",
   "metadata": {},
   "source": [
    "Two sets are disjoint if they do not have any elements in common. To check whether to sets are disjoint or not we can use the `isdisjoint()` method:"
   ]
  },
  {
   "cell_type": "code",
   "execution_count": 38,
   "metadata": {},
   "outputs": [
    {
     "data": {
      "text/plain": [
       "False"
      ]
     },
     "execution_count": 38,
     "metadata": {},
     "output_type": "execute_result"
    }
   ],
   "source": [
    "a.isdisjoint(b)"
   ]
  },
  {
   "attachments": {},
   "cell_type": "markdown",
   "metadata": {},
   "source": [
    "It returns a boolean value that indicates if two sets are disjoint or not."
   ]
  },
  {
   "cell_type": "code",
   "execution_count": 39,
   "metadata": {},
   "outputs": [
    {
     "data": {
      "text/plain": [
       "True"
      ]
     },
     "execution_count": 39,
     "metadata": {},
     "output_type": "execute_result"
    }
   ],
   "source": [
    "d = {10,20,30}\n",
    "a.isdisjoint(d)"
   ]
  },
  {
   "attachments": {},
   "cell_type": "markdown",
   "metadata": {},
   "source": [
    "### Frozenset (Optional)"
   ]
  },
  {
   "attachments": {},
   "cell_type": "markdown",
   "metadata": {},
   "source": [
    "Frozensets are immutable sets. As we have seen so far, sets are *mutable* since we can modify them by adding or removing elements. However, set elements **must be immutable**. This means that they cannot be modified. Thus, a frozenset is an **immutable** set. This means that once it is created, it cannot be modified. A frozenset can be created by using the built-in function `frozenset()` that takes as input any iterable and creates the frozen set from its elements."
   ]
  },
  {
   "attachments": {},
   "cell_type": "markdown",
   "metadata": {},
   "source": [
    "Next on, we will explore dictionaries."
   ]
  }
 ],
 "metadata": {
  "kernelspec": {
   "display_name": "python-jb",
   "language": "python",
   "name": "python3"
  },
  "language_info": {
   "codemirror_mode": {
    "name": "ipython",
    "version": 3
   },
   "file_extension": ".py",
   "mimetype": "text/x-python",
   "name": "python",
   "nbconvert_exporter": "python",
   "pygments_lexer": "ipython3",
   "version": "3.7.13"
  },
  "orig_nbformat": 4,
  "vscode": {
   "interpreter": {
    "hash": "0c2f5c4fba51b93f19e499abfcc9ef4d6fee5bb503e49077d95162365c0a0cb3"
   }
  }
 },
 "nbformat": 4,
 "nbformat_minor": 2
}
