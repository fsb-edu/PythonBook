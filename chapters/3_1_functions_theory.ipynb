{
 "cells": [
  {
   "attachments": {},
   "cell_type": "markdown",
   "metadata": {},
   "source": [
    "# Readings"
   ]
  },
  {
   "attachments": {},
   "cell_type": "markdown",
   "metadata": {},
   "source": [
    "## What are functions?"
   ]
  },
  {
   "attachments": {},
   "cell_type": "markdown",
   "metadata": {},
   "source": [
    "**Functions** are blocks of code that help us *reuse* code. The structure  of a function looks like this:\n",
    "\n",
    "```python\n",
    "def function_name (parameter1, parameter2):\n",
    "    body of the function\n",
    "```\n",
    "\n",
    "`````{margin}\n",
    "````{note}\n",
    "In case where a function does not need any parameters, then the function definition would look like this:\n",
    "```python\n",
    "def function_name():\n",
    "    print('Hello World!')\n",
    "```\n",
    "````\n",
    "`````\n",
    "A function definition always starts with the `def` keyword. After the `def` keyword, the function name comes. Here the programmer has free choice but just as in the case of naming variables, it is important to give meaningful names to  functions so that it is easy to understand what they do. After the function name, a list of parameters is enclosed in parenthesis. These are variables that will be used in the body of the function. Note that the parameters' list might be empty as well. After that `:` indicate the end of the function definition. Then the declaration of the body of the function begins. If the function needs to return something then at the end a `return` statement should be included. We will see some examples. \n",
    "\n",
    "To call a function you simply write the function name followed by the provided parameters:\n",
    "```python\n",
    "function_name(paramater1_value, paramater2_value)\n",
    "```"
   ]
  },
  {
   "attachments": {},
   "cell_type": "markdown",
   "metadata": {},
   "source": [
    "Suppose that we want to find the minimum value of three numbers that are between 0 and 100. From what we have learned so far a possible solution would be:"
   ]
  },
  {
   "cell_type": "code",
   "execution_count": 6,
   "metadata": {},
   "outputs": [
    {
     "name": "stdout",
     "output_type": "stream",
     "text": [
      "35\n"
     ]
    }
   ],
   "source": [
    "no_1 = 20\n",
    "no_2 = 44\n",
    "no_3 = 35\n",
    "min_value = no_1\n",
    "if no_1 > no_2:\n",
    "    min_value = no_2\n",
    "if no_2 > no_3:\n",
    "    min_value = no_3\n",
    "\n",
    "print(min_value)"
   ]
  },
  {
   "attachments": {},
   "cell_type": "markdown",
   "metadata": {},
   "source": [
    "```{note}\n",
    "Did you notice something here? `print()` is a function as well, but a built-in one. \n",
    "```\n",
    "```{hint}\n",
    "***Python Standard Library*** provides a lot of already-written, built-in and tested functions. The availability of such functions makes Python one of the most popular programming languages. So before you write your own function it is a good idea to have a look at the Python Standard Library because it might already contain the needed function. [Here](https://docs.python.org/3/library/) you can find the official documentation.\n",
    "```"
   ]
  },
  {
   "attachments": {},
   "cell_type": "markdown",
   "metadata": {},
   "source": [
    "Imagine now that after some lines of code we would need again to find the minimum of 3 numbers. We could go and copy-paste the code block of above, change the numbers that we provided and get the minimum. After some time, the conditions change and we need to compare 4 numbers instead of 3. We have to go and change every single copy-pasted block that computes the minimum. In this tedious process we might forget a block or even worse we might introduce mistakes in one of them without noticing at all. So instead, we switch to **functions**."
   ]
  },
  {
   "attachments": {},
   "cell_type": "markdown",
   "metadata": {},
   "source": [
    "Below you can find the implementation of the function to find the minimum value of 3 numbers:"
   ]
  },
  {
   "cell_type": "code",
   "execution_count": 20,
   "metadata": {},
   "outputs": [],
   "source": [
    "def find_minimum(no_1, no_2, no_3):\n",
    "    min_value = no_1\n",
    "    if min_value > no_2:\n",
    "        min_value = no_2\n",
    "    if min_value > no_3:\n",
    "        min_value = no_3\n",
    "    return min_value"
   ]
  },
  {
   "attachments": {},
   "cell_type": "markdown",
   "metadata": {},
   "source": [
    "And here we use the function we have just declared:"
   ]
  },
  {
   "cell_type": "code",
   "execution_count": 21,
   "metadata": {},
   "outputs": [
    {
     "name": "stdout",
     "output_type": "stream",
     "text": [
      "The minimum of {20, 35, 44} is 20\n",
      "The minimum of {27, 40, 63} is 27\n",
      "The minimum of {53, 44, 89} is 44\n"
     ]
    }
   ],
   "source": [
    "print('The minimum of {20, 35, 44} is', find_minimum(20, 35, 44))\n",
    "print('The minimum of {27, 40, 63} is', find_minimum(63, 40, 27))\n",
    "print('The minimum of {53, 44, 89} is', find_minimum(53, 44, 89))"
   ]
  },
  {
   "attachments": {},
   "cell_type": "markdown",
   "metadata": {},
   "source": [
    "So this is what happens when a function is called: everything starts with the call to the *print* function that prints the first string and then evaluates the second argument which is the call to the function **find_minimum**. When we call the function, we provide values for the arguments that its expects, that are 3 numbers. Then the control flow goes inside the body of the function, assigns to the `min_value` variable the value of `no_1`. Then its starts checking if `no_2` is smaller than the `min_value` and if so, we assign the value of `no_2` to the `min_value`. The last check is done with the `no_3` variable. If its value is less than the value of `min_value`, then we assign its value to the `min_value` variable. At the end in the `return` statement, we return the value of the smallest number. After the function finishes its execution, the `return` statement brings the control back to the print function and prints the whole statement by appending to the string the smallest number."
   ]
  },
  {
   "attachments": {},
   "cell_type": "markdown",
   "metadata": {},
   "source": [
    "Now if we would like to declare a function that would find the minimum of 4 numbers it would be easy and we would not have to repeat any code and using the ternary operator:"
   ]
  },
  {
   "cell_type": "code",
   "execution_count": 16,
   "metadata": {},
   "outputs": [],
   "source": [
    "def find_minimum_of_four(no_1, no_2, no_3, no_4):\n",
    "    min_of_three = find_minimum(no_1, no_2, no_3)\n",
    "    return min_of_three if min_of_three < no_4 else no_4"
   ]
  },
  {
   "cell_type": "code",
   "execution_count": 18,
   "metadata": {},
   "outputs": [
    {
     "name": "stdout",
     "output_type": "stream",
     "text": [
      "The minimum of {20, 35, 15, 30} is 15\n"
     ]
    }
   ],
   "source": [
    "print('The minimum of {20, 35, 15, 30} is', find_minimum_of_four(20, 35, 15, 30))"
   ]
  },
  {
   "attachments": {},
   "cell_type": "markdown",
   "metadata": {},
   "source": [
    "```{admonition} Parameters vs Arguments\n",
    "Sometimes the words `parameters` and `arguments` are used interchangeably when it comes to functions. They refer to the same thing. Parameters are the variables in the function header/declaration while the arguments are the actual values passed for each of the parameters when we call the function.\n",
    "```\n",
    "\n",
    "```{figure} ../images/3_functions/params_vs_args.jpg\n",
    ":alt: params_vs_args_illustration\n",
    ":name: params-vs-args-assign\n",
    ":class: ch4\n",
    ":align: center\n",
    "\n",
    "Parameters vs Arguments\n",
    "```"
   ]
  },
  {
   "attachments": {},
   "cell_type": "markdown",
   "metadata": {},
   "source": [
    "## Functions with default values"
   ]
  },
  {
   "attachments": {},
   "cell_type": "markdown",
   "metadata": {},
   "source": [
    "When declaring a function, in the parameters list we can specify some values for the parameters. In this case we will have a function with **default parameter values**. This means that when you call the function and do not provide any argument for this parameter, then the function body will use the default parameter specified in the function header to make the computations."
   ]
  },
  {
   "attachments": {},
   "cell_type": "markdown",
   "metadata": {},
   "source": [
    "For example, we can define a function to compute the sum of two numbers:"
   ]
  },
  {
   "cell_type": "code",
   "execution_count": 22,
   "metadata": {},
   "outputs": [],
   "source": [
    "def sum(num_1=1, num_2=2):\n",
    "    return num_1 + num_2"
   ]
  },
  {
   "attachments": {},
   "cell_type": "markdown",
   "metadata": {},
   "source": [
    "Here we have specified a default value for both of the parameters. This allows us to call the function by not specifying any arguments at all, one argument or both of them:"
   ]
  },
  {
   "cell_type": "code",
   "execution_count": 27,
   "metadata": {},
   "outputs": [
    {
     "name": "stdout",
     "output_type": "stream",
     "text": [
      "The sum is 3\n",
      "The sum is 4\n",
      "The sum is 11\n"
     ]
    }
   ],
   "source": [
    "print('The sum is', sum())\n",
    "print('The sum is', sum(3))\n",
    "print('The sum is', sum(4, 7))"
   ]
  },
  {
   "attachments": {},
   "cell_type": "markdown",
   "metadata": {},
   "source": [
    "If we do not specify any argument to pass to the function, then the calculation is made by using the default values of `num_1=1` and `num_2=2`. When we pass only one argument then the default value of `num_1` is overwritten with the value `3` and the second parameter retains its default value, ths we have the result: 5. In the last case, both default values of the parameter are overwritten and we have their sum 11 printed."
   ]
  },
  {
   "attachments": {},
   "cell_type": "markdown",
   "metadata": {},
   "source": [
    "```{important}\n",
    "It is possible when we call a function to determine the values that we pass for each of its parameters by specifying the name of each parameter in the function call. These are called **keyword arguments**. In this way you can even change the order of the arguments. For example:\n",
    "```"
   ]
  },
  {
   "cell_type": "code",
   "execution_count": 28,
   "metadata": {},
   "outputs": [
    {
     "name": "stdout",
     "output_type": "stream",
     "text": [
      "The sum is 3\n",
      "The sum is 4\n",
      "The sum is 11\n"
     ]
    }
   ],
   "source": [
    "print('The sum is', sum())\n",
    "print('The sum is', sum(num_2 = 3))\n",
    "print('The sum is', sum(num_2=4, num_1=7))"
   ]
  },
  {
   "attachments": {},
   "cell_type": "markdown",
   "metadata": {},
   "source": [
    "## Functions with arbitrary many arguments"
   ]
  },
  {
   "attachments": {},
   "cell_type": "markdown",
   "metadata": {},
   "source": [
    "In Python it is possible for a function to receive arbitrarily many arguments each time it is called. This is done in the function header. Instead of listing all excepted arguments one by one, you can just write `*parameter_name` instead, where you can choose whatever name you want for `parameter_name`. In this way by using a *for-loop* you can iterate over the list of arguments passed to the function. "
   ]
  },
  {
   "cell_type": "code",
   "execution_count": 31,
   "metadata": {},
   "outputs": [],
   "source": [
    "def sum(*numbers):\n",
    "    sum = 0\n",
    "    for number in numbers:\n",
    "        sum = sum + number\n",
    "    return sum"
   ]
  },
  {
   "attachments": {},
   "cell_type": "markdown",
   "metadata": {},
   "source": [
    "This is useful when you do not know beforehand how many arguments will be passed to the function."
   ]
  },
  {
   "cell_type": "code",
   "execution_count": 33,
   "metadata": {},
   "outputs": [
    {
     "name": "stdout",
     "output_type": "stream",
     "text": [
      "The sum is 33\n",
      "The sum is 25\n"
     ]
    }
   ],
   "source": [
    "print('The sum is', sum(2,11,12,3,5))\n",
    "print('The sum is', sum(2,11,12))"
   ]
  },
  {
   "attachments": {},
   "cell_type": "markdown",
   "metadata": {},
   "source": [
    "There is a way to specify arbitrary keyword arguments as well. In this case, in the parameters of the function definition you should specify `**parameter_name`. Again for the `parameter_name` you can specify any valid variable name that you want.\n",
    "````{margin}\n",
    "```{note}\n",
    "`name` in this case is a dictionary. We will study them in Chapter 6.\n",
    "```\n",
    "````"
   ]
  },
  {
   "cell_type": "code",
   "execution_count": 52,
   "metadata": {},
   "outputs": [],
   "source": [
    "def full_name(**name):\n",
    "    print('Full name is', name['first_name'], name['last_name'])"
   ]
  },
  {
   "cell_type": "code",
   "execution_count": 54,
   "metadata": {},
   "outputs": [
    {
     "name": "stdout",
     "output_type": "stream",
     "text": [
      "Full name is John Smith\n",
      "Full name is John Smith\n"
     ]
    }
   ],
   "source": [
    "full_name(first_name='John', last_name='Smith')\n",
    "full_name(first_name='John', middle_name='J.' ,last_name='Smith')"
   ]
  },
  {
   "attachments": {},
   "cell_type": "markdown",
   "metadata": {},
   "source": [
    "Here in this example, no mater how many ***keyword arguments*** the user specifies when calling the function, inside the function we use only the ones that correspond to the *keys* `first_name` and `last_name`."
   ]
  },
  {
   "attachments": {},
   "cell_type": "markdown",
   "metadata": {},
   "source": [
    "## Scope of a variable"
   ]
  },
  {
   "attachments": {},
   "cell_type": "markdown",
   "metadata": {},
   "source": [
    "Each variable has a **scope**. The scope of a variable determines where in the code the variable can be used. A variable that is declared inside a block, be it a loop, an if/else block or a function is said to have **local scope**. This means that the variable can be used inside the block, from the point it is declared until the end of the block, outside it is **outside of scope**, it is not recognized. On the other hand, variables that are outside of any block, are **global variables** and they have **global scope**, they can be accessed from everywhere in the program. "
   ]
  },
  {
   "attachments": {},
   "cell_type": "markdown",
   "metadata": {},
   "source": [
    "````{important}\n",
    "```{admonition} Local Scope\n",
    "**Local scope**: variables can be accessed from the point they are declared until the end of the block where they are declared. Outside of these boundaries they are **out of scope** and not recognized.\n",
    "```\n",
    "```{admonition} Global Scope\n",
    "**Global scope**: variables are not declared within a block but in the global workspace, thus they can be accessed from anywhere within the program.\n",
    "```\n",
    "````"
   ]
  },
  {
   "attachments": {},
   "cell_type": "markdown",
   "metadata": {},
   "source": [
    "```{figure} ../images/3_functions/scope_of_variables.jpg\n",
    ":alt: scope_of_variables_illustration\n",
    ":name: scope-of-variables-assign\n",
    ":class: ch4\n",
    ":align: center\n",
    "\n",
    "Scope of Variables\n",
    "```"
   ]
  },
  {
   "attachments": {},
   "cell_type": "markdown",
   "metadata": {},
   "source": [
    "````{margin}\n",
    "```{attention}\n",
    "Imagine Blocks as functions here.\n",
    "```\n",
    "````\n",
    "{numref}`scope-of-variables-assign` shows how variables declared inside nested blocks can be accessed. Block 1 is the outer block. Variable `x` is declared there. This means that `x` can be accessed from the point of declaration until the end of Block 1. Since Block 1 encloses all the other blocks, this means that `x` can be accessed in all this blocks (indicated by the red dashed line that cuts all other blocks). Variable `y` is declared in Block 2. It cannot be accessed in Block 1, but it can be accessed in Blocks 3 and 4, besides block 2 where it is declared, thus complying with the **local scope** rule. Similarly, variable `z` is accessed only in Blocks 3 and 4, while variable `w` can only be accessed in Block 4."
   ]
  },
  {
   "attachments": {},
   "cell_type": "markdown",
   "metadata": {},
   "source": [
    "Below you can see some code examples to understand how the scope of a variable affects the outcomes of a piece of code."
   ]
  },
  {
   "cell_type": "code",
   "execution_count": 6,
   "metadata": {},
   "outputs": [],
   "source": [
    "x = 5\n",
    "\n",
    "def print_value_of_x():\n",
    "    print('Global value of x printed:', x)\n",
    "\n",
    "def print_value_of_x_y_local():\n",
    "    x = 10\n",
    "    y = 20\n",
    "    print('Local value of x overrides global value of x:',x)    \n",
    "    print('Local value of y:',y)"
   ]
  },
  {
   "cell_type": "code",
   "execution_count": 9,
   "metadata": {},
   "outputs": [
    {
     "name": "stdout",
     "output_type": "stream",
     "text": [
      "Global value of x printed: 5\n",
      "Local value of x overrides global value of x: 10\n",
      "Global value of x: 5 unchanged\n"
     ]
    }
   ],
   "source": [
    "print_value_of_x()\n",
    "print_value_of_x_y_local()\n",
    "print('Global value of x:',x, 'unchanged')\n",
    "print('Value of y:', y)"
   ]
  },
  {
   "attachments": {},
   "cell_type": "markdown",
   "metadata": {},
   "source": [
    "As we can see, the value of `x=5` is a global variable since it is not declared within any block or any function. Thus, it can be accessed from within the function `print_value_of_x()`. On the other hand, in the `print_value_of_x_local()` function we have introduced two variables: `x=10` and `y=20`. Here, the **local value** of `x` overrides the **global value** of `x`, in the sense that the function will recognize only its local variable named `x` and will print its value. There is also tha variable `y=20`, which is declared within a block (the function `print_value_x_y_local` body), whose value is printed within the function as well. Notice that, when we try to access the value of `y` from outside the function block, it will output an error, because `y` is **out of scope** and is not recognized outside the boundaries where it is defined using the **scope rules**."
   ]
  },
  {
   "attachments": {},
   "cell_type": "markdown",
   "metadata": {},
   "source": [
    "```{important}\n",
    "Scope rules change a bit on case of **control statements**. If a **control statement** block is declared in the global scope (not inside a function), then the variables *initialized* there have **global scope**. Otherwise, if the control statements are inside a block/function, then variables declared there have **local  scope**, accessible only within the block they were declared.\n",
    "```"
   ]
  },
  {
   "attachments": {},
   "cell_type": "markdown",
   "metadata": {},
   "source": [
    "Something important to note here is the fact that statements that are declared globally (not inside a function), they are executed as soon as they are encountered by the IPython Interpreter, while statements inside function blocks are executed only when the function is called."
   ]
  },
  {
   "attachments": {},
   "cell_type": "markdown",
   "metadata": {},
   "source": [
    "```{caution}\n",
    "Be careful when naming variables. If their identifier has the same name as a built-in function in Python, then they will *shadow* the function. The interpreter will not recognize the built-in function anymore and a `TypeError` will be raised. The code below illustrates the situation. The interpreter sees `mean` as a variable now and does not know about the `mean()` function anymore.\n",
    "```"
   ]
  },
  {
   "cell_type": "code",
   "execution_count": 4,
   "metadata": {},
   "outputs": [
    {
     "name": "stdout",
     "output_type": "stream",
     "text": [
      "2.0\n"
     ]
    }
   ],
   "source": [
    "mean = (1+2+3)/3\n",
    "print(mean)"
   ]
  },
  {
   "cell_type": "code",
   "execution_count": 5,
   "metadata": {},
   "outputs": [
    {
     "ename": "TypeError",
     "evalue": "'float' object is not callable",
     "output_type": "error",
     "traceback": [
      "\u001b[1;31m---------------------------------------------------------------------------\u001b[0m",
      "\u001b[1;31mTypeError\u001b[0m                                 Traceback (most recent call last)",
      "\u001b[1;32m~\\AppData\\Local\\Temp\\ipykernel_20092\\2532328219.py\u001b[0m in \u001b[0;36m<module>\u001b[1;34m\u001b[0m\n\u001b[1;32m----> 1\u001b[1;33m \u001b[0mmean\u001b[0m\u001b[1;33m(\u001b[0m\u001b[1;33m[\u001b[0m\u001b[1;36m1\u001b[0m\u001b[1;33m,\u001b[0m\u001b[1;36m2\u001b[0m\u001b[1;33m,\u001b[0m\u001b[1;36m3\u001b[0m\u001b[1;33m]\u001b[0m\u001b[1;33m)\u001b[0m\u001b[1;33m\u001b[0m\u001b[1;33m\u001b[0m\u001b[0m\n\u001b[0m",
      "\u001b[1;31mTypeError\u001b[0m: 'float' object is not callable"
     ]
    }
   ],
   "source": [
    "mean([1,2,3])"
   ]
  },
  {
   "attachments": {},
   "cell_type": "markdown",
   "metadata": {},
   "source": [
    "## `import ...` and `from ... import ...` statemets"
   ]
  },
  {
   "attachments": {},
   "cell_type": "markdown",
   "metadata": {},
   "source": [
    "In most of the cases, some built-in functions that we need to use are not part of our workspace, so we need to import the module that contains the. We do this using the `import module` statements. For example, to import the `math` module we would write:"
   ]
  },
  {
   "cell_type": "code",
   "execution_count": 7,
   "metadata": {},
   "outputs": [
    {
     "data": {
      "text/plain": [
       "2.0"
      ]
     },
     "execution_count": 7,
     "metadata": {},
     "output_type": "execute_result"
    }
   ],
   "source": [
    "import math # after importing the module we can use its features\n",
    "\n",
    "# using sqrt() function of math module\n",
    "math.sqrt(4)"
   ]
  },
  {
   "attachments": {},
   "cell_type": "markdown",
   "metadata": {},
   "source": [
    "We can also import certain functions of a module by using the following syntax:\n",
    "```python\n",
    "from module_name import function1, function2,..., function_n\n",
    "```\n",
    "This would allow us to use the functions directly by their names."
   ]
  },
  {
   "cell_type": "code",
   "execution_count": 8,
   "metadata": {},
   "outputs": [
    {
     "name": "stdout",
     "output_type": "stream",
     "text": [
      "2.0\n",
      "0.6931471805599453\n"
     ]
    }
   ],
   "source": [
    "from math import sqrt, log\n",
    "#this way of importing\n",
    "#allows to call directly the functions\n",
    "print(sqrt(4))\n",
    "print(log(2))"
   ]
  },
  {
   "attachments": {},
   "cell_type": "markdown",
   "metadata": {},
   "source": [
    "```{caution}\n",
    "In order to import all functions of a module you can use a **wildcard** (*), e.g `from module_name import *`. However, this can introduce potential *shadowing* related to the variables we have in our code. So, it is advisable to avoid using it.\n",
    "```"
   ]
  },
  {
   "attachments": {},
   "cell_type": "markdown",
   "metadata": {},
   "source": [
    "````{note}\n",
    "In addition, it is possible to give aliases to modules. This is done to easily access the the module functions later on. The syntax is: \n",
    "```python\n",
    "import numpy as np\n",
    "```\n",
    "Later on, we can access all functions of the `numpy` library using `np.function_name`.\n",
    "````"
   ]
  },
  {
   "attachments": {},
   "cell_type": "markdown",
   "metadata": {},
   "source": [
    "## What are methods? (Optional)"
   ]
  },
  {
   "attachments": {},
   "cell_type": "markdown",
   "metadata": {},
   "source": [
    "```{attention}\n",
    "This section includes concepts from object-oriented programming that is out of the scope of this book. We introduce it for the sake of completeness. Skipping it will not have any impact on understanding the other concepts that will come next.\n",
    "```"
   ]
  },
  {
   "attachments": {},
   "cell_type": "markdown",
   "metadata": {},
   "source": [
    "**Methods** are very similar to functions. The only difference is that they belong to objects. The difference is seen in their declaration and in the way how they are called. Here we provide examples of the `string` class built-in methods. Methods are declared within classes just like functions, but when they are called the syntax differs:\n",
    "```python\n",
    "object_name.method_name(parameter_list)\n",
    "```\n",
    "This means that we are specifically referring to the *method* specified in the class. All objects of that class will have that method. An example will be:"
   ]
  },
  {
   "cell_type": "code",
   "execution_count": 3,
   "metadata": {},
   "outputs": [
    {
     "name": "stdout",
     "output_type": "stream",
     "text": [
      "Before calling method: hello\n",
      "After calling method: Hello\n"
     ]
    }
   ],
   "source": [
    "word = 'hello'\n",
    "print('Before calling method:',word)\n",
    "word = word.capitalize()\n",
    "print('After calling method:',word)"
   ]
  },
  {
   "attachments": {},
   "cell_type": "markdown",
   "metadata": {},
   "source": [
    "Here `capitalize()` is a method the class `string`, since we are defining `word` to be a string. We cannot call `capitalize()` as we had done before by just specifying its name and the parenthesis, because this function is specific to a class, that is why it is called a **method**."
   ]
  }
 ],
 "metadata": {
  "kernelspec": {
   "display_name": "python-jb",
   "language": "python",
   "name": "python3"
  },
  "language_info": {
   "codemirror_mode": {
    "name": "ipython",
    "version": 3
   },
   "file_extension": ".py",
   "mimetype": "text/x-python",
   "name": "python",
   "nbconvert_exporter": "python",
   "pygments_lexer": "ipython3",
   "version": "3.7.13"
  },
  "orig_nbformat": 4,
  "vscode": {
   "interpreter": {
    "hash": "0c2f5c4fba51b93f19e499abfcc9ef4d6fee5bb503e49077d95162365c0a0cb3"
   }
  }
 },
 "nbformat": 4,
 "nbformat_minor": 2
}
