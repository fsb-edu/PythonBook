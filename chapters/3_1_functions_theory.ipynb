{
 "cells": [
  {
   "attachments": {},
   "cell_type": "markdown",
   "metadata": {},
   "source": [
    "# Readings"
   ]
  },
  {
   "attachments": {},
   "cell_type": "markdown",
   "metadata": {},
   "source": [
    "## What are functions?"
   ]
  },
  {
   "attachments": {},
   "cell_type": "markdown",
   "metadata": {},
   "source": [
    "**Functions** are blocks of code that help us *reuse* code. The structure  of a function looks like this:\n",
    "\n",
    "```python\n",
    "def function_name (parameter1, parameter2):\n",
    "    body of the function\n",
    "```\n",
    "\n",
    "`````{margin}\n",
    "````{note}\n",
    "In case where a function does not need any parameters, then the function definition would look like this:\n",
    "```python\n",
    "def function_name():\n",
    "    print('Hello World!')\n",
    "```\n",
    "````\n",
    "`````\n",
    "A function definition always starts with the `def` keyword. After the `def` keyword, the function name comes. Here the programmer has free choice but just as in the case of naming variables, it is important to give meaningful names to  functions so that it is easy to understand what they do. After the function name, a list of parameters is enclosed in parenthesis. These are variables that will be used in the body of the function. Note that the parameters' list might be empty as well. After that `:` indicate the end of the function definition. Then the declaration of the body of the function begins. If the function needs to return something then at the end a `return` statement should be included. We will see some examples. \n",
    "\n",
    "To call a function you simply write the function name followed by the provided parameters:\n",
    "```python\n",
    "function_name(paramater1_value, paramater2_value)\n",
    "```"
   ]
  },
  {
   "attachments": {},
   "cell_type": "markdown",
   "metadata": {},
   "source": [
    "Suppose that we want to find the minimum value of three numbers that are between 0 and 100. From what we have learned so far a possible solution would be:"
   ]
  },
  {
   "cell_type": "code",
   "execution_count": 6,
   "metadata": {},
   "outputs": [
    {
     "name": "stdout",
     "output_type": "stream",
     "text": [
      "35\n"
     ]
    }
   ],
   "source": [
    "no_1 = 20\n",
    "no_2 = 44\n",
    "no_3 = 35\n",
    "min_value = no_1\n",
    "if no_1 > no_2:\n",
    "    min_value = no_2\n",
    "if no_2 > no_3:\n",
    "    min_value = no_3\n",
    "\n",
    "print(min_value)"
   ]
  },
  {
   "attachments": {},
   "cell_type": "markdown",
   "metadata": {},
   "source": [
    "Imagine now that after some lines of code we would need again to find the minimum of 3 numbers. We could go and copy-paste the code block of above, change the numbers that we provided and get the minimum. After some time, the conditions change and we need to compare 4 numbers instead of 3. We have to go and change every single copy-pasted block that computes the minimum. In this tedious process we might forget a block or even worse we might introduce mistakes in one of them without noticing at all. So instead, we switch to **functions**."
   ]
  },
  {
   "attachments": {},
   "cell_type": "markdown",
   "metadata": {},
   "source": [
    "Below you can find the implementation of the function to find the minimum value of 3 numbers:"
   ]
  },
  {
   "cell_type": "code",
   "execution_count": 20,
   "metadata": {},
   "outputs": [],
   "source": [
    "def find_minimum(no_1, no_2, no_3):\n",
    "    min_value = no_1\n",
    "    if min_value > no_2:\n",
    "        min_value = no_2\n",
    "    if min_value > no_3:\n",
    "        min_value = no_3\n",
    "    return min_value"
   ]
  },
  {
   "attachments": {},
   "cell_type": "markdown",
   "metadata": {},
   "source": [
    "And here we use the function we have just declared:"
   ]
  },
  {
   "cell_type": "code",
   "execution_count": 21,
   "metadata": {},
   "outputs": [
    {
     "name": "stdout",
     "output_type": "stream",
     "text": [
      "The minimum of {20, 35, 44} is 20\n",
      "The minimum of {27, 40, 63} is 27\n",
      "The minimum of {53, 44, 89} is 44\n"
     ]
    }
   ],
   "source": [
    "print('The minimum of {20, 35, 44} is', find_minimum(20, 35, 44))\n",
    "print('The minimum of {27, 40, 63} is', find_minimum(63, 40, 27))\n",
    "print('The minimum of {53, 44, 89} is', find_minimum(53, 44, 89))"
   ]
  },
  {
   "attachments": {},
   "cell_type": "markdown",
   "metadata": {},
   "source": [
    "So this is what happens when a function is called: everything starts with the call to the *print* function that prints the first string and then evaluates the second argument which is the call to the function **find_minimum**. When we call the function, we provide values for the arguments that its expects, that are 3 numbers. Then the control flow goes inside the body of the function, assigns to the `min_value` variable the value of `no_1`. Then its starts checking if `no_2` is smaller than the `min_value` and if so, we assign the value of `no_2` to the `min_value`. The last check is done with the `no_3` variable. If its value is less than the value of `min_value`, then we assign its value to the `min_value` variable. At the end in the `return` statement, we return the value of the smallest number. After the function finishes its execution, the `return` statement brings the control back to the print function and prints the whole statement by appending to the string the smallest number."
   ]
  },
  {
   "attachments": {},
   "cell_type": "markdown",
   "metadata": {},
   "source": [
    "Now if we would like to declare a function that would find the minimum of 4 numbers it would be easy and we would not have to repeat any code and using the ternary operator:"
   ]
  },
  {
   "cell_type": "code",
   "execution_count": 16,
   "metadata": {},
   "outputs": [],
   "source": [
    "def find_minimum_of_four(no_1, no_2, no_3, no_4):\n",
    "    min_of_three = find_minimum(no_1, no_2, no_3)\n",
    "    return min_of_three if min_of_three < no_4 else no_4"
   ]
  },
  {
   "cell_type": "code",
   "execution_count": 18,
   "metadata": {},
   "outputs": [
    {
     "name": "stdout",
     "output_type": "stream",
     "text": [
      "The minimum of {20, 35, 15, 30} is 15\n"
     ]
    }
   ],
   "source": [
    "print('The minimum of {20, 35, 15, 30} is', find_minimum_of_four(20, 35, 15, 30))"
   ]
  },
  {
   "attachments": {},
   "cell_type": "markdown",
   "metadata": {},
   "source": [
    "```{admonition} Parameters vs Arguments\n",
    "Sometimes the words `parameters` and `arguments` are used interchangeably when it comes to functions. They refer to the same thing. Parameters are the variables in the function header/declaration while the arguments are the actual values passed for each of the parameters when we call the function.\n",
    "```\n",
    "\n",
    "```{figure} ../images/3_functions/params_vs_args.jpg\n",
    ":alt: params_vs_args_illustration\n",
    ":name: params-vs-args-assign\n",
    ":class: ch4\n",
    ":align: center\n",
    "\n",
    "Parameters vs Arguments\n",
    "```"
   ]
  },
  {
   "attachments": {},
   "cell_type": "markdown",
   "metadata": {},
   "source": [
    "## Functions with default values"
   ]
  },
  {
   "attachments": {},
   "cell_type": "markdown",
   "metadata": {},
   "source": [
    "When declaring a function, in the parameters list we can specify some values for the parameters. In this case we will have a function with **default parameter values**. This means that when you call the function and do not provide any argument for this parameter, then the function body will use the default parameter specified in the function header to make the computations."
   ]
  },
  {
   "attachments": {},
   "cell_type": "markdown",
   "metadata": {},
   "source": [
    "For example, we can define a function to compute the sum of two numbers:"
   ]
  },
  {
   "cell_type": "code",
   "execution_count": 22,
   "metadata": {},
   "outputs": [],
   "source": [
    "def sum(num_1=1, num_2=2):\n",
    "    return num_1 + num_2"
   ]
  },
  {
   "attachments": {},
   "cell_type": "markdown",
   "metadata": {},
   "source": [
    "Here we have specified a default value for both of the parameters. This allows us to call the function by not specifying any arguments at all, one argument or both of them:"
   ]
  },
  {
   "cell_type": "code",
   "execution_count": 27,
   "metadata": {},
   "outputs": [
    {
     "name": "stdout",
     "output_type": "stream",
     "text": [
      "The sum is 3\n",
      "The sum is 4\n",
      "The sum is 11\n"
     ]
    }
   ],
   "source": [
    "print('The sum is', sum())\n",
    "print('The sum is', sum(3))\n",
    "print('The sum is', sum(4, 7))"
   ]
  },
  {
   "attachments": {},
   "cell_type": "markdown",
   "metadata": {},
   "source": [
    "If we do not specify any argument to pass to the function, then the calculation is made by using the default values of `num_1=1` and `num_2=2`. When we pass only one argument then the default value of `num_1` is overwritten with the value `3` and the second parameter retains its default value, ths we have the result: 5. In the last case, both default values of the parameter are overwritten and we have their sum 11 printed."
   ]
  },
  {
   "attachments": {},
   "cell_type": "markdown",
   "metadata": {},
   "source": [
    "```{important}\n",
    "It is possible when we call a function to determine the values that we pass for each of its parameters by specifying the name of each parameter in the function call. These are called **keyword arguments**. In this way you can even change the order of the arguments. For example:\n",
    "```"
   ]
  },
  {
   "cell_type": "code",
   "execution_count": 28,
   "metadata": {},
   "outputs": [
    {
     "name": "stdout",
     "output_type": "stream",
     "text": [
      "The sum is 3\n",
      "The sum is 4\n",
      "The sum is 11\n"
     ]
    }
   ],
   "source": [
    "print('The sum is', sum())\n",
    "print('The sum is', sum(num_2 = 3))\n",
    "print('The sum is', sum(num_2=4, num_1=7))"
   ]
  },
  {
   "attachments": {},
   "cell_type": "markdown",
   "metadata": {},
   "source": [
    "## Functions with arbitrary many arguments"
   ]
  },
  {
   "attachments": {},
   "cell_type": "markdown",
   "metadata": {},
   "source": [
    "In Python it is possible for a function to receive arbitrarily many arguments each time it is called. This is done in the function header. Instead of listing all excepted arguments one by one, you can just write `*parameter_name` instead, where you can choose whatever name you want for `parameter_name`. In this way by using a *for-loop* you can iterate over the list of arguments passed to the function. "
   ]
  },
  {
   "cell_type": "code",
   "execution_count": 31,
   "metadata": {},
   "outputs": [],
   "source": [
    "def sum(*numbers):\n",
    "    sum = 0\n",
    "    for number in numbers:\n",
    "        sum = sum + number\n",
    "    return sum"
   ]
  },
  {
   "attachments": {},
   "cell_type": "markdown",
   "metadata": {},
   "source": [
    "This is useful when you do not know beforehand how many arguments will be passed to the function."
   ]
  },
  {
   "cell_type": "code",
   "execution_count": 33,
   "metadata": {},
   "outputs": [
    {
     "name": "stdout",
     "output_type": "stream",
     "text": [
      "The sum is 33\n",
      "The sum is 25\n"
     ]
    }
   ],
   "source": [
    "print('The sum is', sum(2,11,12,3,5))\n",
    "print('The sum is', sum(2,11,12))"
   ]
  },
  {
   "attachments": {},
   "cell_type": "markdown",
   "metadata": {},
   "source": [
    "There is a way to specify arbitrary keyword arguments as well. In this case, in the parameters of the function definition you should specify `**parameter_name`. Again for the `parameter_name` you can specify any valid variable name that you want.\n",
    "````{margin}\n",
    "```{note}\n",
    "`name` in this case is a dictionary. We will study them in Chapter 6.\n",
    "```\n",
    "````"
   ]
  },
  {
   "cell_type": "code",
   "execution_count": 52,
   "metadata": {},
   "outputs": [],
   "source": [
    "def full_name(**name):\n",
    "    print('Full name is', name['first_name'], name['last_name'])"
   ]
  },
  {
   "cell_type": "code",
   "execution_count": 54,
   "metadata": {},
   "outputs": [
    {
     "name": "stdout",
     "output_type": "stream",
     "text": [
      "Full name is John Smith\n",
      "Full name is John Smith\n"
     ]
    }
   ],
   "source": [
    "full_name(first_name='John', last_name='Smith')\n",
    "full_name(first_name='John', middle_name='J.' ,last_name='Smith')"
   ]
  },
  {
   "attachments": {},
   "cell_type": "markdown",
   "metadata": {},
   "source": [
    "Here in this example, no mater how many ***keyword arguments*** the user specifies when calling the function, inside the function we use only the ones that correspond to the *keys* `first_name` and `last_name`."
   ]
  },
  {
   "attachments": {},
   "cell_type": "markdown",
   "metadata": {},
   "source": [
    "## What are methods?"
   ]
  },
  {
   "attachments": {},
   "cell_type": "markdown",
   "metadata": {},
   "source": [
    "## Scope of a variable"
   ]
  },
  {
   "attachments": {},
   "cell_type": "markdown",
   "metadata": {},
   "source": [
    "```{hint}\n",
    "***Python Standard Library*** provides a lot of already-written and tested functions. The availability of such functions makes Python one of the most popular programming languages. So before you write your own function it is a good idea to have a look at the Python Standard Library because it might already contain the needed function. [Here](https://docs.python.org/3/library/) you can find the official documentation.\n",
    "```"
   ]
  }
 ],
 "metadata": {
  "kernelspec": {
   "display_name": "python-jb",
   "language": "python",
   "name": "python3"
  },
  "language_info": {
   "codemirror_mode": {
    "name": "ipython",
    "version": 3
   },
   "file_extension": ".py",
   "mimetype": "text/x-python",
   "name": "python",
   "nbconvert_exporter": "python",
   "pygments_lexer": "ipython3",
   "version": "3.7.13"
  },
  "orig_nbformat": 4,
  "vscode": {
   "interpreter": {
    "hash": "0c2f5c4fba51b93f19e499abfcc9ef4d6fee5bb503e49077d95162365c0a0cb3"
   }
  }
 },
 "nbformat": 4,
 "nbformat_minor": 2
}
