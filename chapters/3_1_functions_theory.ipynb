{
 "cells": [
  {
   "attachments": {},
   "cell_type": "markdown",
   "metadata": {},
   "source": [
    "# Readings"
   ]
  },
  {
   "attachments": {},
   "cell_type": "markdown",
   "metadata": {},
   "source": [
    "## What are functions?"
   ]
  },
  {
   "attachments": {},
   "cell_type": "markdown",
   "metadata": {},
   "source": [
    "**Functions** are blocks of code that help us *reuse* code. The structure  of a function looks like this:\n",
    "\n",
    "```python\n",
    "def function_name (parameter1, parameter2):\n",
    "    body of the function\n",
    "```\n",
    "\n",
    "`````{margin}\n",
    "````{note}\n",
    "In case where a function does not need any parameters, then the function definition would look like this:\n",
    "```python\n",
    "def function_name():\n",
    "```\n",
    "````\n",
    "`````\n",
    "A function definition always starts with the `def` keyword. After the `def` keyword, the function name comes. Here the programmer has free choice but just as in the case of naming variables, it is important to give meaningful names to  functions so that it is easy to understand what they do. After the function name, a list of parameters is enclosed in parenthesis. These are variables that will be used in the body of the function. Note that the parameters' list might be empty as well. After that `:` indicate the end of the function definition. Then the declaration of the body of the function begins. If the function needs to return something then at the end a `return` statement should be included. We will see some examples. \n",
    "\n",
    "To call a function you simply write the function name followed by the provided parameters:\n",
    "```python\n",
    "function_name(paramater1_value, paramater2_value)\n",
    "```"
   ]
  },
  {
   "attachments": {},
   "cell_type": "markdown",
   "metadata": {},
   "source": [
    "Suppose that we want to find the minimum value of three numbers that are between 0 and 100. From what we have learned so far a possible solution would be:"
   ]
  },
  {
   "cell_type": "code",
   "execution_count": 6,
   "metadata": {},
   "outputs": [
    {
     "name": "stdout",
     "output_type": "stream",
     "text": [
      "35\n"
     ]
    }
   ],
   "source": [
    "no_1 = 20\n",
    "no_2 = 44\n",
    "no_3 = 35\n",
    "min_value = no_1\n",
    "if no_1 > no_2:\n",
    "    min_value = no_2\n",
    "if no_2 > no_3:\n",
    "    min_value = no_3\n",
    "\n",
    "print(min_value)"
   ]
  },
  {
   "attachments": {},
   "cell_type": "markdown",
   "metadata": {},
   "source": [
    "Imagine now that after some lines of code we would need again to find the minimum of 3 numbers. We could go and copy-paste the code block of above, change the numbers that we provided and get the minimum. After some time, the conditions change and we need to compare 4 numbers instead of 3. We have to go and change every single copy-pasted block that computes the minimum. In this tedious process we might forget a block or even worse we might introduce mistakes in one of them without noticing at all. So instead, we switch to **functions**."
   ]
  },
  {
   "attachments": {},
   "cell_type": "markdown",
   "metadata": {},
   "source": [
    "Below you can find the implementation of the function to find the minimum value of 3 numbers:"
   ]
  },
  {
   "cell_type": "code",
   "execution_count": 8,
   "metadata": {},
   "outputs": [],
   "source": [
    "def find_minimum(no_1, no_2, no_3):\n",
    "    min_value = no_1\n",
    "    if no_1 > no_2:\n",
    "        min_value = no_2\n",
    "    if no_2 > no_3:\n",
    "        min_value = no_3\n",
    "    return min_value"
   ]
  },
  {
   "attachments": {},
   "cell_type": "markdown",
   "metadata": {},
   "source": [
    "And here we use the function we have just declared:"
   ]
  },
  {
   "cell_type": "code",
   "execution_count": 19,
   "metadata": {},
   "outputs": [
    {
     "name": "stdout",
     "output_type": "stream",
     "text": [
      "The minimum of {20, 35, 44} is 20\n",
      "The minimum of {27, 40, 63} is 27\n",
      "The minimum of {53, 44, 89} is 44\n"
     ]
    }
   ],
   "source": [
    "print('The minimum of {20, 35, 44} is', find_minimum(20, 35, 44))\n",
    "print('The minimum of {27, 40, 63} is', find_minimum(63, 40, 27))\n",
    "print('The minimum of {53, 44, 89} is', find_minimum(53, 44, 89))"
   ]
  },
  {
   "attachments": {},
   "cell_type": "markdown",
   "metadata": {},
   "source": [
    "Now if we would like to declare a function that would find the minimum of 4 numbers it would be easy and we would not have to repeat any code and using the ternary operator:"
   ]
  },
  {
   "cell_type": "code",
   "execution_count": 16,
   "metadata": {},
   "outputs": [],
   "source": [
    "def find_minimum_of_four(no_1, no_2, no_3, no_4):\n",
    "    min_of_three = find_minimum(no_1, no_2, no_3)\n",
    "    return min_of_three if min_of_three < no_4 else no_4"
   ]
  },
  {
   "cell_type": "code",
   "execution_count": 18,
   "metadata": {},
   "outputs": [
    {
     "name": "stdout",
     "output_type": "stream",
     "text": [
      "The minimum of {20, 35, 15, 30} is 15\n"
     ]
    }
   ],
   "source": [
    "print('The minimum of {20, 35, 15, 30} is', find_minimum_of_four(20, 35, 15, 30))"
   ]
  },
  {
   "attachments": {},
   "cell_type": "markdown",
   "metadata": {},
   "source": [
    "## Parameters vs Arguments"
   ]
  },
  {
   "attachments": {},
   "cell_type": "markdown",
   "metadata": {},
   "source": [
    "## Functions with arbitrary many arguments"
   ]
  },
  {
   "attachments": {},
   "cell_type": "markdown",
   "metadata": {},
   "source": [
    "## What are methods?"
   ]
  },
  {
   "attachments": {},
   "cell_type": "markdown",
   "metadata": {},
   "source": [
    "## Scope of a variable"
   ]
  }
 ],
 "metadata": {
  "kernelspec": {
   "display_name": "python-jb",
   "language": "python",
   "name": "python3"
  },
  "language_info": {
   "codemirror_mode": {
    "name": "ipython",
    "version": 3
   },
   "file_extension": ".py",
   "mimetype": "text/x-python",
   "name": "python",
   "nbconvert_exporter": "python",
   "pygments_lexer": "ipython3",
   "version": "3.7.13"
  },
  "orig_nbformat": 4,
  "vscode": {
   "interpreter": {
    "hash": "0c2f5c4fba51b93f19e499abfcc9ef4d6fee5bb503e49077d95162365c0a0cb3"
   }
  }
 },
 "nbformat": 4,
 "nbformat_minor": 2
}
