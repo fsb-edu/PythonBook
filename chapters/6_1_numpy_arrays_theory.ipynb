{
 "cells": [
  {
   "attachments": {},
   "cell_type": "markdown",
   "metadata": {},
   "source": [
    "# Readings"
   ]
  },
  {
   "attachments": {},
   "cell_type": "markdown",
   "metadata": {},
   "source": [
    "**Numpy** library provides the **ndarray** implementation that we are going to introduce in this chapter. **ndarray** stands for n-dimensional array. These arrays are similar to n-dimensional lists but are more memory and processing efficient and at the same time it is easier to iterate over them. In order to be able to work with **ndarray**s, we first need to import the **numpy** module. Usually, in practice when we import numpy we use the shorthand **np** in order to faster and more easily access the functionalities of the library."
   ]
  },
  {
   "cell_type": "code",
   "execution_count": 1,
   "metadata": {},
   "outputs": [],
   "source": [
    "import numpy as np"
   ]
  },
  {
   "attachments": {},
   "cell_type": "markdown",
   "metadata": {},
   "source": [
    "## Creating the numpy array (manually adding elements)"
   ]
  },
  {
   "attachments": {},
   "cell_type": "markdown",
   "metadata": {},
   "source": [
    "To create the numpy array, we use the `array()` function of the `numpy` module which thanks to our import and shorthand notation in the previous cell, we can call it as:\n",
    "```python\n",
    "np.array(list_name)\n",
    "```\n",
    "An example would be:"
   ]
  },
  {
   "cell_type": "code",
   "execution_count": 2,
   "metadata": {},
   "outputs": [
    {
     "data": {
      "text/plain": [
       "array([1, 2, 3, 4])"
      ]
     },
     "execution_count": 2,
     "metadata": {},
     "output_type": "execute_result"
    }
   ],
   "source": [
    "numpy_array = np.array([1,2,3,4])\n",
    "numpy_array"
   ]
  },
  {
   "attachments": {},
   "cell_type": "markdown",
   "metadata": {},
   "source": [
    "Similarly, we can create a two-dimensional array by passing two lists to the function:"
   ]
  },
  {
   "cell_type": "code",
   "execution_count": 3,
   "metadata": {},
   "outputs": [
    {
     "data": {
      "text/plain": [
       "array([[1, 2, 3, 4],\n",
       "       [5, 6, 7, 8]])"
      ]
     },
     "execution_count": 3,
     "metadata": {},
     "output_type": "execute_result"
    }
   ],
   "source": [
    "two_dim_numpy_array = np.array([[1,2,3,4], [5,6,7,8]])\n",
    "two_dim_numpy_array"
   ]
  },
  {
   "attachments": {},
   "cell_type": "markdown",
   "metadata": {},
   "source": [
    "This notation is similar to a list of lists."
   ]
  },
  {
   "attachments": {},
   "cell_type": "markdown",
   "metadata": {},
   "source": [
    "## Attributes of **numpy** arrays"
   ]
  },
  {
   "attachments": {},
   "cell_type": "markdown",
   "metadata": {},
   "source": [
    "### **dtype**"
   ]
  },
  {
   "attachments": {},
   "cell_type": "markdown",
   "metadata": {},
   "source": [
    "One of the attributes of **numpy** arrays is the **dtype**. It is used to show the data type of the elements of the array.\n",
    "\n",
    "````{margin}\n",
    "```{note}\n",
    "As you can see accessing the attributes of an object is similar to calling a method on that object expect that we do not need `()` anymore.\n",
    "```\n",
    "````"
   ]
  },
  {
   "cell_type": "code",
   "execution_count": 4,
   "metadata": {},
   "outputs": [
    {
     "data": {
      "text/plain": [
       "dtype('int32')"
      ]
     },
     "execution_count": 4,
     "metadata": {},
     "output_type": "execute_result"
    }
   ],
   "source": [
    "numpy_array.dtype"
   ]
  },
  {
   "attachments": {},
   "cell_type": "markdown",
   "metadata": {},
   "source": [
    "As you can see, the elements of the `numpy_array` are integers. `32` means that each of them occupies 32 bits in memory."
   ]
  },
  {
   "attachments": {},
   "cell_type": "markdown",
   "metadata": {},
   "source": [
    "### **ndim** and **shape**"
   ]
  },
  {
   "attachments": {},
   "cell_type": "markdown",
   "metadata": {},
   "source": [
    "The **ndim** attribute is used to find out the dimensions of a numpy array."
   ]
  },
  {
   "cell_type": "code",
   "execution_count": 5,
   "metadata": {},
   "outputs": [
    {
     "name": "stdout",
     "output_type": "stream",
     "text": [
      "1\n",
      "2\n"
     ]
    }
   ],
   "source": [
    "print(numpy_array.ndim)\n",
    "print(two_dim_numpy_array.ndim)"
   ]
  },
  {
   "attachments": {},
   "cell_type": "markdown",
   "metadata": {},
   "source": [
    "As you can see, `numpy_array` has only one dimension while the `two_dim_numpy_array` has two dimensions."
   ]
  },
  {
   "attachments": {},
   "cell_type": "markdown",
   "metadata": {},
   "source": [
    "In order to exactly see the dimensions we can use the **shape** attribute:"
   ]
  },
  {
   "cell_type": "code",
   "execution_count": 6,
   "metadata": {},
   "outputs": [
    {
     "name": "stdout",
     "output_type": "stream",
     "text": [
      "(4,)\n",
      "(2, 4)\n"
     ]
    }
   ],
   "source": [
    "print(numpy_array.shape)\n",
    "print(two_dim_numpy_array.shape)"
   ]
  },
  {
   "attachments": {},
   "cell_type": "markdown",
   "metadata": {},
   "source": [
    "For the first array, the second value in the shape tuple is missing. Usually when the value is missing it is interpreted as 1. While the second array's dimensions are 2 and 4. The first dimension in the tuple indicates the number of rows and the second dimension indicates the number of columns."
   ]
  },
  {
   "attachments": {},
   "cell_type": "markdown",
   "metadata": {},
   "source": [
    "### **size** and **itemsize**"
   ]
  },
  {
   "attachments": {},
   "cell_type": "markdown",
   "metadata": {},
   "source": [
    "The **size** attribute is used to find out the number of elements in an array."
   ]
  },
  {
   "cell_type": "code",
   "execution_count": 7,
   "metadata": {},
   "outputs": [
    {
     "name": "stdout",
     "output_type": "stream",
     "text": [
      "4\n",
      "8\n"
     ]
    }
   ],
   "source": [
    "print(numpy_array.size)\n",
    "print(two_dim_numpy_array.size)"
   ]
  },
  {
   "attachments": {},
   "cell_type": "markdown",
   "metadata": {},
   "source": [
    "In the case of two dimensional arrays, the number of elements corresponds to the product of the number of rows with the number of columns."
   ]
  },
  {
   "attachments": {},
   "cell_type": "markdown",
   "metadata": {},
   "source": [
    "**itemsize** on the other hand, is used to find out the total size in bytes of each element of the array:"
   ]
  },
  {
   "cell_type": "code",
   "execution_count": 8,
   "metadata": {},
   "outputs": [
    {
     "name": "stdout",
     "output_type": "stream",
     "text": [
      "4\n",
      "4\n"
     ]
    }
   ],
   "source": [
    "print(numpy_array.itemsize)\n",
    "print(two_dim_numpy_array.itemsize)"
   ]
  },
  {
   "attachments": {},
   "cell_type": "markdown",
   "metadata": {},
   "source": [
    "This perfectly corresponds to what we saw earlier using the **dtype** attribute. Here each integer is 4 bytes. Since each byte contains 8 bits, in total there would be `4x8=32` bits. Hence, the type `int32` above."
   ]
  },
  {
   "attachments": {},
   "cell_type": "markdown",
   "metadata": {},
   "source": [
    "### **flat**"
   ]
  },
  {
   "attachments": {},
   "cell_type": "markdown",
   "metadata": {},
   "source": [
    "The **flat** attribute is used to flatten a more than one dimensional array. This is useful when we want to iterate through the elements of the array using only one external **for** loop."
   ]
  },
  {
   "cell_type": "code",
   "execution_count": 9,
   "metadata": {},
   "outputs": [
    {
     "name": "stdout",
     "output_type": "stream",
     "text": [
      "1 2 3 4 "
     ]
    }
   ],
   "source": [
    "for num in numpy_array.flat:\n",
    "    print(num, end=' ')"
   ]
  },
  {
   "attachments": {},
   "cell_type": "markdown",
   "metadata": {},
   "source": [
    "Otherwise, we can still iterate over more than one dimensional arrays using two for loops as previously."
   ]
  },
  {
   "cell_type": "code",
   "execution_count": 10,
   "metadata": {},
   "outputs": [
    {
     "name": "stdout",
     "output_type": "stream",
     "text": [
      "1 2 3 4 \n",
      "5 6 7 8 \n"
     ]
    }
   ],
   "source": [
    "for row in two_dim_numpy_array:\n",
    "    for col in row:\n",
    "        print(col, end=' ')\n",
    "    print()"
   ]
  },
  {
   "attachments": {},
   "cell_type": "markdown",
   "metadata": {},
   "source": [
    "## Creating arrays with custom values using built-in functions"
   ]
  },
  {
   "attachments": {},
   "cell_type": "markdown",
   "metadata": {},
   "source": [
    "### Filling array with 0s"
   ]
  },
  {
   "attachments": {},
   "cell_type": "markdown",
   "metadata": {},
   "source": [
    "To fill an array with an arbitrary number of values, we call the `zeros()` function of the `numpy` library. It receives one argument, that determines the shape of the array to be created:"
   ]
  },
  {
   "cell_type": "code",
   "execution_count": 11,
   "metadata": {},
   "outputs": [
    {
     "name": "stdout",
     "output_type": "stream",
     "text": [
      "A= [0. 0. 0.]\n",
      "B= [[0. 0.]\n",
      " [0. 0.]\n",
      " [0. 0.]]\n"
     ]
    }
   ],
   "source": [
    "one_dim_zeros = np.zeros(3)\n",
    "two_dim_zeros = np.zeros((3, 2))\n",
    "print('A=', one_dim_zeros)\n",
    "print('B=', two_dim_zeros)"
   ]
  },
  {
   "attachments": {},
   "cell_type": "markdown",
   "metadata": {},
   "source": [
    "````{margin}\n",
    "```{caution}\n",
    "Make sure that the dimensions you pass to `np.zeros()`, `np.ones()` and `np.fill()` are always **positive integers**. Otherwise you will get a `ValueError` as it does not make sense to allocate negative space for an array.\n",
    "```\n",
    "````\n",
    "As you can see, if we pass an integer, a one dimensional array will be created with as many 0s as it is indicated by the integer passed as argument. If instead, we pass a tuple then a two dimensional array will be created with the first integer in the tuple being the number of rows and the second one being the number of columns."
   ]
  },
  {
   "attachments": {},
   "cell_type": "markdown",
   "metadata": {},
   "source": [
    "### Filling array with 1s"
   ]
  },
  {
   "attachments": {},
   "cell_type": "markdown",
   "metadata": {},
   "source": [
    "Similarly as above, to create an array of ones we use the `np.ones()` function:"
   ]
  },
  {
   "cell_type": "code",
   "execution_count": 12,
   "metadata": {},
   "outputs": [
    {
     "name": "stdout",
     "output_type": "stream",
     "text": [
      "A= [1. 1. 1.]\n",
      "B= [[1. 1.]\n",
      " [1. 1.]\n",
      " [1. 1.]]\n"
     ]
    }
   ],
   "source": [
    "one_dim_ones = np.ones(3)\n",
    "two_dim_ones = np.ones((3, 2))\n",
    "print('A=', one_dim_ones)\n",
    "print('B=', two_dim_ones)"
   ]
  },
  {
   "attachments": {},
   "cell_type": "markdown",
   "metadata": {},
   "source": [
    "Similarly, two arrays were created containing only ones."
   ]
  },
  {
   "cell_type": "code",
   "execution_count": 13,
   "metadata": {},
   "outputs": [
    {
     "data": {
      "text/plain": [
       "dtype('float64')"
      ]
     },
     "execution_count": 13,
     "metadata": {},
     "output_type": "execute_result"
    }
   ],
   "source": [
    "one_dim_ones.dtype"
   ]
  },
  {
   "attachments": {},
   "cell_type": "markdown",
   "metadata": {},
   "source": [
    "```{note}\n",
    "Something to notice is that the elements of the array are `floating-point` numbers and *not* `integers`. You can see this via the **dtype** attribute from above as well as from the output of the print statement that removes any trailing zeros after the decimal point `(.)`.\n",
    "```"
   ]
  },
  {
   "attachments": {},
   "cell_type": "markdown",
   "metadata": {},
   "source": [
    "### Filling array with a specific value"
   ]
  },
  {
   "attachments": {},
   "cell_type": "markdown",
   "metadata": {},
   "source": [
    "And to be able to fill an array with some specific values, we can use the `full()` function of the `numpy` library. Now we need to specify even the value besides the shape of the array:"
   ]
  },
  {
   "cell_type": "code",
   "execution_count": 14,
   "metadata": {},
   "outputs": [
    {
     "name": "stdout",
     "output_type": "stream",
     "text": [
      "A= [5 5 5]\n",
      "B= [[5 5]\n",
      " [5 5]\n",
      " [5 5]]\n"
     ]
    }
   ],
   "source": [
    "one_dims_value = np.full(3, 5)\n",
    "two_dim_value = np.full((3, 2), 5)\n",
    "print('A=', one_dims_value)\n",
    "print('B=', two_dim_value)"
   ]
  },
  {
   "attachments": {},
   "cell_type": "markdown",
   "metadata": {},
   "source": [
    "### Array from ranges using **arange()**"
   ]
  },
  {
   "attachments": {},
   "cell_type": "markdown",
   "metadata": {},
   "source": [
    "````{margin}\n",
    "```{note}\n",
    "To create an array from ranges you cn use two methods:\n",
    "  - **arange()** - for integer arrays\n",
    "  - **linspace()** - for float arrays\n",
    "```\n",
    "````\n",
    "The **arange()** function will create a range of values based on the arguments passed. Some examples:"
   ]
  },
  {
   "cell_type": "code",
   "execution_count": 15,
   "metadata": {},
   "outputs": [
    {
     "name": "stdout",
     "output_type": "stream",
     "text": [
      "A= [0 1 2]\n",
      "B= [3 4 5 6]\n",
      "C= [3 5 7 9]\n"
     ]
    }
   ],
   "source": [
    "array_1 = np.arange(3)\n",
    "array_2 = np.arange(3, 7)\n",
    "array_3 = np.arange(3, 10, 2)\n",
    "\n",
    "print('A=', array_1)\n",
    "print('B=', array_2)\n",
    "print('C=', array_3)"
   ]
  },
  {
   "attachments": {},
   "cell_type": "markdown",
   "metadata": {},
   "source": [
    "```{admonition} What happens behind the scenes?\n",
    "The **arange()** function will:\n",
    " 1. first calculate the space needed,\n",
    " 2. will allocate it in memory, \n",
    " 3. will generate the range \n",
    " 4. then save it in the allocated space.\n",
    "```"
   ]
  },
  {
   "attachments": {},
   "cell_type": "markdown",
   "metadata": {},
   "source": [
    "````{margin}\n",
    "```{important}\n",
    "You can also use the `range()` function to create a range of values and then pass it to the `array()` function, but the `arange()` function is optimized specifically for creation of arrays from ranges and thus is better in terms of performance.\n",
    "```\n",
    "````\n",
    "\n",
    "As you can see, there are 3 ways to call this function.\n",
    "- If you specify only one number as its argument, then an array containing all number from 0 up until but excluding the specified argument will be created.\n",
    "- If you specify two numbers, then an array with the range from the first argument up until but excluding the second one will be created.\n",
    "- If you specify three numbers, then an array with the range from the first argument up until but excluding the second one will be created, however the jumps are not anymore of 1 number but they will be indicated by the third argument (which in our case it is 2)."
   ]
  },
  {
   "attachments": {},
   "cell_type": "markdown",
   "metadata": {},
   "source": [
    "```{note}\n",
    "The **arange()** function creates arrays of integers. If instead we want to create an array of floating-point numbers, then we can use the **linspace()** function. It accepts as arguments the starting floating-point number, the ending floating-point number and the size of the array in the *num* argument. Then, based on the range and size, it creates an array with equidistant elements. For example:\n",
    "```"
   ]
  },
  {
   "cell_type": "code",
   "execution_count": 16,
   "metadata": {},
   "outputs": [
    {
     "name": "stdout",
     "output_type": "stream",
     "text": [
      "[2.5  3.75 5.   6.25 7.5 ]\n"
     ]
    }
   ],
   "source": [
    "floating_array = np.linspace(start=2.5, stop=7.5, num=5)\n",
    "print(floating_array)"
   ]
  },
  {
   "attachments": {},
   "cell_type": "markdown",
   "metadata": {},
   "source": [
    "## Arithmetic operations on arrays"
   ]
  },
  {
   "attachments": {},
   "cell_type": "markdown",
   "metadata": {},
   "source": [
    "### Element-wise operations"
   ]
  },
  {
   "attachments": {},
   "cell_type": "markdown",
   "metadata": {},
   "source": [
    "Element-wise operations means that the operation is applied to each element separately and then the result is assembled back in an array."
   ]
  },
  {
   "attachments": {},
   "cell_type": "markdown",
   "metadata": {},
   "source": [
    "#### Arithmetics"
   ]
  },
  {
   "attachments": {},
   "cell_type": "markdown",
   "metadata": {},
   "source": [
    "For example, in order to perform element-wise multiplication we would do:"
   ]
  },
  {
   "cell_type": "code",
   "execution_count": 19,
   "metadata": {},
   "outputs": [
    {
     "data": {
      "text/plain": [
       "array([0, 1, 2])"
      ]
     },
     "execution_count": 19,
     "metadata": {},
     "output_type": "execute_result"
    }
   ],
   "source": [
    "array_1"
   ]
  },
  {
   "cell_type": "code",
   "execution_count": 20,
   "metadata": {},
   "outputs": [
    {
     "data": {
      "text/plain": [
       "array([0, 2, 4])"
      ]
     },
     "execution_count": 20,
     "metadata": {},
     "output_type": "execute_result"
    }
   ],
   "source": [
    "array_1 * 2"
   ]
  },
  {
   "attachments": {},
   "cell_type": "markdown",
   "metadata": {},
   "source": [
    "As you can see, each element of the array was multiplied by 2 and a new array was returned. Note that the original array remains unchanged:"
   ]
  },
  {
   "cell_type": "code",
   "execution_count": 21,
   "metadata": {},
   "outputs": [
    {
     "data": {
      "text/plain": [
       "array([0, 1, 2])"
      ]
     },
     "execution_count": 21,
     "metadata": {},
     "output_type": "execute_result"
    }
   ],
   "source": [
    "array_1"
   ]
  },
  {
   "attachments": {},
   "cell_type": "markdown",
   "metadata": {},
   "source": [
    "We can do the same by adding a number:"
   ]
  },
  {
   "cell_type": "code",
   "execution_count": 22,
   "metadata": {},
   "outputs": [
    {
     "data": {
      "text/plain": [
       "array([2, 3, 4])"
      ]
     },
     "execution_count": 22,
     "metadata": {},
     "output_type": "execute_result"
    }
   ],
   "source": [
    "array_1 + 2"
   ]
  },
  {
   "attachments": {},
   "cell_type": "markdown",
   "metadata": {},
   "source": [
    "Or by exponentiating each element:"
   ]
  },
  {
   "cell_type": "code",
   "execution_count": 23,
   "metadata": {},
   "outputs": [
    {
     "data": {
      "text/plain": [
       "array([0, 1, 4], dtype=int32)"
      ]
     },
     "execution_count": 23,
     "metadata": {},
     "output_type": "execute_result"
    }
   ],
   "source": [
    "array_1 ** 2"
   ]
  },
  {
   "attachments": {},
   "cell_type": "markdown",
   "metadata": {},
   "source": [
    "Or by dividing (or floor dividing //) each element:"
   ]
  },
  {
   "cell_type": "code",
   "execution_count": 24,
   "metadata": {},
   "outputs": [
    {
     "data": {
      "text/plain": [
       "array([0. , 0.5, 1. ])"
      ]
     },
     "execution_count": 24,
     "metadata": {},
     "output_type": "execute_result"
    }
   ],
   "source": [
    "array_1 / 2"
   ]
  },
  {
   "cell_type": "code",
   "execution_count": 25,
   "metadata": {},
   "outputs": [
    {
     "data": {
      "text/plain": [
       "array([0, 0, 1], dtype=int32)"
      ]
     },
     "execution_count": 25,
     "metadata": {},
     "output_type": "execute_result"
    }
   ],
   "source": [
    "array_1 // 2"
   ]
  },
  {
   "attachments": {},
   "cell_type": "markdown",
   "metadata": {},
   "source": [
    "```{important}\n",
    "The underlying process that allows such operations to take place is called **broadcasting**. Since these operations require two arrays, the scalar is converted into an array of the same shape (by copying the element as many times as needed) and then, the operation is performed element-wise. The multiplication from above would have been written as (after broadcasting):\n",
    "```"
   ]
  },
  {
   "cell_type": "code",
   "execution_count": 26,
   "metadata": {},
   "outputs": [
    {
     "data": {
      "text/plain": [
       "array([0, 2, 4])"
      ]
     },
     "execution_count": 26,
     "metadata": {},
     "output_type": "execute_result"
    }
   ],
   "source": [
    "array_of_twos = np.full(array_1.shape, 2) # done implicitly by broadcasting\n",
    "array_1 * array_of_twos"
   ]
  },
  {
   "attachments": {},
   "cell_type": "markdown",
   "metadata": {},
   "source": [
    "But what happens if both operands are arrays? In that case the element-wise operation takes place directly. There is no need for broadcasting:"
   ]
  },
  {
   "cell_type": "code",
   "execution_count": 27,
   "metadata": {},
   "outputs": [
    {
     "data": {
      "text/plain": [
       "array([11, 24, 39, 56])"
      ]
     },
     "execution_count": 27,
     "metadata": {},
     "output_type": "execute_result"
    }
   ],
   "source": [
    "first_array = np.arange(1,5)\n",
    "second_array = np.arange(11,15)\n",
    "first_array * second_array"
   ]
  },
  {
   "attachments": {},
   "cell_type": "markdown",
   "metadata": {},
   "source": [
    "{numref}`elem-wise-mult-assign` depicts the idea of element-wise operations in the case of multiplications. All other element-wise operations follow the same logic.\n",
    "\n",
    "```{figure} ../images/7_numpy/element_wise_mult.jpg\n",
    ":alt: element_wise_multiplication_illustration\n",
    ":name: elem-wise-mult-assign\n",
    ":class: ch7\n",
    ":align: center\n",
    "\n",
    "Element-wise multiplication\n",
    "```"
   ]
  },
  {
   "attachments": {},
   "cell_type": "markdown",
   "metadata": {},
   "source": [
    "#### Comparison"
   ]
  },
  {
   "attachments": {},
   "cell_type": "markdown",
   "metadata": {},
   "source": [
    "Comparison between an array and a number or another array happens element-wise as well. The result will be another array that will contain boolean values indicating whether the condition holds for each element or not. For example:"
   ]
  },
  {
   "cell_type": "code",
   "execution_count": 28,
   "metadata": {},
   "outputs": [
    {
     "data": {
      "text/plain": [
       "array([ True,  True,  True,  True])"
      ]
     },
     "execution_count": 28,
     "metadata": {},
     "output_type": "execute_result"
    }
   ],
   "source": [
    "first_array < second_array"
   ]
  },
  {
   "attachments": {},
   "cell_type": "markdown",
   "metadata": {},
   "source": [
    "In this case, `first_array` contains values `[1,2,3,4]` and `second_array` contains values `[11,12,13,14]`. Since `1 < 11`, `2 < 12`, `3 < 13` and `4 < 14`, the resulting array will contain 4 `True` values."
   ]
  },
  {
   "attachments": {},
   "cell_type": "markdown",
   "metadata": {},
   "source": [
    "What happens if the two arrays do not have the same shape?"
   ]
  },
  {
   "cell_type": "code",
   "execution_count": 29,
   "metadata": {},
   "outputs": [
    {
     "ename": "ValueError",
     "evalue": "operands could not be broadcast together with shapes (4,) (7,) ",
     "output_type": "error",
     "traceback": [
      "\u001b[1;31m---------------------------------------------------------------------------\u001b[0m",
      "\u001b[1;31mValueError\u001b[0m                                Traceback (most recent call last)",
      "\u001b[1;32m~\\AppData\\Local\\Temp\\ipykernel_16436\\3767346666.py\u001b[0m in \u001b[0;36m<module>\u001b[1;34m\u001b[0m\n\u001b[0;32m      1\u001b[0m \u001b[0mthird_array\u001b[0m \u001b[1;33m=\u001b[0m \u001b[0mnp\u001b[0m\u001b[1;33m.\u001b[0m\u001b[0marange\u001b[0m\u001b[1;33m(\u001b[0m\u001b[1;36m3\u001b[0m\u001b[1;33m,\u001b[0m\u001b[1;36m10\u001b[0m\u001b[1;33m)\u001b[0m\u001b[1;33m\u001b[0m\u001b[1;33m\u001b[0m\u001b[0m\n\u001b[1;32m----> 2\u001b[1;33m \u001b[0mfirst_array\u001b[0m \u001b[1;33m<\u001b[0m \u001b[0mthird_array\u001b[0m\u001b[1;33m\u001b[0m\u001b[1;33m\u001b[0m\u001b[0m\n\u001b[0m",
      "\u001b[1;31mValueError\u001b[0m: operands could not be broadcast together with shapes (4,) (7,) "
     ]
    }
   ],
   "source": [
    "third_array = np.arange(3,10)\n",
    "first_array < third_array"
   ]
  },
  {
   "attachments": {},
   "cell_type": "markdown",
   "metadata": {},
   "source": [
    "In this case, a `ValueError` is raised indicating that the two operands of the `<` operator **must** have the same shape."
   ]
  },
  {
   "attachments": {},
   "cell_type": "markdown",
   "metadata": {},
   "source": [
    "### Axis calculations"
   ]
  },
  {
   "attachments": {},
   "cell_type": "markdown",
   "metadata": {},
   "source": [
    "Sometimes, we might need to perform data analysis with arrays that might have more than one dimension. Numpy offers many aggregate methods that include `min()`, `max()`, `mean()`, `std()`, etc to find, in an array-wise manner the minimum, maximum, mean and standard deviation of the array values respectively. However, it is also possible that we might need to do this operations row- or column-wise. For this we can use the notion of axis. **Axis** determines on which direction we are making the calculations. In the case of 2D arrays, it takes value either 0 or 1. If `axis=0`, then the operation will be performed column-wise, meaning that for each column, the corresponding row values will be aggregated (go vertically). If on the other hand, `axis=1`, then the operation will be row-wise, this means that for each row, the corresponding column values will be aggregated (go horizontally). {numref}`axis-idea` illustrates the idea when we want to find the minimum vale:\n",
    "\n",
    "```{figure} ../images/7_numpy/axis-idea.jpg\n",
    ":alt: axis-idea_illustration\n",
    ":name: axis-idea\n",
    ":class: ch7\n",
    ":align: center\n",
    "\n",
    "Axis operations\n",
    "```"
   ]
  },
  {
   "attachments": {},
   "cell_type": "markdown",
   "metadata": {},
   "source": [
    "In code, this would look like:"
   ]
  },
  {
   "cell_type": "code",
   "execution_count": 30,
   "metadata": {},
   "outputs": [
    {
     "name": "stdout",
     "output_type": "stream",
     "text": [
      "Minimum per row:  [1 4 7]\n",
      "Minimum per column:  [1 2 3]\n"
     ]
    }
   ],
   "source": [
    "array = np.arange(1,10).reshape(3,3)\n",
    "print('Minimum per row: ', array.min(axis = 1))\n",
    "print('Minimum per column: ', array.min(axis = 0))"
   ]
  },
  {
   "attachments": {},
   "cell_type": "markdown",
   "metadata": {},
   "source": [
    "### Other functions"
   ]
  },
  {
   "attachments": {},
   "cell_type": "markdown",
   "metadata": {},
   "source": [
    "Most of the arithmetic operations above can be performed using already built-in function from the `numpy` library. You can find a list of the functions in the [Official Documentation of NumPy](https://numpy.org/doc/stable/reference/ufuncs.html)."
   ]
  },
  {
   "attachments": {},
   "cell_type": "markdown",
   "metadata": {},
   "source": [
    "## Shallow vs Deep copying in arrays"
   ]
  },
  {
   "attachments": {},
   "cell_type": "markdown",
   "metadata": {},
   "source": [
    "The idea is the same as for lists in Chapter 5(*************** add link here). \n",
    "- **Shallow copies** in other words are just views of the original data. Thus any changes that happen to the view or the data itself will be mirrored into one another. You can create a view by using the `view()` method or by *slicing*(see below). \n",
    "- **Deep copies** on the other hand copy the data entirely and changes are not mirrored. They will be isolated to where they happen. To  create deep copies of arrays you can use the `copy()` method of numpy arrays."
   ]
  },
  {
   "cell_type": "code",
   "execution_count": 104,
   "metadata": {},
   "outputs": [],
   "source": [
    "numbers = np.arange(0,10)\n",
    "shallow_copy = numbers.view()\n",
    "deep_copy = numbers.copy()"
   ]
  },
  {
   "cell_type": "code",
   "execution_count": 105,
   "metadata": {},
   "outputs": [
    {
     "name": "stdout",
     "output_type": "stream",
     "text": [
      "[0 1 2 3 4 5 6 7 8 9]\n",
      "[0 1 2 3 4 5 6 7 8 9]\n",
      "[0 1 2 3 4 5 6 7 8 9]\n"
     ]
    }
   ],
   "source": [
    "print(numbers)\n",
    "print(shallow_copy)\n",
    "print(deep_copy)"
   ]
  },
  {
   "attachments": {},
   "cell_type": "markdown",
   "metadata": {},
   "source": [
    "Now let us change the deep copy first and see what we get:"
   ]
  },
  {
   "cell_type": "code",
   "execution_count": 106,
   "metadata": {},
   "outputs": [
    {
     "name": "stdout",
     "output_type": "stream",
     "text": [
      "[0 1 2 3 4 5 6 7 8 9]\n",
      "[ 0  1 20  3  4  5  6  7  8  9]\n"
     ]
    }
   ],
   "source": [
    "deep_copy[2] = 20\n",
    "\n",
    "print(numbers)\n",
    "print(deep_copy)"
   ]
  },
  {
   "attachments": {},
   "cell_type": "markdown",
   "metadata": {},
   "source": [
    "As you can see the change is local to the `deep_copy`. Now let us do the same with the `shallow_copy`."
   ]
  },
  {
   "cell_type": "code",
   "execution_count": 107,
   "metadata": {},
   "outputs": [
    {
     "name": "stdout",
     "output_type": "stream",
     "text": [
      "[ 0  1 20  3  4  5  6  7  8  9]\n",
      "[ 0  1 20  3  4  5  6  7  8  9]\n"
     ]
    }
   ],
   "source": [
    "shallow_copy[2] = 20\n",
    "\n",
    "print(numbers)\n",
    "print(shallow_copy)"
   ]
  },
  {
   "attachments": {},
   "cell_type": "markdown",
   "metadata": {},
   "source": [
    "Now as you can see the changes appear in both the original and shallow copy of the data. This is a proof that the shallow copy has direct access to the memory location of the original data."
   ]
  },
  {
   "attachments": {},
   "cell_type": "markdown",
   "metadata": {},
   "source": [
    "## Modifying the shape and orientation of arrays"
   ]
  },
  {
   "attachments": {},
   "cell_type": "markdown",
   "metadata": {},
   "source": [
    "### reshape()"
   ]
  },
  {
   "attachments": {},
   "cell_type": "markdown",
   "metadata": {},
   "source": [
    "Sometimes, during manipulation of data and especially when passing it to functions we would need to reshape the arrays. This is especially useful in applications that require linear algebra operations like matrix multiplications. For this reason, `numpy` provides a method called **reshape()** to be able to change the dimensions of the arrays."
   ]
  },
  {
   "cell_type": "code",
   "execution_count": 96,
   "metadata": {},
   "outputs": [
    {
     "name": "stdout",
     "output_type": "stream",
     "text": [
      "nums before reshaping [0 1 2 3 4 5 6 7 8 9]\n",
      "nums after reshaping\n",
      "[[0 1 2 3 4]\n",
      " [5 6 7 8 9]]\n"
     ]
    }
   ],
   "source": [
    "nums = np.arange(10)\n",
    "print('nums before reshaping', nums)\n",
    "nums = nums.reshape((2,5))\n",
    "print('nums after reshaping')\n",
    "print(nums)"
   ]
  },
  {
   "attachments": {},
   "cell_type": "markdown",
   "metadata": {},
   "source": [
    "As you can see, the **reshape()** method receives as argument a tuple that contains the new shape of the array. This method returns a new array and *the change does not happen in place, thus the original array passed as argument will not be affected by the change, unless we reassign it*."
   ]
  },
  {
   "attachments": {},
   "cell_type": "markdown",
   "metadata": {},
   "source": [
    "```{important}\n",
    "The new, reshaped array has to have the same number of elements as the original one, otherwise a `ValueError` will be raised.\n",
    "```"
   ]
  },
  {
   "attachments": {},
   "cell_type": "markdown",
   "metadata": {},
   "source": [
    "```{note}\n",
    "If an array contains many elements, not all of them will be printed. In the place of missing values you will see `...`.\n",
    "```"
   ]
  },
  {
   "cell_type": "code",
   "execution_count": 18,
   "metadata": {},
   "outputs": [
    {
     "data": {
      "text/plain": [
       "array([   0,    1,    2, ..., 9997, 9998, 9999])"
      ]
     },
     "execution_count": 18,
     "metadata": {},
     "output_type": "execute_result"
    }
   ],
   "source": [
    "np.arange(10000)"
   ]
  },
  {
   "attachments": {},
   "cell_type": "markdown",
   "metadata": {},
   "source": [
    "```{important}\n",
    "Numpy **arrays** are preferred to **lists** that we saw in Chapter 5 since operations on them are faster.\n",
    "```"
   ]
  },
  {
   "attachments": {},
   "cell_type": "markdown",
   "metadata": {},
   "source": [
    "### resize()"
   ]
  },
  {
   "attachments": {},
   "cell_type": "markdown",
   "metadata": {},
   "source": [
    "resize() method has exactly the same functionality as the reshape() method, but instead it **changes the original array's shape**."
   ]
  },
  {
   "cell_type": "code",
   "execution_count": 97,
   "metadata": {},
   "outputs": [
    {
     "name": "stdout",
     "output_type": "stream",
     "text": [
      "Before: nums.shape = (2, 5)\n",
      "After: nums.shape = (1, 10)\n",
      "[[0 1 2 3 4 5 6 7 8 9]]\n"
     ]
    }
   ],
   "source": [
    "print('Before: nums.shape =', nums.shape)\n",
    "nums.resize(1,10)\n",
    "print('After: nums.shape =', nums.shape)\n",
    "print(nums)"
   ]
  },
  {
   "attachments": {},
   "cell_type": "markdown",
   "metadata": {},
   "source": [
    "As you can see, the resize() method converted the `nums` array into a two-dimensional array of 1 row and 10 columns. What if we wanted to convert it back to a one-dimensional array?"
   ]
  },
  {
   "attachments": {},
   "cell_type": "markdown",
   "metadata": {},
   "source": [
    "### flatten() and ravel()"
   ]
  },
  {
   "attachments": {},
   "cell_type": "markdown",
   "metadata": {},
   "source": [
    "````{margin}\n",
    "```{note}\n",
    "`flatten()` and `ravel()` convert a multidimensional array into a one-dimensional array, however `flatten()` deepcopies the elements of the original array while `ravel()` has a view of the data only.\n",
    "```\n",
    "````\n",
    "The `flatten()` and `ravel()` methods takes a more than one-dimensional array and flatten it, in other words, it converts it into a one-dimensional array, or unrolls it. The difference between them is that `flatten()` will work on a deepcopy of the data of the original array, while `ravel()` will work on a view of the data of the original array. This means that if we change an element of the result of `flatten()` method, the change **will not be mirrored into the original one**, but if the same happens with an element of the result of the `ravel()` method then the changes **will be mirrored in the original array**."
   ]
  },
  {
   "cell_type": "code",
   "execution_count": 98,
   "metadata": {},
   "outputs": [
    {
     "name": "stdout",
     "output_type": "stream",
     "text": [
      "[1 2 3 4 5 6 7 8 9]\n",
      "[1 2 3 4 5 6 7 8 9]\n"
     ]
    }
   ],
   "source": [
    "# initializing nums again for consistency\n",
    "nums = np.arange(1,10).reshape(3,3)\n",
    "\n",
    "flattened_nums = nums.flatten()\n",
    "raveled_nums = nums.ravel()\n",
    "print(flattened_nums)\n",
    "print(raveled_nums)"
   ]
  },
  {
   "attachments": {},
   "cell_type": "markdown",
   "metadata": {},
   "source": [
    "As you can see, both methods did exactly the same thing, they converted `nums` to a one-dimensional array. To better understand the deep and shallow copying of elements (which was explained even in Chapter 5******) let us change two elements:"
   ]
  },
  {
   "cell_type": "code",
   "execution_count": 99,
   "metadata": {},
   "outputs": [
    {
     "name": "stdout",
     "output_type": "stream",
     "text": [
      "nums before: \n",
      "[[1 2 3]\n",
      " [4 5 6]\n",
      " [7 8 9]]\n",
      "flattened_nums =  [100   2   3   4   5   6   7   8   9]\n",
      "nums after: \n",
      "[[1 2 3]\n",
      " [4 5 6]\n",
      " [7 8 9]]\n"
     ]
    }
   ],
   "source": [
    "print('nums before: ')\n",
    "print(nums)\n",
    "flattened_nums[0] = 100\n",
    "print('flattened_nums = ', flattened_nums)\n",
    "print('nums after: ')\n",
    "print(nums)"
   ]
  },
  {
   "attachments": {},
   "cell_type": "markdown",
   "metadata": {},
   "source": [
    "As you can see, since `flatten()` returns the one-dimensional array with a copy of the original arrays data, the changes are not mirrored. Let us check what happens with `ravel()`:"
   ]
  },
  {
   "cell_type": "code",
   "execution_count": 100,
   "metadata": {},
   "outputs": [
    {
     "name": "stdout",
     "output_type": "stream",
     "text": [
      "nums before: \n",
      "[[1 2 3]\n",
      " [4 5 6]\n",
      " [7 8 9]]\n",
      "raveled_nums =  [100   2   3   4   5   6   7   8   9]\n",
      "nums after: \n",
      "[[100   2   3]\n",
      " [  4   5   6]\n",
      " [  7   8   9]]\n"
     ]
    }
   ],
   "source": [
    "print('nums before: ')\n",
    "print(nums)\n",
    "raveled_nums[0] = 100\n",
    "print('raveled_nums = ', raveled_nums)\n",
    "print('nums after: ')\n",
    "print(nums)"
   ]
  },
  {
   "attachments": {},
   "cell_type": "markdown",
   "metadata": {},
   "source": [
    "As you can see, the changes now are mirrored because `ravel()` has a view of the original array's data, in other words it has pointers to the original array's data and not the values itself."
   ]
  },
  {
   "attachments": {},
   "cell_type": "markdown",
   "metadata": {},
   "source": [
    "### Transpose of an array"
   ]
  },
  {
   "attachments": {},
   "cell_type": "markdown",
   "metadata": {},
   "source": [
    "In order to exchange rows and columns of an array (transposing), we can use the `T` attribute of the numpy arrays. Note that the new, transposed array will contain a *view* of the original ones, so be careful when modifying elements since they will be mirrored in both of them."
   ]
  },
  {
   "cell_type": "code",
   "execution_count": 66,
   "metadata": {},
   "outputs": [
    {
     "name": "stdout",
     "output_type": "stream",
     "text": [
      "Original: \n",
      "[[1 2 3]\n",
      " [4 5 6]\n",
      " [7 8 9]]\n",
      "Transpose:\n",
      "[[1 4 7]\n",
      " [2 5 8]\n",
      " [3 6 9]]\n"
     ]
    }
   ],
   "source": [
    "nums = np.arange(1,10).reshape(3,3)\n",
    "print('Original: ')\n",
    "print(nums)\n",
    "print('Transpose:')\n",
    "print( nums.T)"
   ]
  },
  {
   "attachments": {},
   "cell_type": "markdown",
   "metadata": {},
   "source": [
    "### Stacking"
   ]
  },
  {
   "attachments": {},
   "cell_type": "markdown",
   "metadata": {},
   "source": [
    "By stacking we mean concatenating two or more arrays. To do this, we can use the functions `hstack()` or `vstack()` for horizontal and vertical stacking respectively."
   ]
  },
  {
   "attachments": {},
   "cell_type": "markdown",
   "metadata": {},
   "source": [
    "#### Horizontal"
   ]
  },
  {
   "attachments": {},
   "cell_type": "markdown",
   "metadata": {},
   "source": [
    "In the case of horizontal stacking, we concatenate the two arrays passed as arguments by adding the elements of the second array to the right of the column element of the first array:"
   ]
  },
  {
   "cell_type": "code",
   "execution_count": 75,
   "metadata": {},
   "outputs": [
    {
     "data": {
      "text/plain": [
       "array([[ 1,  2,  3, 11, 12, 13],\n",
       "       [ 4,  5,  6, 14, 15, 16],\n",
       "       [ 7,  8,  9, 17, 18, 19]])"
      ]
     },
     "execution_count": 75,
     "metadata": {},
     "output_type": "execute_result"
    }
   ],
   "source": [
    "nums_1 = np.arange(1,10).reshape(3,3)\n",
    "nums_2 = np.arange(11,20).reshape(3,3)\n",
    "np.hstack((nums_1, nums_2))"
   ]
  },
  {
   "attachments": {},
   "cell_type": "markdown",
   "metadata": {},
   "source": [
    "As yu can see, `num_2` was added to the right of `num_1`."
   ]
  },
  {
   "attachments": {},
   "cell_type": "markdown",
   "metadata": {},
   "source": [
    "#### Vertical"
   ]
  },
  {
   "attachments": {},
   "cell_type": "markdown",
   "metadata": {},
   "source": [
    "In the case of horizontal stacking, we concatenate the two arrays passed as arguments by adding the second array's elements at the bottom, after the last row of the first array:"
   ]
  },
  {
   "cell_type": "code",
   "execution_count": 76,
   "metadata": {},
   "outputs": [
    {
     "data": {
      "text/plain": [
       "array([[ 1,  2,  3],\n",
       "       [ 4,  5,  6],\n",
       "       [ 7,  8,  9],\n",
       "       [11, 12, 13],\n",
       "       [14, 15, 16],\n",
       "       [17, 18, 19]])"
      ]
     },
     "execution_count": 76,
     "metadata": {},
     "output_type": "execute_result"
    }
   ],
   "source": [
    "np.vstack((nums_1, nums_2))"
   ]
  },
  {
   "attachments": {},
   "cell_type": "markdown",
   "metadata": {},
   "source": [
    "As you note, the second array is added in the bottom of the first array."
   ]
  },
  {
   "attachments": {},
   "cell_type": "markdown",
   "metadata": {},
   "source": [
    "```{important}\n",
    "The dimensions of the two arrays must match on the dimension of concatenation. For example, in the case of horizontal stacking the number of rows of the two arrays has two match. In the case of vertical stacking, the number of columns of the two arrays to be stacked has to match.\n",
    "```"
   ]
  },
  {
   "attachments": {},
   "cell_type": "markdown",
   "metadata": {},
   "source": [
    "## Slicing"
   ]
  },
  {
   "attachments": {},
   "cell_type": "markdown",
   "metadata": {},
   "source": [
    "Both indexing and slicing for one-dimensional arrays work the same as for lists in Chapter 5(reference to go here****************). Here we will focus on how we can index and slice in two dimensional arrays. The syntax is very similar to the one-dimensional case. However, now we need to specify two values or two ranges of values:\n",
    "```python\n",
    "two_dim_array[row, col]\n",
    "```\n",
    "or\n",
    "```python\n",
    "two_dim_array[row_range, col_range]\n",
    "```\n",
    "Let us look at some examples. Suppose we have the 3x3 array from the previous example:"
   ]
  },
  {
   "cell_type": "code",
   "execution_count": 33,
   "metadata": {},
   "outputs": [
    {
     "data": {
      "text/plain": [
       "array([[1, 2, 3],\n",
       "       [4, 5, 6],\n",
       "       [7, 8, 9]])"
      ]
     },
     "execution_count": 33,
     "metadata": {},
     "output_type": "execute_result"
    }
   ],
   "source": [
    "two_dim_array = np.arange(1,10).reshape(3,3)\n",
    "two_dim_array"
   ]
  },
  {
   "attachments": {},
   "cell_type": "markdown",
   "metadata": {},
   "source": [
    "````{margin}\n",
    "```{admonition} Remainder\n",
    "Python arrays are 0-index based as well.\n",
    "```\n",
    "````\n",
    "In order to select element 5, which is in the second row and second column, we need to write:"
   ]
  },
  {
   "cell_type": "code",
   "execution_count": 34,
   "metadata": {},
   "outputs": [
    {
     "data": {
      "text/plain": [
       "5"
      ]
     },
     "execution_count": 34,
     "metadata": {},
     "output_type": "execute_result"
    }
   ],
   "source": [
    "two_dim_array[1, 1]"
   ]
  },
  {
   "attachments": {},
   "cell_type": "markdown",
   "metadata": {},
   "source": [
    "The first number is used to select the row and the second one the column. In order to select the last two elements of the first two rows we would write:"
   ]
  },
  {
   "cell_type": "code",
   "execution_count": 36,
   "metadata": {},
   "outputs": [
    {
     "data": {
      "text/plain": [
       "array([[2, 3],\n",
       "       [5, 6]])"
      ]
     },
     "execution_count": 36,
     "metadata": {},
     "output_type": "execute_result"
    }
   ],
   "source": [
    "two_dim_array[:2, 1:]"
   ]
  },
  {
   "attachments": {},
   "cell_type": "markdown",
   "metadata": {},
   "source": [
    "The first range selector `:2` in English means: select all rows starting from the first one up until but not including row 2 (0-based indexing). The second, column range selector `1:` means, select all the column values from index 1 up until the end. {numref}`slicing` illustrates the idea:\n",
    "\n",
    "```{figure} ../images/7_numpy/slicing.jpg\n",
    ":alt: slicing_illustration\n",
    ":name: slicing\n",
    ":class: ch7\n",
    ":align: center\n",
    "\n",
    "Indexing in 2D arrays\n",
    "```"
   ]
  },
  {
   "attachments": {},
   "cell_type": "markdown",
   "metadata": {},
   "source": [
    "And if we want to select an entire row, we can specify *only* the index of the row we want to select:"
   ]
  },
  {
   "cell_type": "code",
   "execution_count": 37,
   "metadata": {},
   "outputs": [
    {
     "data": {
      "text/plain": [
       "array([4, 5, 6])"
      ]
     },
     "execution_count": 37,
     "metadata": {},
     "output_type": "execute_result"
    }
   ],
   "source": [
    "two_dim_array[1]"
   ]
  },
  {
   "attachments": {},
   "cell_type": "markdown",
   "metadata": {},
   "source": [
    "While if we want to select a specific column, we have to select all rows first and then provide the column index:"
   ]
  },
  {
   "cell_type": "code",
   "execution_count": 38,
   "metadata": {},
   "outputs": [
    {
     "data": {
      "text/plain": [
       "array([2, 5, 8])"
      ]
     },
     "execution_count": 38,
     "metadata": {},
     "output_type": "execute_result"
    }
   ],
   "source": [
    "two_dim_array[:, 1]"
   ]
  },
  {
   "attachments": {},
   "cell_type": "markdown",
   "metadata": {},
   "source": [
    "We can also select non-consecutive elements. For example:"
   ]
  },
  {
   "cell_type": "code",
   "execution_count": 45,
   "metadata": {},
   "outputs": [
    {
     "data": {
      "text/plain": [
       "array([[1, 2, 3],\n",
       "       [7, 8, 9]])"
      ]
     },
     "execution_count": 45,
     "metadata": {},
     "output_type": "execute_result"
    }
   ],
   "source": [
    "two_dim_array[[0,2], :]"
   ]
  },
  {
   "attachments": {},
   "cell_type": "markdown",
   "metadata": {},
   "source": [
    "As you can see, the above code will first select the first and last rows and for each of this rows, will select all columns."
   ]
  },
  {
   "attachments": {},
   "cell_type": "markdown",
   "metadata": {},
   "source": [
    "```{important}\n",
    "However, when we pass two lists for selecting rows and columns, something interesting happens. As you can see from the code snippet below, only elements 1 and 9 are selected in this case. The reason why this happens is that element-wise slicing will happen. So for row 0 it is going to select element 0 and for row 2 it is going to select element at position 2, which is 9. You can think of the slicing part as: [0,0](1), [2,2](9), in terms of element selection.\n",
    "```"
   ]
  },
  {
   "cell_type": "code",
   "execution_count": 46,
   "metadata": {},
   "outputs": [
    {
     "data": {
      "text/plain": [
       "array([1, 9])"
      ]
     },
     "execution_count": 46,
     "metadata": {},
     "output_type": "execute_result"
    }
   ],
   "source": [
    "two_dim_array[[0,2], [0,2]]"
   ]
  },
  {
   "attachments": {},
   "cell_type": "markdown",
   "metadata": {},
   "source": [
    "In the exercises we will build on this idea and show a way how to select more than two elements."
   ]
  }
 ],
 "metadata": {
  "kernelspec": {
   "display_name": "python-jb",
   "language": "python",
   "name": "python3"
  },
  "language_info": {
   "codemirror_mode": {
    "name": "ipython",
    "version": 3
   },
   "file_extension": ".py",
   "mimetype": "text/x-python",
   "name": "python",
   "nbconvert_exporter": "python",
   "pygments_lexer": "ipython3",
   "version": "3.7.13"
  },
  "orig_nbformat": 4,
  "vscode": {
   "interpreter": {
    "hash": "0c2f5c4fba51b93f19e499abfcc9ef4d6fee5bb503e49077d95162365c0a0cb3"
   }
  }
 },
 "nbformat": 4,
 "nbformat_minor": 2
}
